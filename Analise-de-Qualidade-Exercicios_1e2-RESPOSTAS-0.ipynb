{
 "cells": [
  {
   "cell_type": "markdown",
   "id": "b1ee00a8-afcf-4e32-b9f8-fd27cb324b6e",
   "metadata": {},
   "source": [
    "***\n",
    "Respostas"
   ]
  },
  {
   "cell_type": "markdown",
   "id": "f9679fbc-3be9-436b-a9d6-2d2e9024e7e7",
   "metadata": {},
   "source": [
    "## 1. a)\n",
    "\n",
    "\n",
    "### Carregar dados do GEO"
   ]
  },
  {
   "cell_type": "code",
   "execution_count": null,
   "id": "acb39380-34cb-4d70-94a5-bfea203532c5",
   "metadata": {},
   "outputs": [],
   "source": [
    "rm(list=ls())"
   ]
  },
  {
   "cell_type": "code",
   "execution_count": 98,
   "id": "e014767e-24b5-4382-8203-308091c0a346",
   "metadata": {
    "scrolled": true
   },
   "outputs": [],
   "source": [
    "library(GEOquery)\n",
    "library(ewastools)\n",
    "system(\"mkdir -p /home/iago/Documents/Epigenetica_curso_pipeline/Exercicios/EX3/GSE191276\")\n",
    "setwd(\"/home/iago/Documents/Epigenetica_curso_pipeline/Exercicios/EX3/GSE191276\")\n",
    "\n",
    "date=\"June4th2024\"\n",
    "dataDirectory <- (\".\")"
   ]
  },
  {
   "cell_type": "markdown",
   "id": "272ad039-9a9e-4a0d-80f9-a80419ab6eee",
   "metadata": {},
   "source": [
    "### Primeiro - GSE191276"
   ]
  },
  {
   "cell_type": "code",
   "execution_count": 99,
   "id": "26fceb67-8278-45a8-a88e-2ca4f5d4bf22",
   "metadata": {
    "scrolled": true
   },
   "outputs": [
    {
     "name": "stderr",
     "output_type": "stream",
     "text": [
      "Found 1 file(s)\n",
      "\n",
      "GSE191276_series_matrix.txt.gz\n",
      "\n",
      "Using locally cached version: /tmp/Rtmp3HdEIf/GSE191276_series_matrix.txt.gz\n",
      "\n",
      "\u001b[1mRows: \u001b[22m\u001b[34m776062\u001b[39m \u001b[1mColumns: \u001b[22m\u001b[34m8\u001b[39m\n",
      "\u001b[36m──\u001b[39m \u001b[1mColumn specification\u001b[22m \u001b[36m────────────────────────────────────────────────────────\u001b[39m\n",
      "\u001b[1mDelimiter:\u001b[22m \"\\t\"\n",
      "\u001b[31mchr\u001b[39m (1): ID_REF\n",
      "\u001b[32mdbl\u001b[39m (7): GSM5742874, GSM5742875, GSM5742876, GSM5742877, GSM5742878, GSM5742...\n",
      "\n",
      "\u001b[36mℹ\u001b[39m Use `spec()` to retrieve the full column specification for this data.\n",
      "\u001b[36mℹ\u001b[39m Specify the column types or set `show_col_types = FALSE` to quiet this message.\n",
      "Using locally cached version of GPL23976 found here:\n",
      "/tmp/Rtmp3HdEIf/GPL23976.soft \n",
      "\n"
     ]
    },
    {
     "name": "stdout",
     "output_type": "stream",
     "text": [
      "$GSE191276_series_matrix.txt.gz\n",
      "ExpressionSet (storageMode: lockedEnvironment)\n",
      "assayData: 776062 features, 7 samples \n",
      "  element names: exprs \n",
      "protocolData: none\n",
      "phenoData\n",
      "  sampleNames: GSM5742874 GSM5742875 ... GSM5742880 (7 total)\n",
      "  varLabels: title geo_accession ... Sex:ch1 (39 total)\n",
      "  varMetadata: labelDescription\n",
      "featureData\n",
      "  featureNames: cg00000029 cg00000109 ... ch.9.991104F (776062 total)\n",
      "  fvarLabels: ID SPOT_ID\n",
      "  fvarMetadata: Column Description labelDescription\n",
      "experimentData: use 'experimentData(object)'\n",
      "  pubMedIds: 35094088 \n",
      "Annotation: GPL23976 \n",
      "\n"
     ]
    }
   ],
   "source": [
    "gse <- getGEO(\"GSE191276\", GSEMatrix = TRUE)\n",
    "show(gse)\n"
   ]
  },
  {
   "cell_type": "code",
   "execution_count": 100,
   "id": "da4183b2-e028-413a-a8a4-823a0abd04db",
   "metadata": {},
   "outputs": [
    {
     "data": {
      "text/html": [
       "<table class=\"dataframe\">\n",
       "<caption>A data.frame: 6 × 39</caption>\n",
       "<thead>\n",
       "\t<tr><th></th><th scope=col>title</th><th scope=col>geo_accession</th><th scope=col>status</th><th scope=col>submission_date</th><th scope=col>last_update_date</th><th scope=col>type</th><th scope=col>channel_count</th><th scope=col>source_name_ch1</th><th scope=col>organism_ch1</th><th scope=col>characteristics_ch1</th><th scope=col>⋯</th><th scope=col>contact_zip/postal_code</th><th scope=col>contact_country</th><th scope=col>supplementary_file</th><th scope=col>supplementary_file.1</th><th scope=col>data_row_count</th><th scope=col>age (years):ch1</th><th scope=col>case control status:ch1</th><th scope=col>participant type:ch1</th><th scope=col>self-declared ancestry:ch1</th><th scope=col>Sex:ch1</th></tr>\n",
       "\t<tr><th></th><th scope=col>&lt;chr&gt;</th><th scope=col>&lt;chr&gt;</th><th scope=col>&lt;chr&gt;</th><th scope=col>&lt;chr&gt;</th><th scope=col>&lt;chr&gt;</th><th scope=col>&lt;chr&gt;</th><th scope=col>&lt;chr&gt;</th><th scope=col>&lt;chr&gt;</th><th scope=col>&lt;chr&gt;</th><th scope=col>&lt;chr&gt;</th><th scope=col>⋯</th><th scope=col>&lt;chr&gt;</th><th scope=col>&lt;chr&gt;</th><th scope=col>&lt;chr&gt;</th><th scope=col>&lt;chr&gt;</th><th scope=col>&lt;chr&gt;</th><th scope=col>&lt;chr&gt;</th><th scope=col>&lt;chr&gt;</th><th scope=col>&lt;chr&gt;</th><th scope=col>&lt;chr&gt;</th><th scope=col>&lt;chr&gt;</th></tr>\n",
       "</thead>\n",
       "<tbody>\n",
       "\t<tr><th scope=row>GSM5742874</th><td>pooled_PC</td><td>GSM5742874</td><td>Public on Mar 01 2022</td><td>Dec 20 2021</td><td>Mar 02 2022</td><td>genomic</td><td>1</td><td>Whole blood</td><td>Homo sapiens</td><td>case control status: Pooled controls</td><td>⋯</td><td>M20 4BX</td><td>United Kingdom</td><td>ftp://ftp.ncbi.nlm.nih.gov/geo/samples/GSM5742nnn/GSM5742874/suppl/GSM5742874_202702240141_R05C01_Grn.idat.gz</td><td>ftp://ftp.ncbi.nlm.nih.gov/geo/samples/GSM5742nnn/GSM5742874/suppl/GSM5742874_202702240141_R05C01_Red.idat.gz</td><td>776062</td><td>NA  </td><td>Pooled controls</td><td>Pooled parent controls   </td><td>NA                             </td><td>NA</td></tr>\n",
       "\t<tr><th scope=row>GSM5742875</th><td>5767-P   </td><td>GSM5742875</td><td>Public on Mar 01 2022</td><td>Dec 20 2021</td><td>Mar 02 2022</td><td>genomic</td><td>1</td><td>Whole blood</td><td>Homo sapiens</td><td>case control status: Case           </td><td>⋯</td><td>M20 4BX</td><td>United Kingdom</td><td>ftp://ftp.ncbi.nlm.nih.gov/geo/samples/GSM5742nnn/GSM5742875/suppl/GSM5742875_202702240141_R06C01_Grn.idat.gz</td><td>ftp://ftp.ncbi.nlm.nih.gov/geo/samples/GSM5742nnn/GSM5742875/suppl/GSM5742875_202702240141_R06C01_Red.idat.gz</td><td>776062</td><td>17.8</td><td>Case           </td><td>Proband                  </td><td>Asian                          </td><td>F </td></tr>\n",
       "\t<tr><th scope=row>GSM5742876</th><td>8658-P   </td><td>GSM5742876</td><td>Public on Mar 01 2022</td><td>Dec 20 2021</td><td>Mar 02 2022</td><td>genomic</td><td>1</td><td>Whole blood</td><td>Homo sapiens</td><td>case control status: Case           </td><td>⋯</td><td>M20 4BX</td><td>United Kingdom</td><td>ftp://ftp.ncbi.nlm.nih.gov/geo/samples/GSM5742nnn/GSM5742876/suppl/GSM5742876_202702240141_R08C01_Grn.idat.gz</td><td>ftp://ftp.ncbi.nlm.nih.gov/geo/samples/GSM5742nnn/GSM5742876/suppl/GSM5742876_202702240141_R08C01_Red.idat.gz</td><td>776062</td><td>27  </td><td>Case           </td><td>Proband                  </td><td>White                          </td><td>M </td></tr>\n",
       "\t<tr><th scope=row>GSM5742877</th><td>3425-P   </td><td>GSM5742877</td><td>Public on Mar 01 2022</td><td>Dec 20 2021</td><td>Mar 02 2022</td><td>genomic</td><td>1</td><td>Whole blood</td><td>Homo sapiens</td><td>case control status: Case           </td><td>⋯</td><td>M20 4BX</td><td>United Kingdom</td><td>ftp://ftp.ncbi.nlm.nih.gov/geo/samples/GSM5742nnn/GSM5742877/suppl/GSM5742877_204088150175_R01C01_Grn.idat.gz</td><td>ftp://ftp.ncbi.nlm.nih.gov/geo/samples/GSM5742nnn/GSM5742877/suppl/GSM5742877_204088150175_R01C01_Red.idat.gz</td><td>776062</td><td>20.9</td><td>Case           </td><td>Proband                  </td><td>Asian                          </td><td>M </td></tr>\n",
       "\t<tr><th scope=row>GSM5742878</th><td>F-16-20  </td><td>GSM5742878</td><td>Public on Mar 01 2022</td><td>Dec 20 2021</td><td>Mar 02 2022</td><td>genomic</td><td>1</td><td>Whole blood</td><td>Homo sapiens</td><td>case control status: Control        </td><td>⋯</td><td>M20 4BX</td><td>United Kingdom</td><td>ftp://ftp.ncbi.nlm.nih.gov/geo/samples/GSM5742nnn/GSM5742878/suppl/GSM5742878_204088150175_R02C01_Grn.idat.gz</td><td>ftp://ftp.ncbi.nlm.nih.gov/geo/samples/GSM5742nnn/GSM5742878/suppl/GSM5742878_204088150175_R02C01_Red.idat.gz</td><td>776062</td><td>18.5</td><td>Control        </td><td>Age and sex matched donor</td><td>Unknown (Anonymous blood donor)</td><td>F </td></tr>\n",
       "\t<tr><th scope=row>GSM5742879</th><td>M-19-23  </td><td>GSM5742879</td><td>Public on Mar 01 2022</td><td>Dec 20 2021</td><td>Mar 02 2022</td><td>genomic</td><td>1</td><td>Whole blood</td><td>Homo sapiens</td><td>case control status: Control        </td><td>⋯</td><td>M20 4BX</td><td>United Kingdom</td><td>ftp://ftp.ncbi.nlm.nih.gov/geo/samples/GSM5742nnn/GSM5742879/suppl/GSM5742879_204088150175_R03C01_Grn.idat.gz</td><td>ftp://ftp.ncbi.nlm.nih.gov/geo/samples/GSM5742nnn/GSM5742879/suppl/GSM5742879_204088150175_R03C01_Red.idat.gz</td><td>776062</td><td>21  </td><td>Control        </td><td>Age and sex matched donor</td><td>Unknown (Anonymous blood donor)</td><td>M </td></tr>\n",
       "</tbody>\n",
       "</table>\n"
      ],
      "text/latex": [
       "A data.frame: 6 × 39\n",
       "\\begin{tabular}{r|lllllllllllllllllllll}\n",
       "  & title & geo\\_accession & status & submission\\_date & last\\_update\\_date & type & channel\\_count & source\\_name\\_ch1 & organism\\_ch1 & characteristics\\_ch1 & ⋯ & contact\\_zip/postal\\_code & contact\\_country & supplementary\\_file & supplementary\\_file.1 & data\\_row\\_count & age (years):ch1 & case control status:ch1 & participant type:ch1 & self-declared ancestry:ch1 & Sex:ch1\\\\\n",
       "  & <chr> & <chr> & <chr> & <chr> & <chr> & <chr> & <chr> & <chr> & <chr> & <chr> & ⋯ & <chr> & <chr> & <chr> & <chr> & <chr> & <chr> & <chr> & <chr> & <chr> & <chr>\\\\\n",
       "\\hline\n",
       "\tGSM5742874 & pooled\\_PC & GSM5742874 & Public on Mar 01 2022 & Dec 20 2021 & Mar 02 2022 & genomic & 1 & Whole blood & Homo sapiens & case control status: Pooled controls & ⋯ & M20 4BX & United Kingdom & ftp://ftp.ncbi.nlm.nih.gov/geo/samples/GSM5742nnn/GSM5742874/suppl/GSM5742874\\_202702240141\\_R05C01\\_Grn.idat.gz & ftp://ftp.ncbi.nlm.nih.gov/geo/samples/GSM5742nnn/GSM5742874/suppl/GSM5742874\\_202702240141\\_R05C01\\_Red.idat.gz & 776062 & NA   & Pooled controls & Pooled parent controls    & NA                              & NA\\\\\n",
       "\tGSM5742875 & 5767-P    & GSM5742875 & Public on Mar 01 2022 & Dec 20 2021 & Mar 02 2022 & genomic & 1 & Whole blood & Homo sapiens & case control status: Case            & ⋯ & M20 4BX & United Kingdom & ftp://ftp.ncbi.nlm.nih.gov/geo/samples/GSM5742nnn/GSM5742875/suppl/GSM5742875\\_202702240141\\_R06C01\\_Grn.idat.gz & ftp://ftp.ncbi.nlm.nih.gov/geo/samples/GSM5742nnn/GSM5742875/suppl/GSM5742875\\_202702240141\\_R06C01\\_Red.idat.gz & 776062 & 17.8 & Case            & Proband                   & Asian                           & F \\\\\n",
       "\tGSM5742876 & 8658-P    & GSM5742876 & Public on Mar 01 2022 & Dec 20 2021 & Mar 02 2022 & genomic & 1 & Whole blood & Homo sapiens & case control status: Case            & ⋯ & M20 4BX & United Kingdom & ftp://ftp.ncbi.nlm.nih.gov/geo/samples/GSM5742nnn/GSM5742876/suppl/GSM5742876\\_202702240141\\_R08C01\\_Grn.idat.gz & ftp://ftp.ncbi.nlm.nih.gov/geo/samples/GSM5742nnn/GSM5742876/suppl/GSM5742876\\_202702240141\\_R08C01\\_Red.idat.gz & 776062 & 27   & Case            & Proband                   & White                           & M \\\\\n",
       "\tGSM5742877 & 3425-P    & GSM5742877 & Public on Mar 01 2022 & Dec 20 2021 & Mar 02 2022 & genomic & 1 & Whole blood & Homo sapiens & case control status: Case            & ⋯ & M20 4BX & United Kingdom & ftp://ftp.ncbi.nlm.nih.gov/geo/samples/GSM5742nnn/GSM5742877/suppl/GSM5742877\\_204088150175\\_R01C01\\_Grn.idat.gz & ftp://ftp.ncbi.nlm.nih.gov/geo/samples/GSM5742nnn/GSM5742877/suppl/GSM5742877\\_204088150175\\_R01C01\\_Red.idat.gz & 776062 & 20.9 & Case            & Proband                   & Asian                           & M \\\\\n",
       "\tGSM5742878 & F-16-20   & GSM5742878 & Public on Mar 01 2022 & Dec 20 2021 & Mar 02 2022 & genomic & 1 & Whole blood & Homo sapiens & case control status: Control         & ⋯ & M20 4BX & United Kingdom & ftp://ftp.ncbi.nlm.nih.gov/geo/samples/GSM5742nnn/GSM5742878/suppl/GSM5742878\\_204088150175\\_R02C01\\_Grn.idat.gz & ftp://ftp.ncbi.nlm.nih.gov/geo/samples/GSM5742nnn/GSM5742878/suppl/GSM5742878\\_204088150175\\_R02C01\\_Red.idat.gz & 776062 & 18.5 & Control         & Age and sex matched donor & Unknown (Anonymous blood donor) & F \\\\\n",
       "\tGSM5742879 & M-19-23   & GSM5742879 & Public on Mar 01 2022 & Dec 20 2021 & Mar 02 2022 & genomic & 1 & Whole blood & Homo sapiens & case control status: Control         & ⋯ & M20 4BX & United Kingdom & ftp://ftp.ncbi.nlm.nih.gov/geo/samples/GSM5742nnn/GSM5742879/suppl/GSM5742879\\_204088150175\\_R03C01\\_Grn.idat.gz & ftp://ftp.ncbi.nlm.nih.gov/geo/samples/GSM5742nnn/GSM5742879/suppl/GSM5742879\\_204088150175\\_R03C01\\_Red.idat.gz & 776062 & 21   & Control         & Age and sex matched donor & Unknown (Anonymous blood donor) & M \\\\\n",
       "\\end{tabular}\n"
      ],
      "text/markdown": [
       "\n",
       "A data.frame: 6 × 39\n",
       "\n",
       "| <!--/--> | title &lt;chr&gt; | geo_accession &lt;chr&gt; | status &lt;chr&gt; | submission_date &lt;chr&gt; | last_update_date &lt;chr&gt; | type &lt;chr&gt; | channel_count &lt;chr&gt; | source_name_ch1 &lt;chr&gt; | organism_ch1 &lt;chr&gt; | characteristics_ch1 &lt;chr&gt; | ⋯ ⋯ | contact_zip/postal_code &lt;chr&gt; | contact_country &lt;chr&gt; | supplementary_file &lt;chr&gt; | supplementary_file.1 &lt;chr&gt; | data_row_count &lt;chr&gt; | age (years):ch1 &lt;chr&gt; | case control status:ch1 &lt;chr&gt; | participant type:ch1 &lt;chr&gt; | self-declared ancestry:ch1 &lt;chr&gt; | Sex:ch1 &lt;chr&gt; |\n",
       "|---|---|---|---|---|---|---|---|---|---|---|---|---|---|---|---|---|---|---|---|---|---|\n",
       "| GSM5742874 | pooled_PC | GSM5742874 | Public on Mar 01 2022 | Dec 20 2021 | Mar 02 2022 | genomic | 1 | Whole blood | Homo sapiens | case control status: Pooled controls | ⋯ | M20 4BX | United Kingdom | ftp://ftp.ncbi.nlm.nih.gov/geo/samples/GSM5742nnn/GSM5742874/suppl/GSM5742874_202702240141_R05C01_Grn.idat.gz | ftp://ftp.ncbi.nlm.nih.gov/geo/samples/GSM5742nnn/GSM5742874/suppl/GSM5742874_202702240141_R05C01_Red.idat.gz | 776062 | NA   | Pooled controls | Pooled parent controls    | NA                              | NA |\n",
       "| GSM5742875 | 5767-P    | GSM5742875 | Public on Mar 01 2022 | Dec 20 2021 | Mar 02 2022 | genomic | 1 | Whole blood | Homo sapiens | case control status: Case            | ⋯ | M20 4BX | United Kingdom | ftp://ftp.ncbi.nlm.nih.gov/geo/samples/GSM5742nnn/GSM5742875/suppl/GSM5742875_202702240141_R06C01_Grn.idat.gz | ftp://ftp.ncbi.nlm.nih.gov/geo/samples/GSM5742nnn/GSM5742875/suppl/GSM5742875_202702240141_R06C01_Red.idat.gz | 776062 | 17.8 | Case            | Proband                   | Asian                           | F  |\n",
       "| GSM5742876 | 8658-P    | GSM5742876 | Public on Mar 01 2022 | Dec 20 2021 | Mar 02 2022 | genomic | 1 | Whole blood | Homo sapiens | case control status: Case            | ⋯ | M20 4BX | United Kingdom | ftp://ftp.ncbi.nlm.nih.gov/geo/samples/GSM5742nnn/GSM5742876/suppl/GSM5742876_202702240141_R08C01_Grn.idat.gz | ftp://ftp.ncbi.nlm.nih.gov/geo/samples/GSM5742nnn/GSM5742876/suppl/GSM5742876_202702240141_R08C01_Red.idat.gz | 776062 | 27   | Case            | Proband                   | White                           | M  |\n",
       "| GSM5742877 | 3425-P    | GSM5742877 | Public on Mar 01 2022 | Dec 20 2021 | Mar 02 2022 | genomic | 1 | Whole blood | Homo sapiens | case control status: Case            | ⋯ | M20 4BX | United Kingdom | ftp://ftp.ncbi.nlm.nih.gov/geo/samples/GSM5742nnn/GSM5742877/suppl/GSM5742877_204088150175_R01C01_Grn.idat.gz | ftp://ftp.ncbi.nlm.nih.gov/geo/samples/GSM5742nnn/GSM5742877/suppl/GSM5742877_204088150175_R01C01_Red.idat.gz | 776062 | 20.9 | Case            | Proband                   | Asian                           | M  |\n",
       "| GSM5742878 | F-16-20   | GSM5742878 | Public on Mar 01 2022 | Dec 20 2021 | Mar 02 2022 | genomic | 1 | Whole blood | Homo sapiens | case control status: Control         | ⋯ | M20 4BX | United Kingdom | ftp://ftp.ncbi.nlm.nih.gov/geo/samples/GSM5742nnn/GSM5742878/suppl/GSM5742878_204088150175_R02C01_Grn.idat.gz | ftp://ftp.ncbi.nlm.nih.gov/geo/samples/GSM5742nnn/GSM5742878/suppl/GSM5742878_204088150175_R02C01_Red.idat.gz | 776062 | 18.5 | Control         | Age and sex matched donor | Unknown (Anonymous blood donor) | F  |\n",
       "| GSM5742879 | M-19-23   | GSM5742879 | Public on Mar 01 2022 | Dec 20 2021 | Mar 02 2022 | genomic | 1 | Whole blood | Homo sapiens | case control status: Control         | ⋯ | M20 4BX | United Kingdom | ftp://ftp.ncbi.nlm.nih.gov/geo/samples/GSM5742nnn/GSM5742879/suppl/GSM5742879_204088150175_R03C01_Grn.idat.gz | ftp://ftp.ncbi.nlm.nih.gov/geo/samples/GSM5742nnn/GSM5742879/suppl/GSM5742879_204088150175_R03C01_Red.idat.gz | 776062 | 21   | Control         | Age and sex matched donor | Unknown (Anonymous blood donor) | M  |\n",
       "\n"
      ],
      "text/plain": [
       "           title     geo_accession status                submission_date\n",
       "GSM5742874 pooled_PC GSM5742874    Public on Mar 01 2022 Dec 20 2021    \n",
       "GSM5742875 5767-P    GSM5742875    Public on Mar 01 2022 Dec 20 2021    \n",
       "GSM5742876 8658-P    GSM5742876    Public on Mar 01 2022 Dec 20 2021    \n",
       "GSM5742877 3425-P    GSM5742877    Public on Mar 01 2022 Dec 20 2021    \n",
       "GSM5742878 F-16-20   GSM5742878    Public on Mar 01 2022 Dec 20 2021    \n",
       "GSM5742879 M-19-23   GSM5742879    Public on Mar 01 2022 Dec 20 2021    \n",
       "           last_update_date type    channel_count source_name_ch1 organism_ch1\n",
       "GSM5742874 Mar 02 2022      genomic 1             Whole blood     Homo sapiens\n",
       "GSM5742875 Mar 02 2022      genomic 1             Whole blood     Homo sapiens\n",
       "GSM5742876 Mar 02 2022      genomic 1             Whole blood     Homo sapiens\n",
       "GSM5742877 Mar 02 2022      genomic 1             Whole blood     Homo sapiens\n",
       "GSM5742878 Mar 02 2022      genomic 1             Whole blood     Homo sapiens\n",
       "GSM5742879 Mar 02 2022      genomic 1             Whole blood     Homo sapiens\n",
       "           characteristics_ch1                  ⋯ contact_zip/postal_code\n",
       "GSM5742874 case control status: Pooled controls ⋯ M20 4BX                \n",
       "GSM5742875 case control status: Case            ⋯ M20 4BX                \n",
       "GSM5742876 case control status: Case            ⋯ M20 4BX                \n",
       "GSM5742877 case control status: Case            ⋯ M20 4BX                \n",
       "GSM5742878 case control status: Control         ⋯ M20 4BX                \n",
       "GSM5742879 case control status: Control         ⋯ M20 4BX                \n",
       "           contact_country\n",
       "GSM5742874 United Kingdom \n",
       "GSM5742875 United Kingdom \n",
       "GSM5742876 United Kingdom \n",
       "GSM5742877 United Kingdom \n",
       "GSM5742878 United Kingdom \n",
       "GSM5742879 United Kingdom \n",
       "           supplementary_file                                                                                           \n",
       "GSM5742874 ftp://ftp.ncbi.nlm.nih.gov/geo/samples/GSM5742nnn/GSM5742874/suppl/GSM5742874_202702240141_R05C01_Grn.idat.gz\n",
       "GSM5742875 ftp://ftp.ncbi.nlm.nih.gov/geo/samples/GSM5742nnn/GSM5742875/suppl/GSM5742875_202702240141_R06C01_Grn.idat.gz\n",
       "GSM5742876 ftp://ftp.ncbi.nlm.nih.gov/geo/samples/GSM5742nnn/GSM5742876/suppl/GSM5742876_202702240141_R08C01_Grn.idat.gz\n",
       "GSM5742877 ftp://ftp.ncbi.nlm.nih.gov/geo/samples/GSM5742nnn/GSM5742877/suppl/GSM5742877_204088150175_R01C01_Grn.idat.gz\n",
       "GSM5742878 ftp://ftp.ncbi.nlm.nih.gov/geo/samples/GSM5742nnn/GSM5742878/suppl/GSM5742878_204088150175_R02C01_Grn.idat.gz\n",
       "GSM5742879 ftp://ftp.ncbi.nlm.nih.gov/geo/samples/GSM5742nnn/GSM5742879/suppl/GSM5742879_204088150175_R03C01_Grn.idat.gz\n",
       "           supplementary_file.1                                                                                         \n",
       "GSM5742874 ftp://ftp.ncbi.nlm.nih.gov/geo/samples/GSM5742nnn/GSM5742874/suppl/GSM5742874_202702240141_R05C01_Red.idat.gz\n",
       "GSM5742875 ftp://ftp.ncbi.nlm.nih.gov/geo/samples/GSM5742nnn/GSM5742875/suppl/GSM5742875_202702240141_R06C01_Red.idat.gz\n",
       "GSM5742876 ftp://ftp.ncbi.nlm.nih.gov/geo/samples/GSM5742nnn/GSM5742876/suppl/GSM5742876_202702240141_R08C01_Red.idat.gz\n",
       "GSM5742877 ftp://ftp.ncbi.nlm.nih.gov/geo/samples/GSM5742nnn/GSM5742877/suppl/GSM5742877_204088150175_R01C01_Red.idat.gz\n",
       "GSM5742878 ftp://ftp.ncbi.nlm.nih.gov/geo/samples/GSM5742nnn/GSM5742878/suppl/GSM5742878_204088150175_R02C01_Red.idat.gz\n",
       "GSM5742879 ftp://ftp.ncbi.nlm.nih.gov/geo/samples/GSM5742nnn/GSM5742879/suppl/GSM5742879_204088150175_R03C01_Red.idat.gz\n",
       "           data_row_count age (years):ch1 case control status:ch1\n",
       "GSM5742874 776062         NA              Pooled controls        \n",
       "GSM5742875 776062         17.8            Case                   \n",
       "GSM5742876 776062         27              Case                   \n",
       "GSM5742877 776062         20.9            Case                   \n",
       "GSM5742878 776062         18.5            Control                \n",
       "GSM5742879 776062         21              Control                \n",
       "           participant type:ch1      self-declared ancestry:ch1      Sex:ch1\n",
       "GSM5742874 Pooled parent controls    NA                              NA     \n",
       "GSM5742875 Proband                   Asian                           F      \n",
       "GSM5742876 Proband                   White                           M      \n",
       "GSM5742877 Proband                   Asian                           M      \n",
       "GSM5742878 Age and sex matched donor Unknown (Anonymous blood donor) F      \n",
       "GSM5742879 Age and sex matched donor Unknown (Anonymous blood donor) M      "
      ]
     },
     "metadata": {},
     "output_type": "display_data"
    },
    {
     "data": {
      "text/html": [
       "<style>\n",
       ".list-inline {list-style: none; margin:0; padding: 0}\n",
       ".list-inline>li {display: inline-block}\n",
       ".list-inline>li:not(:last-child)::after {content: \"\\00b7\"; padding: 0 .5ex}\n",
       "</style>\n",
       "<ol class=list-inline><li>'title'</li><li>'geo_accession'</li><li>'status'</li><li>'submission_date'</li><li>'last_update_date'</li><li>'type'</li><li>'channel_count'</li><li>'source_name_ch1'</li><li>'organism_ch1'</li><li>'characteristics_ch1'</li><li>'characteristics_ch1.1'</li><li>'characteristics_ch1.2'</li><li>'characteristics_ch1.3'</li><li>'characteristics_ch1.4'</li><li>'molecule_ch1'</li><li>'extract_protocol_ch1'</li><li>'label_ch1'</li><li>'label_protocol_ch1'</li><li>'taxid_ch1'</li><li>'hyb_protocol'</li><li>'scan_protocol'</li><li>'description'</li><li>'data_processing'</li><li>'platform_id'</li><li>'contact_name'</li><li>'contact_email'</li><li>'contact_institute'</li><li>'contact_address'</li><li>'contact_city'</li><li>'contact_zip/postal_code'</li><li>'contact_country'</li><li>'supplementary_file'</li><li>'supplementary_file.1'</li><li>'data_row_count'</li><li>'age (years):ch1'</li><li>'case control status:ch1'</li><li>'participant type:ch1'</li><li>'self-declared ancestry:ch1'</li><li>'Sex:ch1'</li></ol>\n"
      ],
      "text/latex": [
       "\\begin{enumerate*}\n",
       "\\item 'title'\n",
       "\\item 'geo\\_accession'\n",
       "\\item 'status'\n",
       "\\item 'submission\\_date'\n",
       "\\item 'last\\_update\\_date'\n",
       "\\item 'type'\n",
       "\\item 'channel\\_count'\n",
       "\\item 'source\\_name\\_ch1'\n",
       "\\item 'organism\\_ch1'\n",
       "\\item 'characteristics\\_ch1'\n",
       "\\item 'characteristics\\_ch1.1'\n",
       "\\item 'characteristics\\_ch1.2'\n",
       "\\item 'characteristics\\_ch1.3'\n",
       "\\item 'characteristics\\_ch1.4'\n",
       "\\item 'molecule\\_ch1'\n",
       "\\item 'extract\\_protocol\\_ch1'\n",
       "\\item 'label\\_ch1'\n",
       "\\item 'label\\_protocol\\_ch1'\n",
       "\\item 'taxid\\_ch1'\n",
       "\\item 'hyb\\_protocol'\n",
       "\\item 'scan\\_protocol'\n",
       "\\item 'description'\n",
       "\\item 'data\\_processing'\n",
       "\\item 'platform\\_id'\n",
       "\\item 'contact\\_name'\n",
       "\\item 'contact\\_email'\n",
       "\\item 'contact\\_institute'\n",
       "\\item 'contact\\_address'\n",
       "\\item 'contact\\_city'\n",
       "\\item 'contact\\_zip/postal\\_code'\n",
       "\\item 'contact\\_country'\n",
       "\\item 'supplementary\\_file'\n",
       "\\item 'supplementary\\_file.1'\n",
       "\\item 'data\\_row\\_count'\n",
       "\\item 'age (years):ch1'\n",
       "\\item 'case control status:ch1'\n",
       "\\item 'participant type:ch1'\n",
       "\\item 'self-declared ancestry:ch1'\n",
       "\\item 'Sex:ch1'\n",
       "\\end{enumerate*}\n"
      ],
      "text/markdown": [
       "1. 'title'\n",
       "2. 'geo_accession'\n",
       "3. 'status'\n",
       "4. 'submission_date'\n",
       "5. 'last_update_date'\n",
       "6. 'type'\n",
       "7. 'channel_count'\n",
       "8. 'source_name_ch1'\n",
       "9. 'organism_ch1'\n",
       "10. 'characteristics_ch1'\n",
       "11. 'characteristics_ch1.1'\n",
       "12. 'characteristics_ch1.2'\n",
       "13. 'characteristics_ch1.3'\n",
       "14. 'characteristics_ch1.4'\n",
       "15. 'molecule_ch1'\n",
       "16. 'extract_protocol_ch1'\n",
       "17. 'label_ch1'\n",
       "18. 'label_protocol_ch1'\n",
       "19. 'taxid_ch1'\n",
       "20. 'hyb_protocol'\n",
       "21. 'scan_protocol'\n",
       "22. 'description'\n",
       "23. 'data_processing'\n",
       "24. 'platform_id'\n",
       "25. 'contact_name'\n",
       "26. 'contact_email'\n",
       "27. 'contact_institute'\n",
       "28. 'contact_address'\n",
       "29. 'contact_city'\n",
       "30. 'contact_zip/postal_code'\n",
       "31. 'contact_country'\n",
       "32. 'supplementary_file'\n",
       "33. 'supplementary_file.1'\n",
       "34. 'data_row_count'\n",
       "35. 'age (years):ch1'\n",
       "36. 'case control status:ch1'\n",
       "37. 'participant type:ch1'\n",
       "38. 'self-declared ancestry:ch1'\n",
       "39. 'Sex:ch1'\n",
       "\n",
       "\n"
      ],
      "text/plain": [
       " [1] \"title\"                      \"geo_accession\"             \n",
       " [3] \"status\"                     \"submission_date\"           \n",
       " [5] \"last_update_date\"           \"type\"                      \n",
       " [7] \"channel_count\"              \"source_name_ch1\"           \n",
       " [9] \"organism_ch1\"               \"characteristics_ch1\"       \n",
       "[11] \"characteristics_ch1.1\"      \"characteristics_ch1.2\"     \n",
       "[13] \"characteristics_ch1.3\"      \"characteristics_ch1.4\"     \n",
       "[15] \"molecule_ch1\"               \"extract_protocol_ch1\"      \n",
       "[17] \"label_ch1\"                  \"label_protocol_ch1\"        \n",
       "[19] \"taxid_ch1\"                  \"hyb_protocol\"              \n",
       "[21] \"scan_protocol\"              \"description\"               \n",
       "[23] \"data_processing\"            \"platform_id\"               \n",
       "[25] \"contact_name\"               \"contact_email\"             \n",
       "[27] \"contact_institute\"          \"contact_address\"           \n",
       "[29] \"contact_city\"               \"contact_zip/postal_code\"   \n",
       "[31] \"contact_country\"            \"supplementary_file\"        \n",
       "[33] \"supplementary_file.1\"       \"data_row_count\"            \n",
       "[35] \"age (years):ch1\"            \"case control status:ch1\"   \n",
       "[37] \"participant type:ch1\"       \"self-declared ancestry:ch1\"\n",
       "[39] \"Sex:ch1\"                   "
      ]
     },
     "metadata": {},
     "output_type": "display_data"
    }
   ],
   "source": [
    "\n",
    "# Obtendo a tabela de fenótipos disponível no GEO (obter informações sobre sexo biológico)\n",
    "pheno.df <- pData(phenoData(gse[[1]]))\n",
    "\n",
    "head(pheno.df)\n",
    "colnames(pheno.df)\n",
    "#Armazenar a informação de sexo biológico para adicionar na phenotype sheet\n",
    "Sex.df <- subset(pheno.df, select = c(\"Sex:ch1\"))\n",
    "\n",
    "\n"
   ]
  },
  {
   "cell_type": "code",
   "execution_count": 101,
   "id": "2557ae61-3bb7-42d7-96d9-11f5c1238ccd",
   "metadata": {},
   "outputs": [],
   "source": [
    "options(timeout = max(300, getOption(\"timeout\")))\n",
    "options(download.file.method.GEOquery = \"wget\")\n",
    "filePaths<- getGEOSuppFiles(\"GSE191276\")"
   ]
  },
  {
   "cell_type": "code",
   "execution_count": 111,
   "id": "2e7c60b8-7e2a-46ba-a635-0f6cdcbceaa0",
   "metadata": {},
   "outputs": [
    {
     "data": {
      "text/html": [
       "<table class=\"dataframe\">\n",
       "<caption>A data.frame: 2 × 10</caption>\n",
       "<thead>\n",
       "\t<tr><th></th><th scope=col>size</th><th scope=col>isdir</th><th scope=col>mode</th><th scope=col>mtime</th><th scope=col>ctime</th><th scope=col>atime</th><th scope=col>uid</th><th scope=col>gid</th><th scope=col>uname</th><th scope=col>grname</th></tr>\n",
       "\t<tr><th></th><th scope=col>&lt;dbl&gt;</th><th scope=col>&lt;lgl&gt;</th><th scope=col>&lt;octmode&gt;</th><th scope=col>&lt;dttm&gt;</th><th scope=col>&lt;dttm&gt;</th><th scope=col>&lt;dttm&gt;</th><th scope=col>&lt;int&gt;</th><th scope=col>&lt;int&gt;</th><th scope=col>&lt;chr&gt;</th><th scope=col>&lt;chr&gt;</th></tr>\n",
       "</thead>\n",
       "<tbody>\n",
       "\t<tr><th scope=row>/home/iago/Documents/Epigenetica_curso_pipeline/Exercicios/EX3/GSE191276/GSE191276/GSE191276_Matrix_signal_intensities.txt.gz</th><td> 41838553</td><td>FALSE</td><td>664</td><td>2021-12-20 13:09:47</td><td>2024-06-22 11:26:44</td><td>2024-06-22 11:26:44</td><td>1000</td><td>1000</td><td>iago</td><td>iago</td></tr>\n",
       "\t<tr><th scope=row>/home/iago/Documents/Epigenetica_curso_pipeline/Exercicios/EX3/GSE191276/GSE191276/GSE191276_RAW.tar</th><td>103802880</td><td>FALSE</td><td>664</td><td>2022-03-02 19:51:15</td><td>2024-06-22 11:27:14</td><td>2024-06-22 11:27:14</td><td>1000</td><td>1000</td><td>iago</td><td>iago</td></tr>\n",
       "</tbody>\n",
       "</table>\n"
      ],
      "text/latex": [
       "A data.frame: 2 × 10\n",
       "\\begin{tabular}{r|llllllllll}\n",
       "  & size & isdir & mode & mtime & ctime & atime & uid & gid & uname & grname\\\\\n",
       "  & <dbl> & <lgl> & <octmode> & <dttm> & <dttm> & <dttm> & <int> & <int> & <chr> & <chr>\\\\\n",
       "\\hline\n",
       "\t/home/iago/Documents/Epigenetica\\_curso\\_pipeline/Exercicios/EX3/GSE191276/GSE191276/GSE191276\\_Matrix\\_signal\\_intensities.txt.gz &  41838553 & FALSE & 664 & 2021-12-20 13:09:47 & 2024-06-22 11:26:44 & 2024-06-22 11:26:44 & 1000 & 1000 & iago & iago\\\\\n",
       "\t/home/iago/Documents/Epigenetica\\_curso\\_pipeline/Exercicios/EX3/GSE191276/GSE191276/GSE191276\\_RAW.tar & 103802880 & FALSE & 664 & 2022-03-02 19:51:15 & 2024-06-22 11:27:14 & 2024-06-22 11:27:14 & 1000 & 1000 & iago & iago\\\\\n",
       "\\end{tabular}\n"
      ],
      "text/markdown": [
       "\n",
       "A data.frame: 2 × 10\n",
       "\n",
       "| <!--/--> | size &lt;dbl&gt; | isdir &lt;lgl&gt; | mode &lt;octmode&gt; | mtime &lt;dttm&gt; | ctime &lt;dttm&gt; | atime &lt;dttm&gt; | uid &lt;int&gt; | gid &lt;int&gt; | uname &lt;chr&gt; | grname &lt;chr&gt; |\n",
       "|---|---|---|---|---|---|---|---|---|---|---|\n",
       "| /home/iago/Documents/Epigenetica_curso_pipeline/Exercicios/EX3/GSE191276/GSE191276/GSE191276_Matrix_signal_intensities.txt.gz |  41838553 | FALSE | 664 | 2021-12-20 13:09:47 | 2024-06-22 11:26:44 | 2024-06-22 11:26:44 | 1000 | 1000 | iago | iago |\n",
       "| /home/iago/Documents/Epigenetica_curso_pipeline/Exercicios/EX3/GSE191276/GSE191276/GSE191276_RAW.tar | 103802880 | FALSE | 664 | 2022-03-02 19:51:15 | 2024-06-22 11:27:14 | 2024-06-22 11:27:14 | 1000 | 1000 | iago | iago |\n",
       "\n"
      ],
      "text/plain": [
       "                                                                                                                              size     \n",
       "/home/iago/Documents/Epigenetica_curso_pipeline/Exercicios/EX3/GSE191276/GSE191276/GSE191276_Matrix_signal_intensities.txt.gz  41838553\n",
       "/home/iago/Documents/Epigenetica_curso_pipeline/Exercicios/EX3/GSE191276/GSE191276/GSE191276_RAW.tar                          103802880\n",
       "                                                                                                                              isdir\n",
       "/home/iago/Documents/Epigenetica_curso_pipeline/Exercicios/EX3/GSE191276/GSE191276/GSE191276_Matrix_signal_intensities.txt.gz FALSE\n",
       "/home/iago/Documents/Epigenetica_curso_pipeline/Exercicios/EX3/GSE191276/GSE191276/GSE191276_RAW.tar                          FALSE\n",
       "                                                                                                                              mode\n",
       "/home/iago/Documents/Epigenetica_curso_pipeline/Exercicios/EX3/GSE191276/GSE191276/GSE191276_Matrix_signal_intensities.txt.gz 664 \n",
       "/home/iago/Documents/Epigenetica_curso_pipeline/Exercicios/EX3/GSE191276/GSE191276/GSE191276_RAW.tar                          664 \n",
       "                                                                                                                              mtime              \n",
       "/home/iago/Documents/Epigenetica_curso_pipeline/Exercicios/EX3/GSE191276/GSE191276/GSE191276_Matrix_signal_intensities.txt.gz 2021-12-20 13:09:47\n",
       "/home/iago/Documents/Epigenetica_curso_pipeline/Exercicios/EX3/GSE191276/GSE191276/GSE191276_RAW.tar                          2022-03-02 19:51:15\n",
       "                                                                                                                              ctime              \n",
       "/home/iago/Documents/Epigenetica_curso_pipeline/Exercicios/EX3/GSE191276/GSE191276/GSE191276_Matrix_signal_intensities.txt.gz 2024-06-22 11:26:44\n",
       "/home/iago/Documents/Epigenetica_curso_pipeline/Exercicios/EX3/GSE191276/GSE191276/GSE191276_RAW.tar                          2024-06-22 11:27:14\n",
       "                                                                                                                              atime              \n",
       "/home/iago/Documents/Epigenetica_curso_pipeline/Exercicios/EX3/GSE191276/GSE191276/GSE191276_Matrix_signal_intensities.txt.gz 2024-06-22 11:26:44\n",
       "/home/iago/Documents/Epigenetica_curso_pipeline/Exercicios/EX3/GSE191276/GSE191276/GSE191276_RAW.tar                          2024-06-22 11:27:14\n",
       "                                                                                                                              uid \n",
       "/home/iago/Documents/Epigenetica_curso_pipeline/Exercicios/EX3/GSE191276/GSE191276/GSE191276_Matrix_signal_intensities.txt.gz 1000\n",
       "/home/iago/Documents/Epigenetica_curso_pipeline/Exercicios/EX3/GSE191276/GSE191276/GSE191276_RAW.tar                          1000\n",
       "                                                                                                                              gid \n",
       "/home/iago/Documents/Epigenetica_curso_pipeline/Exercicios/EX3/GSE191276/GSE191276/GSE191276_Matrix_signal_intensities.txt.gz 1000\n",
       "/home/iago/Documents/Epigenetica_curso_pipeline/Exercicios/EX3/GSE191276/GSE191276/GSE191276_RAW.tar                          1000\n",
       "                                                                                                                              uname\n",
       "/home/iago/Documents/Epigenetica_curso_pipeline/Exercicios/EX3/GSE191276/GSE191276/GSE191276_Matrix_signal_intensities.txt.gz iago \n",
       "/home/iago/Documents/Epigenetica_curso_pipeline/Exercicios/EX3/GSE191276/GSE191276/GSE191276_RAW.tar                          iago \n",
       "                                                                                                                              grname\n",
       "/home/iago/Documents/Epigenetica_curso_pipeline/Exercicios/EX3/GSE191276/GSE191276/GSE191276_Matrix_signal_intensities.txt.gz iago  \n",
       "/home/iago/Documents/Epigenetica_curso_pipeline/Exercicios/EX3/GSE191276/GSE191276/GSE191276_RAW.tar                          iago  "
      ]
     },
     "metadata": {},
     "output_type": "display_data"
    }
   ],
   "source": [
    "filePaths"
   ]
  },
  {
   "cell_type": "code",
   "execution_count": 112,
   "id": "107c46b4-2917-4144-866a-2608bde19201",
   "metadata": {},
   "outputs": [],
   "source": [
    "####################################\n",
    "# Descompactar arquivos \n",
    "####################################\n",
    "system(\"tar -xvf ./GSE191276_RAW.tar\")\n",
    "\n",
    "system(\"gunzip ./*idat.gz\")"
   ]
  },
  {
   "cell_type": "code",
   "execution_count": 113,
   "id": "a732f261-91f4-48f6-9a93-591e9381726c",
   "metadata": {},
   "outputs": [
    {
     "data": {
      "text/html": [
       "<ol>\n",
       "\t<li>'GSM5742874_202702240141_R05C01_Grn.idat'</li>\n",
       "\t<li>'GSM5742874_202702240141_R05C01_Red.idat'</li>\n",
       "\t<li>'GSM5742875_202702240141_R06C01_Grn.idat'</li>\n",
       "\t<li>'GSM5742875_202702240141_R06C01_Red.idat'</li>\n",
       "\t<li>'GSM5742876_202702240141_R08C01_Grn.idat'</li>\n",
       "\t<li>'GSM5742876_202702240141_R08C01_Red.idat'</li>\n",
       "</ol>\n"
      ],
      "text/latex": [
       "\\begin{enumerate}\n",
       "\\item 'GSM5742874\\_202702240141\\_R05C01\\_Grn.idat'\n",
       "\\item 'GSM5742874\\_202702240141\\_R05C01\\_Red.idat'\n",
       "\\item 'GSM5742875\\_202702240141\\_R06C01\\_Grn.idat'\n",
       "\\item 'GSM5742875\\_202702240141\\_R06C01\\_Red.idat'\n",
       "\\item 'GSM5742876\\_202702240141\\_R08C01\\_Grn.idat'\n",
       "\\item 'GSM5742876\\_202702240141\\_R08C01\\_Red.idat'\n",
       "\\end{enumerate}\n"
      ],
      "text/markdown": [
       "1. 'GSM5742874_202702240141_R05C01_Grn.idat'\n",
       "2. 'GSM5742874_202702240141_R05C01_Red.idat'\n",
       "3. 'GSM5742875_202702240141_R06C01_Grn.idat'\n",
       "4. 'GSM5742875_202702240141_R06C01_Red.idat'\n",
       "5. 'GSM5742876_202702240141_R08C01_Grn.idat'\n",
       "6. 'GSM5742876_202702240141_R08C01_Red.idat'\n",
       "\n",
       "\n"
      ],
      "text/plain": [
       "[[1]]\n",
       "[1] \"GSM5742874_202702240141_R05C01_Grn.idat\"\n",
       "\n",
       "[[2]]\n",
       "[1] \"GSM5742874_202702240141_R05C01_Red.idat\"\n",
       "\n",
       "[[3]]\n",
       "[1] \"GSM5742875_202702240141_R06C01_Grn.idat\"\n",
       "\n",
       "[[4]]\n",
       "[1] \"GSM5742875_202702240141_R06C01_Red.idat\"\n",
       "\n",
       "[[5]]\n",
       "[1] \"GSM5742876_202702240141_R08C01_Grn.idat\"\n",
       "\n",
       "[[6]]\n",
       "[1] \"GSM5742876_202702240141_R08C01_Red.idat\"\n"
      ]
     },
     "metadata": {},
     "output_type": "display_data"
    }
   ],
   "source": [
    "####################################\n",
    "# criando sheet \n",
    "####################################\n",
    "\n",
    "\n",
    "idat_filelist <- list()\n",
    "\n",
    "for( file in list.files(dataDirectory, recursive = TRUE) ){\n",
    " if(endsWith(file, \".idat\")){\n",
    "     idat_filelist <- c(idat_filelist, file)\n",
    "     }\n",
    "}\n",
    "head(idat_filelist)"
   ]
  },
  {
   "cell_type": "code",
   "execution_count": 114,
   "id": "1dde9ce8-aa99-48de-848f-8790e6b8bfa2",
   "metadata": {},
   "outputs": [],
   "source": [
    "#Create a matrix for the phenofile\n",
    "sheet = as.matrix(matrix(nrow = length(idat_filelist), ncol = 5))\n",
    "colnames(sheet) =c(\"GeoID\",\"SampleID\",\"Basename\",\"Sentrix_ID\",\"Sentrix_Position\")"
   ]
  },
  {
   "cell_type": "code",
   "execution_count": 115,
   "id": "3c66489f-8743-46b4-af69-b15dc8a194fa",
   "metadata": {},
   "outputs": [
    {
     "data": {
      "text/html": [
       "<table class=\"dataframe\">\n",
       "<caption>A matrix: 14 × 5 of type lgl</caption>\n",
       "<thead>\n",
       "\t<tr><th scope=col>GeoID</th><th scope=col>SampleID</th><th scope=col>Basename</th><th scope=col>Sentrix_ID</th><th scope=col>Sentrix_Position</th></tr>\n",
       "</thead>\n",
       "<tbody>\n",
       "\t<tr><td>NA</td><td>NA</td><td>NA</td><td>NA</td><td>NA</td></tr>\n",
       "\t<tr><td>NA</td><td>NA</td><td>NA</td><td>NA</td><td>NA</td></tr>\n",
       "\t<tr><td>NA</td><td>NA</td><td>NA</td><td>NA</td><td>NA</td></tr>\n",
       "\t<tr><td>NA</td><td>NA</td><td>NA</td><td>NA</td><td>NA</td></tr>\n",
       "\t<tr><td>NA</td><td>NA</td><td>NA</td><td>NA</td><td>NA</td></tr>\n",
       "\t<tr><td>NA</td><td>NA</td><td>NA</td><td>NA</td><td>NA</td></tr>\n",
       "\t<tr><td>NA</td><td>NA</td><td>NA</td><td>NA</td><td>NA</td></tr>\n",
       "\t<tr><td>NA</td><td>NA</td><td>NA</td><td>NA</td><td>NA</td></tr>\n",
       "\t<tr><td>NA</td><td>NA</td><td>NA</td><td>NA</td><td>NA</td></tr>\n",
       "\t<tr><td>NA</td><td>NA</td><td>NA</td><td>NA</td><td>NA</td></tr>\n",
       "\t<tr><td>NA</td><td>NA</td><td>NA</td><td>NA</td><td>NA</td></tr>\n",
       "\t<tr><td>NA</td><td>NA</td><td>NA</td><td>NA</td><td>NA</td></tr>\n",
       "\t<tr><td>NA</td><td>NA</td><td>NA</td><td>NA</td><td>NA</td></tr>\n",
       "\t<tr><td>NA</td><td>NA</td><td>NA</td><td>NA</td><td>NA</td></tr>\n",
       "</tbody>\n",
       "</table>\n"
      ],
      "text/latex": [
       "A matrix: 14 × 5 of type lgl\n",
       "\\begin{tabular}{lllll}\n",
       " GeoID & SampleID & Basename & Sentrix\\_ID & Sentrix\\_Position\\\\\n",
       "\\hline\n",
       "\t NA & NA & NA & NA & NA\\\\\n",
       "\t NA & NA & NA & NA & NA\\\\\n",
       "\t NA & NA & NA & NA & NA\\\\\n",
       "\t NA & NA & NA & NA & NA\\\\\n",
       "\t NA & NA & NA & NA & NA\\\\\n",
       "\t NA & NA & NA & NA & NA\\\\\n",
       "\t NA & NA & NA & NA & NA\\\\\n",
       "\t NA & NA & NA & NA & NA\\\\\n",
       "\t NA & NA & NA & NA & NA\\\\\n",
       "\t NA & NA & NA & NA & NA\\\\\n",
       "\t NA & NA & NA & NA & NA\\\\\n",
       "\t NA & NA & NA & NA & NA\\\\\n",
       "\t NA & NA & NA & NA & NA\\\\\n",
       "\t NA & NA & NA & NA & NA\\\\\n",
       "\\end{tabular}\n"
      ],
      "text/markdown": [
       "\n",
       "A matrix: 14 × 5 of type lgl\n",
       "\n",
       "| GeoID | SampleID | Basename | Sentrix_ID | Sentrix_Position |\n",
       "|---|---|---|---|---|\n",
       "| NA | NA | NA | NA | NA |\n",
       "| NA | NA | NA | NA | NA |\n",
       "| NA | NA | NA | NA | NA |\n",
       "| NA | NA | NA | NA | NA |\n",
       "| NA | NA | NA | NA | NA |\n",
       "| NA | NA | NA | NA | NA |\n",
       "| NA | NA | NA | NA | NA |\n",
       "| NA | NA | NA | NA | NA |\n",
       "| NA | NA | NA | NA | NA |\n",
       "| NA | NA | NA | NA | NA |\n",
       "| NA | NA | NA | NA | NA |\n",
       "| NA | NA | NA | NA | NA |\n",
       "| NA | NA | NA | NA | NA |\n",
       "| NA | NA | NA | NA | NA |\n",
       "\n"
      ],
      "text/plain": [
       "      GeoID SampleID Basename Sentrix_ID Sentrix_Position\n",
       " [1,] NA    NA       NA       NA         NA              \n",
       " [2,] NA    NA       NA       NA         NA              \n",
       " [3,] NA    NA       NA       NA         NA              \n",
       " [4,] NA    NA       NA       NA         NA              \n",
       " [5,] NA    NA       NA       NA         NA              \n",
       " [6,] NA    NA       NA       NA         NA              \n",
       " [7,] NA    NA       NA       NA         NA              \n",
       " [8,] NA    NA       NA       NA         NA              \n",
       " [9,] NA    NA       NA       NA         NA              \n",
       "[10,] NA    NA       NA       NA         NA              \n",
       "[11,] NA    NA       NA       NA         NA              \n",
       "[12,] NA    NA       NA       NA         NA              \n",
       "[13,] NA    NA       NA       NA         NA              \n",
       "[14,] NA    NA       NA       NA         NA              "
      ]
     },
     "metadata": {},
     "output_type": "display_data"
    }
   ],
   "source": [
    "sheet\n"
   ]
  },
  {
   "cell_type": "code",
   "execution_count": 116,
   "id": "5078c20d-4414-44c9-b276-748655c9624d",
   "metadata": {},
   "outputs": [],
   "source": [
    "for (i in seq(1,length(idat_filelist))){\n",
    "    split_name=strsplit(idat_filelist[[i]], split='_', fixed=TRUE)\n",
    "\n",
    "    #GeoID\n",
    "    sheet[i,1] = split_name[[1]][1]\n",
    "    #SampleID\n",
    "    sheet[i,2]=paste(split_name[[1]][2],split_name[[1]][3],sep=\"_\")\n",
    "    #Basename\n",
    "    #   Obs: incluir o caminho de onde os arquivos idat estão salvos, nesse caso, é nosso working directory. \n",
    "    #        > getwd() \n",
    "    #        [1] \"/home/iago/Documents/Epigenetica_curso_pipeline/GEOdata\"\n",
    "    sheet[i,3]=paste(split_name[[1]][1],split_name[[1]][2],split_name[[1]][3],sep=\"_\")\n",
    "    #Sentrix_ID\n",
    "    sheet[i,4]=split_name[[1]][2]\n",
    "    #SentrixPosition\n",
    "    sheet[i,5]=split_name[[1]][3]\n",
    "    }\n",
    "\n",
    "#Sheet está duplicada, já que temos um idat para cada canal \n",
    "sheet = sheet[duplicated(sheet),]"
   ]
  },
  {
   "cell_type": "code",
   "execution_count": 117,
   "id": "fda7660a-af0d-4116-a78d-b3231fbcf0e1",
   "metadata": {},
   "outputs": [
    {
     "data": {
      "text/html": [
       "<table class=\"dataframe\">\n",
       "<caption>A matrix: 7 × 5 of type chr</caption>\n",
       "<thead>\n",
       "\t<tr><th scope=col>GeoID</th><th scope=col>SampleID</th><th scope=col>Basename</th><th scope=col>Sentrix_ID</th><th scope=col>Sentrix_Position</th></tr>\n",
       "</thead>\n",
       "<tbody>\n",
       "\t<tr><td>GSM5742874</td><td>202702240141_R05C01</td><td>GSM5742874_202702240141_R05C01</td><td>202702240141</td><td>R05C01</td></tr>\n",
       "\t<tr><td>GSM5742875</td><td>202702240141_R06C01</td><td>GSM5742875_202702240141_R06C01</td><td>202702240141</td><td>R06C01</td></tr>\n",
       "\t<tr><td>GSM5742876</td><td>202702240141_R08C01</td><td>GSM5742876_202702240141_R08C01</td><td>202702240141</td><td>R08C01</td></tr>\n",
       "\t<tr><td>GSM5742877</td><td>204088150175_R01C01</td><td>GSM5742877_204088150175_R01C01</td><td>204088150175</td><td>R01C01</td></tr>\n",
       "\t<tr><td>GSM5742878</td><td>204088150175_R02C01</td><td>GSM5742878_204088150175_R02C01</td><td>204088150175</td><td>R02C01</td></tr>\n",
       "\t<tr><td>GSM5742879</td><td>204088150175_R03C01</td><td>GSM5742879_204088150175_R03C01</td><td>204088150175</td><td>R03C01</td></tr>\n",
       "\t<tr><td>GSM5742880</td><td>204088150175_R04C01</td><td>GSM5742880_204088150175_R04C01</td><td>204088150175</td><td>R04C01</td></tr>\n",
       "</tbody>\n",
       "</table>\n"
      ],
      "text/latex": [
       "A matrix: 7 × 5 of type chr\n",
       "\\begin{tabular}{lllll}\n",
       " GeoID & SampleID & Basename & Sentrix\\_ID & Sentrix\\_Position\\\\\n",
       "\\hline\n",
       "\t GSM5742874 & 202702240141\\_R05C01 & GSM5742874\\_202702240141\\_R05C01 & 202702240141 & R05C01\\\\\n",
       "\t GSM5742875 & 202702240141\\_R06C01 & GSM5742875\\_202702240141\\_R06C01 & 202702240141 & R06C01\\\\\n",
       "\t GSM5742876 & 202702240141\\_R08C01 & GSM5742876\\_202702240141\\_R08C01 & 202702240141 & R08C01\\\\\n",
       "\t GSM5742877 & 204088150175\\_R01C01 & GSM5742877\\_204088150175\\_R01C01 & 204088150175 & R01C01\\\\\n",
       "\t GSM5742878 & 204088150175\\_R02C01 & GSM5742878\\_204088150175\\_R02C01 & 204088150175 & R02C01\\\\\n",
       "\t GSM5742879 & 204088150175\\_R03C01 & GSM5742879\\_204088150175\\_R03C01 & 204088150175 & R03C01\\\\\n",
       "\t GSM5742880 & 204088150175\\_R04C01 & GSM5742880\\_204088150175\\_R04C01 & 204088150175 & R04C01\\\\\n",
       "\\end{tabular}\n"
      ],
      "text/markdown": [
       "\n",
       "A matrix: 7 × 5 of type chr\n",
       "\n",
       "| GeoID | SampleID | Basename | Sentrix_ID | Sentrix_Position |\n",
       "|---|---|---|---|---|\n",
       "| GSM5742874 | 202702240141_R05C01 | GSM5742874_202702240141_R05C01 | 202702240141 | R05C01 |\n",
       "| GSM5742875 | 202702240141_R06C01 | GSM5742875_202702240141_R06C01 | 202702240141 | R06C01 |\n",
       "| GSM5742876 | 202702240141_R08C01 | GSM5742876_202702240141_R08C01 | 202702240141 | R08C01 |\n",
       "| GSM5742877 | 204088150175_R01C01 | GSM5742877_204088150175_R01C01 | 204088150175 | R01C01 |\n",
       "| GSM5742878 | 204088150175_R02C01 | GSM5742878_204088150175_R02C01 | 204088150175 | R02C01 |\n",
       "| GSM5742879 | 204088150175_R03C01 | GSM5742879_204088150175_R03C01 | 204088150175 | R03C01 |\n",
       "| GSM5742880 | 204088150175_R04C01 | GSM5742880_204088150175_R04C01 | 204088150175 | R04C01 |\n",
       "\n"
      ],
      "text/plain": [
       "     GeoID      SampleID            Basename                       Sentrix_ID  \n",
       "[1,] GSM5742874 202702240141_R05C01 GSM5742874_202702240141_R05C01 202702240141\n",
       "[2,] GSM5742875 202702240141_R06C01 GSM5742875_202702240141_R06C01 202702240141\n",
       "[3,] GSM5742876 202702240141_R08C01 GSM5742876_202702240141_R08C01 202702240141\n",
       "[4,] GSM5742877 204088150175_R01C01 GSM5742877_204088150175_R01C01 204088150175\n",
       "[5,] GSM5742878 204088150175_R02C01 GSM5742878_204088150175_R02C01 204088150175\n",
       "[6,] GSM5742879 204088150175_R03C01 GSM5742879_204088150175_R03C01 204088150175\n",
       "[7,] GSM5742880 204088150175_R04C01 GSM5742880_204088150175_R04C01 204088150175\n",
       "     Sentrix_Position\n",
       "[1,] R05C01          \n",
       "[2,] R06C01          \n",
       "[3,] R08C01          \n",
       "[4,] R01C01          \n",
       "[5,] R02C01          \n",
       "[6,] R03C01          \n",
       "[7,] R04C01          "
      ]
     },
     "metadata": {},
     "output_type": "display_data"
    }
   ],
   "source": [
    "sheet"
   ]
  },
  {
   "cell_type": "code",
   "execution_count": 118,
   "id": "9024c812-17a8-4952-b141-4ab05c1643c3",
   "metadata": {},
   "outputs": [
    {
     "data": {
      "text/html": [
       "<table class=\"dataframe\">\n",
       "<caption>A data.frame: 6 × 1</caption>\n",
       "<thead>\n",
       "\t<tr><th></th><th scope=col>Sex:ch1</th></tr>\n",
       "\t<tr><th></th><th scope=col>&lt;chr&gt;</th></tr>\n",
       "</thead>\n",
       "<tbody>\n",
       "\t<tr><th scope=row>GSM5742874</th><td>NA</td></tr>\n",
       "\t<tr><th scope=row>GSM5742875</th><td>F </td></tr>\n",
       "\t<tr><th scope=row>GSM5742876</th><td>M </td></tr>\n",
       "\t<tr><th scope=row>GSM5742877</th><td>M </td></tr>\n",
       "\t<tr><th scope=row>GSM5742878</th><td>F </td></tr>\n",
       "\t<tr><th scope=row>GSM5742879</th><td>M </td></tr>\n",
       "</tbody>\n",
       "</table>\n"
      ],
      "text/latex": [
       "A data.frame: 6 × 1\n",
       "\\begin{tabular}{r|l}\n",
       "  & Sex:ch1\\\\\n",
       "  & <chr>\\\\\n",
       "\\hline\n",
       "\tGSM5742874 & NA\\\\\n",
       "\tGSM5742875 & F \\\\\n",
       "\tGSM5742876 & M \\\\\n",
       "\tGSM5742877 & M \\\\\n",
       "\tGSM5742878 & F \\\\\n",
       "\tGSM5742879 & M \\\\\n",
       "\\end{tabular}\n"
      ],
      "text/markdown": [
       "\n",
       "A data.frame: 6 × 1\n",
       "\n",
       "| <!--/--> | Sex:ch1 &lt;chr&gt; |\n",
       "|---|---|\n",
       "| GSM5742874 | NA |\n",
       "| GSM5742875 | F  |\n",
       "| GSM5742876 | M  |\n",
       "| GSM5742877 | M  |\n",
       "| GSM5742878 | F  |\n",
       "| GSM5742879 | M  |\n",
       "\n"
      ],
      "text/plain": [
       "           Sex:ch1\n",
       "GSM5742874 NA     \n",
       "GSM5742875 F      \n",
       "GSM5742876 M      \n",
       "GSM5742877 M      \n",
       "GSM5742878 F      \n",
       "GSM5742879 M      "
      ]
     },
     "metadata": {},
     "output_type": "display_data"
    },
    {
     "data": {
      "text/html": [
       "<table class=\"dataframe\">\n",
       "<caption>A data.frame: 7 × 6</caption>\n",
       "<thead>\n",
       "\t<tr><th scope=col>GeoID</th><th scope=col>SampleID</th><th scope=col>Basename</th><th scope=col>Sentrix_ID</th><th scope=col>Sentrix_Position</th><th scope=col>Sex</th></tr>\n",
       "\t<tr><th scope=col>&lt;chr&gt;</th><th scope=col>&lt;chr&gt;</th><th scope=col>&lt;chr&gt;</th><th scope=col>&lt;chr&gt;</th><th scope=col>&lt;chr&gt;</th><th scope=col>&lt;chr&gt;</th></tr>\n",
       "</thead>\n",
       "<tbody>\n",
       "\t<tr><td>GSM5742874</td><td>202702240141_R05C01</td><td>GSM5742874_202702240141_R05C01</td><td>202702240141</td><td>R05C01</td><td>NA</td></tr>\n",
       "\t<tr><td>GSM5742875</td><td>202702240141_R06C01</td><td>GSM5742875_202702240141_R06C01</td><td>202702240141</td><td>R06C01</td><td>F </td></tr>\n",
       "\t<tr><td>GSM5742876</td><td>202702240141_R08C01</td><td>GSM5742876_202702240141_R08C01</td><td>202702240141</td><td>R08C01</td><td>M </td></tr>\n",
       "\t<tr><td>GSM5742877</td><td>204088150175_R01C01</td><td>GSM5742877_204088150175_R01C01</td><td>204088150175</td><td>R01C01</td><td>M </td></tr>\n",
       "\t<tr><td>GSM5742878</td><td>204088150175_R02C01</td><td>GSM5742878_204088150175_R02C01</td><td>204088150175</td><td>R02C01</td><td>F </td></tr>\n",
       "\t<tr><td>GSM5742879</td><td>204088150175_R03C01</td><td>GSM5742879_204088150175_R03C01</td><td>204088150175</td><td>R03C01</td><td>M </td></tr>\n",
       "\t<tr><td>GSM5742880</td><td>204088150175_R04C01</td><td>GSM5742880_204088150175_R04C01</td><td>204088150175</td><td>R04C01</td><td>M </td></tr>\n",
       "</tbody>\n",
       "</table>\n"
      ],
      "text/latex": [
       "A data.frame: 7 × 6\n",
       "\\begin{tabular}{llllll}\n",
       " GeoID & SampleID & Basename & Sentrix\\_ID & Sentrix\\_Position & Sex\\\\\n",
       " <chr> & <chr> & <chr> & <chr> & <chr> & <chr>\\\\\n",
       "\\hline\n",
       "\t GSM5742874 & 202702240141\\_R05C01 & GSM5742874\\_202702240141\\_R05C01 & 202702240141 & R05C01 & NA\\\\\n",
       "\t GSM5742875 & 202702240141\\_R06C01 & GSM5742875\\_202702240141\\_R06C01 & 202702240141 & R06C01 & F \\\\\n",
       "\t GSM5742876 & 202702240141\\_R08C01 & GSM5742876\\_202702240141\\_R08C01 & 202702240141 & R08C01 & M \\\\\n",
       "\t GSM5742877 & 204088150175\\_R01C01 & GSM5742877\\_204088150175\\_R01C01 & 204088150175 & R01C01 & M \\\\\n",
       "\t GSM5742878 & 204088150175\\_R02C01 & GSM5742878\\_204088150175\\_R02C01 & 204088150175 & R02C01 & F \\\\\n",
       "\t GSM5742879 & 204088150175\\_R03C01 & GSM5742879\\_204088150175\\_R03C01 & 204088150175 & R03C01 & M \\\\\n",
       "\t GSM5742880 & 204088150175\\_R04C01 & GSM5742880\\_204088150175\\_R04C01 & 204088150175 & R04C01 & M \\\\\n",
       "\\end{tabular}\n"
      ],
      "text/markdown": [
       "\n",
       "A data.frame: 7 × 6\n",
       "\n",
       "| GeoID &lt;chr&gt; | SampleID &lt;chr&gt; | Basename &lt;chr&gt; | Sentrix_ID &lt;chr&gt; | Sentrix_Position &lt;chr&gt; | Sex &lt;chr&gt; |\n",
       "|---|---|---|---|---|---|\n",
       "| GSM5742874 | 202702240141_R05C01 | GSM5742874_202702240141_R05C01 | 202702240141 | R05C01 | NA |\n",
       "| GSM5742875 | 202702240141_R06C01 | GSM5742875_202702240141_R06C01 | 202702240141 | R06C01 | F  |\n",
       "| GSM5742876 | 202702240141_R08C01 | GSM5742876_202702240141_R08C01 | 202702240141 | R08C01 | M  |\n",
       "| GSM5742877 | 204088150175_R01C01 | GSM5742877_204088150175_R01C01 | 204088150175 | R01C01 | M  |\n",
       "| GSM5742878 | 204088150175_R02C01 | GSM5742878_204088150175_R02C01 | 204088150175 | R02C01 | F  |\n",
       "| GSM5742879 | 204088150175_R03C01 | GSM5742879_204088150175_R03C01 | 204088150175 | R03C01 | M  |\n",
       "| GSM5742880 | 204088150175_R04C01 | GSM5742880_204088150175_R04C01 | 204088150175 | R04C01 | M  |\n",
       "\n"
      ],
      "text/plain": [
       "  GeoID      SampleID            Basename                       Sentrix_ID  \n",
       "1 GSM5742874 202702240141_R05C01 GSM5742874_202702240141_R05C01 202702240141\n",
       "2 GSM5742875 202702240141_R06C01 GSM5742875_202702240141_R06C01 202702240141\n",
       "3 GSM5742876 202702240141_R08C01 GSM5742876_202702240141_R08C01 202702240141\n",
       "4 GSM5742877 204088150175_R01C01 GSM5742877_204088150175_R01C01 204088150175\n",
       "5 GSM5742878 204088150175_R02C01 GSM5742878_204088150175_R02C01 204088150175\n",
       "6 GSM5742879 204088150175_R03C01 GSM5742879_204088150175_R03C01 204088150175\n",
       "7 GSM5742880 204088150175_R04C01 GSM5742880_204088150175_R04C01 204088150175\n",
       "  Sentrix_Position Sex\n",
       "1 R05C01           NA \n",
       "2 R06C01           F  \n",
       "3 R08C01           M  \n",
       "4 R01C01           M  \n",
       "5 R02C01           F  \n",
       "6 R03C01           M  \n",
       "7 R04C01           M  "
      ]
     },
     "metadata": {},
     "output_type": "display_data"
    },
    {
     "data": {
      "text/html": [
       "<table class=\"dataframe\">\n",
       "<caption>A data.frame: 7 × 6</caption>\n",
       "<thead>\n",
       "\t<tr><th scope=col>GeoID</th><th scope=col>SampleID</th><th scope=col>Basename</th><th scope=col>Sentrix_ID</th><th scope=col>Sentrix_Position</th><th scope=col>Sex</th></tr>\n",
       "\t<tr><th scope=col>&lt;chr&gt;</th><th scope=col>&lt;chr&gt;</th><th scope=col>&lt;chr&gt;</th><th scope=col>&lt;chr&gt;</th><th scope=col>&lt;chr&gt;</th><th scope=col>&lt;chr&gt;</th></tr>\n",
       "</thead>\n",
       "<tbody>\n",
       "\t<tr><td>GSM5742874</td><td>202702240141_R05C01</td><td>GSM5742874_202702240141_R05C01</td><td>202702240141</td><td>R05C01</td><td>undef</td></tr>\n",
       "\t<tr><td>GSM5742875</td><td>202702240141_R06C01</td><td>GSM5742875_202702240141_R06C01</td><td>202702240141</td><td>R06C01</td><td>F    </td></tr>\n",
       "\t<tr><td>GSM5742876</td><td>202702240141_R08C01</td><td>GSM5742876_202702240141_R08C01</td><td>202702240141</td><td>R08C01</td><td>M    </td></tr>\n",
       "\t<tr><td>GSM5742877</td><td>204088150175_R01C01</td><td>GSM5742877_204088150175_R01C01</td><td>204088150175</td><td>R01C01</td><td>M    </td></tr>\n",
       "\t<tr><td>GSM5742878</td><td>204088150175_R02C01</td><td>GSM5742878_204088150175_R02C01</td><td>204088150175</td><td>R02C01</td><td>F    </td></tr>\n",
       "\t<tr><td>GSM5742879</td><td>204088150175_R03C01</td><td>GSM5742879_204088150175_R03C01</td><td>204088150175</td><td>R03C01</td><td>M    </td></tr>\n",
       "\t<tr><td>GSM5742880</td><td>204088150175_R04C01</td><td>GSM5742880_204088150175_R04C01</td><td>204088150175</td><td>R04C01</td><td>M    </td></tr>\n",
       "</tbody>\n",
       "</table>\n"
      ],
      "text/latex": [
       "A data.frame: 7 × 6\n",
       "\\begin{tabular}{llllll}\n",
       " GeoID & SampleID & Basename & Sentrix\\_ID & Sentrix\\_Position & Sex\\\\\n",
       " <chr> & <chr> & <chr> & <chr> & <chr> & <chr>\\\\\n",
       "\\hline\n",
       "\t GSM5742874 & 202702240141\\_R05C01 & GSM5742874\\_202702240141\\_R05C01 & 202702240141 & R05C01 & undef\\\\\n",
       "\t GSM5742875 & 202702240141\\_R06C01 & GSM5742875\\_202702240141\\_R06C01 & 202702240141 & R06C01 & F    \\\\\n",
       "\t GSM5742876 & 202702240141\\_R08C01 & GSM5742876\\_202702240141\\_R08C01 & 202702240141 & R08C01 & M    \\\\\n",
       "\t GSM5742877 & 204088150175\\_R01C01 & GSM5742877\\_204088150175\\_R01C01 & 204088150175 & R01C01 & M    \\\\\n",
       "\t GSM5742878 & 204088150175\\_R02C01 & GSM5742878\\_204088150175\\_R02C01 & 204088150175 & R02C01 & F    \\\\\n",
       "\t GSM5742879 & 204088150175\\_R03C01 & GSM5742879\\_204088150175\\_R03C01 & 204088150175 & R03C01 & M    \\\\\n",
       "\t GSM5742880 & 204088150175\\_R04C01 & GSM5742880\\_204088150175\\_R04C01 & 204088150175 & R04C01 & M    \\\\\n",
       "\\end{tabular}\n"
      ],
      "text/markdown": [
       "\n",
       "A data.frame: 7 × 6\n",
       "\n",
       "| GeoID &lt;chr&gt; | SampleID &lt;chr&gt; | Basename &lt;chr&gt; | Sentrix_ID &lt;chr&gt; | Sentrix_Position &lt;chr&gt; | Sex &lt;chr&gt; |\n",
       "|---|---|---|---|---|---|\n",
       "| GSM5742874 | 202702240141_R05C01 | GSM5742874_202702240141_R05C01 | 202702240141 | R05C01 | undef |\n",
       "| GSM5742875 | 202702240141_R06C01 | GSM5742875_202702240141_R06C01 | 202702240141 | R06C01 | F     |\n",
       "| GSM5742876 | 202702240141_R08C01 | GSM5742876_202702240141_R08C01 | 202702240141 | R08C01 | M     |\n",
       "| GSM5742877 | 204088150175_R01C01 | GSM5742877_204088150175_R01C01 | 204088150175 | R01C01 | M     |\n",
       "| GSM5742878 | 204088150175_R02C01 | GSM5742878_204088150175_R02C01 | 204088150175 | R02C01 | F     |\n",
       "| GSM5742879 | 204088150175_R03C01 | GSM5742879_204088150175_R03C01 | 204088150175 | R03C01 | M     |\n",
       "| GSM5742880 | 204088150175_R04C01 | GSM5742880_204088150175_R04C01 | 204088150175 | R04C01 | M     |\n",
       "\n"
      ],
      "text/plain": [
       "  GeoID      SampleID            Basename                       Sentrix_ID  \n",
       "1 GSM5742874 202702240141_R05C01 GSM5742874_202702240141_R05C01 202702240141\n",
       "2 GSM5742875 202702240141_R06C01 GSM5742875_202702240141_R06C01 202702240141\n",
       "3 GSM5742876 202702240141_R08C01 GSM5742876_202702240141_R08C01 202702240141\n",
       "4 GSM5742877 204088150175_R01C01 GSM5742877_204088150175_R01C01 204088150175\n",
       "5 GSM5742878 204088150175_R02C01 GSM5742878_204088150175_R02C01 204088150175\n",
       "6 GSM5742879 204088150175_R03C01 GSM5742879_204088150175_R03C01 204088150175\n",
       "7 GSM5742880 204088150175_R04C01 GSM5742880_204088150175_R04C01 204088150175\n",
       "  Sentrix_Position Sex  \n",
       "1 R05C01           undef\n",
       "2 R06C01           F    \n",
       "3 R08C01           M    \n",
       "4 R01C01           M    \n",
       "5 R02C01           F    \n",
       "6 R03C01           M    \n",
       "7 R04C01           M    "
      ]
     },
     "metadata": {},
     "output_type": "display_data"
    }
   ],
   "source": [
    "head(Sex.df)\n",
    "sheet <- merge(x=sheet, y=Sex.df, by.x = \"GeoID\", by.y = \"row.names\")\n",
    "\n",
    "colnames(sheet) <- c(\"GeoID\",\"SampleID\",\"Basename\",\"Sentrix_ID\",\"Sentrix_Position\",\"Sex\")\n",
    "\n",
    "#OBS nesta planilha a coluna de informação sexo biológico já está formatada como M e F \n",
    "sheet\n",
    "\n",
    "#sheet\n",
    "sheet$Sex <- ifelse(sheet$Sex %in% c(\"M\",\"F\"),sheet$Sex, \"undef\")\n",
    "\n",
    "sheet"
   ]
  },
  {
   "cell_type": "code",
   "execution_count": 119,
   "id": "57b12ca4-4a67-439e-b398-25770979e561",
   "metadata": {},
   "outputs": [],
   "source": [
    "write.csv(sheet, file = \"phenotype_file_GSE191276.csv\", quote=F, row.names= F)"
   ]
  },
  {
   "cell_type": "markdown",
   "id": "f7ea797c-016a-429f-a6db-a6202d3070bd",
   "metadata": {},
   "source": [
    "***\n",
    "### Agora, faremos do segundo pheno - GSE235207"
   ]
  },
  {
   "cell_type": "code",
   "execution_count": 120,
   "id": "5cfb71d1-a04b-4833-b422-b11e6a8cdd22",
   "metadata": {},
   "outputs": [],
   "source": [
    "rm(list=ls())"
   ]
  },
  {
   "cell_type": "code",
   "execution_count": 121,
   "id": "6da21f41-f42f-449c-9c6c-b75e29ae73f5",
   "metadata": {
    "scrolled": true
   },
   "outputs": [],
   "source": [
    "library(GEOquery)\n",
    "library(ewastools)\n",
    "system(\"mkdir -p /home/iago/Documents/Epigenetica_curso_pipeline/Exercicios/EX3/GSE235207\")\n",
    "setwd(\"/home/iago/Documents/Epigenetica_curso_pipeline/Exercicios/EX3/GSE235207\")\n",
    "\n",
    "date=\"June4th2024\"\n",
    "dataDirectory <- (\".\")"
   ]
  },
  {
   "cell_type": "code",
   "execution_count": 122,
   "id": "cf4a4ef5-8f29-460e-9c35-a5038d7faccc",
   "metadata": {
    "scrolled": true
   },
   "outputs": [
    {
     "name": "stderr",
     "output_type": "stream",
     "text": [
      "Found 1 file(s)\n",
      "\n",
      "GSE235207_series_matrix.txt.gz\n",
      "\n",
      "Using locally cached version: /tmp/Rtmp3HdEIf/GSE235207_series_matrix.txt.gz\n",
      "\n",
      "\u001b[1mRows: \u001b[22m\u001b[34m865918\u001b[39m \u001b[1mColumns: \u001b[22m\u001b[34m5\u001b[39m\n",
      "\u001b[36m──\u001b[39m \u001b[1mColumn specification\u001b[22m \u001b[36m────────────────────────────────────────────────────────\u001b[39m\n",
      "\u001b[1mDelimiter:\u001b[22m \"\\t\"\n",
      "\u001b[31mchr\u001b[39m (1): ID_REF\n",
      "\u001b[32mdbl\u001b[39m (4): GSM7496815, GSM7496816, GSM7496817, GSM7496818\n",
      "\n",
      "\u001b[36mℹ\u001b[39m Use `spec()` to retrieve the full column specification for this data.\n",
      "\u001b[36mℹ\u001b[39m Specify the column types or set `show_col_types = FALSE` to quiet this message.\n",
      "Using locally cached version of GPL21145 found here:\n",
      "/tmp/Rtmp3HdEIf/GPL21145.soft \n",
      "\n",
      "Warning message:\n",
      "“\u001b[1m\u001b[22mOne or more parsing issues, call `problems()` on your data frame for details,\n",
      "e.g.:\n",
      "  dat <- vroom(...)\n",
      "  problems(dat)”\n"
     ]
    },
    {
     "name": "stdout",
     "output_type": "stream",
     "text": [
      "$GSE235207_series_matrix.txt.gz\n",
      "ExpressionSet (storageMode: lockedEnvironment)\n",
      "assayData: 865918 features, 4 samples \n",
      "  element names: exprs \n",
      "protocolData: none\n",
      "phenoData\n",
      "  sampleNames: GSM7496815 GSM7496816 GSM7496817 GSM7496818\n",
      "  varLabels: title geo_accession ... RNAi:ch1 (38 total)\n",
      "  varMetadata: labelDescription\n",
      "featureData\n",
      "  featureNames: cg00000029 cg00000103 ... rs9839873 (865918 total)\n",
      "  fvarLabels: ID SPOT_ID ... SourceSeq (14 total)\n",
      "  fvarMetadata: Column Description labelDescription\n",
      "experimentData: use 'experimentData(object)'\n",
      "  pubMedIds: 38481314 \n",
      "Annotation: GPL21145 \n",
      "\n"
     ]
    }
   ],
   "source": [
    "gse <- getGEO(\"GSE235207\", GSEMatrix = TRUE)\n",
    "show(gse)"
   ]
  },
  {
   "cell_type": "code",
   "execution_count": 123,
   "id": "dc81e63c-3544-4a04-974b-3e2f44217841",
   "metadata": {},
   "outputs": [
    {
     "data": {
      "text/html": [
       "<table class=\"dataframe\">\n",
       "<caption>A data.frame: 4 × 38</caption>\n",
       "<thead>\n",
       "\t<tr><th></th><th scope=col>title</th><th scope=col>geo_accession</th><th scope=col>status</th><th scope=col>submission_date</th><th scope=col>last_update_date</th><th scope=col>type</th><th scope=col>channel_count</th><th scope=col>source_name_ch1</th><th scope=col>organism_ch1</th><th scope=col>characteristics_ch1</th><th scope=col>⋯</th><th scope=col>contact_city</th><th scope=col>contact_state</th><th scope=col>contact_zip/postal_code</th><th scope=col>contact_country</th><th scope=col>supplementary_file</th><th scope=col>supplementary_file.1</th><th scope=col>data_row_count</th><th scope=col>cell line:ch1</th><th scope=col>cell type:ch1</th><th scope=col>RNAi:ch1</th></tr>\n",
       "\t<tr><th></th><th scope=col>&lt;chr&gt;</th><th scope=col>&lt;chr&gt;</th><th scope=col>&lt;chr&gt;</th><th scope=col>&lt;chr&gt;</th><th scope=col>&lt;chr&gt;</th><th scope=col>&lt;chr&gt;</th><th scope=col>&lt;chr&gt;</th><th scope=col>&lt;chr&gt;</th><th scope=col>&lt;chr&gt;</th><th scope=col>&lt;chr&gt;</th><th scope=col>⋯</th><th scope=col>&lt;chr&gt;</th><th scope=col>&lt;chr&gt;</th><th scope=col>&lt;chr&gt;</th><th scope=col>&lt;chr&gt;</th><th scope=col>&lt;chr&gt;</th><th scope=col>&lt;chr&gt;</th><th scope=col>&lt;chr&gt;</th><th scope=col>&lt;chr&gt;</th><th scope=col>&lt;chr&gt;</th><th scope=col>&lt;chr&gt;</th></tr>\n",
       "</thead>\n",
       "<tbody>\n",
       "\t<tr><th scope=row>GSM7496815</th><td>ShScramble_1</td><td>GSM7496815</td><td>Public on Mar 20 2024</td><td>Jun 20 2023</td><td>Mar 20 2024</td><td>genomic</td><td>1</td><td>Control glioblastoma cells          </td><td>Homo sapiens</td><td>cell line: U87-EGFRvIII</td><td>⋯</td><td>Shinjuku</td><td>Tokyo</td><td>162-8666</td><td>Japan</td><td>ftp://ftp.ncbi.nlm.nih.gov/geo/samples/GSM7496nnn/GSM7496815/suppl/GSM7496815_204289510131_R05C01_Grn.idat.gz</td><td>ftp://ftp.ncbi.nlm.nih.gov/geo/samples/GSM7496nnn/GSM7496815/suppl/GSM7496815_204289510131_R05C01_Red.idat.gz</td><td>865918</td><td>U87-EGFRvIII</td><td>glioblastoma cell line</td><td>Scramble</td></tr>\n",
       "\t<tr><th scope=row>GSM7496816</th><td>ShScramble_2</td><td>GSM7496816</td><td>Public on Mar 20 2024</td><td>Jun 20 2023</td><td>Mar 20 2024</td><td>genomic</td><td>1</td><td>Control glioblastoma cells          </td><td>Homo sapiens</td><td>cell line: U87-EGFRvIII</td><td>⋯</td><td>Shinjuku</td><td>Tokyo</td><td>162-8666</td><td>Japan</td><td>ftp://ftp.ncbi.nlm.nih.gov/geo/samples/GSM7496nnn/GSM7496816/suppl/GSM7496816_204289510131_R06C01_Grn.idat.gz</td><td>ftp://ftp.ncbi.nlm.nih.gov/geo/samples/GSM7496nnn/GSM7496816/suppl/GSM7496816_204289510131_R06C01_Red.idat.gz</td><td>865918</td><td>U87-EGFRvIII</td><td>glioblastoma cell line</td><td>Scramble</td></tr>\n",
       "\t<tr><th scope=row>GSM7496817</th><td>ShRictor_1  </td><td>GSM7496817</td><td>Public on Mar 20 2024</td><td>Jun 20 2023</td><td>Mar 20 2024</td><td>genomic</td><td>1</td><td>mTORC2-suppressed glioblastoma cells</td><td>Homo sapiens</td><td>cell line: U87-EGFRvIII</td><td>⋯</td><td>Shinjuku</td><td>Tokyo</td><td>162-8666</td><td>Japan</td><td>ftp://ftp.ncbi.nlm.nih.gov/geo/samples/GSM7496nnn/GSM7496817/suppl/GSM7496817_204289510131_R07C01_Grn.idat.gz</td><td>ftp://ftp.ncbi.nlm.nih.gov/geo/samples/GSM7496nnn/GSM7496817/suppl/GSM7496817_204289510131_R07C01_Red.idat.gz</td><td>865918</td><td>U87-EGFRvIII</td><td>glioblastoma cell line</td><td>Rictor  </td></tr>\n",
       "\t<tr><th scope=row>GSM7496818</th><td>ShRictor_2  </td><td>GSM7496818</td><td>Public on Mar 20 2024</td><td>Jun 20 2023</td><td>Mar 20 2024</td><td>genomic</td><td>1</td><td>mTORC2-suppressed glioblastoma cells</td><td>Homo sapiens</td><td>cell line: U87-EGFRvIII</td><td>⋯</td><td>Shinjuku</td><td>Tokyo</td><td>162-8666</td><td>Japan</td><td>ftp://ftp.ncbi.nlm.nih.gov/geo/samples/GSM7496nnn/GSM7496818/suppl/GSM7496818_204289510131_R08C01_Grn.idat.gz</td><td>ftp://ftp.ncbi.nlm.nih.gov/geo/samples/GSM7496nnn/GSM7496818/suppl/GSM7496818_204289510131_R08C01_Red.idat.gz</td><td>865918</td><td>U87-EGFRvIII</td><td>glioblastoma cell line</td><td>Rictor  </td></tr>\n",
       "</tbody>\n",
       "</table>\n"
      ],
      "text/latex": [
       "A data.frame: 4 × 38\n",
       "\\begin{tabular}{r|lllllllllllllllllllll}\n",
       "  & title & geo\\_accession & status & submission\\_date & last\\_update\\_date & type & channel\\_count & source\\_name\\_ch1 & organism\\_ch1 & characteristics\\_ch1 & ⋯ & contact\\_city & contact\\_state & contact\\_zip/postal\\_code & contact\\_country & supplementary\\_file & supplementary\\_file.1 & data\\_row\\_count & cell line:ch1 & cell type:ch1 & RNAi:ch1\\\\\n",
       "  & <chr> & <chr> & <chr> & <chr> & <chr> & <chr> & <chr> & <chr> & <chr> & <chr> & ⋯ & <chr> & <chr> & <chr> & <chr> & <chr> & <chr> & <chr> & <chr> & <chr> & <chr>\\\\\n",
       "\\hline\n",
       "\tGSM7496815 & ShScramble\\_1 & GSM7496815 & Public on Mar 20 2024 & Jun 20 2023 & Mar 20 2024 & genomic & 1 & Control glioblastoma cells           & Homo sapiens & cell line: U87-EGFRvIII & ⋯ & Shinjuku & Tokyo & 162-8666 & Japan & ftp://ftp.ncbi.nlm.nih.gov/geo/samples/GSM7496nnn/GSM7496815/suppl/GSM7496815\\_204289510131\\_R05C01\\_Grn.idat.gz & ftp://ftp.ncbi.nlm.nih.gov/geo/samples/GSM7496nnn/GSM7496815/suppl/GSM7496815\\_204289510131\\_R05C01\\_Red.idat.gz & 865918 & U87-EGFRvIII & glioblastoma cell line & Scramble\\\\\n",
       "\tGSM7496816 & ShScramble\\_2 & GSM7496816 & Public on Mar 20 2024 & Jun 20 2023 & Mar 20 2024 & genomic & 1 & Control glioblastoma cells           & Homo sapiens & cell line: U87-EGFRvIII & ⋯ & Shinjuku & Tokyo & 162-8666 & Japan & ftp://ftp.ncbi.nlm.nih.gov/geo/samples/GSM7496nnn/GSM7496816/suppl/GSM7496816\\_204289510131\\_R06C01\\_Grn.idat.gz & ftp://ftp.ncbi.nlm.nih.gov/geo/samples/GSM7496nnn/GSM7496816/suppl/GSM7496816\\_204289510131\\_R06C01\\_Red.idat.gz & 865918 & U87-EGFRvIII & glioblastoma cell line & Scramble\\\\\n",
       "\tGSM7496817 & ShRictor\\_1   & GSM7496817 & Public on Mar 20 2024 & Jun 20 2023 & Mar 20 2024 & genomic & 1 & mTORC2-suppressed glioblastoma cells & Homo sapiens & cell line: U87-EGFRvIII & ⋯ & Shinjuku & Tokyo & 162-8666 & Japan & ftp://ftp.ncbi.nlm.nih.gov/geo/samples/GSM7496nnn/GSM7496817/suppl/GSM7496817\\_204289510131\\_R07C01\\_Grn.idat.gz & ftp://ftp.ncbi.nlm.nih.gov/geo/samples/GSM7496nnn/GSM7496817/suppl/GSM7496817\\_204289510131\\_R07C01\\_Red.idat.gz & 865918 & U87-EGFRvIII & glioblastoma cell line & Rictor  \\\\\n",
       "\tGSM7496818 & ShRictor\\_2   & GSM7496818 & Public on Mar 20 2024 & Jun 20 2023 & Mar 20 2024 & genomic & 1 & mTORC2-suppressed glioblastoma cells & Homo sapiens & cell line: U87-EGFRvIII & ⋯ & Shinjuku & Tokyo & 162-8666 & Japan & ftp://ftp.ncbi.nlm.nih.gov/geo/samples/GSM7496nnn/GSM7496818/suppl/GSM7496818\\_204289510131\\_R08C01\\_Grn.idat.gz & ftp://ftp.ncbi.nlm.nih.gov/geo/samples/GSM7496nnn/GSM7496818/suppl/GSM7496818\\_204289510131\\_R08C01\\_Red.idat.gz & 865918 & U87-EGFRvIII & glioblastoma cell line & Rictor  \\\\\n",
       "\\end{tabular}\n"
      ],
      "text/markdown": [
       "\n",
       "A data.frame: 4 × 38\n",
       "\n",
       "| <!--/--> | title &lt;chr&gt; | geo_accession &lt;chr&gt; | status &lt;chr&gt; | submission_date &lt;chr&gt; | last_update_date &lt;chr&gt; | type &lt;chr&gt; | channel_count &lt;chr&gt; | source_name_ch1 &lt;chr&gt; | organism_ch1 &lt;chr&gt; | characteristics_ch1 &lt;chr&gt; | ⋯ ⋯ | contact_city &lt;chr&gt; | contact_state &lt;chr&gt; | contact_zip/postal_code &lt;chr&gt; | contact_country &lt;chr&gt; | supplementary_file &lt;chr&gt; | supplementary_file.1 &lt;chr&gt; | data_row_count &lt;chr&gt; | cell line:ch1 &lt;chr&gt; | cell type:ch1 &lt;chr&gt; | RNAi:ch1 &lt;chr&gt; |\n",
       "|---|---|---|---|---|---|---|---|---|---|---|---|---|---|---|---|---|---|---|---|---|---|\n",
       "| GSM7496815 | ShScramble_1 | GSM7496815 | Public on Mar 20 2024 | Jun 20 2023 | Mar 20 2024 | genomic | 1 | Control glioblastoma cells           | Homo sapiens | cell line: U87-EGFRvIII | ⋯ | Shinjuku | Tokyo | 162-8666 | Japan | ftp://ftp.ncbi.nlm.nih.gov/geo/samples/GSM7496nnn/GSM7496815/suppl/GSM7496815_204289510131_R05C01_Grn.idat.gz | ftp://ftp.ncbi.nlm.nih.gov/geo/samples/GSM7496nnn/GSM7496815/suppl/GSM7496815_204289510131_R05C01_Red.idat.gz | 865918 | U87-EGFRvIII | glioblastoma cell line | Scramble |\n",
       "| GSM7496816 | ShScramble_2 | GSM7496816 | Public on Mar 20 2024 | Jun 20 2023 | Mar 20 2024 | genomic | 1 | Control glioblastoma cells           | Homo sapiens | cell line: U87-EGFRvIII | ⋯ | Shinjuku | Tokyo | 162-8666 | Japan | ftp://ftp.ncbi.nlm.nih.gov/geo/samples/GSM7496nnn/GSM7496816/suppl/GSM7496816_204289510131_R06C01_Grn.idat.gz | ftp://ftp.ncbi.nlm.nih.gov/geo/samples/GSM7496nnn/GSM7496816/suppl/GSM7496816_204289510131_R06C01_Red.idat.gz | 865918 | U87-EGFRvIII | glioblastoma cell line | Scramble |\n",
       "| GSM7496817 | ShRictor_1   | GSM7496817 | Public on Mar 20 2024 | Jun 20 2023 | Mar 20 2024 | genomic | 1 | mTORC2-suppressed glioblastoma cells | Homo sapiens | cell line: U87-EGFRvIII | ⋯ | Shinjuku | Tokyo | 162-8666 | Japan | ftp://ftp.ncbi.nlm.nih.gov/geo/samples/GSM7496nnn/GSM7496817/suppl/GSM7496817_204289510131_R07C01_Grn.idat.gz | ftp://ftp.ncbi.nlm.nih.gov/geo/samples/GSM7496nnn/GSM7496817/suppl/GSM7496817_204289510131_R07C01_Red.idat.gz | 865918 | U87-EGFRvIII | glioblastoma cell line | Rictor   |\n",
       "| GSM7496818 | ShRictor_2   | GSM7496818 | Public on Mar 20 2024 | Jun 20 2023 | Mar 20 2024 | genomic | 1 | mTORC2-suppressed glioblastoma cells | Homo sapiens | cell line: U87-EGFRvIII | ⋯ | Shinjuku | Tokyo | 162-8666 | Japan | ftp://ftp.ncbi.nlm.nih.gov/geo/samples/GSM7496nnn/GSM7496818/suppl/GSM7496818_204289510131_R08C01_Grn.idat.gz | ftp://ftp.ncbi.nlm.nih.gov/geo/samples/GSM7496nnn/GSM7496818/suppl/GSM7496818_204289510131_R08C01_Red.idat.gz | 865918 | U87-EGFRvIII | glioblastoma cell line | Rictor   |\n",
       "\n"
      ],
      "text/plain": [
       "           title        geo_accession status                submission_date\n",
       "GSM7496815 ShScramble_1 GSM7496815    Public on Mar 20 2024 Jun 20 2023    \n",
       "GSM7496816 ShScramble_2 GSM7496816    Public on Mar 20 2024 Jun 20 2023    \n",
       "GSM7496817 ShRictor_1   GSM7496817    Public on Mar 20 2024 Jun 20 2023    \n",
       "GSM7496818 ShRictor_2   GSM7496818    Public on Mar 20 2024 Jun 20 2023    \n",
       "           last_update_date type    channel_count\n",
       "GSM7496815 Mar 20 2024      genomic 1            \n",
       "GSM7496816 Mar 20 2024      genomic 1            \n",
       "GSM7496817 Mar 20 2024      genomic 1            \n",
       "GSM7496818 Mar 20 2024      genomic 1            \n",
       "           source_name_ch1                      organism_ch1\n",
       "GSM7496815 Control glioblastoma cells           Homo sapiens\n",
       "GSM7496816 Control glioblastoma cells           Homo sapiens\n",
       "GSM7496817 mTORC2-suppressed glioblastoma cells Homo sapiens\n",
       "GSM7496818 mTORC2-suppressed glioblastoma cells Homo sapiens\n",
       "           characteristics_ch1     ⋯ contact_city contact_state\n",
       "GSM7496815 cell line: U87-EGFRvIII ⋯ Shinjuku     Tokyo        \n",
       "GSM7496816 cell line: U87-EGFRvIII ⋯ Shinjuku     Tokyo        \n",
       "GSM7496817 cell line: U87-EGFRvIII ⋯ Shinjuku     Tokyo        \n",
       "GSM7496818 cell line: U87-EGFRvIII ⋯ Shinjuku     Tokyo        \n",
       "           contact_zip/postal_code contact_country\n",
       "GSM7496815 162-8666                Japan          \n",
       "GSM7496816 162-8666                Japan          \n",
       "GSM7496817 162-8666                Japan          \n",
       "GSM7496818 162-8666                Japan          \n",
       "           supplementary_file                                                                                           \n",
       "GSM7496815 ftp://ftp.ncbi.nlm.nih.gov/geo/samples/GSM7496nnn/GSM7496815/suppl/GSM7496815_204289510131_R05C01_Grn.idat.gz\n",
       "GSM7496816 ftp://ftp.ncbi.nlm.nih.gov/geo/samples/GSM7496nnn/GSM7496816/suppl/GSM7496816_204289510131_R06C01_Grn.idat.gz\n",
       "GSM7496817 ftp://ftp.ncbi.nlm.nih.gov/geo/samples/GSM7496nnn/GSM7496817/suppl/GSM7496817_204289510131_R07C01_Grn.idat.gz\n",
       "GSM7496818 ftp://ftp.ncbi.nlm.nih.gov/geo/samples/GSM7496nnn/GSM7496818/suppl/GSM7496818_204289510131_R08C01_Grn.idat.gz\n",
       "           supplementary_file.1                                                                                         \n",
       "GSM7496815 ftp://ftp.ncbi.nlm.nih.gov/geo/samples/GSM7496nnn/GSM7496815/suppl/GSM7496815_204289510131_R05C01_Red.idat.gz\n",
       "GSM7496816 ftp://ftp.ncbi.nlm.nih.gov/geo/samples/GSM7496nnn/GSM7496816/suppl/GSM7496816_204289510131_R06C01_Red.idat.gz\n",
       "GSM7496817 ftp://ftp.ncbi.nlm.nih.gov/geo/samples/GSM7496nnn/GSM7496817/suppl/GSM7496817_204289510131_R07C01_Red.idat.gz\n",
       "GSM7496818 ftp://ftp.ncbi.nlm.nih.gov/geo/samples/GSM7496nnn/GSM7496818/suppl/GSM7496818_204289510131_R08C01_Red.idat.gz\n",
       "           data_row_count cell line:ch1 cell type:ch1          RNAi:ch1\n",
       "GSM7496815 865918         U87-EGFRvIII  glioblastoma cell line Scramble\n",
       "GSM7496816 865918         U87-EGFRvIII  glioblastoma cell line Scramble\n",
       "GSM7496817 865918         U87-EGFRvIII  glioblastoma cell line Rictor  \n",
       "GSM7496818 865918         U87-EGFRvIII  glioblastoma cell line Rictor  "
      ]
     },
     "metadata": {},
     "output_type": "display_data"
    },
    {
     "data": {
      "text/html": [
       "<style>\n",
       ".list-inline {list-style: none; margin:0; padding: 0}\n",
       ".list-inline>li {display: inline-block}\n",
       ".list-inline>li:not(:last-child)::after {content: \"\\00b7\"; padding: 0 .5ex}\n",
       "</style>\n",
       "<ol class=list-inline><li>'title'</li><li>'geo_accession'</li><li>'status'</li><li>'submission_date'</li><li>'last_update_date'</li><li>'type'</li><li>'channel_count'</li><li>'source_name_ch1'</li><li>'organism_ch1'</li><li>'characteristics_ch1'</li><li>'characteristics_ch1.1'</li><li>'characteristics_ch1.2'</li><li>'treatment_protocol_ch1'</li><li>'growth_protocol_ch1'</li><li>'molecule_ch1'</li><li>'extract_protocol_ch1'</li><li>'label_ch1'</li><li>'label_protocol_ch1'</li><li>'taxid_ch1'</li><li>'hyb_protocol'</li><li>'scan_protocol'</li><li>'data_processing'</li><li>'platform_id'</li><li>'contact_name'</li><li>'contact_email'</li><li>'contact_department'</li><li>'contact_institute'</li><li>'contact_address'</li><li>'contact_city'</li><li>'contact_state'</li><li>'contact_zip/postal_code'</li><li>'contact_country'</li><li>'supplementary_file'</li><li>'supplementary_file.1'</li><li>'data_row_count'</li><li>'cell line:ch1'</li><li>'cell type:ch1'</li><li>'RNAi:ch1'</li></ol>\n"
      ],
      "text/latex": [
       "\\begin{enumerate*}\n",
       "\\item 'title'\n",
       "\\item 'geo\\_accession'\n",
       "\\item 'status'\n",
       "\\item 'submission\\_date'\n",
       "\\item 'last\\_update\\_date'\n",
       "\\item 'type'\n",
       "\\item 'channel\\_count'\n",
       "\\item 'source\\_name\\_ch1'\n",
       "\\item 'organism\\_ch1'\n",
       "\\item 'characteristics\\_ch1'\n",
       "\\item 'characteristics\\_ch1.1'\n",
       "\\item 'characteristics\\_ch1.2'\n",
       "\\item 'treatment\\_protocol\\_ch1'\n",
       "\\item 'growth\\_protocol\\_ch1'\n",
       "\\item 'molecule\\_ch1'\n",
       "\\item 'extract\\_protocol\\_ch1'\n",
       "\\item 'label\\_ch1'\n",
       "\\item 'label\\_protocol\\_ch1'\n",
       "\\item 'taxid\\_ch1'\n",
       "\\item 'hyb\\_protocol'\n",
       "\\item 'scan\\_protocol'\n",
       "\\item 'data\\_processing'\n",
       "\\item 'platform\\_id'\n",
       "\\item 'contact\\_name'\n",
       "\\item 'contact\\_email'\n",
       "\\item 'contact\\_department'\n",
       "\\item 'contact\\_institute'\n",
       "\\item 'contact\\_address'\n",
       "\\item 'contact\\_city'\n",
       "\\item 'contact\\_state'\n",
       "\\item 'contact\\_zip/postal\\_code'\n",
       "\\item 'contact\\_country'\n",
       "\\item 'supplementary\\_file'\n",
       "\\item 'supplementary\\_file.1'\n",
       "\\item 'data\\_row\\_count'\n",
       "\\item 'cell line:ch1'\n",
       "\\item 'cell type:ch1'\n",
       "\\item 'RNAi:ch1'\n",
       "\\end{enumerate*}\n"
      ],
      "text/markdown": [
       "1. 'title'\n",
       "2. 'geo_accession'\n",
       "3. 'status'\n",
       "4. 'submission_date'\n",
       "5. 'last_update_date'\n",
       "6. 'type'\n",
       "7. 'channel_count'\n",
       "8. 'source_name_ch1'\n",
       "9. 'organism_ch1'\n",
       "10. 'characteristics_ch1'\n",
       "11. 'characteristics_ch1.1'\n",
       "12. 'characteristics_ch1.2'\n",
       "13. 'treatment_protocol_ch1'\n",
       "14. 'growth_protocol_ch1'\n",
       "15. 'molecule_ch1'\n",
       "16. 'extract_protocol_ch1'\n",
       "17. 'label_ch1'\n",
       "18. 'label_protocol_ch1'\n",
       "19. 'taxid_ch1'\n",
       "20. 'hyb_protocol'\n",
       "21. 'scan_protocol'\n",
       "22. 'data_processing'\n",
       "23. 'platform_id'\n",
       "24. 'contact_name'\n",
       "25. 'contact_email'\n",
       "26. 'contact_department'\n",
       "27. 'contact_institute'\n",
       "28. 'contact_address'\n",
       "29. 'contact_city'\n",
       "30. 'contact_state'\n",
       "31. 'contact_zip/postal_code'\n",
       "32. 'contact_country'\n",
       "33. 'supplementary_file'\n",
       "34. 'supplementary_file.1'\n",
       "35. 'data_row_count'\n",
       "36. 'cell line:ch1'\n",
       "37. 'cell type:ch1'\n",
       "38. 'RNAi:ch1'\n",
       "\n",
       "\n"
      ],
      "text/plain": [
       " [1] \"title\"                   \"geo_accession\"          \n",
       " [3] \"status\"                  \"submission_date\"        \n",
       " [5] \"last_update_date\"        \"type\"                   \n",
       " [7] \"channel_count\"           \"source_name_ch1\"        \n",
       " [9] \"organism_ch1\"            \"characteristics_ch1\"    \n",
       "[11] \"characteristics_ch1.1\"   \"characteristics_ch1.2\"  \n",
       "[13] \"treatment_protocol_ch1\"  \"growth_protocol_ch1\"    \n",
       "[15] \"molecule_ch1\"            \"extract_protocol_ch1\"   \n",
       "[17] \"label_ch1\"               \"label_protocol_ch1\"     \n",
       "[19] \"taxid_ch1\"               \"hyb_protocol\"           \n",
       "[21] \"scan_protocol\"           \"data_processing\"        \n",
       "[23] \"platform_id\"             \"contact_name\"           \n",
       "[25] \"contact_email\"           \"contact_department\"     \n",
       "[27] \"contact_institute\"       \"contact_address\"        \n",
       "[29] \"contact_city\"            \"contact_state\"          \n",
       "[31] \"contact_zip/postal_code\" \"contact_country\"        \n",
       "[33] \"supplementary_file\"      \"supplementary_file.1\"   \n",
       "[35] \"data_row_count\"          \"cell line:ch1\"          \n",
       "[37] \"cell type:ch1\"           \"RNAi:ch1\"               "
      ]
     },
     "metadata": {},
     "output_type": "display_data"
    }
   ],
   "source": [
    "\n",
    "# Obtendo a tabela de fenótipos disponível no GEO (obter informações sobre sexo biológico)\n",
    "pheno.df <- pData(phenoData(gse[[1]]))\n",
    "\n",
    "head(pheno.df)\n",
    "colnames(pheno.df)\n",
    "#Armazenar a informação de sexo biológico para adicionar na phenotype sheet\n",
    "\n"
   ]
  },
  {
   "cell_type": "code",
   "execution_count": 124,
   "id": "3252ee25-b5aa-4f22-a2ff-95b8f6ec32f5",
   "metadata": {},
   "outputs": [],
   "source": [
    "options(timeout = max(300, getOption(\"timeout\")))\n",
    "options(download.file.method.GEOquery = \"wget\")\n",
    "filePaths<- getGEOSuppFiles(\"GSE235207\")"
   ]
  },
  {
   "cell_type": "code",
   "execution_count": 125,
   "id": "15630cdf-e6d7-4a8b-a798-2d37ed40747b",
   "metadata": {},
   "outputs": [
    {
     "data": {
      "text/html": [
       "<table class=\"dataframe\">\n",
       "<caption>A data.frame: 1 × 10</caption>\n",
       "<thead>\n",
       "\t<tr><th></th><th scope=col>size</th><th scope=col>isdir</th><th scope=col>mode</th><th scope=col>mtime</th><th scope=col>ctime</th><th scope=col>atime</th><th scope=col>uid</th><th scope=col>gid</th><th scope=col>uname</th><th scope=col>grname</th></tr>\n",
       "\t<tr><th></th><th scope=col>&lt;dbl&gt;</th><th scope=col>&lt;lgl&gt;</th><th scope=col>&lt;octmode&gt;</th><th scope=col>&lt;dttm&gt;</th><th scope=col>&lt;dttm&gt;</th><th scope=col>&lt;dttm&gt;</th><th scope=col>&lt;int&gt;</th><th scope=col>&lt;int&gt;</th><th scope=col>&lt;chr&gt;</th><th scope=col>&lt;chr&gt;</th></tr>\n",
       "</thead>\n",
       "<tbody>\n",
       "\t<tr><th scope=row>/home/iago/Documents/Epigenetica_curso_pipeline/Exercicios/EX3/GSE235207/GSE235207/GSE235207_RAW.tar</th><td>225832960</td><td>FALSE</td><td>664</td><td>2024-03-20 10:02:26</td><td>2024-06-22 11:29:05</td><td>2024-06-22 11:29:05</td><td>1000</td><td>1000</td><td>iago</td><td>iago</td></tr>\n",
       "</tbody>\n",
       "</table>\n"
      ],
      "text/latex": [
       "A data.frame: 1 × 10\n",
       "\\begin{tabular}{r|llllllllll}\n",
       "  & size & isdir & mode & mtime & ctime & atime & uid & gid & uname & grname\\\\\n",
       "  & <dbl> & <lgl> & <octmode> & <dttm> & <dttm> & <dttm> & <int> & <int> & <chr> & <chr>\\\\\n",
       "\\hline\n",
       "\t/home/iago/Documents/Epigenetica\\_curso\\_pipeline/Exercicios/EX3/GSE235207/GSE235207/GSE235207\\_RAW.tar & 225832960 & FALSE & 664 & 2024-03-20 10:02:26 & 2024-06-22 11:29:05 & 2024-06-22 11:29:05 & 1000 & 1000 & iago & iago\\\\\n",
       "\\end{tabular}\n"
      ],
      "text/markdown": [
       "\n",
       "A data.frame: 1 × 10\n",
       "\n",
       "| <!--/--> | size &lt;dbl&gt; | isdir &lt;lgl&gt; | mode &lt;octmode&gt; | mtime &lt;dttm&gt; | ctime &lt;dttm&gt; | atime &lt;dttm&gt; | uid &lt;int&gt; | gid &lt;int&gt; | uname &lt;chr&gt; | grname &lt;chr&gt; |\n",
       "|---|---|---|---|---|---|---|---|---|---|---|\n",
       "| /home/iago/Documents/Epigenetica_curso_pipeline/Exercicios/EX3/GSE235207/GSE235207/GSE235207_RAW.tar | 225832960 | FALSE | 664 | 2024-03-20 10:02:26 | 2024-06-22 11:29:05 | 2024-06-22 11:29:05 | 1000 | 1000 | iago | iago |\n",
       "\n"
      ],
      "text/plain": [
       "                                                                                                     size     \n",
       "/home/iago/Documents/Epigenetica_curso_pipeline/Exercicios/EX3/GSE235207/GSE235207/GSE235207_RAW.tar 225832960\n",
       "                                                                                                     isdir\n",
       "/home/iago/Documents/Epigenetica_curso_pipeline/Exercicios/EX3/GSE235207/GSE235207/GSE235207_RAW.tar FALSE\n",
       "                                                                                                     mode\n",
       "/home/iago/Documents/Epigenetica_curso_pipeline/Exercicios/EX3/GSE235207/GSE235207/GSE235207_RAW.tar 664 \n",
       "                                                                                                     mtime              \n",
       "/home/iago/Documents/Epigenetica_curso_pipeline/Exercicios/EX3/GSE235207/GSE235207/GSE235207_RAW.tar 2024-03-20 10:02:26\n",
       "                                                                                                     ctime              \n",
       "/home/iago/Documents/Epigenetica_curso_pipeline/Exercicios/EX3/GSE235207/GSE235207/GSE235207_RAW.tar 2024-06-22 11:29:05\n",
       "                                                                                                     atime              \n",
       "/home/iago/Documents/Epigenetica_curso_pipeline/Exercicios/EX3/GSE235207/GSE235207/GSE235207_RAW.tar 2024-06-22 11:29:05\n",
       "                                                                                                     uid \n",
       "/home/iago/Documents/Epigenetica_curso_pipeline/Exercicios/EX3/GSE235207/GSE235207/GSE235207_RAW.tar 1000\n",
       "                                                                                                     gid \n",
       "/home/iago/Documents/Epigenetica_curso_pipeline/Exercicios/EX3/GSE235207/GSE235207/GSE235207_RAW.tar 1000\n",
       "                                                                                                     uname\n",
       "/home/iago/Documents/Epigenetica_curso_pipeline/Exercicios/EX3/GSE235207/GSE235207/GSE235207_RAW.tar iago \n",
       "                                                                                                     grname\n",
       "/home/iago/Documents/Epigenetica_curso_pipeline/Exercicios/EX3/GSE235207/GSE235207/GSE235207_RAW.tar iago  "
      ]
     },
     "metadata": {},
     "output_type": "display_data"
    }
   ],
   "source": [
    "filePaths"
   ]
  },
  {
   "cell_type": "code",
   "execution_count": 126,
   "id": "905159bb-9be2-4470-bd02-9e5e1da18b67",
   "metadata": {},
   "outputs": [
    {
     "data": {
      "text/html": [
       "'/home/iago/Documents/Epigenetica_curso_pipeline/Exercicios/EX3/GSE235207'"
      ],
      "text/latex": [
       "'/home/iago/Documents/Epigenetica\\_curso\\_pipeline/Exercicios/EX3/GSE235207'"
      ],
      "text/markdown": [
       "'/home/iago/Documents/Epigenetica_curso_pipeline/Exercicios/EX3/GSE235207'"
      ],
      "text/plain": [
       "[1] \"/home/iago/Documents/Epigenetica_curso_pipeline/Exercicios/EX3/GSE235207\""
      ]
     },
     "metadata": {},
     "output_type": "display_data"
    }
   ],
   "source": [
    "getwd()"
   ]
  },
  {
   "cell_type": "code",
   "execution_count": 127,
   "id": "0e70b062-4e02-44db-9e61-f6cfa77fd4f6",
   "metadata": {},
   "outputs": [],
   "source": [
    "####################################\n",
    "# Descompactar arquivos \n",
    "####################################\n",
    "system(\"tar -xvf ./GSE235207/GSE235207_RAW.tar\")\n",
    "\n",
    "system(\"gunzip ./*idat.gz\")"
   ]
  },
  {
   "cell_type": "code",
   "execution_count": 148,
   "id": "bd08399f-8598-45aa-8f28-30d6f73dba0f",
   "metadata": {},
   "outputs": [
    {
     "data": {
      "text/html": [
       "<ol>\n",
       "\t<li>'GSM7496815_204289510131_R05C01_Grn.idat'</li>\n",
       "\t<li>'GSM7496815_204289510131_R05C01_Red.idat'</li>\n",
       "\t<li>'GSM7496816_204289510131_R06C01_Grn.idat'</li>\n",
       "\t<li>'GSM7496816_204289510131_R06C01_Red.idat'</li>\n",
       "\t<li>'GSM7496817_204289510131_R07C01_Grn.idat'</li>\n",
       "\t<li>'GSM7496817_204289510131_R07C01_Red.idat'</li>\n",
       "</ol>\n"
      ],
      "text/latex": [
       "\\begin{enumerate}\n",
       "\\item 'GSM7496815\\_204289510131\\_R05C01\\_Grn.idat'\n",
       "\\item 'GSM7496815\\_204289510131\\_R05C01\\_Red.idat'\n",
       "\\item 'GSM7496816\\_204289510131\\_R06C01\\_Grn.idat'\n",
       "\\item 'GSM7496816\\_204289510131\\_R06C01\\_Red.idat'\n",
       "\\item 'GSM7496817\\_204289510131\\_R07C01\\_Grn.idat'\n",
       "\\item 'GSM7496817\\_204289510131\\_R07C01\\_Red.idat'\n",
       "\\end{enumerate}\n"
      ],
      "text/markdown": [
       "1. 'GSM7496815_204289510131_R05C01_Grn.idat'\n",
       "2. 'GSM7496815_204289510131_R05C01_Red.idat'\n",
       "3. 'GSM7496816_204289510131_R06C01_Grn.idat'\n",
       "4. 'GSM7496816_204289510131_R06C01_Red.idat'\n",
       "5. 'GSM7496817_204289510131_R07C01_Grn.idat'\n",
       "6. 'GSM7496817_204289510131_R07C01_Red.idat'\n",
       "\n",
       "\n"
      ],
      "text/plain": [
       "[[1]]\n",
       "[1] \"GSM7496815_204289510131_R05C01_Grn.idat\"\n",
       "\n",
       "[[2]]\n",
       "[1] \"GSM7496815_204289510131_R05C01_Red.idat\"\n",
       "\n",
       "[[3]]\n",
       "[1] \"GSM7496816_204289510131_R06C01_Grn.idat\"\n",
       "\n",
       "[[4]]\n",
       "[1] \"GSM7496816_204289510131_R06C01_Red.idat\"\n",
       "\n",
       "[[5]]\n",
       "[1] \"GSM7496817_204289510131_R07C01_Grn.idat\"\n",
       "\n",
       "[[6]]\n",
       "[1] \"GSM7496817_204289510131_R07C01_Red.idat\"\n"
      ]
     },
     "metadata": {},
     "output_type": "display_data"
    }
   ],
   "source": [
    "####################################\n",
    "# criando sheet \n",
    "####################################\n",
    "\n",
    "\n",
    "idat_filelist <- list()\n",
    "\n",
    "for( file in list.files(getwd(), recursive = TRUE) ){\n",
    " if(endsWith(file, \".idat\")){\n",
    "     idat_filelist <- c(idat_filelist, file)\n",
    "     }\n",
    "}\n",
    "head(idat_filelist)"
   ]
  },
  {
   "cell_type": "code",
   "execution_count": 149,
   "id": "f85575ed-b533-409b-9abc-22575a3f547d",
   "metadata": {},
   "outputs": [],
   "source": [
    "#Create a matrix for the phenofile\n",
    "sheet = as.matrix(matrix(nrow = length(idat_filelist), ncol = 5))\n",
    "colnames(sheet) =c(\"GeoID\",\"SampleID\",\"Basename\",\"Sentrix_ID\",\"Sentrix_Position\")"
   ]
  },
  {
   "cell_type": "code",
   "execution_count": 150,
   "id": "93b9b9b4-ede8-4f62-9488-9ae0f6e6fbd5",
   "metadata": {},
   "outputs": [
    {
     "data": {
      "text/html": [
       "<table class=\"dataframe\">\n",
       "<caption>A matrix: 8 × 5 of type lgl</caption>\n",
       "<thead>\n",
       "\t<tr><th scope=col>GeoID</th><th scope=col>SampleID</th><th scope=col>Basename</th><th scope=col>Sentrix_ID</th><th scope=col>Sentrix_Position</th></tr>\n",
       "</thead>\n",
       "<tbody>\n",
       "\t<tr><td>NA</td><td>NA</td><td>NA</td><td>NA</td><td>NA</td></tr>\n",
       "\t<tr><td>NA</td><td>NA</td><td>NA</td><td>NA</td><td>NA</td></tr>\n",
       "\t<tr><td>NA</td><td>NA</td><td>NA</td><td>NA</td><td>NA</td></tr>\n",
       "\t<tr><td>NA</td><td>NA</td><td>NA</td><td>NA</td><td>NA</td></tr>\n",
       "\t<tr><td>NA</td><td>NA</td><td>NA</td><td>NA</td><td>NA</td></tr>\n",
       "\t<tr><td>NA</td><td>NA</td><td>NA</td><td>NA</td><td>NA</td></tr>\n",
       "\t<tr><td>NA</td><td>NA</td><td>NA</td><td>NA</td><td>NA</td></tr>\n",
       "\t<tr><td>NA</td><td>NA</td><td>NA</td><td>NA</td><td>NA</td></tr>\n",
       "</tbody>\n",
       "</table>\n"
      ],
      "text/latex": [
       "A matrix: 8 × 5 of type lgl\n",
       "\\begin{tabular}{lllll}\n",
       " GeoID & SampleID & Basename & Sentrix\\_ID & Sentrix\\_Position\\\\\n",
       "\\hline\n",
       "\t NA & NA & NA & NA & NA\\\\\n",
       "\t NA & NA & NA & NA & NA\\\\\n",
       "\t NA & NA & NA & NA & NA\\\\\n",
       "\t NA & NA & NA & NA & NA\\\\\n",
       "\t NA & NA & NA & NA & NA\\\\\n",
       "\t NA & NA & NA & NA & NA\\\\\n",
       "\t NA & NA & NA & NA & NA\\\\\n",
       "\t NA & NA & NA & NA & NA\\\\\n",
       "\\end{tabular}\n"
      ],
      "text/markdown": [
       "\n",
       "A matrix: 8 × 5 of type lgl\n",
       "\n",
       "| GeoID | SampleID | Basename | Sentrix_ID | Sentrix_Position |\n",
       "|---|---|---|---|---|\n",
       "| NA | NA | NA | NA | NA |\n",
       "| NA | NA | NA | NA | NA |\n",
       "| NA | NA | NA | NA | NA |\n",
       "| NA | NA | NA | NA | NA |\n",
       "| NA | NA | NA | NA | NA |\n",
       "| NA | NA | NA | NA | NA |\n",
       "| NA | NA | NA | NA | NA |\n",
       "| NA | NA | NA | NA | NA |\n",
       "\n"
      ],
      "text/plain": [
       "     GeoID SampleID Basename Sentrix_ID Sentrix_Position\n",
       "[1,] NA    NA       NA       NA         NA              \n",
       "[2,] NA    NA       NA       NA         NA              \n",
       "[3,] NA    NA       NA       NA         NA              \n",
       "[4,] NA    NA       NA       NA         NA              \n",
       "[5,] NA    NA       NA       NA         NA              \n",
       "[6,] NA    NA       NA       NA         NA              \n",
       "[7,] NA    NA       NA       NA         NA              \n",
       "[8,] NA    NA       NA       NA         NA              "
      ]
     },
     "metadata": {},
     "output_type": "display_data"
    }
   ],
   "source": [
    "sheet"
   ]
  },
  {
   "cell_type": "code",
   "execution_count": 151,
   "id": "25c4383c-8d42-4205-ae18-96456f90d562",
   "metadata": {},
   "outputs": [],
   "source": [
    "for (i in seq(1,length(idat_filelist))){\n",
    "    split_name=strsplit(idat_filelist[[i]], split='_', fixed=TRUE)\n",
    "\n",
    "    #GeoID\n",
    "    sheet[i,1] = split_name[[1]][1]\n",
    "    #SampleID\n",
    "    sheet[i,2]=paste(split_name[[1]][2],split_name[[1]][3],sep=\"_\")\n",
    "    #Basename\n",
    "    #   Obs: incluir o caminho de onde os arquivos idat estão salvos, nesse caso, é nosso working directory. \n",
    "    #        > getwd() \n",
    "    #        [1] \"/home/iago/Documents/Epigenetica_curso_pipeline/GEOdata\"\n",
    "    sheet[i,3]=paste(split_name[[1]][1],split_name[[1]][2],split_name[[1]][3],sep=\"_\")\n",
    "    #Sentrix_ID\n",
    "    sheet[i,4]=split_name[[1]][2]\n",
    "    #SentrixPosition\n",
    "    sheet[i,5]=split_name[[1]][3]\n",
    "    }\n",
    "\n",
    "#Sheet está duplicada, já que temos um idat para cada canal \n",
    "sheet = sheet[duplicated(sheet),]"
   ]
  },
  {
   "cell_type": "code",
   "execution_count": 152,
   "id": "acd99733-8e97-44e2-8e31-dfe728776224",
   "metadata": {},
   "outputs": [
    {
     "data": {
      "text/html": [
       "<table class=\"dataframe\">\n",
       "<caption>A matrix: 4 × 5 of type chr</caption>\n",
       "<thead>\n",
       "\t<tr><th scope=col>GeoID</th><th scope=col>SampleID</th><th scope=col>Basename</th><th scope=col>Sentrix_ID</th><th scope=col>Sentrix_Position</th></tr>\n",
       "</thead>\n",
       "<tbody>\n",
       "\t<tr><td>GSM7496815</td><td>204289510131_R05C01</td><td>GSM7496815_204289510131_R05C01</td><td>204289510131</td><td>R05C01</td></tr>\n",
       "\t<tr><td>GSM7496816</td><td>204289510131_R06C01</td><td>GSM7496816_204289510131_R06C01</td><td>204289510131</td><td>R06C01</td></tr>\n",
       "\t<tr><td>GSM7496817</td><td>204289510131_R07C01</td><td>GSM7496817_204289510131_R07C01</td><td>204289510131</td><td>R07C01</td></tr>\n",
       "\t<tr><td>GSM7496818</td><td>204289510131_R08C01</td><td>GSM7496818_204289510131_R08C01</td><td>204289510131</td><td>R08C01</td></tr>\n",
       "</tbody>\n",
       "</table>\n"
      ],
      "text/latex": [
       "A matrix: 4 × 5 of type chr\n",
       "\\begin{tabular}{lllll}\n",
       " GeoID & SampleID & Basename & Sentrix\\_ID & Sentrix\\_Position\\\\\n",
       "\\hline\n",
       "\t GSM7496815 & 204289510131\\_R05C01 & GSM7496815\\_204289510131\\_R05C01 & 204289510131 & R05C01\\\\\n",
       "\t GSM7496816 & 204289510131\\_R06C01 & GSM7496816\\_204289510131\\_R06C01 & 204289510131 & R06C01\\\\\n",
       "\t GSM7496817 & 204289510131\\_R07C01 & GSM7496817\\_204289510131\\_R07C01 & 204289510131 & R07C01\\\\\n",
       "\t GSM7496818 & 204289510131\\_R08C01 & GSM7496818\\_204289510131\\_R08C01 & 204289510131 & R08C01\\\\\n",
       "\\end{tabular}\n"
      ],
      "text/markdown": [
       "\n",
       "A matrix: 4 × 5 of type chr\n",
       "\n",
       "| GeoID | SampleID | Basename | Sentrix_ID | Sentrix_Position |\n",
       "|---|---|---|---|---|\n",
       "| GSM7496815 | 204289510131_R05C01 | GSM7496815_204289510131_R05C01 | 204289510131 | R05C01 |\n",
       "| GSM7496816 | 204289510131_R06C01 | GSM7496816_204289510131_R06C01 | 204289510131 | R06C01 |\n",
       "| GSM7496817 | 204289510131_R07C01 | GSM7496817_204289510131_R07C01 | 204289510131 | R07C01 |\n",
       "| GSM7496818 | 204289510131_R08C01 | GSM7496818_204289510131_R08C01 | 204289510131 | R08C01 |\n",
       "\n"
      ],
      "text/plain": [
       "     GeoID      SampleID            Basename                       Sentrix_ID  \n",
       "[1,] GSM7496815 204289510131_R05C01 GSM7496815_204289510131_R05C01 204289510131\n",
       "[2,] GSM7496816 204289510131_R06C01 GSM7496816_204289510131_R06C01 204289510131\n",
       "[3,] GSM7496817 204289510131_R07C01 GSM7496817_204289510131_R07C01 204289510131\n",
       "[4,] GSM7496818 204289510131_R08C01 GSM7496818_204289510131_R08C01 204289510131\n",
       "     Sentrix_Position\n",
       "[1,] R05C01          \n",
       "[2,] R06C01          \n",
       "[3,] R07C01          \n",
       "[4,] R08C01          "
      ]
     },
     "metadata": {},
     "output_type": "display_data"
    }
   ],
   "source": [
    "sheet"
   ]
  },
  {
   "cell_type": "code",
   "execution_count": 160,
   "id": "ef247dc7-5115-4792-b19d-74dadb6f2d91",
   "metadata": {},
   "outputs": [
    {
     "data": {
      "text/html": [
       "<table class=\"dataframe\">\n",
       "<caption>A data.frame: 4 × 6</caption>\n",
       "<thead>\n",
       "\t<tr><th scope=col>GeoID</th><th scope=col>SampleID</th><th scope=col>Basename</th><th scope=col>Sentrix_ID</th><th scope=col>Sentrix_Position</th><th scope=col>Sex</th></tr>\n",
       "\t<tr><th scope=col>&lt;chr&gt;</th><th scope=col>&lt;chr&gt;</th><th scope=col>&lt;chr&gt;</th><th scope=col>&lt;chr&gt;</th><th scope=col>&lt;chr&gt;</th><th scope=col>&lt;chr&gt;</th></tr>\n",
       "</thead>\n",
       "<tbody>\n",
       "\t<tr><td>GSM7496815</td><td>204289510131_R05C01</td><td>GSM7496815_204289510131_R05C01</td><td>204289510131</td><td>R05C01</td><td>M</td></tr>\n",
       "\t<tr><td>GSM7496816</td><td>204289510131_R06C01</td><td>GSM7496816_204289510131_R06C01</td><td>204289510131</td><td>R06C01</td><td>F</td></tr>\n",
       "\t<tr><td>GSM7496817</td><td>204289510131_R07C01</td><td>GSM7496817_204289510131_R07C01</td><td>204289510131</td><td>R07C01</td><td>F</td></tr>\n",
       "\t<tr><td>GSM7496818</td><td>204289510131_R08C01</td><td>GSM7496818_204289510131_R08C01</td><td>204289510131</td><td>R08C01</td><td>M</td></tr>\n",
       "</tbody>\n",
       "</table>\n"
      ],
      "text/latex": [
       "A data.frame: 4 × 6\n",
       "\\begin{tabular}{llllll}\n",
       " GeoID & SampleID & Basename & Sentrix\\_ID & Sentrix\\_Position & Sex\\\\\n",
       " <chr> & <chr> & <chr> & <chr> & <chr> & <chr>\\\\\n",
       "\\hline\n",
       "\t GSM7496815 & 204289510131\\_R05C01 & GSM7496815\\_204289510131\\_R05C01 & 204289510131 & R05C01 & M\\\\\n",
       "\t GSM7496816 & 204289510131\\_R06C01 & GSM7496816\\_204289510131\\_R06C01 & 204289510131 & R06C01 & F\\\\\n",
       "\t GSM7496817 & 204289510131\\_R07C01 & GSM7496817\\_204289510131\\_R07C01 & 204289510131 & R07C01 & F\\\\\n",
       "\t GSM7496818 & 204289510131\\_R08C01 & GSM7496818\\_204289510131\\_R08C01 & 204289510131 & R08C01 & M\\\\\n",
       "\\end{tabular}\n"
      ],
      "text/markdown": [
       "\n",
       "A data.frame: 4 × 6\n",
       "\n",
       "| GeoID &lt;chr&gt; | SampleID &lt;chr&gt; | Basename &lt;chr&gt; | Sentrix_ID &lt;chr&gt; | Sentrix_Position &lt;chr&gt; | Sex &lt;chr&gt; |\n",
       "|---|---|---|---|---|---|\n",
       "| GSM7496815 | 204289510131_R05C01 | GSM7496815_204289510131_R05C01 | 204289510131 | R05C01 | M |\n",
       "| GSM7496816 | 204289510131_R06C01 | GSM7496816_204289510131_R06C01 | 204289510131 | R06C01 | F |\n",
       "| GSM7496817 | 204289510131_R07C01 | GSM7496817_204289510131_R07C01 | 204289510131 | R07C01 | F |\n",
       "| GSM7496818 | 204289510131_R08C01 | GSM7496818_204289510131_R08C01 | 204289510131 | R08C01 | M |\n",
       "\n"
      ],
      "text/plain": [
       "  GeoID      SampleID            Basename                       Sentrix_ID  \n",
       "1 GSM7496815 204289510131_R05C01 GSM7496815_204289510131_R05C01 204289510131\n",
       "2 GSM7496816 204289510131_R06C01 GSM7496816_204289510131_R06C01 204289510131\n",
       "3 GSM7496817 204289510131_R07C01 GSM7496817_204289510131_R07C01 204289510131\n",
       "4 GSM7496818 204289510131_R08C01 GSM7496818_204289510131_R08C01 204289510131\n",
       "  Sentrix_Position Sex\n",
       "1 R05C01           M  \n",
       "2 R06C01           F  \n",
       "3 R07C01           F  \n",
       "4 R08C01           M  "
      ]
     },
     "metadata": {},
     "output_type": "display_data"
    }
   ],
   "source": [
    "#Esse conjunto de dados não possui informações de sexo, iremos inventar apenas para fins de exemplo\n",
    "sheet <- cbind(sheet, data.frame(\"Sex\" = c(\"M\", \"F\", \"F\", \"M\")))\n",
    "\n",
    "                       \n",
    "#OBS nesta planilha a coluna de informação sexo biológico já está formatada como M e F \n",
    "sheet"
   ]
  },
  {
   "cell_type": "code",
   "execution_count": 161,
   "id": "932f6707-5ae9-4cb9-954a-ef313be3bf62",
   "metadata": {},
   "outputs": [],
   "source": [
    "write.csv(sheet, file = \"./phenotype_file_GSE235207.csv\", quote=F, row.names= F)"
   ]
  },
  {
   "cell_type": "markdown",
   "id": "0abecfde-f23d-4ec7-9856-de45a8d787cf",
   "metadata": {},
   "source": [
    "***\n",
    "### Exercício 2\n",
    "Juntar phenofiles e .idat em 1 só lugar"
   ]
  },
  {
   "cell_type": "code",
   "execution_count": 1,
   "id": "8973a787-637d-4a4f-8f03-add1259bf214",
   "metadata": {
    "scrolled": true
   },
   "outputs": [
    {
     "name": "stderr",
     "output_type": "stream",
     "text": [
      "Loading required package: Biobase\n",
      "\n",
      "Loading required package: BiocGenerics\n",
      "\n",
      "Loading required package: parallel\n",
      "\n",
      "\n",
      "Attaching package: ‘BiocGenerics’\n",
      "\n",
      "\n",
      "The following objects are masked from ‘package:parallel’:\n",
      "\n",
      "    clusterApply, clusterApplyLB, clusterCall, clusterEvalQ,\n",
      "    clusterExport, clusterMap, parApply, parCapply, parLapply,\n",
      "    parLapplyLB, parRapply, parSapply, parSapplyLB\n",
      "\n",
      "\n",
      "The following objects are masked from ‘package:stats’:\n",
      "\n",
      "    IQR, mad, sd, var, xtabs\n",
      "\n",
      "\n",
      "The following objects are masked from ‘package:base’:\n",
      "\n",
      "    anyDuplicated, append, as.data.frame, basename, cbind, colnames,\n",
      "    dirname, do.call, duplicated, eval, evalq, Filter, Find, get, grep,\n",
      "    grepl, intersect, is.unsorted, lapply, Map, mapply, match, mget,\n",
      "    order, paste, pmax, pmax.int, pmin, pmin.int, Position, rank,\n",
      "    rbind, Reduce, rownames, sapply, setdiff, sort, table, tapply,\n",
      "    union, unique, unsplit, which.max, which.min\n",
      "\n",
      "\n",
      "Welcome to Bioconductor\n",
      "\n",
      "    Vignettes contain introductory material; view with\n",
      "    'browseVignettes()'. To cite Bioconductor, see\n",
      "    'citation(\"Biobase\")', and for packages 'citation(\"pkgname\")'.\n",
      "\n",
      "\n",
      "Setting options('download.file.method.GEOquery'='auto')\n",
      "\n",
      "Setting options('GEOquery.inmemory.gpl'=FALSE)\n",
      "\n"
     ]
    }
   ],
   "source": [
    "library(GEOquery)\n",
    "library(ewastools)\n",
    "setwd(\"/home/iago/Documents/Epigenetica_curso_pipeline/Exercicios/EX3/\")\n",
    "\n",
    "dataDirectory <- (\".\")"
   ]
  },
  {
   "cell_type": "code",
   "execution_count": 2,
   "id": "0650fa3a-6979-4147-a08f-d440d3f70473",
   "metadata": {},
   "outputs": [],
   "source": [
    "# Copiar os idats de ambos os lugares para a o pasta exercícios\n",
    "\n",
    "system(\"cp GSE*/*.idat ~/Documents/Epigenetica_curso_pipeline/Exercicios/EX3/\")\n",
    "sys"
   ]
  },
  {
   "cell_type": "code",
   "execution_count": 5,
   "id": "eca6f2ee-74fd-482f-a838-83ddfd6287f4",
   "metadata": {},
   "outputs": [
    {
     "data": {
      "text/html": [
       "<table class=\"dataframe\">\n",
       "<caption>A data.frame: 3 × 6</caption>\n",
       "<thead>\n",
       "\t<tr><th></th><th scope=col>GeoID</th><th scope=col>SampleID</th><th scope=col>Basename</th><th scope=col>Sentrix_ID</th><th scope=col>Sentrix_Position</th><th scope=col>Sex</th></tr>\n",
       "\t<tr><th></th><th scope=col>&lt;chr&gt;</th><th scope=col>&lt;chr&gt;</th><th scope=col>&lt;chr&gt;</th><th scope=col>&lt;dbl&gt;</th><th scope=col>&lt;chr&gt;</th><th scope=col>&lt;chr&gt;</th></tr>\n",
       "</thead>\n",
       "<tbody>\n",
       "\t<tr><th scope=row>1</th><td>GSM5742874</td><td>202702240141_R05C01</td><td>GSM5742874_202702240141_R05C01</td><td>202702240141</td><td>R05C01</td><td>undef</td></tr>\n",
       "\t<tr><th scope=row>2</th><td>GSM5742875</td><td>202702240141_R06C01</td><td>GSM5742875_202702240141_R06C01</td><td>202702240141</td><td>R06C01</td><td>F    </td></tr>\n",
       "\t<tr><th scope=row>3</th><td>GSM5742876</td><td>202702240141_R08C01</td><td>GSM5742876_202702240141_R08C01</td><td>202702240141</td><td>R08C01</td><td>M    </td></tr>\n",
       "</tbody>\n",
       "</table>\n"
      ],
      "text/latex": [
       "A data.frame: 3 × 6\n",
       "\\begin{tabular}{r|llllll}\n",
       "  & GeoID & SampleID & Basename & Sentrix\\_ID & Sentrix\\_Position & Sex\\\\\n",
       "  & <chr> & <chr> & <chr> & <dbl> & <chr> & <chr>\\\\\n",
       "\\hline\n",
       "\t1 & GSM5742874 & 202702240141\\_R05C01 & GSM5742874\\_202702240141\\_R05C01 & 202702240141 & R05C01 & undef\\\\\n",
       "\t2 & GSM5742875 & 202702240141\\_R06C01 & GSM5742875\\_202702240141\\_R06C01 & 202702240141 & R06C01 & F    \\\\\n",
       "\t3 & GSM5742876 & 202702240141\\_R08C01 & GSM5742876\\_202702240141\\_R08C01 & 202702240141 & R08C01 & M    \\\\\n",
       "\\end{tabular}\n"
      ],
      "text/markdown": [
       "\n",
       "A data.frame: 3 × 6\n",
       "\n",
       "| <!--/--> | GeoID &lt;chr&gt; | SampleID &lt;chr&gt; | Basename &lt;chr&gt; | Sentrix_ID &lt;dbl&gt; | Sentrix_Position &lt;chr&gt; | Sex &lt;chr&gt; |\n",
       "|---|---|---|---|---|---|---|\n",
       "| 1 | GSM5742874 | 202702240141_R05C01 | GSM5742874_202702240141_R05C01 | 202702240141 | R05C01 | undef |\n",
       "| 2 | GSM5742875 | 202702240141_R06C01 | GSM5742875_202702240141_R06C01 | 202702240141 | R06C01 | F     |\n",
       "| 3 | GSM5742876 | 202702240141_R08C01 | GSM5742876_202702240141_R08C01 | 202702240141 | R08C01 | M     |\n",
       "\n"
      ],
      "text/plain": [
       "  GeoID      SampleID            Basename                       Sentrix_ID  \n",
       "1 GSM5742874 202702240141_R05C01 GSM5742874_202702240141_R05C01 202702240141\n",
       "2 GSM5742875 202702240141_R06C01 GSM5742875_202702240141_R06C01 202702240141\n",
       "3 GSM5742876 202702240141_R08C01 GSM5742876_202702240141_R08C01 202702240141\n",
       "  Sentrix_Position Sex  \n",
       "1 R05C01           undef\n",
       "2 R06C01           F    \n",
       "3 R08C01           M    "
      ]
     },
     "metadata": {},
     "output_type": "display_data"
    },
    {
     "data": {
      "text/html": [
       "<table class=\"dataframe\">\n",
       "<caption>A data.frame: 3 × 6</caption>\n",
       "<thead>\n",
       "\t<tr><th></th><th scope=col>GeoID</th><th scope=col>SampleID</th><th scope=col>Basename</th><th scope=col>Sentrix_ID</th><th scope=col>Sentrix_Position</th><th scope=col>Sex</th></tr>\n",
       "\t<tr><th></th><th scope=col>&lt;chr&gt;</th><th scope=col>&lt;chr&gt;</th><th scope=col>&lt;chr&gt;</th><th scope=col>&lt;dbl&gt;</th><th scope=col>&lt;chr&gt;</th><th scope=col>&lt;chr&gt;</th></tr>\n",
       "</thead>\n",
       "<tbody>\n",
       "\t<tr><th scope=row>1</th><td>GSM7496815</td><td>204289510131_R05C01</td><td>GSM7496815_204289510131_R05C01</td><td>204289510131</td><td>R05C01</td><td>M</td></tr>\n",
       "\t<tr><th scope=row>2</th><td>GSM7496816</td><td>204289510131_R06C01</td><td>GSM7496816_204289510131_R06C01</td><td>204289510131</td><td>R06C01</td><td>F</td></tr>\n",
       "\t<tr><th scope=row>3</th><td>GSM7496817</td><td>204289510131_R07C01</td><td>GSM7496817_204289510131_R07C01</td><td>204289510131</td><td>R07C01</td><td>F</td></tr>\n",
       "</tbody>\n",
       "</table>\n"
      ],
      "text/latex": [
       "A data.frame: 3 × 6\n",
       "\\begin{tabular}{r|llllll}\n",
       "  & GeoID & SampleID & Basename & Sentrix\\_ID & Sentrix\\_Position & Sex\\\\\n",
       "  & <chr> & <chr> & <chr> & <dbl> & <chr> & <chr>\\\\\n",
       "\\hline\n",
       "\t1 & GSM7496815 & 204289510131\\_R05C01 & GSM7496815\\_204289510131\\_R05C01 & 204289510131 & R05C01 & M\\\\\n",
       "\t2 & GSM7496816 & 204289510131\\_R06C01 & GSM7496816\\_204289510131\\_R06C01 & 204289510131 & R06C01 & F\\\\\n",
       "\t3 & GSM7496817 & 204289510131\\_R07C01 & GSM7496817\\_204289510131\\_R07C01 & 204289510131 & R07C01 & F\\\\\n",
       "\\end{tabular}\n"
      ],
      "text/markdown": [
       "\n",
       "A data.frame: 3 × 6\n",
       "\n",
       "| <!--/--> | GeoID &lt;chr&gt; | SampleID &lt;chr&gt; | Basename &lt;chr&gt; | Sentrix_ID &lt;dbl&gt; | Sentrix_Position &lt;chr&gt; | Sex &lt;chr&gt; |\n",
       "|---|---|---|---|---|---|---|\n",
       "| 1 | GSM7496815 | 204289510131_R05C01 | GSM7496815_204289510131_R05C01 | 204289510131 | R05C01 | M |\n",
       "| 2 | GSM7496816 | 204289510131_R06C01 | GSM7496816_204289510131_R06C01 | 204289510131 | R06C01 | F |\n",
       "| 3 | GSM7496817 | 204289510131_R07C01 | GSM7496817_204289510131_R07C01 | 204289510131 | R07C01 | F |\n",
       "\n"
      ],
      "text/plain": [
       "  GeoID      SampleID            Basename                       Sentrix_ID  \n",
       "1 GSM7496815 204289510131_R05C01 GSM7496815_204289510131_R05C01 204289510131\n",
       "2 GSM7496816 204289510131_R06C01 GSM7496816_204289510131_R06C01 204289510131\n",
       "3 GSM7496817 204289510131_R07C01 GSM7496817_204289510131_R07C01 204289510131\n",
       "  Sentrix_Position Sex\n",
       "1 R05C01           M  \n",
       "2 R06C01           F  \n",
       "3 R07C01           F  "
      ]
     },
     "metadata": {},
     "output_type": "display_data"
    }
   ],
   "source": [
    "# Carregar as duas tabelas de fenótipos e agrupar \n",
    "sheet1 <- read.csv(\"GSE191276/phenotype_file_GSE191276.csv\")\n",
    "sheet1[1:3,]\n",
    "sheet2 <- read.csv(\"GSE235207/phenotype_file_GSE235207.csv\")\n",
    "sheet2[1:3,]\n"
   ]
  },
  {
   "cell_type": "code",
   "execution_count": 9,
   "id": "29598a85-8048-4c92-9ba0-62d03022a44d",
   "metadata": {},
   "outputs": [
    {
     "data": {
      "text/html": [
       "<table class=\"dataframe\">\n",
       "<caption>A data.frame: 11 × 6</caption>\n",
       "<thead>\n",
       "\t<tr><th scope=col>GeoID</th><th scope=col>SampleID</th><th scope=col>Basename</th><th scope=col>Sentrix_ID</th><th scope=col>Sentrix_Position</th><th scope=col>Sex</th></tr>\n",
       "\t<tr><th scope=col>&lt;chr&gt;</th><th scope=col>&lt;chr&gt;</th><th scope=col>&lt;chr&gt;</th><th scope=col>&lt;dbl&gt;</th><th scope=col>&lt;chr&gt;</th><th scope=col>&lt;chr&gt;</th></tr>\n",
       "</thead>\n",
       "<tbody>\n",
       "\t<tr><td>GSM5742874</td><td>202702240141_R05C01</td><td>GSM5742874_202702240141_R05C01</td><td>202702240141</td><td>R05C01</td><td>undef</td></tr>\n",
       "\t<tr><td>GSM5742875</td><td>202702240141_R06C01</td><td>GSM5742875_202702240141_R06C01</td><td>202702240141</td><td>R06C01</td><td>F    </td></tr>\n",
       "\t<tr><td>GSM5742876</td><td>202702240141_R08C01</td><td>GSM5742876_202702240141_R08C01</td><td>202702240141</td><td>R08C01</td><td>M    </td></tr>\n",
       "\t<tr><td>GSM5742877</td><td>204088150175_R01C01</td><td>GSM5742877_204088150175_R01C01</td><td>204088150175</td><td>R01C01</td><td>M    </td></tr>\n",
       "\t<tr><td>GSM5742878</td><td>204088150175_R02C01</td><td>GSM5742878_204088150175_R02C01</td><td>204088150175</td><td>R02C01</td><td>F    </td></tr>\n",
       "\t<tr><td>GSM5742879</td><td>204088150175_R03C01</td><td>GSM5742879_204088150175_R03C01</td><td>204088150175</td><td>R03C01</td><td>M    </td></tr>\n",
       "\t<tr><td>GSM5742880</td><td>204088150175_R04C01</td><td>GSM5742880_204088150175_R04C01</td><td>204088150175</td><td>R04C01</td><td>M    </td></tr>\n",
       "\t<tr><td>GSM7496815</td><td>204289510131_R05C01</td><td>GSM7496815_204289510131_R05C01</td><td>204289510131</td><td>R05C01</td><td>M    </td></tr>\n",
       "\t<tr><td>GSM7496816</td><td>204289510131_R06C01</td><td>GSM7496816_204289510131_R06C01</td><td>204289510131</td><td>R06C01</td><td>F    </td></tr>\n",
       "\t<tr><td>GSM7496817</td><td>204289510131_R07C01</td><td>GSM7496817_204289510131_R07C01</td><td>204289510131</td><td>R07C01</td><td>F    </td></tr>\n",
       "\t<tr><td>GSM7496818</td><td>204289510131_R08C01</td><td>GSM7496818_204289510131_R08C01</td><td>204289510131</td><td>R08C01</td><td>M    </td></tr>\n",
       "</tbody>\n",
       "</table>\n"
      ],
      "text/latex": [
       "A data.frame: 11 × 6\n",
       "\\begin{tabular}{llllll}\n",
       " GeoID & SampleID & Basename & Sentrix\\_ID & Sentrix\\_Position & Sex\\\\\n",
       " <chr> & <chr> & <chr> & <dbl> & <chr> & <chr>\\\\\n",
       "\\hline\n",
       "\t GSM5742874 & 202702240141\\_R05C01 & GSM5742874\\_202702240141\\_R05C01 & 202702240141 & R05C01 & undef\\\\\n",
       "\t GSM5742875 & 202702240141\\_R06C01 & GSM5742875\\_202702240141\\_R06C01 & 202702240141 & R06C01 & F    \\\\\n",
       "\t GSM5742876 & 202702240141\\_R08C01 & GSM5742876\\_202702240141\\_R08C01 & 202702240141 & R08C01 & M    \\\\\n",
       "\t GSM5742877 & 204088150175\\_R01C01 & GSM5742877\\_204088150175\\_R01C01 & 204088150175 & R01C01 & M    \\\\\n",
       "\t GSM5742878 & 204088150175\\_R02C01 & GSM5742878\\_204088150175\\_R02C01 & 204088150175 & R02C01 & F    \\\\\n",
       "\t GSM5742879 & 204088150175\\_R03C01 & GSM5742879\\_204088150175\\_R03C01 & 204088150175 & R03C01 & M    \\\\\n",
       "\t GSM5742880 & 204088150175\\_R04C01 & GSM5742880\\_204088150175\\_R04C01 & 204088150175 & R04C01 & M    \\\\\n",
       "\t GSM7496815 & 204289510131\\_R05C01 & GSM7496815\\_204289510131\\_R05C01 & 204289510131 & R05C01 & M    \\\\\n",
       "\t GSM7496816 & 204289510131\\_R06C01 & GSM7496816\\_204289510131\\_R06C01 & 204289510131 & R06C01 & F    \\\\\n",
       "\t GSM7496817 & 204289510131\\_R07C01 & GSM7496817\\_204289510131\\_R07C01 & 204289510131 & R07C01 & F    \\\\\n",
       "\t GSM7496818 & 204289510131\\_R08C01 & GSM7496818\\_204289510131\\_R08C01 & 204289510131 & R08C01 & M    \\\\\n",
       "\\end{tabular}\n"
      ],
      "text/markdown": [
       "\n",
       "A data.frame: 11 × 6\n",
       "\n",
       "| GeoID &lt;chr&gt; | SampleID &lt;chr&gt; | Basename &lt;chr&gt; | Sentrix_ID &lt;dbl&gt; | Sentrix_Position &lt;chr&gt; | Sex &lt;chr&gt; |\n",
       "|---|---|---|---|---|---|\n",
       "| GSM5742874 | 202702240141_R05C01 | GSM5742874_202702240141_R05C01 | 202702240141 | R05C01 | undef |\n",
       "| GSM5742875 | 202702240141_R06C01 | GSM5742875_202702240141_R06C01 | 202702240141 | R06C01 | F     |\n",
       "| GSM5742876 | 202702240141_R08C01 | GSM5742876_202702240141_R08C01 | 202702240141 | R08C01 | M     |\n",
       "| GSM5742877 | 204088150175_R01C01 | GSM5742877_204088150175_R01C01 | 204088150175 | R01C01 | M     |\n",
       "| GSM5742878 | 204088150175_R02C01 | GSM5742878_204088150175_R02C01 | 204088150175 | R02C01 | F     |\n",
       "| GSM5742879 | 204088150175_R03C01 | GSM5742879_204088150175_R03C01 | 204088150175 | R03C01 | M     |\n",
       "| GSM5742880 | 204088150175_R04C01 | GSM5742880_204088150175_R04C01 | 204088150175 | R04C01 | M     |\n",
       "| GSM7496815 | 204289510131_R05C01 | GSM7496815_204289510131_R05C01 | 204289510131 | R05C01 | M     |\n",
       "| GSM7496816 | 204289510131_R06C01 | GSM7496816_204289510131_R06C01 | 204289510131 | R06C01 | F     |\n",
       "| GSM7496817 | 204289510131_R07C01 | GSM7496817_204289510131_R07C01 | 204289510131 | R07C01 | F     |\n",
       "| GSM7496818 | 204289510131_R08C01 | GSM7496818_204289510131_R08C01 | 204289510131 | R08C01 | M     |\n",
       "\n"
      ],
      "text/plain": [
       "   GeoID      SampleID            Basename                       Sentrix_ID  \n",
       "1  GSM5742874 202702240141_R05C01 GSM5742874_202702240141_R05C01 202702240141\n",
       "2  GSM5742875 202702240141_R06C01 GSM5742875_202702240141_R06C01 202702240141\n",
       "3  GSM5742876 202702240141_R08C01 GSM5742876_202702240141_R08C01 202702240141\n",
       "4  GSM5742877 204088150175_R01C01 GSM5742877_204088150175_R01C01 204088150175\n",
       "5  GSM5742878 204088150175_R02C01 GSM5742878_204088150175_R02C01 204088150175\n",
       "6  GSM5742879 204088150175_R03C01 GSM5742879_204088150175_R03C01 204088150175\n",
       "7  GSM5742880 204088150175_R04C01 GSM5742880_204088150175_R04C01 204088150175\n",
       "8  GSM7496815 204289510131_R05C01 GSM7496815_204289510131_R05C01 204289510131\n",
       "9  GSM7496816 204289510131_R06C01 GSM7496816_204289510131_R06C01 204289510131\n",
       "10 GSM7496817 204289510131_R07C01 GSM7496817_204289510131_R07C01 204289510131\n",
       "11 GSM7496818 204289510131_R08C01 GSM7496818_204289510131_R08C01 204289510131\n",
       "   Sentrix_Position Sex  \n",
       "1  R05C01           undef\n",
       "2  R06C01           F    \n",
       "3  R08C01           M    \n",
       "4  R01C01           M    \n",
       "5  R02C01           F    \n",
       "6  R03C01           M    \n",
       "7  R04C01           M    \n",
       "8  R05C01           M    \n",
       "9  R06C01           F    \n",
       "10 R07C01           F    \n",
       "11 R08C01           M    "
      ]
     },
     "metadata": {},
     "output_type": "display_data"
    },
    {
     "data": {
      "text/html": [
       "<style>\n",
       ".list-inline {list-style: none; margin:0; padding: 0}\n",
       ".list-inline>li {display: inline-block}\n",
       ".list-inline>li:not(:last-child)::after {content: \"\\00b7\"; padding: 0 .5ex}\n",
       "</style>\n",
       "<ol class=list-inline><li>11</li><li>6</li></ol>\n"
      ],
      "text/latex": [
       "\\begin{enumerate*}\n",
       "\\item 11\n",
       "\\item 6\n",
       "\\end{enumerate*}\n"
      ],
      "text/markdown": [
       "1. 11\n",
       "2. 6\n",
       "\n",
       "\n"
      ],
      "text/plain": [
       "[1] 11  6"
      ]
     },
     "metadata": {},
     "output_type": "display_data"
    }
   ],
   "source": [
    "# Usaremos rbind para agrupar as duas sheet\n",
    "\n",
    "sheet <- rbind(sheet1,sheet2)\n",
    "sheet\n",
    "\n",
    "dim(sheet)"
   ]
  },
  {
   "cell_type": "code",
   "execution_count": 10,
   "id": "a763315f-cf59-4483-af11-2d7dd030e1c2",
   "metadata": {},
   "outputs": [],
   "source": [
    "write.csv(sheet,\"phenotype_file_ex3.csv\", row.names=F)"
   ]
  },
  {
   "cell_type": "code",
   "execution_count": null,
   "id": "deae7a0f-5a05-4450-9434-b3416e083142",
   "metadata": {},
   "outputs": [],
   "source": []
  }
 ],
 "metadata": {
  "kernelspec": {
   "display_name": "R [conda env:EWAS_env] *",
   "language": "R",
   "name": "conda-env-EWAS_env-r"
  },
  "language_info": {
   "codemirror_mode": "r",
   "file_extension": ".r",
   "mimetype": "text/x-r-source",
   "name": "R",
   "pygments_lexer": "r",
   "version": "4.1.3"
  }
 },
 "nbformat": 4,
 "nbformat_minor": 5
}
