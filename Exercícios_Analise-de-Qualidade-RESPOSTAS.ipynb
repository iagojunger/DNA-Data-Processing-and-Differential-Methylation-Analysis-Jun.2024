{
 "cells": [
  {
   "cell_type": "markdown",
   "id": "b1ee00a8-afcf-4e32-b9f8-fd27cb324b6e",
   "metadata": {},
   "source": [
    "***\n",
    "Respostas"
   ]
  },
  {
   "cell_type": "markdown",
   "id": "f9679fbc-3be9-436b-a9d6-2d2e9024e7e7",
   "metadata": {},
   "source": [
    "## 1. a)\n",
    "\n",
    "\n",
    "### Carregar dados do GEO"
   ]
  },
  {
   "cell_type": "code",
   "execution_count": null,
   "id": "acb39380-34cb-4d70-94a5-bfea203532c5",
   "metadata": {},
   "outputs": [],
   "source": [
    "rm(list=ls())"
   ]
  },
  {
   "cell_type": "code",
   "execution_count": 12,
   "id": "e014767e-24b5-4382-8203-308091c0a346",
   "metadata": {
    "scrolled": true
   },
   "outputs": [],
   "source": [
    "library(GEOquery)\n",
    "library(ewastools)\n",
    "system(\"mkdir -p /home/iago/Documents/Epigenetica_curso_pipeline/Exercicios/EX3/GSE191276\")\n",
    "setwd(\"/home/iago/Documents/Epigenetica_curso_pipeline/Exercicios/EX3/GSE191276\")\n",
    "\n",
    "date=\"June4th2024\"\n",
    "dataDirectory <- (\".\")"
   ]
  },
  {
   "cell_type": "markdown",
   "id": "272ad039-9a9e-4a0d-80f9-a80419ab6eee",
   "metadata": {},
   "source": [
    "### Primeiro - GSE191276"
   ]
  },
  {
   "cell_type": "code",
   "execution_count": 13,
   "id": "26fceb67-8278-45a8-a88e-2ca4f5d4bf22",
   "metadata": {
    "scrolled": true
   },
   "outputs": [
    {
     "name": "stderr",
     "output_type": "stream",
     "text": [
      "Found 1 file(s)\n",
      "\n",
      "GSE191276_series_matrix.txt.gz\n",
      "\n",
      "\u001b[1mRows: \u001b[22m\u001b[34m776062\u001b[39m \u001b[1mColumns: \u001b[22m\u001b[34m8\u001b[39m\n",
      "\u001b[36m──\u001b[39m \u001b[1mColumn specification\u001b[22m \u001b[36m────────────────────────────────────────────────────────\u001b[39m\n",
      "\u001b[1mDelimiter:\u001b[22m \"\\t\"\n",
      "\u001b[31mchr\u001b[39m (1): ID_REF\n",
      "\u001b[32mdbl\u001b[39m (7): GSM5742874, GSM5742875, GSM5742876, GSM5742877, GSM5742878, GSM5742...\n",
      "\n",
      "\u001b[36mℹ\u001b[39m Use `spec()` to retrieve the full column specification for this data.\n",
      "\u001b[36mℹ\u001b[39m Specify the column types or set `show_col_types = FALSE` to quiet this message.\n",
      "File stored at: \n",
      "\n",
      "/tmp/Rtmp4CQIgh/GPL23976.soft\n",
      "\n"
     ]
    },
    {
     "name": "stdout",
     "output_type": "stream",
     "text": [
      "$GSE191276_series_matrix.txt.gz\n",
      "ExpressionSet (storageMode: lockedEnvironment)\n",
      "assayData: 776062 features, 7 samples \n",
      "  element names: exprs \n",
      "protocolData: none\n",
      "phenoData\n",
      "  sampleNames: GSM5742874 GSM5742875 ... GSM5742880 (7 total)\n",
      "  varLabels: title geo_accession ... Sex:ch1 (39 total)\n",
      "  varMetadata: labelDescription\n",
      "featureData\n",
      "  featureNames: cg00000029 cg00000109 ... ch.9.991104F (776062 total)\n",
      "  fvarLabels: ID SPOT_ID\n",
      "  fvarMetadata: Column Description labelDescription\n",
      "experimentData: use 'experimentData(object)'\n",
      "  pubMedIds: 35094088 \n",
      "Annotation: GPL23976 \n",
      "\n"
     ]
    }
   ],
   "source": [
    "gse <- getGEO(\"GSE191276\", GSEMatrix = TRUE)\n",
    "show(gse)\n"
   ]
  },
  {
   "cell_type": "code",
   "execution_count": 18,
   "id": "da4183b2-e028-413a-a8a4-823a0abd04db",
   "metadata": {},
   "outputs": [
    {
     "data": {
      "text/html": [
       "<table class=\"dataframe\">\n",
       "<caption>A data.frame: 6 × 39</caption>\n",
       "<thead>\n",
       "\t<tr><th></th><th scope=col>title</th><th scope=col>geo_accession</th><th scope=col>status</th><th scope=col>submission_date</th><th scope=col>last_update_date</th><th scope=col>type</th><th scope=col>channel_count</th><th scope=col>source_name_ch1</th><th scope=col>organism_ch1</th><th scope=col>characteristics_ch1</th><th scope=col>⋯</th><th scope=col>contact_zip/postal_code</th><th scope=col>contact_country</th><th scope=col>supplementary_file</th><th scope=col>supplementary_file.1</th><th scope=col>data_row_count</th><th scope=col>age (years):ch1</th><th scope=col>case control status:ch1</th><th scope=col>participant type:ch1</th><th scope=col>self-declared ancestry:ch1</th><th scope=col>Sex:ch1</th></tr>\n",
       "\t<tr><th></th><th scope=col>&lt;chr&gt;</th><th scope=col>&lt;chr&gt;</th><th scope=col>&lt;chr&gt;</th><th scope=col>&lt;chr&gt;</th><th scope=col>&lt;chr&gt;</th><th scope=col>&lt;chr&gt;</th><th scope=col>&lt;chr&gt;</th><th scope=col>&lt;chr&gt;</th><th scope=col>&lt;chr&gt;</th><th scope=col>&lt;chr&gt;</th><th scope=col>⋯</th><th scope=col>&lt;chr&gt;</th><th scope=col>&lt;chr&gt;</th><th scope=col>&lt;chr&gt;</th><th scope=col>&lt;chr&gt;</th><th scope=col>&lt;chr&gt;</th><th scope=col>&lt;chr&gt;</th><th scope=col>&lt;chr&gt;</th><th scope=col>&lt;chr&gt;</th><th scope=col>&lt;chr&gt;</th><th scope=col>&lt;chr&gt;</th></tr>\n",
       "</thead>\n",
       "<tbody>\n",
       "\t<tr><th scope=row>GSM5742874</th><td>pooled_PC</td><td>GSM5742874</td><td>Public on Mar 01 2022</td><td>Dec 20 2021</td><td>Mar 02 2022</td><td>genomic</td><td>1</td><td>Whole blood</td><td>Homo sapiens</td><td>case control status: Pooled controls</td><td>⋯</td><td>M20 4BX</td><td>United Kingdom</td><td>ftp://ftp.ncbi.nlm.nih.gov/geo/samples/GSM5742nnn/GSM5742874/suppl/GSM5742874_202702240141_R05C01_Grn.idat.gz</td><td>ftp://ftp.ncbi.nlm.nih.gov/geo/samples/GSM5742nnn/GSM5742874/suppl/GSM5742874_202702240141_R05C01_Red.idat.gz</td><td>776062</td><td>NA  </td><td>Pooled controls</td><td>Pooled parent controls   </td><td>NA                             </td><td>NA</td></tr>\n",
       "\t<tr><th scope=row>GSM5742875</th><td>5767-P   </td><td>GSM5742875</td><td>Public on Mar 01 2022</td><td>Dec 20 2021</td><td>Mar 02 2022</td><td>genomic</td><td>1</td><td>Whole blood</td><td>Homo sapiens</td><td>case control status: Case           </td><td>⋯</td><td>M20 4BX</td><td>United Kingdom</td><td>ftp://ftp.ncbi.nlm.nih.gov/geo/samples/GSM5742nnn/GSM5742875/suppl/GSM5742875_202702240141_R06C01_Grn.idat.gz</td><td>ftp://ftp.ncbi.nlm.nih.gov/geo/samples/GSM5742nnn/GSM5742875/suppl/GSM5742875_202702240141_R06C01_Red.idat.gz</td><td>776062</td><td>17.8</td><td>Case           </td><td>Proband                  </td><td>Asian                          </td><td>F </td></tr>\n",
       "\t<tr><th scope=row>GSM5742876</th><td>8658-P   </td><td>GSM5742876</td><td>Public on Mar 01 2022</td><td>Dec 20 2021</td><td>Mar 02 2022</td><td>genomic</td><td>1</td><td>Whole blood</td><td>Homo sapiens</td><td>case control status: Case           </td><td>⋯</td><td>M20 4BX</td><td>United Kingdom</td><td>ftp://ftp.ncbi.nlm.nih.gov/geo/samples/GSM5742nnn/GSM5742876/suppl/GSM5742876_202702240141_R08C01_Grn.idat.gz</td><td>ftp://ftp.ncbi.nlm.nih.gov/geo/samples/GSM5742nnn/GSM5742876/suppl/GSM5742876_202702240141_R08C01_Red.idat.gz</td><td>776062</td><td>27  </td><td>Case           </td><td>Proband                  </td><td>White                          </td><td>M </td></tr>\n",
       "\t<tr><th scope=row>GSM5742877</th><td>3425-P   </td><td>GSM5742877</td><td>Public on Mar 01 2022</td><td>Dec 20 2021</td><td>Mar 02 2022</td><td>genomic</td><td>1</td><td>Whole blood</td><td>Homo sapiens</td><td>case control status: Case           </td><td>⋯</td><td>M20 4BX</td><td>United Kingdom</td><td>ftp://ftp.ncbi.nlm.nih.gov/geo/samples/GSM5742nnn/GSM5742877/suppl/GSM5742877_204088150175_R01C01_Grn.idat.gz</td><td>ftp://ftp.ncbi.nlm.nih.gov/geo/samples/GSM5742nnn/GSM5742877/suppl/GSM5742877_204088150175_R01C01_Red.idat.gz</td><td>776062</td><td>20.9</td><td>Case           </td><td>Proband                  </td><td>Asian                          </td><td>M </td></tr>\n",
       "\t<tr><th scope=row>GSM5742878</th><td>F-16-20  </td><td>GSM5742878</td><td>Public on Mar 01 2022</td><td>Dec 20 2021</td><td>Mar 02 2022</td><td>genomic</td><td>1</td><td>Whole blood</td><td>Homo sapiens</td><td>case control status: Control        </td><td>⋯</td><td>M20 4BX</td><td>United Kingdom</td><td>ftp://ftp.ncbi.nlm.nih.gov/geo/samples/GSM5742nnn/GSM5742878/suppl/GSM5742878_204088150175_R02C01_Grn.idat.gz</td><td>ftp://ftp.ncbi.nlm.nih.gov/geo/samples/GSM5742nnn/GSM5742878/suppl/GSM5742878_204088150175_R02C01_Red.idat.gz</td><td>776062</td><td>18.5</td><td>Control        </td><td>Age and sex matched donor</td><td>Unknown (Anonymous blood donor)</td><td>F </td></tr>\n",
       "\t<tr><th scope=row>GSM5742879</th><td>M-19-23  </td><td>GSM5742879</td><td>Public on Mar 01 2022</td><td>Dec 20 2021</td><td>Mar 02 2022</td><td>genomic</td><td>1</td><td>Whole blood</td><td>Homo sapiens</td><td>case control status: Control        </td><td>⋯</td><td>M20 4BX</td><td>United Kingdom</td><td>ftp://ftp.ncbi.nlm.nih.gov/geo/samples/GSM5742nnn/GSM5742879/suppl/GSM5742879_204088150175_R03C01_Grn.idat.gz</td><td>ftp://ftp.ncbi.nlm.nih.gov/geo/samples/GSM5742nnn/GSM5742879/suppl/GSM5742879_204088150175_R03C01_Red.idat.gz</td><td>776062</td><td>21  </td><td>Control        </td><td>Age and sex matched donor</td><td>Unknown (Anonymous blood donor)</td><td>M </td></tr>\n",
       "</tbody>\n",
       "</table>\n"
      ],
      "text/latex": [
       "A data.frame: 6 × 39\n",
       "\\begin{tabular}{r|lllllllllllllllllllll}\n",
       "  & title & geo\\_accession & status & submission\\_date & last\\_update\\_date & type & channel\\_count & source\\_name\\_ch1 & organism\\_ch1 & characteristics\\_ch1 & ⋯ & contact\\_zip/postal\\_code & contact\\_country & supplementary\\_file & supplementary\\_file.1 & data\\_row\\_count & age (years):ch1 & case control status:ch1 & participant type:ch1 & self-declared ancestry:ch1 & Sex:ch1\\\\\n",
       "  & <chr> & <chr> & <chr> & <chr> & <chr> & <chr> & <chr> & <chr> & <chr> & <chr> & ⋯ & <chr> & <chr> & <chr> & <chr> & <chr> & <chr> & <chr> & <chr> & <chr> & <chr>\\\\\n",
       "\\hline\n",
       "\tGSM5742874 & pooled\\_PC & GSM5742874 & Public on Mar 01 2022 & Dec 20 2021 & Mar 02 2022 & genomic & 1 & Whole blood & Homo sapiens & case control status: Pooled controls & ⋯ & M20 4BX & United Kingdom & ftp://ftp.ncbi.nlm.nih.gov/geo/samples/GSM5742nnn/GSM5742874/suppl/GSM5742874\\_202702240141\\_R05C01\\_Grn.idat.gz & ftp://ftp.ncbi.nlm.nih.gov/geo/samples/GSM5742nnn/GSM5742874/suppl/GSM5742874\\_202702240141\\_R05C01\\_Red.idat.gz & 776062 & NA   & Pooled controls & Pooled parent controls    & NA                              & NA\\\\\n",
       "\tGSM5742875 & 5767-P    & GSM5742875 & Public on Mar 01 2022 & Dec 20 2021 & Mar 02 2022 & genomic & 1 & Whole blood & Homo sapiens & case control status: Case            & ⋯ & M20 4BX & United Kingdom & ftp://ftp.ncbi.nlm.nih.gov/geo/samples/GSM5742nnn/GSM5742875/suppl/GSM5742875\\_202702240141\\_R06C01\\_Grn.idat.gz & ftp://ftp.ncbi.nlm.nih.gov/geo/samples/GSM5742nnn/GSM5742875/suppl/GSM5742875\\_202702240141\\_R06C01\\_Red.idat.gz & 776062 & 17.8 & Case            & Proband                   & Asian                           & F \\\\\n",
       "\tGSM5742876 & 8658-P    & GSM5742876 & Public on Mar 01 2022 & Dec 20 2021 & Mar 02 2022 & genomic & 1 & Whole blood & Homo sapiens & case control status: Case            & ⋯ & M20 4BX & United Kingdom & ftp://ftp.ncbi.nlm.nih.gov/geo/samples/GSM5742nnn/GSM5742876/suppl/GSM5742876\\_202702240141\\_R08C01\\_Grn.idat.gz & ftp://ftp.ncbi.nlm.nih.gov/geo/samples/GSM5742nnn/GSM5742876/suppl/GSM5742876\\_202702240141\\_R08C01\\_Red.idat.gz & 776062 & 27   & Case            & Proband                   & White                           & M \\\\\n",
       "\tGSM5742877 & 3425-P    & GSM5742877 & Public on Mar 01 2022 & Dec 20 2021 & Mar 02 2022 & genomic & 1 & Whole blood & Homo sapiens & case control status: Case            & ⋯ & M20 4BX & United Kingdom & ftp://ftp.ncbi.nlm.nih.gov/geo/samples/GSM5742nnn/GSM5742877/suppl/GSM5742877\\_204088150175\\_R01C01\\_Grn.idat.gz & ftp://ftp.ncbi.nlm.nih.gov/geo/samples/GSM5742nnn/GSM5742877/suppl/GSM5742877\\_204088150175\\_R01C01\\_Red.idat.gz & 776062 & 20.9 & Case            & Proband                   & Asian                           & M \\\\\n",
       "\tGSM5742878 & F-16-20   & GSM5742878 & Public on Mar 01 2022 & Dec 20 2021 & Mar 02 2022 & genomic & 1 & Whole blood & Homo sapiens & case control status: Control         & ⋯ & M20 4BX & United Kingdom & ftp://ftp.ncbi.nlm.nih.gov/geo/samples/GSM5742nnn/GSM5742878/suppl/GSM5742878\\_204088150175\\_R02C01\\_Grn.idat.gz & ftp://ftp.ncbi.nlm.nih.gov/geo/samples/GSM5742nnn/GSM5742878/suppl/GSM5742878\\_204088150175\\_R02C01\\_Red.idat.gz & 776062 & 18.5 & Control         & Age and sex matched donor & Unknown (Anonymous blood donor) & F \\\\\n",
       "\tGSM5742879 & M-19-23   & GSM5742879 & Public on Mar 01 2022 & Dec 20 2021 & Mar 02 2022 & genomic & 1 & Whole blood & Homo sapiens & case control status: Control         & ⋯ & M20 4BX & United Kingdom & ftp://ftp.ncbi.nlm.nih.gov/geo/samples/GSM5742nnn/GSM5742879/suppl/GSM5742879\\_204088150175\\_R03C01\\_Grn.idat.gz & ftp://ftp.ncbi.nlm.nih.gov/geo/samples/GSM5742nnn/GSM5742879/suppl/GSM5742879\\_204088150175\\_R03C01\\_Red.idat.gz & 776062 & 21   & Control         & Age and sex matched donor & Unknown (Anonymous blood donor) & M \\\\\n",
       "\\end{tabular}\n"
      ],
      "text/markdown": [
       "\n",
       "A data.frame: 6 × 39\n",
       "\n",
       "| <!--/--> | title &lt;chr&gt; | geo_accession &lt;chr&gt; | status &lt;chr&gt; | submission_date &lt;chr&gt; | last_update_date &lt;chr&gt; | type &lt;chr&gt; | channel_count &lt;chr&gt; | source_name_ch1 &lt;chr&gt; | organism_ch1 &lt;chr&gt; | characteristics_ch1 &lt;chr&gt; | ⋯ ⋯ | contact_zip/postal_code &lt;chr&gt; | contact_country &lt;chr&gt; | supplementary_file &lt;chr&gt; | supplementary_file.1 &lt;chr&gt; | data_row_count &lt;chr&gt; | age (years):ch1 &lt;chr&gt; | case control status:ch1 &lt;chr&gt; | participant type:ch1 &lt;chr&gt; | self-declared ancestry:ch1 &lt;chr&gt; | Sex:ch1 &lt;chr&gt; |\n",
       "|---|---|---|---|---|---|---|---|---|---|---|---|---|---|---|---|---|---|---|---|---|---|\n",
       "| GSM5742874 | pooled_PC | GSM5742874 | Public on Mar 01 2022 | Dec 20 2021 | Mar 02 2022 | genomic | 1 | Whole blood | Homo sapiens | case control status: Pooled controls | ⋯ | M20 4BX | United Kingdom | ftp://ftp.ncbi.nlm.nih.gov/geo/samples/GSM5742nnn/GSM5742874/suppl/GSM5742874_202702240141_R05C01_Grn.idat.gz | ftp://ftp.ncbi.nlm.nih.gov/geo/samples/GSM5742nnn/GSM5742874/suppl/GSM5742874_202702240141_R05C01_Red.idat.gz | 776062 | NA   | Pooled controls | Pooled parent controls    | NA                              | NA |\n",
       "| GSM5742875 | 5767-P    | GSM5742875 | Public on Mar 01 2022 | Dec 20 2021 | Mar 02 2022 | genomic | 1 | Whole blood | Homo sapiens | case control status: Case            | ⋯ | M20 4BX | United Kingdom | ftp://ftp.ncbi.nlm.nih.gov/geo/samples/GSM5742nnn/GSM5742875/suppl/GSM5742875_202702240141_R06C01_Grn.idat.gz | ftp://ftp.ncbi.nlm.nih.gov/geo/samples/GSM5742nnn/GSM5742875/suppl/GSM5742875_202702240141_R06C01_Red.idat.gz | 776062 | 17.8 | Case            | Proband                   | Asian                           | F  |\n",
       "| GSM5742876 | 8658-P    | GSM5742876 | Public on Mar 01 2022 | Dec 20 2021 | Mar 02 2022 | genomic | 1 | Whole blood | Homo sapiens | case control status: Case            | ⋯ | M20 4BX | United Kingdom | ftp://ftp.ncbi.nlm.nih.gov/geo/samples/GSM5742nnn/GSM5742876/suppl/GSM5742876_202702240141_R08C01_Grn.idat.gz | ftp://ftp.ncbi.nlm.nih.gov/geo/samples/GSM5742nnn/GSM5742876/suppl/GSM5742876_202702240141_R08C01_Red.idat.gz | 776062 | 27   | Case            | Proband                   | White                           | M  |\n",
       "| GSM5742877 | 3425-P    | GSM5742877 | Public on Mar 01 2022 | Dec 20 2021 | Mar 02 2022 | genomic | 1 | Whole blood | Homo sapiens | case control status: Case            | ⋯ | M20 4BX | United Kingdom | ftp://ftp.ncbi.nlm.nih.gov/geo/samples/GSM5742nnn/GSM5742877/suppl/GSM5742877_204088150175_R01C01_Grn.idat.gz | ftp://ftp.ncbi.nlm.nih.gov/geo/samples/GSM5742nnn/GSM5742877/suppl/GSM5742877_204088150175_R01C01_Red.idat.gz | 776062 | 20.9 | Case            | Proband                   | Asian                           | M  |\n",
       "| GSM5742878 | F-16-20   | GSM5742878 | Public on Mar 01 2022 | Dec 20 2021 | Mar 02 2022 | genomic | 1 | Whole blood | Homo sapiens | case control status: Control         | ⋯ | M20 4BX | United Kingdom | ftp://ftp.ncbi.nlm.nih.gov/geo/samples/GSM5742nnn/GSM5742878/suppl/GSM5742878_204088150175_R02C01_Grn.idat.gz | ftp://ftp.ncbi.nlm.nih.gov/geo/samples/GSM5742nnn/GSM5742878/suppl/GSM5742878_204088150175_R02C01_Red.idat.gz | 776062 | 18.5 | Control         | Age and sex matched donor | Unknown (Anonymous blood donor) | F  |\n",
       "| GSM5742879 | M-19-23   | GSM5742879 | Public on Mar 01 2022 | Dec 20 2021 | Mar 02 2022 | genomic | 1 | Whole blood | Homo sapiens | case control status: Control         | ⋯ | M20 4BX | United Kingdom | ftp://ftp.ncbi.nlm.nih.gov/geo/samples/GSM5742nnn/GSM5742879/suppl/GSM5742879_204088150175_R03C01_Grn.idat.gz | ftp://ftp.ncbi.nlm.nih.gov/geo/samples/GSM5742nnn/GSM5742879/suppl/GSM5742879_204088150175_R03C01_Red.idat.gz | 776062 | 21   | Control         | Age and sex matched donor | Unknown (Anonymous blood donor) | M  |\n",
       "\n"
      ],
      "text/plain": [
       "           title     geo_accession status                submission_date\n",
       "GSM5742874 pooled_PC GSM5742874    Public on Mar 01 2022 Dec 20 2021    \n",
       "GSM5742875 5767-P    GSM5742875    Public on Mar 01 2022 Dec 20 2021    \n",
       "GSM5742876 8658-P    GSM5742876    Public on Mar 01 2022 Dec 20 2021    \n",
       "GSM5742877 3425-P    GSM5742877    Public on Mar 01 2022 Dec 20 2021    \n",
       "GSM5742878 F-16-20   GSM5742878    Public on Mar 01 2022 Dec 20 2021    \n",
       "GSM5742879 M-19-23   GSM5742879    Public on Mar 01 2022 Dec 20 2021    \n",
       "           last_update_date type    channel_count source_name_ch1 organism_ch1\n",
       "GSM5742874 Mar 02 2022      genomic 1             Whole blood     Homo sapiens\n",
       "GSM5742875 Mar 02 2022      genomic 1             Whole blood     Homo sapiens\n",
       "GSM5742876 Mar 02 2022      genomic 1             Whole blood     Homo sapiens\n",
       "GSM5742877 Mar 02 2022      genomic 1             Whole blood     Homo sapiens\n",
       "GSM5742878 Mar 02 2022      genomic 1             Whole blood     Homo sapiens\n",
       "GSM5742879 Mar 02 2022      genomic 1             Whole blood     Homo sapiens\n",
       "           characteristics_ch1                  ⋯ contact_zip/postal_code\n",
       "GSM5742874 case control status: Pooled controls ⋯ M20 4BX                \n",
       "GSM5742875 case control status: Case            ⋯ M20 4BX                \n",
       "GSM5742876 case control status: Case            ⋯ M20 4BX                \n",
       "GSM5742877 case control status: Case            ⋯ M20 4BX                \n",
       "GSM5742878 case control status: Control         ⋯ M20 4BX                \n",
       "GSM5742879 case control status: Control         ⋯ M20 4BX                \n",
       "           contact_country\n",
       "GSM5742874 United Kingdom \n",
       "GSM5742875 United Kingdom \n",
       "GSM5742876 United Kingdom \n",
       "GSM5742877 United Kingdom \n",
       "GSM5742878 United Kingdom \n",
       "GSM5742879 United Kingdom \n",
       "           supplementary_file                                                                                           \n",
       "GSM5742874 ftp://ftp.ncbi.nlm.nih.gov/geo/samples/GSM5742nnn/GSM5742874/suppl/GSM5742874_202702240141_R05C01_Grn.idat.gz\n",
       "GSM5742875 ftp://ftp.ncbi.nlm.nih.gov/geo/samples/GSM5742nnn/GSM5742875/suppl/GSM5742875_202702240141_R06C01_Grn.idat.gz\n",
       "GSM5742876 ftp://ftp.ncbi.nlm.nih.gov/geo/samples/GSM5742nnn/GSM5742876/suppl/GSM5742876_202702240141_R08C01_Grn.idat.gz\n",
       "GSM5742877 ftp://ftp.ncbi.nlm.nih.gov/geo/samples/GSM5742nnn/GSM5742877/suppl/GSM5742877_204088150175_R01C01_Grn.idat.gz\n",
       "GSM5742878 ftp://ftp.ncbi.nlm.nih.gov/geo/samples/GSM5742nnn/GSM5742878/suppl/GSM5742878_204088150175_R02C01_Grn.idat.gz\n",
       "GSM5742879 ftp://ftp.ncbi.nlm.nih.gov/geo/samples/GSM5742nnn/GSM5742879/suppl/GSM5742879_204088150175_R03C01_Grn.idat.gz\n",
       "           supplementary_file.1                                                                                         \n",
       "GSM5742874 ftp://ftp.ncbi.nlm.nih.gov/geo/samples/GSM5742nnn/GSM5742874/suppl/GSM5742874_202702240141_R05C01_Red.idat.gz\n",
       "GSM5742875 ftp://ftp.ncbi.nlm.nih.gov/geo/samples/GSM5742nnn/GSM5742875/suppl/GSM5742875_202702240141_R06C01_Red.idat.gz\n",
       "GSM5742876 ftp://ftp.ncbi.nlm.nih.gov/geo/samples/GSM5742nnn/GSM5742876/suppl/GSM5742876_202702240141_R08C01_Red.idat.gz\n",
       "GSM5742877 ftp://ftp.ncbi.nlm.nih.gov/geo/samples/GSM5742nnn/GSM5742877/suppl/GSM5742877_204088150175_R01C01_Red.idat.gz\n",
       "GSM5742878 ftp://ftp.ncbi.nlm.nih.gov/geo/samples/GSM5742nnn/GSM5742878/suppl/GSM5742878_204088150175_R02C01_Red.idat.gz\n",
       "GSM5742879 ftp://ftp.ncbi.nlm.nih.gov/geo/samples/GSM5742nnn/GSM5742879/suppl/GSM5742879_204088150175_R03C01_Red.idat.gz\n",
       "           data_row_count age (years):ch1 case control status:ch1\n",
       "GSM5742874 776062         NA              Pooled controls        \n",
       "GSM5742875 776062         17.8            Case                   \n",
       "GSM5742876 776062         27              Case                   \n",
       "GSM5742877 776062         20.9            Case                   \n",
       "GSM5742878 776062         18.5            Control                \n",
       "GSM5742879 776062         21              Control                \n",
       "           participant type:ch1      self-declared ancestry:ch1      Sex:ch1\n",
       "GSM5742874 Pooled parent controls    NA                              NA     \n",
       "GSM5742875 Proband                   Asian                           F      \n",
       "GSM5742876 Proband                   White                           M      \n",
       "GSM5742877 Proband                   Asian                           M      \n",
       "GSM5742878 Age and sex matched donor Unknown (Anonymous blood donor) F      \n",
       "GSM5742879 Age and sex matched donor Unknown (Anonymous blood donor) M      "
      ]
     },
     "metadata": {},
     "output_type": "display_data"
    },
    {
     "data": {
      "text/html": [
       "<style>\n",
       ".list-inline {list-style: none; margin:0; padding: 0}\n",
       ".list-inline>li {display: inline-block}\n",
       ".list-inline>li:not(:last-child)::after {content: \"\\00b7\"; padding: 0 .5ex}\n",
       "</style>\n",
       "<ol class=list-inline><li>'title'</li><li>'geo_accession'</li><li>'status'</li><li>'submission_date'</li><li>'last_update_date'</li><li>'type'</li><li>'channel_count'</li><li>'source_name_ch1'</li><li>'organism_ch1'</li><li>'characteristics_ch1'</li><li>'characteristics_ch1.1'</li><li>'characteristics_ch1.2'</li><li>'characteristics_ch1.3'</li><li>'characteristics_ch1.4'</li><li>'molecule_ch1'</li><li>'extract_protocol_ch1'</li><li>'label_ch1'</li><li>'label_protocol_ch1'</li><li>'taxid_ch1'</li><li>'hyb_protocol'</li><li>'scan_protocol'</li><li>'description'</li><li>'data_processing'</li><li>'platform_id'</li><li>'contact_name'</li><li>'contact_email'</li><li>'contact_institute'</li><li>'contact_address'</li><li>'contact_city'</li><li>'contact_zip/postal_code'</li><li>'contact_country'</li><li>'supplementary_file'</li><li>'supplementary_file.1'</li><li>'data_row_count'</li><li>'age (years):ch1'</li><li>'case control status:ch1'</li><li>'participant type:ch1'</li><li>'self-declared ancestry:ch1'</li><li>'Sex:ch1'</li></ol>\n"
      ],
      "text/latex": [
       "\\begin{enumerate*}\n",
       "\\item 'title'\n",
       "\\item 'geo\\_accession'\n",
       "\\item 'status'\n",
       "\\item 'submission\\_date'\n",
       "\\item 'last\\_update\\_date'\n",
       "\\item 'type'\n",
       "\\item 'channel\\_count'\n",
       "\\item 'source\\_name\\_ch1'\n",
       "\\item 'organism\\_ch1'\n",
       "\\item 'characteristics\\_ch1'\n",
       "\\item 'characteristics\\_ch1.1'\n",
       "\\item 'characteristics\\_ch1.2'\n",
       "\\item 'characteristics\\_ch1.3'\n",
       "\\item 'characteristics\\_ch1.4'\n",
       "\\item 'molecule\\_ch1'\n",
       "\\item 'extract\\_protocol\\_ch1'\n",
       "\\item 'label\\_ch1'\n",
       "\\item 'label\\_protocol\\_ch1'\n",
       "\\item 'taxid\\_ch1'\n",
       "\\item 'hyb\\_protocol'\n",
       "\\item 'scan\\_protocol'\n",
       "\\item 'description'\n",
       "\\item 'data\\_processing'\n",
       "\\item 'platform\\_id'\n",
       "\\item 'contact\\_name'\n",
       "\\item 'contact\\_email'\n",
       "\\item 'contact\\_institute'\n",
       "\\item 'contact\\_address'\n",
       "\\item 'contact\\_city'\n",
       "\\item 'contact\\_zip/postal\\_code'\n",
       "\\item 'contact\\_country'\n",
       "\\item 'supplementary\\_file'\n",
       "\\item 'supplementary\\_file.1'\n",
       "\\item 'data\\_row\\_count'\n",
       "\\item 'age (years):ch1'\n",
       "\\item 'case control status:ch1'\n",
       "\\item 'participant type:ch1'\n",
       "\\item 'self-declared ancestry:ch1'\n",
       "\\item 'Sex:ch1'\n",
       "\\end{enumerate*}\n"
      ],
      "text/markdown": [
       "1. 'title'\n",
       "2. 'geo_accession'\n",
       "3. 'status'\n",
       "4. 'submission_date'\n",
       "5. 'last_update_date'\n",
       "6. 'type'\n",
       "7. 'channel_count'\n",
       "8. 'source_name_ch1'\n",
       "9. 'organism_ch1'\n",
       "10. 'characteristics_ch1'\n",
       "11. 'characteristics_ch1.1'\n",
       "12. 'characteristics_ch1.2'\n",
       "13. 'characteristics_ch1.3'\n",
       "14. 'characteristics_ch1.4'\n",
       "15. 'molecule_ch1'\n",
       "16. 'extract_protocol_ch1'\n",
       "17. 'label_ch1'\n",
       "18. 'label_protocol_ch1'\n",
       "19. 'taxid_ch1'\n",
       "20. 'hyb_protocol'\n",
       "21. 'scan_protocol'\n",
       "22. 'description'\n",
       "23. 'data_processing'\n",
       "24. 'platform_id'\n",
       "25. 'contact_name'\n",
       "26. 'contact_email'\n",
       "27. 'contact_institute'\n",
       "28. 'contact_address'\n",
       "29. 'contact_city'\n",
       "30. 'contact_zip/postal_code'\n",
       "31. 'contact_country'\n",
       "32. 'supplementary_file'\n",
       "33. 'supplementary_file.1'\n",
       "34. 'data_row_count'\n",
       "35. 'age (years):ch1'\n",
       "36. 'case control status:ch1'\n",
       "37. 'participant type:ch1'\n",
       "38. 'self-declared ancestry:ch1'\n",
       "39. 'Sex:ch1'\n",
       "\n",
       "\n"
      ],
      "text/plain": [
       " [1] \"title\"                      \"geo_accession\"             \n",
       " [3] \"status\"                     \"submission_date\"           \n",
       " [5] \"last_update_date\"           \"type\"                      \n",
       " [7] \"channel_count\"              \"source_name_ch1\"           \n",
       " [9] \"organism_ch1\"               \"characteristics_ch1\"       \n",
       "[11] \"characteristics_ch1.1\"      \"characteristics_ch1.2\"     \n",
       "[13] \"characteristics_ch1.3\"      \"characteristics_ch1.4\"     \n",
       "[15] \"molecule_ch1\"               \"extract_protocol_ch1\"      \n",
       "[17] \"label_ch1\"                  \"label_protocol_ch1\"        \n",
       "[19] \"taxid_ch1\"                  \"hyb_protocol\"              \n",
       "[21] \"scan_protocol\"              \"description\"               \n",
       "[23] \"data_processing\"            \"platform_id\"               \n",
       "[25] \"contact_name\"               \"contact_email\"             \n",
       "[27] \"contact_institute\"          \"contact_address\"           \n",
       "[29] \"contact_city\"               \"contact_zip/postal_code\"   \n",
       "[31] \"contact_country\"            \"supplementary_file\"        \n",
       "[33] \"supplementary_file.1\"       \"data_row_count\"            \n",
       "[35] \"age (years):ch1\"            \"case control status:ch1\"   \n",
       "[37] \"participant type:ch1\"       \"self-declared ancestry:ch1\"\n",
       "[39] \"Sex:ch1\"                   "
      ]
     },
     "metadata": {},
     "output_type": "display_data"
    },
    {
     "data": {
      "text/html": [
       "<table class=\"dataframe\">\n",
       "<caption>A data.frame: 7 × 4</caption>\n",
       "<thead>\n",
       "\t<tr><th></th><th scope=col>age (years):ch1</th><th scope=col>Sex:ch1</th><th scope=col>case control status:ch1</th><th scope=col>self-declared ancestry:ch1</th></tr>\n",
       "\t<tr><th></th><th scope=col>&lt;chr&gt;</th><th scope=col>&lt;chr&gt;</th><th scope=col>&lt;chr&gt;</th><th scope=col>&lt;chr&gt;</th></tr>\n",
       "</thead>\n",
       "<tbody>\n",
       "\t<tr><th scope=row>GSM5742874</th><td>NA  </td><td>NA</td><td>Pooled controls</td><td>NA                             </td></tr>\n",
       "\t<tr><th scope=row>GSM5742875</th><td>17.8</td><td>F </td><td>Case           </td><td>Asian                          </td></tr>\n",
       "\t<tr><th scope=row>GSM5742876</th><td>27  </td><td>M </td><td>Case           </td><td>White                          </td></tr>\n",
       "\t<tr><th scope=row>GSM5742877</th><td>20.9</td><td>M </td><td>Case           </td><td>Asian                          </td></tr>\n",
       "\t<tr><th scope=row>GSM5742878</th><td>18.5</td><td>F </td><td>Control        </td><td>Unknown (Anonymous blood donor)</td></tr>\n",
       "\t<tr><th scope=row>GSM5742879</th><td>21  </td><td>M </td><td>Control        </td><td>Unknown (Anonymous blood donor)</td></tr>\n",
       "\t<tr><th scope=row>GSM5742880</th><td>25  </td><td>M </td><td>Control        </td><td>Unknown (Anonymous blood donor)</td></tr>\n",
       "</tbody>\n",
       "</table>\n"
      ],
      "text/latex": [
       "A data.frame: 7 × 4\n",
       "\\begin{tabular}{r|llll}\n",
       "  & age (years):ch1 & Sex:ch1 & case control status:ch1 & self-declared ancestry:ch1\\\\\n",
       "  & <chr> & <chr> & <chr> & <chr>\\\\\n",
       "\\hline\n",
       "\tGSM5742874 & NA   & NA & Pooled controls & NA                             \\\\\n",
       "\tGSM5742875 & 17.8 & F  & Case            & Asian                          \\\\\n",
       "\tGSM5742876 & 27   & M  & Case            & White                          \\\\\n",
       "\tGSM5742877 & 20.9 & M  & Case            & Asian                          \\\\\n",
       "\tGSM5742878 & 18.5 & F  & Control         & Unknown (Anonymous blood donor)\\\\\n",
       "\tGSM5742879 & 21   & M  & Control         & Unknown (Anonymous blood donor)\\\\\n",
       "\tGSM5742880 & 25   & M  & Control         & Unknown (Anonymous blood donor)\\\\\n",
       "\\end{tabular}\n"
      ],
      "text/markdown": [
       "\n",
       "A data.frame: 7 × 4\n",
       "\n",
       "| <!--/--> | age (years):ch1 &lt;chr&gt; | Sex:ch1 &lt;chr&gt; | case control status:ch1 &lt;chr&gt; | self-declared ancestry:ch1 &lt;chr&gt; |\n",
       "|---|---|---|---|---|\n",
       "| GSM5742874 | NA   | NA | Pooled controls | NA                              |\n",
       "| GSM5742875 | 17.8 | F  | Case            | Asian                           |\n",
       "| GSM5742876 | 27   | M  | Case            | White                           |\n",
       "| GSM5742877 | 20.9 | M  | Case            | Asian                           |\n",
       "| GSM5742878 | 18.5 | F  | Control         | Unknown (Anonymous blood donor) |\n",
       "| GSM5742879 | 21   | M  | Control         | Unknown (Anonymous blood donor) |\n",
       "| GSM5742880 | 25   | M  | Control         | Unknown (Anonymous blood donor) |\n",
       "\n"
      ],
      "text/plain": [
       "           age (years):ch1 Sex:ch1 case control status:ch1\n",
       "GSM5742874 NA              NA      Pooled controls        \n",
       "GSM5742875 17.8            F       Case                   \n",
       "GSM5742876 27              M       Case                   \n",
       "GSM5742877 20.9            M       Case                   \n",
       "GSM5742878 18.5            F       Control                \n",
       "GSM5742879 21              M       Control                \n",
       "GSM5742880 25              M       Control                \n",
       "           self-declared ancestry:ch1     \n",
       "GSM5742874 NA                             \n",
       "GSM5742875 Asian                          \n",
       "GSM5742876 White                          \n",
       "GSM5742877 Asian                          \n",
       "GSM5742878 Unknown (Anonymous blood donor)\n",
       "GSM5742879 Unknown (Anonymous blood donor)\n",
       "GSM5742880 Unknown (Anonymous blood donor)"
      ]
     },
     "metadata": {},
     "output_type": "display_data"
    }
   ],
   "source": [
    "\n",
    "# Obtendo a tabela de fenótipos disponível no GEO (obter informações sobre sexo biológico)\n",
    "pheno.df <- pData(phenoData(gse[[1]]))\n",
    "\n",
    "head(pheno.df)\n",
    "colnames(pheno.df)\n",
    "#Armazenar a informação de sexo biológico para adicionar na phenotype sheet\n",
    "pheno.df_sub <- subset(pheno.df, select = c(\"age (years):ch1\",\"Sex:ch1\",\"case control status:ch1\",\"self-declared ancestry:ch1\"))\n",
    "pheno.df_sub"
   ]
  },
  {
   "cell_type": "code",
   "execution_count": 15,
   "id": "2557ae61-3bb7-42d7-96d9-11f5c1238ccd",
   "metadata": {},
   "outputs": [],
   "source": [
    "options(timeout = max(300, getOption(\"timeout\")))\n",
    "options(download.file.method.GEOquery = \"wget\")\n",
    "filePaths<- getGEOSuppFiles(\"GSE191276\")"
   ]
  },
  {
   "cell_type": "code",
   "execution_count": 16,
   "id": "2e7c60b8-7e2a-46ba-a635-0f6cdcbceaa0",
   "metadata": {},
   "outputs": [
    {
     "data": {
      "text/html": [
       "<table class=\"dataframe\">\n",
       "<caption>A data.frame: 2 × 10</caption>\n",
       "<thead>\n",
       "\t<tr><th></th><th scope=col>size</th><th scope=col>isdir</th><th scope=col>mode</th><th scope=col>mtime</th><th scope=col>ctime</th><th scope=col>atime</th><th scope=col>uid</th><th scope=col>gid</th><th scope=col>uname</th><th scope=col>grname</th></tr>\n",
       "\t<tr><th></th><th scope=col>&lt;dbl&gt;</th><th scope=col>&lt;lgl&gt;</th><th scope=col>&lt;octmode&gt;</th><th scope=col>&lt;dttm&gt;</th><th scope=col>&lt;dttm&gt;</th><th scope=col>&lt;dttm&gt;</th><th scope=col>&lt;int&gt;</th><th scope=col>&lt;int&gt;</th><th scope=col>&lt;chr&gt;</th><th scope=col>&lt;chr&gt;</th></tr>\n",
       "</thead>\n",
       "<tbody>\n",
       "\t<tr><th scope=row>/home/iago/Documents/Epigenetica_curso_pipeline/Exercicios/EX3/GSE191276/GSE191276/GSE191276_Matrix_signal_intensities.txt.gz</th><td> 41838553</td><td>FALSE</td><td>664</td><td>2021-12-20 13:09:47</td><td>2024-06-23 19:14:08</td><td>2024-06-23 19:14:08</td><td>1000</td><td>1000</td><td>iago</td><td>iago</td></tr>\n",
       "\t<tr><th scope=row>/home/iago/Documents/Epigenetica_curso_pipeline/Exercicios/EX3/GSE191276/GSE191276/GSE191276_RAW.tar</th><td>103802880</td><td>FALSE</td><td>664</td><td>2022-03-02 19:51:15</td><td>2024-06-23 19:14:24</td><td>2024-06-23 19:14:24</td><td>1000</td><td>1000</td><td>iago</td><td>iago</td></tr>\n",
       "</tbody>\n",
       "</table>\n"
      ],
      "text/latex": [
       "A data.frame: 2 × 10\n",
       "\\begin{tabular}{r|llllllllll}\n",
       "  & size & isdir & mode & mtime & ctime & atime & uid & gid & uname & grname\\\\\n",
       "  & <dbl> & <lgl> & <octmode> & <dttm> & <dttm> & <dttm> & <int> & <int> & <chr> & <chr>\\\\\n",
       "\\hline\n",
       "\t/home/iago/Documents/Epigenetica\\_curso\\_pipeline/Exercicios/EX3/GSE191276/GSE191276/GSE191276\\_Matrix\\_signal\\_intensities.txt.gz &  41838553 & FALSE & 664 & 2021-12-20 13:09:47 & 2024-06-23 19:14:08 & 2024-06-23 19:14:08 & 1000 & 1000 & iago & iago\\\\\n",
       "\t/home/iago/Documents/Epigenetica\\_curso\\_pipeline/Exercicios/EX3/GSE191276/GSE191276/GSE191276\\_RAW.tar & 103802880 & FALSE & 664 & 2022-03-02 19:51:15 & 2024-06-23 19:14:24 & 2024-06-23 19:14:24 & 1000 & 1000 & iago & iago\\\\\n",
       "\\end{tabular}\n"
      ],
      "text/markdown": [
       "\n",
       "A data.frame: 2 × 10\n",
       "\n",
       "| <!--/--> | size &lt;dbl&gt; | isdir &lt;lgl&gt; | mode &lt;octmode&gt; | mtime &lt;dttm&gt; | ctime &lt;dttm&gt; | atime &lt;dttm&gt; | uid &lt;int&gt; | gid &lt;int&gt; | uname &lt;chr&gt; | grname &lt;chr&gt; |\n",
       "|---|---|---|---|---|---|---|---|---|---|---|\n",
       "| /home/iago/Documents/Epigenetica_curso_pipeline/Exercicios/EX3/GSE191276/GSE191276/GSE191276_Matrix_signal_intensities.txt.gz |  41838553 | FALSE | 664 | 2021-12-20 13:09:47 | 2024-06-23 19:14:08 | 2024-06-23 19:14:08 | 1000 | 1000 | iago | iago |\n",
       "| /home/iago/Documents/Epigenetica_curso_pipeline/Exercicios/EX3/GSE191276/GSE191276/GSE191276_RAW.tar | 103802880 | FALSE | 664 | 2022-03-02 19:51:15 | 2024-06-23 19:14:24 | 2024-06-23 19:14:24 | 1000 | 1000 | iago | iago |\n",
       "\n"
      ],
      "text/plain": [
       "                                                                                                                              size     \n",
       "/home/iago/Documents/Epigenetica_curso_pipeline/Exercicios/EX3/GSE191276/GSE191276/GSE191276_Matrix_signal_intensities.txt.gz  41838553\n",
       "/home/iago/Documents/Epigenetica_curso_pipeline/Exercicios/EX3/GSE191276/GSE191276/GSE191276_RAW.tar                          103802880\n",
       "                                                                                                                              isdir\n",
       "/home/iago/Documents/Epigenetica_curso_pipeline/Exercicios/EX3/GSE191276/GSE191276/GSE191276_Matrix_signal_intensities.txt.gz FALSE\n",
       "/home/iago/Documents/Epigenetica_curso_pipeline/Exercicios/EX3/GSE191276/GSE191276/GSE191276_RAW.tar                          FALSE\n",
       "                                                                                                                              mode\n",
       "/home/iago/Documents/Epigenetica_curso_pipeline/Exercicios/EX3/GSE191276/GSE191276/GSE191276_Matrix_signal_intensities.txt.gz 664 \n",
       "/home/iago/Documents/Epigenetica_curso_pipeline/Exercicios/EX3/GSE191276/GSE191276/GSE191276_RAW.tar                          664 \n",
       "                                                                                                                              mtime              \n",
       "/home/iago/Documents/Epigenetica_curso_pipeline/Exercicios/EX3/GSE191276/GSE191276/GSE191276_Matrix_signal_intensities.txt.gz 2021-12-20 13:09:47\n",
       "/home/iago/Documents/Epigenetica_curso_pipeline/Exercicios/EX3/GSE191276/GSE191276/GSE191276_RAW.tar                          2022-03-02 19:51:15\n",
       "                                                                                                                              ctime              \n",
       "/home/iago/Documents/Epigenetica_curso_pipeline/Exercicios/EX3/GSE191276/GSE191276/GSE191276_Matrix_signal_intensities.txt.gz 2024-06-23 19:14:08\n",
       "/home/iago/Documents/Epigenetica_curso_pipeline/Exercicios/EX3/GSE191276/GSE191276/GSE191276_RAW.tar                          2024-06-23 19:14:24\n",
       "                                                                                                                              atime              \n",
       "/home/iago/Documents/Epigenetica_curso_pipeline/Exercicios/EX3/GSE191276/GSE191276/GSE191276_Matrix_signal_intensities.txt.gz 2024-06-23 19:14:08\n",
       "/home/iago/Documents/Epigenetica_curso_pipeline/Exercicios/EX3/GSE191276/GSE191276/GSE191276_RAW.tar                          2024-06-23 19:14:24\n",
       "                                                                                                                              uid \n",
       "/home/iago/Documents/Epigenetica_curso_pipeline/Exercicios/EX3/GSE191276/GSE191276/GSE191276_Matrix_signal_intensities.txt.gz 1000\n",
       "/home/iago/Documents/Epigenetica_curso_pipeline/Exercicios/EX3/GSE191276/GSE191276/GSE191276_RAW.tar                          1000\n",
       "                                                                                                                              gid \n",
       "/home/iago/Documents/Epigenetica_curso_pipeline/Exercicios/EX3/GSE191276/GSE191276/GSE191276_Matrix_signal_intensities.txt.gz 1000\n",
       "/home/iago/Documents/Epigenetica_curso_pipeline/Exercicios/EX3/GSE191276/GSE191276/GSE191276_RAW.tar                          1000\n",
       "                                                                                                                              uname\n",
       "/home/iago/Documents/Epigenetica_curso_pipeline/Exercicios/EX3/GSE191276/GSE191276/GSE191276_Matrix_signal_intensities.txt.gz iago \n",
       "/home/iago/Documents/Epigenetica_curso_pipeline/Exercicios/EX3/GSE191276/GSE191276/GSE191276_RAW.tar                          iago \n",
       "                                                                                                                              grname\n",
       "/home/iago/Documents/Epigenetica_curso_pipeline/Exercicios/EX3/GSE191276/GSE191276/GSE191276_Matrix_signal_intensities.txt.gz iago  \n",
       "/home/iago/Documents/Epigenetica_curso_pipeline/Exercicios/EX3/GSE191276/GSE191276/GSE191276_RAW.tar                          iago  "
      ]
     },
     "metadata": {},
     "output_type": "display_data"
    }
   ],
   "source": [
    "filePaths"
   ]
  },
  {
   "cell_type": "code",
   "execution_count": 112,
   "id": "107c46b4-2917-4144-866a-2608bde19201",
   "metadata": {},
   "outputs": [],
   "source": [
    "####################################\n",
    "# Descompactar arquivos \n",
    "####################################\n",
    "system(\"tar -xvf ./GSE191276_RAW.tar\")\n",
    "\n",
    "system(\"gunzip ./*idat.gz\")"
   ]
  },
  {
   "cell_type": "code",
   "execution_count": 19,
   "id": "a732f261-91f4-48f6-9a93-591e9381726c",
   "metadata": {},
   "outputs": [
    {
     "data": {
      "text/html": [
       "<ol>\n",
       "\t<li>'GSE191276/GSM5742874_202702240141_R05C01_Grn.idat'</li>\n",
       "\t<li>'GSE191276/GSM5742874_202702240141_R05C01_Red.idat'</li>\n",
       "\t<li>'GSE191276/GSM5742875_202702240141_R06C01_Grn.idat'</li>\n",
       "\t<li>'GSE191276/GSM5742875_202702240141_R06C01_Red.idat'</li>\n",
       "\t<li>'GSE191276/GSM5742876_202702240141_R08C01_Grn.idat'</li>\n",
       "\t<li>'GSE191276/GSM5742876_202702240141_R08C01_Red.idat'</li>\n",
       "</ol>\n"
      ],
      "text/latex": [
       "\\begin{enumerate}\n",
       "\\item 'GSE191276/GSM5742874\\_202702240141\\_R05C01\\_Grn.idat'\n",
       "\\item 'GSE191276/GSM5742874\\_202702240141\\_R05C01\\_Red.idat'\n",
       "\\item 'GSE191276/GSM5742875\\_202702240141\\_R06C01\\_Grn.idat'\n",
       "\\item 'GSE191276/GSM5742875\\_202702240141\\_R06C01\\_Red.idat'\n",
       "\\item 'GSE191276/GSM5742876\\_202702240141\\_R08C01\\_Grn.idat'\n",
       "\\item 'GSE191276/GSM5742876\\_202702240141\\_R08C01\\_Red.idat'\n",
       "\\end{enumerate}\n"
      ],
      "text/markdown": [
       "1. 'GSE191276/GSM5742874_202702240141_R05C01_Grn.idat'\n",
       "2. 'GSE191276/GSM5742874_202702240141_R05C01_Red.idat'\n",
       "3. 'GSE191276/GSM5742875_202702240141_R06C01_Grn.idat'\n",
       "4. 'GSE191276/GSM5742875_202702240141_R06C01_Red.idat'\n",
       "5. 'GSE191276/GSM5742876_202702240141_R08C01_Grn.idat'\n",
       "6. 'GSE191276/GSM5742876_202702240141_R08C01_Red.idat'\n",
       "\n",
       "\n"
      ],
      "text/plain": [
       "[[1]]\n",
       "[1] \"GSE191276/GSM5742874_202702240141_R05C01_Grn.idat\"\n",
       "\n",
       "[[2]]\n",
       "[1] \"GSE191276/GSM5742874_202702240141_R05C01_Red.idat\"\n",
       "\n",
       "[[3]]\n",
       "[1] \"GSE191276/GSM5742875_202702240141_R06C01_Grn.idat\"\n",
       "\n",
       "[[4]]\n",
       "[1] \"GSE191276/GSM5742875_202702240141_R06C01_Red.idat\"\n",
       "\n",
       "[[5]]\n",
       "[1] \"GSE191276/GSM5742876_202702240141_R08C01_Grn.idat\"\n",
       "\n",
       "[[6]]\n",
       "[1] \"GSE191276/GSM5742876_202702240141_R08C01_Red.idat\"\n"
      ]
     },
     "metadata": {},
     "output_type": "display_data"
    }
   ],
   "source": [
    "####################################\n",
    "# criando sheet \n",
    "####################################\n",
    "\n",
    "\n",
    "idat_filelist <- list()\n",
    "\n",
    "for( file in list.files(dataDirectory, recursive = TRUE) ){\n",
    " if(endsWith(file, \".idat\")){\n",
    "     idat_filelist <- c(idat_filelist, file)\n",
    "     }\n",
    "}\n",
    "head(idat_filelist)"
   ]
  },
  {
   "cell_type": "code",
   "execution_count": 26,
   "id": "1dde9ce8-aa99-48de-848f-8790e6b8bfa2",
   "metadata": {},
   "outputs": [],
   "source": [
    "#Create a matrix for the phenofile\n",
    "sheet = as.matrix(matrix(nrow = length(idat_filelist), ncol = 5))\n",
    "colnames(sheet) =c(\"GeoID\",\"SampleID\",\"Basename\",\"Sentrix_ID\",\"Sentrix_Position\")"
   ]
  },
  {
   "cell_type": "code",
   "execution_count": 27,
   "id": "3c66489f-8743-46b4-af69-b15dc8a194fa",
   "metadata": {},
   "outputs": [
    {
     "data": {
      "text/html": [
       "<table class=\"dataframe\">\n",
       "<caption>A matrix: 28 × 5 of type lgl</caption>\n",
       "<thead>\n",
       "\t<tr><th scope=col>GeoID</th><th scope=col>SampleID</th><th scope=col>Basename</th><th scope=col>Sentrix_ID</th><th scope=col>Sentrix_Position</th></tr>\n",
       "</thead>\n",
       "<tbody>\n",
       "\t<tr><td>NA</td><td>NA</td><td>NA</td><td>NA</td><td>NA</td></tr>\n",
       "\t<tr><td>NA</td><td>NA</td><td>NA</td><td>NA</td><td>NA</td></tr>\n",
       "\t<tr><td>NA</td><td>NA</td><td>NA</td><td>NA</td><td>NA</td></tr>\n",
       "\t<tr><td>NA</td><td>NA</td><td>NA</td><td>NA</td><td>NA</td></tr>\n",
       "\t<tr><td>NA</td><td>NA</td><td>NA</td><td>NA</td><td>NA</td></tr>\n",
       "\t<tr><td>NA</td><td>NA</td><td>NA</td><td>NA</td><td>NA</td></tr>\n",
       "\t<tr><td>NA</td><td>NA</td><td>NA</td><td>NA</td><td>NA</td></tr>\n",
       "\t<tr><td>NA</td><td>NA</td><td>NA</td><td>NA</td><td>NA</td></tr>\n",
       "\t<tr><td>NA</td><td>NA</td><td>NA</td><td>NA</td><td>NA</td></tr>\n",
       "\t<tr><td>NA</td><td>NA</td><td>NA</td><td>NA</td><td>NA</td></tr>\n",
       "\t<tr><td>NA</td><td>NA</td><td>NA</td><td>NA</td><td>NA</td></tr>\n",
       "\t<tr><td>NA</td><td>NA</td><td>NA</td><td>NA</td><td>NA</td></tr>\n",
       "\t<tr><td>NA</td><td>NA</td><td>NA</td><td>NA</td><td>NA</td></tr>\n",
       "\t<tr><td>NA</td><td>NA</td><td>NA</td><td>NA</td><td>NA</td></tr>\n",
       "\t<tr><td>NA</td><td>NA</td><td>NA</td><td>NA</td><td>NA</td></tr>\n",
       "\t<tr><td>NA</td><td>NA</td><td>NA</td><td>NA</td><td>NA</td></tr>\n",
       "\t<tr><td>NA</td><td>NA</td><td>NA</td><td>NA</td><td>NA</td></tr>\n",
       "\t<tr><td>NA</td><td>NA</td><td>NA</td><td>NA</td><td>NA</td></tr>\n",
       "\t<tr><td>NA</td><td>NA</td><td>NA</td><td>NA</td><td>NA</td></tr>\n",
       "\t<tr><td>NA</td><td>NA</td><td>NA</td><td>NA</td><td>NA</td></tr>\n",
       "\t<tr><td>NA</td><td>NA</td><td>NA</td><td>NA</td><td>NA</td></tr>\n",
       "\t<tr><td>NA</td><td>NA</td><td>NA</td><td>NA</td><td>NA</td></tr>\n",
       "\t<tr><td>NA</td><td>NA</td><td>NA</td><td>NA</td><td>NA</td></tr>\n",
       "\t<tr><td>NA</td><td>NA</td><td>NA</td><td>NA</td><td>NA</td></tr>\n",
       "\t<tr><td>NA</td><td>NA</td><td>NA</td><td>NA</td><td>NA</td></tr>\n",
       "\t<tr><td>NA</td><td>NA</td><td>NA</td><td>NA</td><td>NA</td></tr>\n",
       "\t<tr><td>NA</td><td>NA</td><td>NA</td><td>NA</td><td>NA</td></tr>\n",
       "\t<tr><td>NA</td><td>NA</td><td>NA</td><td>NA</td><td>NA</td></tr>\n",
       "</tbody>\n",
       "</table>\n"
      ],
      "text/latex": [
       "A matrix: 28 × 5 of type lgl\n",
       "\\begin{tabular}{lllll}\n",
       " GeoID & SampleID & Basename & Sentrix\\_ID & Sentrix\\_Position\\\\\n",
       "\\hline\n",
       "\t NA & NA & NA & NA & NA\\\\\n",
       "\t NA & NA & NA & NA & NA\\\\\n",
       "\t NA & NA & NA & NA & NA\\\\\n",
       "\t NA & NA & NA & NA & NA\\\\\n",
       "\t NA & NA & NA & NA & NA\\\\\n",
       "\t NA & NA & NA & NA & NA\\\\\n",
       "\t NA & NA & NA & NA & NA\\\\\n",
       "\t NA & NA & NA & NA & NA\\\\\n",
       "\t NA & NA & NA & NA & NA\\\\\n",
       "\t NA & NA & NA & NA & NA\\\\\n",
       "\t NA & NA & NA & NA & NA\\\\\n",
       "\t NA & NA & NA & NA & NA\\\\\n",
       "\t NA & NA & NA & NA & NA\\\\\n",
       "\t NA & NA & NA & NA & NA\\\\\n",
       "\t NA & NA & NA & NA & NA\\\\\n",
       "\t NA & NA & NA & NA & NA\\\\\n",
       "\t NA & NA & NA & NA & NA\\\\\n",
       "\t NA & NA & NA & NA & NA\\\\\n",
       "\t NA & NA & NA & NA & NA\\\\\n",
       "\t NA & NA & NA & NA & NA\\\\\n",
       "\t NA & NA & NA & NA & NA\\\\\n",
       "\t NA & NA & NA & NA & NA\\\\\n",
       "\t NA & NA & NA & NA & NA\\\\\n",
       "\t NA & NA & NA & NA & NA\\\\\n",
       "\t NA & NA & NA & NA & NA\\\\\n",
       "\t NA & NA & NA & NA & NA\\\\\n",
       "\t NA & NA & NA & NA & NA\\\\\n",
       "\t NA & NA & NA & NA & NA\\\\\n",
       "\\end{tabular}\n"
      ],
      "text/markdown": [
       "\n",
       "A matrix: 28 × 5 of type lgl\n",
       "\n",
       "| GeoID | SampleID | Basename | Sentrix_ID | Sentrix_Position |\n",
       "|---|---|---|---|---|\n",
       "| NA | NA | NA | NA | NA |\n",
       "| NA | NA | NA | NA | NA |\n",
       "| NA | NA | NA | NA | NA |\n",
       "| NA | NA | NA | NA | NA |\n",
       "| NA | NA | NA | NA | NA |\n",
       "| NA | NA | NA | NA | NA |\n",
       "| NA | NA | NA | NA | NA |\n",
       "| NA | NA | NA | NA | NA |\n",
       "| NA | NA | NA | NA | NA |\n",
       "| NA | NA | NA | NA | NA |\n",
       "| NA | NA | NA | NA | NA |\n",
       "| NA | NA | NA | NA | NA |\n",
       "| NA | NA | NA | NA | NA |\n",
       "| NA | NA | NA | NA | NA |\n",
       "| NA | NA | NA | NA | NA |\n",
       "| NA | NA | NA | NA | NA |\n",
       "| NA | NA | NA | NA | NA |\n",
       "| NA | NA | NA | NA | NA |\n",
       "| NA | NA | NA | NA | NA |\n",
       "| NA | NA | NA | NA | NA |\n",
       "| NA | NA | NA | NA | NA |\n",
       "| NA | NA | NA | NA | NA |\n",
       "| NA | NA | NA | NA | NA |\n",
       "| NA | NA | NA | NA | NA |\n",
       "| NA | NA | NA | NA | NA |\n",
       "| NA | NA | NA | NA | NA |\n",
       "| NA | NA | NA | NA | NA |\n",
       "| NA | NA | NA | NA | NA |\n",
       "\n"
      ],
      "text/plain": [
       "      GeoID SampleID Basename Sentrix_ID Sentrix_Position\n",
       " [1,] NA    NA       NA       NA         NA              \n",
       " [2,] NA    NA       NA       NA         NA              \n",
       " [3,] NA    NA       NA       NA         NA              \n",
       " [4,] NA    NA       NA       NA         NA              \n",
       " [5,] NA    NA       NA       NA         NA              \n",
       " [6,] NA    NA       NA       NA         NA              \n",
       " [7,] NA    NA       NA       NA         NA              \n",
       " [8,] NA    NA       NA       NA         NA              \n",
       " [9,] NA    NA       NA       NA         NA              \n",
       "[10,] NA    NA       NA       NA         NA              \n",
       "[11,] NA    NA       NA       NA         NA              \n",
       "[12,] NA    NA       NA       NA         NA              \n",
       "[13,] NA    NA       NA       NA         NA              \n",
       "[14,] NA    NA       NA       NA         NA              \n",
       "[15,] NA    NA       NA       NA         NA              \n",
       "[16,] NA    NA       NA       NA         NA              \n",
       "[17,] NA    NA       NA       NA         NA              \n",
       "[18,] NA    NA       NA       NA         NA              \n",
       "[19,] NA    NA       NA       NA         NA              \n",
       "[20,] NA    NA       NA       NA         NA              \n",
       "[21,] NA    NA       NA       NA         NA              \n",
       "[22,] NA    NA       NA       NA         NA              \n",
       "[23,] NA    NA       NA       NA         NA              \n",
       "[24,] NA    NA       NA       NA         NA              \n",
       "[25,] NA    NA       NA       NA         NA              \n",
       "[26,] NA    NA       NA       NA         NA              \n",
       "[27,] NA    NA       NA       NA         NA              \n",
       "[28,] NA    NA       NA       NA         NA              "
      ]
     },
     "metadata": {},
     "output_type": "display_data"
    }
   ],
   "source": [
    "sheet\n"
   ]
  },
  {
   "cell_type": "code",
   "execution_count": 28,
   "id": "5078c20d-4414-44c9-b276-748655c9624d",
   "metadata": {},
   "outputs": [],
   "source": [
    "for (i in seq(1,length(idat_filelist))){\n",
    "    split_name=strsplit(idat_filelist[[i]], split='_', fixed=TRUE)\n",
    "\n",
    "    #GeoID\n",
    "    sheet[i,1] = split_name[[1]][1]\n",
    "    #SampleID\n",
    "    sheet[i,2]=paste(split_name[[1]][2],split_name[[1]][3],sep=\"_\")\n",
    "    #Basename\n",
    "    #   Obs: incluir o caminho de onde os arquivos idat estão salvos, nesse caso, é nosso working directory. \n",
    "    #        > getwd() \n",
    "    #        [1] \"/home/iago/Documents/Epigenetica_curso_pipeline/GEOdata\"\n",
    "    sheet[i,3]=paste(split_name[[1]][1],split_name[[1]][2],split_name[[1]][3],sep=\"_\")\n",
    "    #Sentrix_ID\n",
    "    sheet[i,4]=split_name[[1]][2]\n",
    "    #SentrixPosition\n",
    "    sheet[i,5]=split_name[[1]][3]\n",
    "    }\n",
    "\n",
    "#Sheet está duplicada, já que temos um idat para cada canal \n",
    "sheet = sheet[duplicated(sheet),]"
   ]
  },
  {
   "cell_type": "code",
   "execution_count": 29,
   "id": "fda7660a-af0d-4116-a78d-b3231fbcf0e1",
   "metadata": {},
   "outputs": [
    {
     "data": {
      "text/html": [
       "<table class=\"dataframe\">\n",
       "<caption>A matrix: 14 × 5 of type chr</caption>\n",
       "<thead>\n",
       "\t<tr><th scope=col>GeoID</th><th scope=col>SampleID</th><th scope=col>Basename</th><th scope=col>Sentrix_ID</th><th scope=col>Sentrix_Position</th></tr>\n",
       "</thead>\n",
       "<tbody>\n",
       "\t<tr><td>GSE191276/GSM5742874</td><td>202702240141_R05C01</td><td>GSE191276/GSM5742874_202702240141_R05C01</td><td>202702240141</td><td>R05C01</td></tr>\n",
       "\t<tr><td>GSE191276/GSM5742875</td><td>202702240141_R06C01</td><td>GSE191276/GSM5742875_202702240141_R06C01</td><td>202702240141</td><td>R06C01</td></tr>\n",
       "\t<tr><td>GSE191276/GSM5742876</td><td>202702240141_R08C01</td><td>GSE191276/GSM5742876_202702240141_R08C01</td><td>202702240141</td><td>R08C01</td></tr>\n",
       "\t<tr><td>GSE191276/GSM5742877</td><td>204088150175_R01C01</td><td>GSE191276/GSM5742877_204088150175_R01C01</td><td>204088150175</td><td>R01C01</td></tr>\n",
       "\t<tr><td>GSE191276/GSM5742878</td><td>204088150175_R02C01</td><td>GSE191276/GSM5742878_204088150175_R02C01</td><td>204088150175</td><td>R02C01</td></tr>\n",
       "\t<tr><td>GSE191276/GSM5742879</td><td>204088150175_R03C01</td><td>GSE191276/GSM5742879_204088150175_R03C01</td><td>204088150175</td><td>R03C01</td></tr>\n",
       "\t<tr><td>GSE191276/GSM5742880</td><td>204088150175_R04C01</td><td>GSE191276/GSM5742880_204088150175_R04C01</td><td>204088150175</td><td>R04C01</td></tr>\n",
       "\t<tr><td>GSM5742874          </td><td>202702240141_R05C01</td><td>GSM5742874_202702240141_R05C01          </td><td>202702240141</td><td>R05C01</td></tr>\n",
       "\t<tr><td>GSM5742875          </td><td>202702240141_R06C01</td><td>GSM5742875_202702240141_R06C01          </td><td>202702240141</td><td>R06C01</td></tr>\n",
       "\t<tr><td>GSM5742876          </td><td>202702240141_R08C01</td><td>GSM5742876_202702240141_R08C01          </td><td>202702240141</td><td>R08C01</td></tr>\n",
       "\t<tr><td>GSM5742877          </td><td>204088150175_R01C01</td><td>GSM5742877_204088150175_R01C01          </td><td>204088150175</td><td>R01C01</td></tr>\n",
       "\t<tr><td>GSM5742878          </td><td>204088150175_R02C01</td><td>GSM5742878_204088150175_R02C01          </td><td>204088150175</td><td>R02C01</td></tr>\n",
       "\t<tr><td>GSM5742879          </td><td>204088150175_R03C01</td><td>GSM5742879_204088150175_R03C01          </td><td>204088150175</td><td>R03C01</td></tr>\n",
       "\t<tr><td>GSM5742880          </td><td>204088150175_R04C01</td><td>GSM5742880_204088150175_R04C01          </td><td>204088150175</td><td>R04C01</td></tr>\n",
       "</tbody>\n",
       "</table>\n"
      ],
      "text/latex": [
       "A matrix: 14 × 5 of type chr\n",
       "\\begin{tabular}{lllll}\n",
       " GeoID & SampleID & Basename & Sentrix\\_ID & Sentrix\\_Position\\\\\n",
       "\\hline\n",
       "\t GSE191276/GSM5742874 & 202702240141\\_R05C01 & GSE191276/GSM5742874\\_202702240141\\_R05C01 & 202702240141 & R05C01\\\\\n",
       "\t GSE191276/GSM5742875 & 202702240141\\_R06C01 & GSE191276/GSM5742875\\_202702240141\\_R06C01 & 202702240141 & R06C01\\\\\n",
       "\t GSE191276/GSM5742876 & 202702240141\\_R08C01 & GSE191276/GSM5742876\\_202702240141\\_R08C01 & 202702240141 & R08C01\\\\\n",
       "\t GSE191276/GSM5742877 & 204088150175\\_R01C01 & GSE191276/GSM5742877\\_204088150175\\_R01C01 & 204088150175 & R01C01\\\\\n",
       "\t GSE191276/GSM5742878 & 204088150175\\_R02C01 & GSE191276/GSM5742878\\_204088150175\\_R02C01 & 204088150175 & R02C01\\\\\n",
       "\t GSE191276/GSM5742879 & 204088150175\\_R03C01 & GSE191276/GSM5742879\\_204088150175\\_R03C01 & 204088150175 & R03C01\\\\\n",
       "\t GSE191276/GSM5742880 & 204088150175\\_R04C01 & GSE191276/GSM5742880\\_204088150175\\_R04C01 & 204088150175 & R04C01\\\\\n",
       "\t GSM5742874           & 202702240141\\_R05C01 & GSM5742874\\_202702240141\\_R05C01           & 202702240141 & R05C01\\\\\n",
       "\t GSM5742875           & 202702240141\\_R06C01 & GSM5742875\\_202702240141\\_R06C01           & 202702240141 & R06C01\\\\\n",
       "\t GSM5742876           & 202702240141\\_R08C01 & GSM5742876\\_202702240141\\_R08C01           & 202702240141 & R08C01\\\\\n",
       "\t GSM5742877           & 204088150175\\_R01C01 & GSM5742877\\_204088150175\\_R01C01           & 204088150175 & R01C01\\\\\n",
       "\t GSM5742878           & 204088150175\\_R02C01 & GSM5742878\\_204088150175\\_R02C01           & 204088150175 & R02C01\\\\\n",
       "\t GSM5742879           & 204088150175\\_R03C01 & GSM5742879\\_204088150175\\_R03C01           & 204088150175 & R03C01\\\\\n",
       "\t GSM5742880           & 204088150175\\_R04C01 & GSM5742880\\_204088150175\\_R04C01           & 204088150175 & R04C01\\\\\n",
       "\\end{tabular}\n"
      ],
      "text/markdown": [
       "\n",
       "A matrix: 14 × 5 of type chr\n",
       "\n",
       "| GeoID | SampleID | Basename | Sentrix_ID | Sentrix_Position |\n",
       "|---|---|---|---|---|\n",
       "| GSE191276/GSM5742874 | 202702240141_R05C01 | GSE191276/GSM5742874_202702240141_R05C01 | 202702240141 | R05C01 |\n",
       "| GSE191276/GSM5742875 | 202702240141_R06C01 | GSE191276/GSM5742875_202702240141_R06C01 | 202702240141 | R06C01 |\n",
       "| GSE191276/GSM5742876 | 202702240141_R08C01 | GSE191276/GSM5742876_202702240141_R08C01 | 202702240141 | R08C01 |\n",
       "| GSE191276/GSM5742877 | 204088150175_R01C01 | GSE191276/GSM5742877_204088150175_R01C01 | 204088150175 | R01C01 |\n",
       "| GSE191276/GSM5742878 | 204088150175_R02C01 | GSE191276/GSM5742878_204088150175_R02C01 | 204088150175 | R02C01 |\n",
       "| GSE191276/GSM5742879 | 204088150175_R03C01 | GSE191276/GSM5742879_204088150175_R03C01 | 204088150175 | R03C01 |\n",
       "| GSE191276/GSM5742880 | 204088150175_R04C01 | GSE191276/GSM5742880_204088150175_R04C01 | 204088150175 | R04C01 |\n",
       "| GSM5742874           | 202702240141_R05C01 | GSM5742874_202702240141_R05C01           | 202702240141 | R05C01 |\n",
       "| GSM5742875           | 202702240141_R06C01 | GSM5742875_202702240141_R06C01           | 202702240141 | R06C01 |\n",
       "| GSM5742876           | 202702240141_R08C01 | GSM5742876_202702240141_R08C01           | 202702240141 | R08C01 |\n",
       "| GSM5742877           | 204088150175_R01C01 | GSM5742877_204088150175_R01C01           | 204088150175 | R01C01 |\n",
       "| GSM5742878           | 204088150175_R02C01 | GSM5742878_204088150175_R02C01           | 204088150175 | R02C01 |\n",
       "| GSM5742879           | 204088150175_R03C01 | GSM5742879_204088150175_R03C01           | 204088150175 | R03C01 |\n",
       "| GSM5742880           | 204088150175_R04C01 | GSM5742880_204088150175_R04C01           | 204088150175 | R04C01 |\n",
       "\n"
      ],
      "text/plain": [
       "      GeoID                SampleID           \n",
       " [1,] GSE191276/GSM5742874 202702240141_R05C01\n",
       " [2,] GSE191276/GSM5742875 202702240141_R06C01\n",
       " [3,] GSE191276/GSM5742876 202702240141_R08C01\n",
       " [4,] GSE191276/GSM5742877 204088150175_R01C01\n",
       " [5,] GSE191276/GSM5742878 204088150175_R02C01\n",
       " [6,] GSE191276/GSM5742879 204088150175_R03C01\n",
       " [7,] GSE191276/GSM5742880 204088150175_R04C01\n",
       " [8,] GSM5742874           202702240141_R05C01\n",
       " [9,] GSM5742875           202702240141_R06C01\n",
       "[10,] GSM5742876           202702240141_R08C01\n",
       "[11,] GSM5742877           204088150175_R01C01\n",
       "[12,] GSM5742878           204088150175_R02C01\n",
       "[13,] GSM5742879           204088150175_R03C01\n",
       "[14,] GSM5742880           204088150175_R04C01\n",
       "      Basename                                 Sentrix_ID   Sentrix_Position\n",
       " [1,] GSE191276/GSM5742874_202702240141_R05C01 202702240141 R05C01          \n",
       " [2,] GSE191276/GSM5742875_202702240141_R06C01 202702240141 R06C01          \n",
       " [3,] GSE191276/GSM5742876_202702240141_R08C01 202702240141 R08C01          \n",
       " [4,] GSE191276/GSM5742877_204088150175_R01C01 204088150175 R01C01          \n",
       " [5,] GSE191276/GSM5742878_204088150175_R02C01 204088150175 R02C01          \n",
       " [6,] GSE191276/GSM5742879_204088150175_R03C01 204088150175 R03C01          \n",
       " [7,] GSE191276/GSM5742880_204088150175_R04C01 204088150175 R04C01          \n",
       " [8,] GSM5742874_202702240141_R05C01           202702240141 R05C01          \n",
       " [9,] GSM5742875_202702240141_R06C01           202702240141 R06C01          \n",
       "[10,] GSM5742876_202702240141_R08C01           202702240141 R08C01          \n",
       "[11,] GSM5742877_204088150175_R01C01           204088150175 R01C01          \n",
       "[12,] GSM5742878_204088150175_R02C01           204088150175 R02C01          \n",
       "[13,] GSM5742879_204088150175_R03C01           204088150175 R03C01          \n",
       "[14,] GSM5742880_204088150175_R04C01           204088150175 R04C01          "
      ]
     },
     "metadata": {},
     "output_type": "display_data"
    }
   ],
   "source": [
    "sheet"
   ]
  },
  {
   "cell_type": "code",
   "execution_count": 30,
   "id": "9024c812-17a8-4952-b141-4ab05c1643c3",
   "metadata": {},
   "outputs": [
    {
     "data": {
      "text/html": [
       "<table class=\"dataframe\">\n",
       "<caption>A data.frame: 6 × 4</caption>\n",
       "<thead>\n",
       "\t<tr><th></th><th scope=col>age (years):ch1</th><th scope=col>Sex:ch1</th><th scope=col>case control status:ch1</th><th scope=col>self-declared ancestry:ch1</th></tr>\n",
       "\t<tr><th></th><th scope=col>&lt;chr&gt;</th><th scope=col>&lt;chr&gt;</th><th scope=col>&lt;chr&gt;</th><th scope=col>&lt;chr&gt;</th></tr>\n",
       "</thead>\n",
       "<tbody>\n",
       "\t<tr><th scope=row>GSM5742874</th><td>NA  </td><td>NA</td><td>Pooled controls</td><td>NA                             </td></tr>\n",
       "\t<tr><th scope=row>GSM5742875</th><td>17.8</td><td>F </td><td>Case           </td><td>Asian                          </td></tr>\n",
       "\t<tr><th scope=row>GSM5742876</th><td>27  </td><td>M </td><td>Case           </td><td>White                          </td></tr>\n",
       "\t<tr><th scope=row>GSM5742877</th><td>20.9</td><td>M </td><td>Case           </td><td>Asian                          </td></tr>\n",
       "\t<tr><th scope=row>GSM5742878</th><td>18.5</td><td>F </td><td>Control        </td><td>Unknown (Anonymous blood donor)</td></tr>\n",
       "\t<tr><th scope=row>GSM5742879</th><td>21  </td><td>M </td><td>Control        </td><td>Unknown (Anonymous blood donor)</td></tr>\n",
       "</tbody>\n",
       "</table>\n"
      ],
      "text/latex": [
       "A data.frame: 6 × 4\n",
       "\\begin{tabular}{r|llll}\n",
       "  & age (years):ch1 & Sex:ch1 & case control status:ch1 & self-declared ancestry:ch1\\\\\n",
       "  & <chr> & <chr> & <chr> & <chr>\\\\\n",
       "\\hline\n",
       "\tGSM5742874 & NA   & NA & Pooled controls & NA                             \\\\\n",
       "\tGSM5742875 & 17.8 & F  & Case            & Asian                          \\\\\n",
       "\tGSM5742876 & 27   & M  & Case            & White                          \\\\\n",
       "\tGSM5742877 & 20.9 & M  & Case            & Asian                          \\\\\n",
       "\tGSM5742878 & 18.5 & F  & Control         & Unknown (Anonymous blood donor)\\\\\n",
       "\tGSM5742879 & 21   & M  & Control         & Unknown (Anonymous blood donor)\\\\\n",
       "\\end{tabular}\n"
      ],
      "text/markdown": [
       "\n",
       "A data.frame: 6 × 4\n",
       "\n",
       "| <!--/--> | age (years):ch1 &lt;chr&gt; | Sex:ch1 &lt;chr&gt; | case control status:ch1 &lt;chr&gt; | self-declared ancestry:ch1 &lt;chr&gt; |\n",
       "|---|---|---|---|---|\n",
       "| GSM5742874 | NA   | NA | Pooled controls | NA                              |\n",
       "| GSM5742875 | 17.8 | F  | Case            | Asian                           |\n",
       "| GSM5742876 | 27   | M  | Case            | White                           |\n",
       "| GSM5742877 | 20.9 | M  | Case            | Asian                           |\n",
       "| GSM5742878 | 18.5 | F  | Control         | Unknown (Anonymous blood donor) |\n",
       "| GSM5742879 | 21   | M  | Control         | Unknown (Anonymous blood donor) |\n",
       "\n"
      ],
      "text/plain": [
       "           age (years):ch1 Sex:ch1 case control status:ch1\n",
       "GSM5742874 NA              NA      Pooled controls        \n",
       "GSM5742875 17.8            F       Case                   \n",
       "GSM5742876 27              M       Case                   \n",
       "GSM5742877 20.9            M       Case                   \n",
       "GSM5742878 18.5            F       Control                \n",
       "GSM5742879 21              M       Control                \n",
       "           self-declared ancestry:ch1     \n",
       "GSM5742874 NA                             \n",
       "GSM5742875 Asian                          \n",
       "GSM5742876 White                          \n",
       "GSM5742877 Asian                          \n",
       "GSM5742878 Unknown (Anonymous blood donor)\n",
       "GSM5742879 Unknown (Anonymous blood donor)"
      ]
     },
     "metadata": {},
     "output_type": "display_data"
    },
    {
     "data": {
      "text/html": [
       "<table class=\"dataframe\">\n",
       "<caption>A data.frame: 7 × 9</caption>\n",
       "<thead>\n",
       "\t<tr><th scope=col>GeoID</th><th scope=col>SampleID</th><th scope=col>Basename</th><th scope=col>Sentrix_ID</th><th scope=col>Sentrix_Position</th><th scope=col>Age</th><th scope=col>Sex</th><th scope=col>case-control</th><th scope=col>ancestry</th></tr>\n",
       "\t<tr><th scope=col>&lt;chr&gt;</th><th scope=col>&lt;chr&gt;</th><th scope=col>&lt;chr&gt;</th><th scope=col>&lt;chr&gt;</th><th scope=col>&lt;chr&gt;</th><th scope=col>&lt;chr&gt;</th><th scope=col>&lt;chr&gt;</th><th scope=col>&lt;chr&gt;</th><th scope=col>&lt;chr&gt;</th></tr>\n",
       "</thead>\n",
       "<tbody>\n",
       "\t<tr><td>GSM5742874</td><td>202702240141_R05C01</td><td>GSM5742874_202702240141_R05C01</td><td>202702240141</td><td>R05C01</td><td>NA  </td><td>NA</td><td>Pooled controls</td><td>NA                             </td></tr>\n",
       "\t<tr><td>GSM5742875</td><td>202702240141_R06C01</td><td>GSM5742875_202702240141_R06C01</td><td>202702240141</td><td>R06C01</td><td>17.8</td><td>F </td><td>Case           </td><td>Asian                          </td></tr>\n",
       "\t<tr><td>GSM5742876</td><td>202702240141_R08C01</td><td>GSM5742876_202702240141_R08C01</td><td>202702240141</td><td>R08C01</td><td>27  </td><td>M </td><td>Case           </td><td>White                          </td></tr>\n",
       "\t<tr><td>GSM5742877</td><td>204088150175_R01C01</td><td>GSM5742877_204088150175_R01C01</td><td>204088150175</td><td>R01C01</td><td>20.9</td><td>M </td><td>Case           </td><td>Asian                          </td></tr>\n",
       "\t<tr><td>GSM5742878</td><td>204088150175_R02C01</td><td>GSM5742878_204088150175_R02C01</td><td>204088150175</td><td>R02C01</td><td>18.5</td><td>F </td><td>Control        </td><td>Unknown (Anonymous blood donor)</td></tr>\n",
       "\t<tr><td>GSM5742879</td><td>204088150175_R03C01</td><td>GSM5742879_204088150175_R03C01</td><td>204088150175</td><td>R03C01</td><td>21  </td><td>M </td><td>Control        </td><td>Unknown (Anonymous blood donor)</td></tr>\n",
       "\t<tr><td>GSM5742880</td><td>204088150175_R04C01</td><td>GSM5742880_204088150175_R04C01</td><td>204088150175</td><td>R04C01</td><td>25  </td><td>M </td><td>Control        </td><td>Unknown (Anonymous blood donor)</td></tr>\n",
       "</tbody>\n",
       "</table>\n"
      ],
      "text/latex": [
       "A data.frame: 7 × 9\n",
       "\\begin{tabular}{lllllllll}\n",
       " GeoID & SampleID & Basename & Sentrix\\_ID & Sentrix\\_Position & Age & Sex & case-control & ancestry\\\\\n",
       " <chr> & <chr> & <chr> & <chr> & <chr> & <chr> & <chr> & <chr> & <chr>\\\\\n",
       "\\hline\n",
       "\t GSM5742874 & 202702240141\\_R05C01 & GSM5742874\\_202702240141\\_R05C01 & 202702240141 & R05C01 & NA   & NA & Pooled controls & NA                             \\\\\n",
       "\t GSM5742875 & 202702240141\\_R06C01 & GSM5742875\\_202702240141\\_R06C01 & 202702240141 & R06C01 & 17.8 & F  & Case            & Asian                          \\\\\n",
       "\t GSM5742876 & 202702240141\\_R08C01 & GSM5742876\\_202702240141\\_R08C01 & 202702240141 & R08C01 & 27   & M  & Case            & White                          \\\\\n",
       "\t GSM5742877 & 204088150175\\_R01C01 & GSM5742877\\_204088150175\\_R01C01 & 204088150175 & R01C01 & 20.9 & M  & Case            & Asian                          \\\\\n",
       "\t GSM5742878 & 204088150175\\_R02C01 & GSM5742878\\_204088150175\\_R02C01 & 204088150175 & R02C01 & 18.5 & F  & Control         & Unknown (Anonymous blood donor)\\\\\n",
       "\t GSM5742879 & 204088150175\\_R03C01 & GSM5742879\\_204088150175\\_R03C01 & 204088150175 & R03C01 & 21   & M  & Control         & Unknown (Anonymous blood donor)\\\\\n",
       "\t GSM5742880 & 204088150175\\_R04C01 & GSM5742880\\_204088150175\\_R04C01 & 204088150175 & R04C01 & 25   & M  & Control         & Unknown (Anonymous blood donor)\\\\\n",
       "\\end{tabular}\n"
      ],
      "text/markdown": [
       "\n",
       "A data.frame: 7 × 9\n",
       "\n",
       "| GeoID &lt;chr&gt; | SampleID &lt;chr&gt; | Basename &lt;chr&gt; | Sentrix_ID &lt;chr&gt; | Sentrix_Position &lt;chr&gt; | Age &lt;chr&gt; | Sex &lt;chr&gt; | case-control &lt;chr&gt; | ancestry &lt;chr&gt; |\n",
       "|---|---|---|---|---|---|---|---|---|\n",
       "| GSM5742874 | 202702240141_R05C01 | GSM5742874_202702240141_R05C01 | 202702240141 | R05C01 | NA   | NA | Pooled controls | NA                              |\n",
       "| GSM5742875 | 202702240141_R06C01 | GSM5742875_202702240141_R06C01 | 202702240141 | R06C01 | 17.8 | F  | Case            | Asian                           |\n",
       "| GSM5742876 | 202702240141_R08C01 | GSM5742876_202702240141_R08C01 | 202702240141 | R08C01 | 27   | M  | Case            | White                           |\n",
       "| GSM5742877 | 204088150175_R01C01 | GSM5742877_204088150175_R01C01 | 204088150175 | R01C01 | 20.9 | M  | Case            | Asian                           |\n",
       "| GSM5742878 | 204088150175_R02C01 | GSM5742878_204088150175_R02C01 | 204088150175 | R02C01 | 18.5 | F  | Control         | Unknown (Anonymous blood donor) |\n",
       "| GSM5742879 | 204088150175_R03C01 | GSM5742879_204088150175_R03C01 | 204088150175 | R03C01 | 21   | M  | Control         | Unknown (Anonymous blood donor) |\n",
       "| GSM5742880 | 204088150175_R04C01 | GSM5742880_204088150175_R04C01 | 204088150175 | R04C01 | 25   | M  | Control         | Unknown (Anonymous blood donor) |\n",
       "\n"
      ],
      "text/plain": [
       "  GeoID      SampleID            Basename                       Sentrix_ID  \n",
       "1 GSM5742874 202702240141_R05C01 GSM5742874_202702240141_R05C01 202702240141\n",
       "2 GSM5742875 202702240141_R06C01 GSM5742875_202702240141_R06C01 202702240141\n",
       "3 GSM5742876 202702240141_R08C01 GSM5742876_202702240141_R08C01 202702240141\n",
       "4 GSM5742877 204088150175_R01C01 GSM5742877_204088150175_R01C01 204088150175\n",
       "5 GSM5742878 204088150175_R02C01 GSM5742878_204088150175_R02C01 204088150175\n",
       "6 GSM5742879 204088150175_R03C01 GSM5742879_204088150175_R03C01 204088150175\n",
       "7 GSM5742880 204088150175_R04C01 GSM5742880_204088150175_R04C01 204088150175\n",
       "  Sentrix_Position Age  Sex case-control    ancestry                       \n",
       "1 R05C01           NA   NA  Pooled controls NA                             \n",
       "2 R06C01           17.8 F   Case            Asian                          \n",
       "3 R08C01           27   M   Case            White                          \n",
       "4 R01C01           20.9 M   Case            Asian                          \n",
       "5 R02C01           18.5 F   Control         Unknown (Anonymous blood donor)\n",
       "6 R03C01           21   M   Control         Unknown (Anonymous blood donor)\n",
       "7 R04C01           25   M   Control         Unknown (Anonymous blood donor)"
      ]
     },
     "metadata": {},
     "output_type": "display_data"
    },
    {
     "data": {
      "text/html": [
       "<table class=\"dataframe\">\n",
       "<caption>A data.frame: 7 × 9</caption>\n",
       "<thead>\n",
       "\t<tr><th scope=col>GeoID</th><th scope=col>SampleID</th><th scope=col>Basename</th><th scope=col>Sentrix_ID</th><th scope=col>Sentrix_Position</th><th scope=col>Age</th><th scope=col>Sex</th><th scope=col>case-control</th><th scope=col>ancestry</th></tr>\n",
       "\t<tr><th scope=col>&lt;chr&gt;</th><th scope=col>&lt;chr&gt;</th><th scope=col>&lt;chr&gt;</th><th scope=col>&lt;chr&gt;</th><th scope=col>&lt;chr&gt;</th><th scope=col>&lt;chr&gt;</th><th scope=col>&lt;chr&gt;</th><th scope=col>&lt;chr&gt;</th><th scope=col>&lt;chr&gt;</th></tr>\n",
       "</thead>\n",
       "<tbody>\n",
       "\t<tr><td>GSM5742874</td><td>202702240141_R05C01</td><td>GSM5742874_202702240141_R05C01</td><td>202702240141</td><td>R05C01</td><td>NA  </td><td>undef</td><td>Pooled controls</td><td>NA                             </td></tr>\n",
       "\t<tr><td>GSM5742875</td><td>202702240141_R06C01</td><td>GSM5742875_202702240141_R06C01</td><td>202702240141</td><td>R06C01</td><td>17.8</td><td>F    </td><td>Case           </td><td>Asian                          </td></tr>\n",
       "\t<tr><td>GSM5742876</td><td>202702240141_R08C01</td><td>GSM5742876_202702240141_R08C01</td><td>202702240141</td><td>R08C01</td><td>27  </td><td>M    </td><td>Case           </td><td>White                          </td></tr>\n",
       "\t<tr><td>GSM5742877</td><td>204088150175_R01C01</td><td>GSM5742877_204088150175_R01C01</td><td>204088150175</td><td>R01C01</td><td>20.9</td><td>M    </td><td>Case           </td><td>Asian                          </td></tr>\n",
       "\t<tr><td>GSM5742878</td><td>204088150175_R02C01</td><td>GSM5742878_204088150175_R02C01</td><td>204088150175</td><td>R02C01</td><td>18.5</td><td>F    </td><td>Control        </td><td>Unknown (Anonymous blood donor)</td></tr>\n",
       "\t<tr><td>GSM5742879</td><td>204088150175_R03C01</td><td>GSM5742879_204088150175_R03C01</td><td>204088150175</td><td>R03C01</td><td>21  </td><td>M    </td><td>Control        </td><td>Unknown (Anonymous blood donor)</td></tr>\n",
       "\t<tr><td>GSM5742880</td><td>204088150175_R04C01</td><td>GSM5742880_204088150175_R04C01</td><td>204088150175</td><td>R04C01</td><td>25  </td><td>M    </td><td>Control        </td><td>Unknown (Anonymous blood donor)</td></tr>\n",
       "</tbody>\n",
       "</table>\n"
      ],
      "text/latex": [
       "A data.frame: 7 × 9\n",
       "\\begin{tabular}{lllllllll}\n",
       " GeoID & SampleID & Basename & Sentrix\\_ID & Sentrix\\_Position & Age & Sex & case-control & ancestry\\\\\n",
       " <chr> & <chr> & <chr> & <chr> & <chr> & <chr> & <chr> & <chr> & <chr>\\\\\n",
       "\\hline\n",
       "\t GSM5742874 & 202702240141\\_R05C01 & GSM5742874\\_202702240141\\_R05C01 & 202702240141 & R05C01 & NA   & undef & Pooled controls & NA                             \\\\\n",
       "\t GSM5742875 & 202702240141\\_R06C01 & GSM5742875\\_202702240141\\_R06C01 & 202702240141 & R06C01 & 17.8 & F     & Case            & Asian                          \\\\\n",
       "\t GSM5742876 & 202702240141\\_R08C01 & GSM5742876\\_202702240141\\_R08C01 & 202702240141 & R08C01 & 27   & M     & Case            & White                          \\\\\n",
       "\t GSM5742877 & 204088150175\\_R01C01 & GSM5742877\\_204088150175\\_R01C01 & 204088150175 & R01C01 & 20.9 & M     & Case            & Asian                          \\\\\n",
       "\t GSM5742878 & 204088150175\\_R02C01 & GSM5742878\\_204088150175\\_R02C01 & 204088150175 & R02C01 & 18.5 & F     & Control         & Unknown (Anonymous blood donor)\\\\\n",
       "\t GSM5742879 & 204088150175\\_R03C01 & GSM5742879\\_204088150175\\_R03C01 & 204088150175 & R03C01 & 21   & M     & Control         & Unknown (Anonymous blood donor)\\\\\n",
       "\t GSM5742880 & 204088150175\\_R04C01 & GSM5742880\\_204088150175\\_R04C01 & 204088150175 & R04C01 & 25   & M     & Control         & Unknown (Anonymous blood donor)\\\\\n",
       "\\end{tabular}\n"
      ],
      "text/markdown": [
       "\n",
       "A data.frame: 7 × 9\n",
       "\n",
       "| GeoID &lt;chr&gt; | SampleID &lt;chr&gt; | Basename &lt;chr&gt; | Sentrix_ID &lt;chr&gt; | Sentrix_Position &lt;chr&gt; | Age &lt;chr&gt; | Sex &lt;chr&gt; | case-control &lt;chr&gt; | ancestry &lt;chr&gt; |\n",
       "|---|---|---|---|---|---|---|---|---|\n",
       "| GSM5742874 | 202702240141_R05C01 | GSM5742874_202702240141_R05C01 | 202702240141 | R05C01 | NA   | undef | Pooled controls | NA                              |\n",
       "| GSM5742875 | 202702240141_R06C01 | GSM5742875_202702240141_R06C01 | 202702240141 | R06C01 | 17.8 | F     | Case            | Asian                           |\n",
       "| GSM5742876 | 202702240141_R08C01 | GSM5742876_202702240141_R08C01 | 202702240141 | R08C01 | 27   | M     | Case            | White                           |\n",
       "| GSM5742877 | 204088150175_R01C01 | GSM5742877_204088150175_R01C01 | 204088150175 | R01C01 | 20.9 | M     | Case            | Asian                           |\n",
       "| GSM5742878 | 204088150175_R02C01 | GSM5742878_204088150175_R02C01 | 204088150175 | R02C01 | 18.5 | F     | Control         | Unknown (Anonymous blood donor) |\n",
       "| GSM5742879 | 204088150175_R03C01 | GSM5742879_204088150175_R03C01 | 204088150175 | R03C01 | 21   | M     | Control         | Unknown (Anonymous blood donor) |\n",
       "| GSM5742880 | 204088150175_R04C01 | GSM5742880_204088150175_R04C01 | 204088150175 | R04C01 | 25   | M     | Control         | Unknown (Anonymous blood donor) |\n",
       "\n"
      ],
      "text/plain": [
       "  GeoID      SampleID            Basename                       Sentrix_ID  \n",
       "1 GSM5742874 202702240141_R05C01 GSM5742874_202702240141_R05C01 202702240141\n",
       "2 GSM5742875 202702240141_R06C01 GSM5742875_202702240141_R06C01 202702240141\n",
       "3 GSM5742876 202702240141_R08C01 GSM5742876_202702240141_R08C01 202702240141\n",
       "4 GSM5742877 204088150175_R01C01 GSM5742877_204088150175_R01C01 204088150175\n",
       "5 GSM5742878 204088150175_R02C01 GSM5742878_204088150175_R02C01 204088150175\n",
       "6 GSM5742879 204088150175_R03C01 GSM5742879_204088150175_R03C01 204088150175\n",
       "7 GSM5742880 204088150175_R04C01 GSM5742880_204088150175_R04C01 204088150175\n",
       "  Sentrix_Position Age  Sex   case-control    ancestry                       \n",
       "1 R05C01           NA   undef Pooled controls NA                             \n",
       "2 R06C01           17.8 F     Case            Asian                          \n",
       "3 R08C01           27   M     Case            White                          \n",
       "4 R01C01           20.9 M     Case            Asian                          \n",
       "5 R02C01           18.5 F     Control         Unknown (Anonymous blood donor)\n",
       "6 R03C01           21   M     Control         Unknown (Anonymous blood donor)\n",
       "7 R04C01           25   M     Control         Unknown (Anonymous blood donor)"
      ]
     },
     "metadata": {},
     "output_type": "display_data"
    }
   ],
   "source": [
    "head(pheno.df_sub)\n",
    "sheet <- merge(x=sheet, y=pheno.df_sub, by.x = \"GeoID\", by.y = \"row.names\")\n",
    "\n",
    "colnames(sheet) <- c(\"GeoID\",\"SampleID\",\"Basename\",\"Sentrix_ID\",\n",
    "                     \"Sentrix_Position\",\"Age\",\"Sex\",\"case-control\",\"ancestry\")\n",
    "\n",
    "#OBS nesta planilha a coluna de informação sexo biológico já está formatada como M e F \n",
    "sheet\n",
    "\n",
    "#sheet\n",
    "sheet$Sex <- ifelse(sheet$Sex %in% c(\"M\",\"F\"),sheet$Sex, \"undef\")\n",
    "\n",
    "sheet"
   ]
  },
  {
   "cell_type": "code",
   "execution_count": 32,
   "id": "57b12ca4-4a67-439e-b398-25770979e561",
   "metadata": {},
   "outputs": [],
   "source": [
    "write.csv(sheet, file = \"phenotype_file_GSE191276.csv\", quote=F, row.names= F)"
   ]
  },
  {
   "cell_type": "markdown",
   "id": "f7ea797c-016a-429f-a6db-a6202d3070bd",
   "metadata": {},
   "source": [
    "***\n",
    "### Agora, faremos do segundo pheno - GSE235207"
   ]
  },
  {
   "cell_type": "code",
   "execution_count": 37,
   "id": "5cfb71d1-a04b-4833-b422-b11e6a8cdd22",
   "metadata": {},
   "outputs": [],
   "source": [
    "rm(list=ls())"
   ]
  },
  {
   "cell_type": "code",
   "execution_count": 38,
   "id": "6da21f41-f42f-449c-9c6c-b75e29ae73f5",
   "metadata": {
    "scrolled": true
   },
   "outputs": [],
   "source": [
    "library(GEOquery)\n",
    "library(ewastools)\n",
    "system(\"mkdir -p /home/iago/Documents/Epigenetica_curso_pipeline/Exercicios/EX3/GSE235207\")\n",
    "setwd(\"/home/iago/Documents/Epigenetica_curso_pipeline/Exercicios/EX3/GSE235207\")\n",
    "\n",
    "date=\"June4th2024\"\n",
    "dataDirectory <- (\".\")"
   ]
  },
  {
   "cell_type": "code",
   "execution_count": 39,
   "id": "cf4a4ef5-8f29-460e-9c35-a5038d7faccc",
   "metadata": {
    "scrolled": true
   },
   "outputs": [
    {
     "name": "stderr",
     "output_type": "stream",
     "text": [
      "Found 1 file(s)\n",
      "\n",
      "GSE235207_series_matrix.txt.gz\n",
      "\n",
      "Using locally cached version: /tmp/Rtmp4CQIgh/GSE235207_series_matrix.txt.gz\n",
      "\n",
      "\u001b[1mRows: \u001b[22m\u001b[34m865918\u001b[39m \u001b[1mColumns: \u001b[22m\u001b[34m5\u001b[39m\n",
      "\u001b[36m──\u001b[39m \u001b[1mColumn specification\u001b[22m \u001b[36m────────────────────────────────────────────────────────\u001b[39m\n",
      "\u001b[1mDelimiter:\u001b[22m \"\\t\"\n",
      "\u001b[31mchr\u001b[39m (1): ID_REF\n",
      "\u001b[32mdbl\u001b[39m (4): GSM7496815, GSM7496816, GSM7496817, GSM7496818\n",
      "\n",
      "\u001b[36mℹ\u001b[39m Use `spec()` to retrieve the full column specification for this data.\n",
      "\u001b[36mℹ\u001b[39m Specify the column types or set `show_col_types = FALSE` to quiet this message.\n",
      "Using locally cached version of GPL21145 found here:\n",
      "/tmp/Rtmp4CQIgh/GPL21145.soft \n",
      "\n",
      "Warning message:\n",
      "“\u001b[1m\u001b[22mOne or more parsing issues, call `problems()` on your data frame for details,\n",
      "e.g.:\n",
      "  dat <- vroom(...)\n",
      "  problems(dat)”\n"
     ]
    },
    {
     "name": "stdout",
     "output_type": "stream",
     "text": [
      "$GSE235207_series_matrix.txt.gz\n",
      "ExpressionSet (storageMode: lockedEnvironment)\n",
      "assayData: 865918 features, 4 samples \n",
      "  element names: exprs \n",
      "protocolData: none\n",
      "phenoData\n",
      "  sampleNames: GSM7496815 GSM7496816 GSM7496817 GSM7496818\n",
      "  varLabels: title geo_accession ... RNAi:ch1 (38 total)\n",
      "  varMetadata: labelDescription\n",
      "featureData\n",
      "  featureNames: cg00000029 NA ... rs9839873 (865918 total)\n",
      "  fvarLabels: ID SPOT_ID ... SourceSeq (14 total)\n",
      "  fvarMetadata: Column Description labelDescription\n",
      "experimentData: use 'experimentData(object)'\n",
      "  pubMedIds: 38481314 \n",
      "Annotation: GPL21145 \n",
      "\n"
     ]
    }
   ],
   "source": [
    "gse <- getGEO(\"GSE235207\", GSEMatrix = TRUE)\n",
    "show(gse)"
   ]
  },
  {
   "cell_type": "code",
   "execution_count": 40,
   "id": "dc81e63c-3544-4a04-974b-3e2f44217841",
   "metadata": {},
   "outputs": [
    {
     "data": {
      "text/html": [
       "<table class=\"dataframe\">\n",
       "<caption>A data.frame: 4 × 38</caption>\n",
       "<thead>\n",
       "\t<tr><th></th><th scope=col>title</th><th scope=col>geo_accession</th><th scope=col>status</th><th scope=col>submission_date</th><th scope=col>last_update_date</th><th scope=col>type</th><th scope=col>channel_count</th><th scope=col>source_name_ch1</th><th scope=col>organism_ch1</th><th scope=col>characteristics_ch1</th><th scope=col>⋯</th><th scope=col>contact_city</th><th scope=col>contact_state</th><th scope=col>contact_zip/postal_code</th><th scope=col>contact_country</th><th scope=col>supplementary_file</th><th scope=col>supplementary_file.1</th><th scope=col>data_row_count</th><th scope=col>cell line:ch1</th><th scope=col>cell type:ch1</th><th scope=col>RNAi:ch1</th></tr>\n",
       "\t<tr><th></th><th scope=col>&lt;chr&gt;</th><th scope=col>&lt;chr&gt;</th><th scope=col>&lt;chr&gt;</th><th scope=col>&lt;chr&gt;</th><th scope=col>&lt;chr&gt;</th><th scope=col>&lt;chr&gt;</th><th scope=col>&lt;chr&gt;</th><th scope=col>&lt;chr&gt;</th><th scope=col>&lt;chr&gt;</th><th scope=col>&lt;chr&gt;</th><th scope=col>⋯</th><th scope=col>&lt;chr&gt;</th><th scope=col>&lt;chr&gt;</th><th scope=col>&lt;chr&gt;</th><th scope=col>&lt;chr&gt;</th><th scope=col>&lt;chr&gt;</th><th scope=col>&lt;chr&gt;</th><th scope=col>&lt;chr&gt;</th><th scope=col>&lt;chr&gt;</th><th scope=col>&lt;chr&gt;</th><th scope=col>&lt;chr&gt;</th></tr>\n",
       "</thead>\n",
       "<tbody>\n",
       "\t<tr><th scope=row>GSM7496815</th><td>ShScramble_1</td><td>GSM7496815</td><td>Public on Mar 20 2024</td><td>Jun 20 2023</td><td>Mar 20 2024</td><td>genomic</td><td>1</td><td>Control glioblastoma cells          </td><td>Homo sapiens</td><td>cell line: U87-EGFRvIII</td><td>⋯</td><td>Shinjuku</td><td>Tokyo</td><td>162-8666</td><td>Japan</td><td>ftp://ftp.ncbi.nlm.nih.gov/geo/samples/GSM7496nnn/GSM7496815/suppl/GSM7496815_204289510131_R05C01_Grn.idat.gz</td><td>ftp://ftp.ncbi.nlm.nih.gov/geo/samples/GSM7496nnn/GSM7496815/suppl/GSM7496815_204289510131_R05C01_Red.idat.gz</td><td>865918</td><td>U87-EGFRvIII</td><td>glioblastoma cell line</td><td>Scramble</td></tr>\n",
       "\t<tr><th scope=row>GSM7496816</th><td>ShScramble_2</td><td>GSM7496816</td><td>Public on Mar 20 2024</td><td>Jun 20 2023</td><td>Mar 20 2024</td><td>genomic</td><td>1</td><td>Control glioblastoma cells          </td><td>Homo sapiens</td><td>cell line: U87-EGFRvIII</td><td>⋯</td><td>Shinjuku</td><td>Tokyo</td><td>162-8666</td><td>Japan</td><td>ftp://ftp.ncbi.nlm.nih.gov/geo/samples/GSM7496nnn/GSM7496816/suppl/GSM7496816_204289510131_R06C01_Grn.idat.gz</td><td>ftp://ftp.ncbi.nlm.nih.gov/geo/samples/GSM7496nnn/GSM7496816/suppl/GSM7496816_204289510131_R06C01_Red.idat.gz</td><td>865918</td><td>U87-EGFRvIII</td><td>glioblastoma cell line</td><td>Scramble</td></tr>\n",
       "\t<tr><th scope=row>GSM7496817</th><td>ShRictor_1  </td><td>GSM7496817</td><td>Public on Mar 20 2024</td><td>Jun 20 2023</td><td>Mar 20 2024</td><td>genomic</td><td>1</td><td>mTORC2-suppressed glioblastoma cells</td><td>Homo sapiens</td><td>cell line: U87-EGFRvIII</td><td>⋯</td><td>Shinjuku</td><td>Tokyo</td><td>162-8666</td><td>Japan</td><td>ftp://ftp.ncbi.nlm.nih.gov/geo/samples/GSM7496nnn/GSM7496817/suppl/GSM7496817_204289510131_R07C01_Grn.idat.gz</td><td>ftp://ftp.ncbi.nlm.nih.gov/geo/samples/GSM7496nnn/GSM7496817/suppl/GSM7496817_204289510131_R07C01_Red.idat.gz</td><td>865918</td><td>U87-EGFRvIII</td><td>glioblastoma cell line</td><td>Rictor  </td></tr>\n",
       "\t<tr><th scope=row>GSM7496818</th><td>ShRictor_2  </td><td>GSM7496818</td><td>Public on Mar 20 2024</td><td>Jun 20 2023</td><td>Mar 20 2024</td><td>genomic</td><td>1</td><td>mTORC2-suppressed glioblastoma cells</td><td>Homo sapiens</td><td>cell line: U87-EGFRvIII</td><td>⋯</td><td>Shinjuku</td><td>Tokyo</td><td>162-8666</td><td>Japan</td><td>ftp://ftp.ncbi.nlm.nih.gov/geo/samples/GSM7496nnn/GSM7496818/suppl/GSM7496818_204289510131_R08C01_Grn.idat.gz</td><td>ftp://ftp.ncbi.nlm.nih.gov/geo/samples/GSM7496nnn/GSM7496818/suppl/GSM7496818_204289510131_R08C01_Red.idat.gz</td><td>865918</td><td>U87-EGFRvIII</td><td>glioblastoma cell line</td><td>Rictor  </td></tr>\n",
       "</tbody>\n",
       "</table>\n"
      ],
      "text/latex": [
       "A data.frame: 4 × 38\n",
       "\\begin{tabular}{r|lllllllllllllllllllll}\n",
       "  & title & geo\\_accession & status & submission\\_date & last\\_update\\_date & type & channel\\_count & source\\_name\\_ch1 & organism\\_ch1 & characteristics\\_ch1 & ⋯ & contact\\_city & contact\\_state & contact\\_zip/postal\\_code & contact\\_country & supplementary\\_file & supplementary\\_file.1 & data\\_row\\_count & cell line:ch1 & cell type:ch1 & RNAi:ch1\\\\\n",
       "  & <chr> & <chr> & <chr> & <chr> & <chr> & <chr> & <chr> & <chr> & <chr> & <chr> & ⋯ & <chr> & <chr> & <chr> & <chr> & <chr> & <chr> & <chr> & <chr> & <chr> & <chr>\\\\\n",
       "\\hline\n",
       "\tGSM7496815 & ShScramble\\_1 & GSM7496815 & Public on Mar 20 2024 & Jun 20 2023 & Mar 20 2024 & genomic & 1 & Control glioblastoma cells           & Homo sapiens & cell line: U87-EGFRvIII & ⋯ & Shinjuku & Tokyo & 162-8666 & Japan & ftp://ftp.ncbi.nlm.nih.gov/geo/samples/GSM7496nnn/GSM7496815/suppl/GSM7496815\\_204289510131\\_R05C01\\_Grn.idat.gz & ftp://ftp.ncbi.nlm.nih.gov/geo/samples/GSM7496nnn/GSM7496815/suppl/GSM7496815\\_204289510131\\_R05C01\\_Red.idat.gz & 865918 & U87-EGFRvIII & glioblastoma cell line & Scramble\\\\\n",
       "\tGSM7496816 & ShScramble\\_2 & GSM7496816 & Public on Mar 20 2024 & Jun 20 2023 & Mar 20 2024 & genomic & 1 & Control glioblastoma cells           & Homo sapiens & cell line: U87-EGFRvIII & ⋯ & Shinjuku & Tokyo & 162-8666 & Japan & ftp://ftp.ncbi.nlm.nih.gov/geo/samples/GSM7496nnn/GSM7496816/suppl/GSM7496816\\_204289510131\\_R06C01\\_Grn.idat.gz & ftp://ftp.ncbi.nlm.nih.gov/geo/samples/GSM7496nnn/GSM7496816/suppl/GSM7496816\\_204289510131\\_R06C01\\_Red.idat.gz & 865918 & U87-EGFRvIII & glioblastoma cell line & Scramble\\\\\n",
       "\tGSM7496817 & ShRictor\\_1   & GSM7496817 & Public on Mar 20 2024 & Jun 20 2023 & Mar 20 2024 & genomic & 1 & mTORC2-suppressed glioblastoma cells & Homo sapiens & cell line: U87-EGFRvIII & ⋯ & Shinjuku & Tokyo & 162-8666 & Japan & ftp://ftp.ncbi.nlm.nih.gov/geo/samples/GSM7496nnn/GSM7496817/suppl/GSM7496817\\_204289510131\\_R07C01\\_Grn.idat.gz & ftp://ftp.ncbi.nlm.nih.gov/geo/samples/GSM7496nnn/GSM7496817/suppl/GSM7496817\\_204289510131\\_R07C01\\_Red.idat.gz & 865918 & U87-EGFRvIII & glioblastoma cell line & Rictor  \\\\\n",
       "\tGSM7496818 & ShRictor\\_2   & GSM7496818 & Public on Mar 20 2024 & Jun 20 2023 & Mar 20 2024 & genomic & 1 & mTORC2-suppressed glioblastoma cells & Homo sapiens & cell line: U87-EGFRvIII & ⋯ & Shinjuku & Tokyo & 162-8666 & Japan & ftp://ftp.ncbi.nlm.nih.gov/geo/samples/GSM7496nnn/GSM7496818/suppl/GSM7496818\\_204289510131\\_R08C01\\_Grn.idat.gz & ftp://ftp.ncbi.nlm.nih.gov/geo/samples/GSM7496nnn/GSM7496818/suppl/GSM7496818\\_204289510131\\_R08C01\\_Red.idat.gz & 865918 & U87-EGFRvIII & glioblastoma cell line & Rictor  \\\\\n",
       "\\end{tabular}\n"
      ],
      "text/markdown": [
       "\n",
       "A data.frame: 4 × 38\n",
       "\n",
       "| <!--/--> | title &lt;chr&gt; | geo_accession &lt;chr&gt; | status &lt;chr&gt; | submission_date &lt;chr&gt; | last_update_date &lt;chr&gt; | type &lt;chr&gt; | channel_count &lt;chr&gt; | source_name_ch1 &lt;chr&gt; | organism_ch1 &lt;chr&gt; | characteristics_ch1 &lt;chr&gt; | ⋯ ⋯ | contact_city &lt;chr&gt; | contact_state &lt;chr&gt; | contact_zip/postal_code &lt;chr&gt; | contact_country &lt;chr&gt; | supplementary_file &lt;chr&gt; | supplementary_file.1 &lt;chr&gt; | data_row_count &lt;chr&gt; | cell line:ch1 &lt;chr&gt; | cell type:ch1 &lt;chr&gt; | RNAi:ch1 &lt;chr&gt; |\n",
       "|---|---|---|---|---|---|---|---|---|---|---|---|---|---|---|---|---|---|---|---|---|---|\n",
       "| GSM7496815 | ShScramble_1 | GSM7496815 | Public on Mar 20 2024 | Jun 20 2023 | Mar 20 2024 | genomic | 1 | Control glioblastoma cells           | Homo sapiens | cell line: U87-EGFRvIII | ⋯ | Shinjuku | Tokyo | 162-8666 | Japan | ftp://ftp.ncbi.nlm.nih.gov/geo/samples/GSM7496nnn/GSM7496815/suppl/GSM7496815_204289510131_R05C01_Grn.idat.gz | ftp://ftp.ncbi.nlm.nih.gov/geo/samples/GSM7496nnn/GSM7496815/suppl/GSM7496815_204289510131_R05C01_Red.idat.gz | 865918 | U87-EGFRvIII | glioblastoma cell line | Scramble |\n",
       "| GSM7496816 | ShScramble_2 | GSM7496816 | Public on Mar 20 2024 | Jun 20 2023 | Mar 20 2024 | genomic | 1 | Control glioblastoma cells           | Homo sapiens | cell line: U87-EGFRvIII | ⋯ | Shinjuku | Tokyo | 162-8666 | Japan | ftp://ftp.ncbi.nlm.nih.gov/geo/samples/GSM7496nnn/GSM7496816/suppl/GSM7496816_204289510131_R06C01_Grn.idat.gz | ftp://ftp.ncbi.nlm.nih.gov/geo/samples/GSM7496nnn/GSM7496816/suppl/GSM7496816_204289510131_R06C01_Red.idat.gz | 865918 | U87-EGFRvIII | glioblastoma cell line | Scramble |\n",
       "| GSM7496817 | ShRictor_1   | GSM7496817 | Public on Mar 20 2024 | Jun 20 2023 | Mar 20 2024 | genomic | 1 | mTORC2-suppressed glioblastoma cells | Homo sapiens | cell line: U87-EGFRvIII | ⋯ | Shinjuku | Tokyo | 162-8666 | Japan | ftp://ftp.ncbi.nlm.nih.gov/geo/samples/GSM7496nnn/GSM7496817/suppl/GSM7496817_204289510131_R07C01_Grn.idat.gz | ftp://ftp.ncbi.nlm.nih.gov/geo/samples/GSM7496nnn/GSM7496817/suppl/GSM7496817_204289510131_R07C01_Red.idat.gz | 865918 | U87-EGFRvIII | glioblastoma cell line | Rictor   |\n",
       "| GSM7496818 | ShRictor_2   | GSM7496818 | Public on Mar 20 2024 | Jun 20 2023 | Mar 20 2024 | genomic | 1 | mTORC2-suppressed glioblastoma cells | Homo sapiens | cell line: U87-EGFRvIII | ⋯ | Shinjuku | Tokyo | 162-8666 | Japan | ftp://ftp.ncbi.nlm.nih.gov/geo/samples/GSM7496nnn/GSM7496818/suppl/GSM7496818_204289510131_R08C01_Grn.idat.gz | ftp://ftp.ncbi.nlm.nih.gov/geo/samples/GSM7496nnn/GSM7496818/suppl/GSM7496818_204289510131_R08C01_Red.idat.gz | 865918 | U87-EGFRvIII | glioblastoma cell line | Rictor   |\n",
       "\n"
      ],
      "text/plain": [
       "           title        geo_accession status                submission_date\n",
       "GSM7496815 ShScramble_1 GSM7496815    Public on Mar 20 2024 Jun 20 2023    \n",
       "GSM7496816 ShScramble_2 GSM7496816    Public on Mar 20 2024 Jun 20 2023    \n",
       "GSM7496817 ShRictor_1   GSM7496817    Public on Mar 20 2024 Jun 20 2023    \n",
       "GSM7496818 ShRictor_2   GSM7496818    Public on Mar 20 2024 Jun 20 2023    \n",
       "           last_update_date type    channel_count\n",
       "GSM7496815 Mar 20 2024      genomic 1            \n",
       "GSM7496816 Mar 20 2024      genomic 1            \n",
       "GSM7496817 Mar 20 2024      genomic 1            \n",
       "GSM7496818 Mar 20 2024      genomic 1            \n",
       "           source_name_ch1                      organism_ch1\n",
       "GSM7496815 Control glioblastoma cells           Homo sapiens\n",
       "GSM7496816 Control glioblastoma cells           Homo sapiens\n",
       "GSM7496817 mTORC2-suppressed glioblastoma cells Homo sapiens\n",
       "GSM7496818 mTORC2-suppressed glioblastoma cells Homo sapiens\n",
       "           characteristics_ch1     ⋯ contact_city contact_state\n",
       "GSM7496815 cell line: U87-EGFRvIII ⋯ Shinjuku     Tokyo        \n",
       "GSM7496816 cell line: U87-EGFRvIII ⋯ Shinjuku     Tokyo        \n",
       "GSM7496817 cell line: U87-EGFRvIII ⋯ Shinjuku     Tokyo        \n",
       "GSM7496818 cell line: U87-EGFRvIII ⋯ Shinjuku     Tokyo        \n",
       "           contact_zip/postal_code contact_country\n",
       "GSM7496815 162-8666                Japan          \n",
       "GSM7496816 162-8666                Japan          \n",
       "GSM7496817 162-8666                Japan          \n",
       "GSM7496818 162-8666                Japan          \n",
       "           supplementary_file                                                                                           \n",
       "GSM7496815 ftp://ftp.ncbi.nlm.nih.gov/geo/samples/GSM7496nnn/GSM7496815/suppl/GSM7496815_204289510131_R05C01_Grn.idat.gz\n",
       "GSM7496816 ftp://ftp.ncbi.nlm.nih.gov/geo/samples/GSM7496nnn/GSM7496816/suppl/GSM7496816_204289510131_R06C01_Grn.idat.gz\n",
       "GSM7496817 ftp://ftp.ncbi.nlm.nih.gov/geo/samples/GSM7496nnn/GSM7496817/suppl/GSM7496817_204289510131_R07C01_Grn.idat.gz\n",
       "GSM7496818 ftp://ftp.ncbi.nlm.nih.gov/geo/samples/GSM7496nnn/GSM7496818/suppl/GSM7496818_204289510131_R08C01_Grn.idat.gz\n",
       "           supplementary_file.1                                                                                         \n",
       "GSM7496815 ftp://ftp.ncbi.nlm.nih.gov/geo/samples/GSM7496nnn/GSM7496815/suppl/GSM7496815_204289510131_R05C01_Red.idat.gz\n",
       "GSM7496816 ftp://ftp.ncbi.nlm.nih.gov/geo/samples/GSM7496nnn/GSM7496816/suppl/GSM7496816_204289510131_R06C01_Red.idat.gz\n",
       "GSM7496817 ftp://ftp.ncbi.nlm.nih.gov/geo/samples/GSM7496nnn/GSM7496817/suppl/GSM7496817_204289510131_R07C01_Red.idat.gz\n",
       "GSM7496818 ftp://ftp.ncbi.nlm.nih.gov/geo/samples/GSM7496nnn/GSM7496818/suppl/GSM7496818_204289510131_R08C01_Red.idat.gz\n",
       "           data_row_count cell line:ch1 cell type:ch1          RNAi:ch1\n",
       "GSM7496815 865918         U87-EGFRvIII  glioblastoma cell line Scramble\n",
       "GSM7496816 865918         U87-EGFRvIII  glioblastoma cell line Scramble\n",
       "GSM7496817 865918         U87-EGFRvIII  glioblastoma cell line Rictor  \n",
       "GSM7496818 865918         U87-EGFRvIII  glioblastoma cell line Rictor  "
      ]
     },
     "metadata": {},
     "output_type": "display_data"
    },
    {
     "data": {
      "text/html": [
       "<style>\n",
       ".list-inline {list-style: none; margin:0; padding: 0}\n",
       ".list-inline>li {display: inline-block}\n",
       ".list-inline>li:not(:last-child)::after {content: \"\\00b7\"; padding: 0 .5ex}\n",
       "</style>\n",
       "<ol class=list-inline><li>'title'</li><li>'geo_accession'</li><li>'status'</li><li>'submission_date'</li><li>'last_update_date'</li><li>'type'</li><li>'channel_count'</li><li>'source_name_ch1'</li><li>'organism_ch1'</li><li>'characteristics_ch1'</li><li>'characteristics_ch1.1'</li><li>'characteristics_ch1.2'</li><li>'treatment_protocol_ch1'</li><li>'growth_protocol_ch1'</li><li>'molecule_ch1'</li><li>'extract_protocol_ch1'</li><li>'label_ch1'</li><li>'label_protocol_ch1'</li><li>'taxid_ch1'</li><li>'hyb_protocol'</li><li>'scan_protocol'</li><li>'data_processing'</li><li>'platform_id'</li><li>'contact_name'</li><li>'contact_email'</li><li>'contact_department'</li><li>'contact_institute'</li><li>'contact_address'</li><li>'contact_city'</li><li>'contact_state'</li><li>'contact_zip/postal_code'</li><li>'contact_country'</li><li>'supplementary_file'</li><li>'supplementary_file.1'</li><li>'data_row_count'</li><li>'cell line:ch1'</li><li>'cell type:ch1'</li><li>'RNAi:ch1'</li></ol>\n"
      ],
      "text/latex": [
       "\\begin{enumerate*}\n",
       "\\item 'title'\n",
       "\\item 'geo\\_accession'\n",
       "\\item 'status'\n",
       "\\item 'submission\\_date'\n",
       "\\item 'last\\_update\\_date'\n",
       "\\item 'type'\n",
       "\\item 'channel\\_count'\n",
       "\\item 'source\\_name\\_ch1'\n",
       "\\item 'organism\\_ch1'\n",
       "\\item 'characteristics\\_ch1'\n",
       "\\item 'characteristics\\_ch1.1'\n",
       "\\item 'characteristics\\_ch1.2'\n",
       "\\item 'treatment\\_protocol\\_ch1'\n",
       "\\item 'growth\\_protocol\\_ch1'\n",
       "\\item 'molecule\\_ch1'\n",
       "\\item 'extract\\_protocol\\_ch1'\n",
       "\\item 'label\\_ch1'\n",
       "\\item 'label\\_protocol\\_ch1'\n",
       "\\item 'taxid\\_ch1'\n",
       "\\item 'hyb\\_protocol'\n",
       "\\item 'scan\\_protocol'\n",
       "\\item 'data\\_processing'\n",
       "\\item 'platform\\_id'\n",
       "\\item 'contact\\_name'\n",
       "\\item 'contact\\_email'\n",
       "\\item 'contact\\_department'\n",
       "\\item 'contact\\_institute'\n",
       "\\item 'contact\\_address'\n",
       "\\item 'contact\\_city'\n",
       "\\item 'contact\\_state'\n",
       "\\item 'contact\\_zip/postal\\_code'\n",
       "\\item 'contact\\_country'\n",
       "\\item 'supplementary\\_file'\n",
       "\\item 'supplementary\\_file.1'\n",
       "\\item 'data\\_row\\_count'\n",
       "\\item 'cell line:ch1'\n",
       "\\item 'cell type:ch1'\n",
       "\\item 'RNAi:ch1'\n",
       "\\end{enumerate*}\n"
      ],
      "text/markdown": [
       "1. 'title'\n",
       "2. 'geo_accession'\n",
       "3. 'status'\n",
       "4. 'submission_date'\n",
       "5. 'last_update_date'\n",
       "6. 'type'\n",
       "7. 'channel_count'\n",
       "8. 'source_name_ch1'\n",
       "9. 'organism_ch1'\n",
       "10. 'characteristics_ch1'\n",
       "11. 'characteristics_ch1.1'\n",
       "12. 'characteristics_ch1.2'\n",
       "13. 'treatment_protocol_ch1'\n",
       "14. 'growth_protocol_ch1'\n",
       "15. 'molecule_ch1'\n",
       "16. 'extract_protocol_ch1'\n",
       "17. 'label_ch1'\n",
       "18. 'label_protocol_ch1'\n",
       "19. 'taxid_ch1'\n",
       "20. 'hyb_protocol'\n",
       "21. 'scan_protocol'\n",
       "22. 'data_processing'\n",
       "23. 'platform_id'\n",
       "24. 'contact_name'\n",
       "25. 'contact_email'\n",
       "26. 'contact_department'\n",
       "27. 'contact_institute'\n",
       "28. 'contact_address'\n",
       "29. 'contact_city'\n",
       "30. 'contact_state'\n",
       "31. 'contact_zip/postal_code'\n",
       "32. 'contact_country'\n",
       "33. 'supplementary_file'\n",
       "34. 'supplementary_file.1'\n",
       "35. 'data_row_count'\n",
       "36. 'cell line:ch1'\n",
       "37. 'cell type:ch1'\n",
       "38. 'RNAi:ch1'\n",
       "\n",
       "\n"
      ],
      "text/plain": [
       " [1] \"title\"                   \"geo_accession\"          \n",
       " [3] \"status\"                  \"submission_date\"        \n",
       " [5] \"last_update_date\"        \"type\"                   \n",
       " [7] \"channel_count\"           \"source_name_ch1\"        \n",
       " [9] \"organism_ch1\"            \"characteristics_ch1\"    \n",
       "[11] \"characteristics_ch1.1\"   \"characteristics_ch1.2\"  \n",
       "[13] \"treatment_protocol_ch1\"  \"growth_protocol_ch1\"    \n",
       "[15] \"molecule_ch1\"            \"extract_protocol_ch1\"   \n",
       "[17] \"label_ch1\"               \"label_protocol_ch1\"     \n",
       "[19] \"taxid_ch1\"               \"hyb_protocol\"           \n",
       "[21] \"scan_protocol\"           \"data_processing\"        \n",
       "[23] \"platform_id\"             \"contact_name\"           \n",
       "[25] \"contact_email\"           \"contact_department\"     \n",
       "[27] \"contact_institute\"       \"contact_address\"        \n",
       "[29] \"contact_city\"            \"contact_state\"          \n",
       "[31] \"contact_zip/postal_code\" \"contact_country\"        \n",
       "[33] \"supplementary_file\"      \"supplementary_file.1\"   \n",
       "[35] \"data_row_count\"          \"cell line:ch1\"          \n",
       "[37] \"cell type:ch1\"           \"RNAi:ch1\"               "
      ]
     },
     "metadata": {},
     "output_type": "display_data"
    },
    {
     "data": {
      "text/html": [
       "<style>\n",
       ".list-inline {list-style: none; margin:0; padding: 0}\n",
       ".list-inline>li {display: inline-block}\n",
       ".list-inline>li:not(:last-child)::after {content: \"\\00b7\"; padding: 0 .5ex}\n",
       "</style>\n",
       "<ol class=list-inline><li>'Control glioblastoma cells'</li><li>'Control glioblastoma cells'</li><li>'mTORC2-suppressed glioblastoma cells'</li><li>'mTORC2-suppressed glioblastoma cells'</li></ol>\n"
      ],
      "text/latex": [
       "\\begin{enumerate*}\n",
       "\\item 'Control glioblastoma cells'\n",
       "\\item 'Control glioblastoma cells'\n",
       "\\item 'mTORC2-suppressed glioblastoma cells'\n",
       "\\item 'mTORC2-suppressed glioblastoma cells'\n",
       "\\end{enumerate*}\n"
      ],
      "text/markdown": [
       "1. 'Control glioblastoma cells'\n",
       "2. 'Control glioblastoma cells'\n",
       "3. 'mTORC2-suppressed glioblastoma cells'\n",
       "4. 'mTORC2-suppressed glioblastoma cells'\n",
       "\n",
       "\n"
      ],
      "text/plain": [
       "[1] \"Control glioblastoma cells\"          \n",
       "[2] \"Control glioblastoma cells\"          \n",
       "[3] \"mTORC2-suppressed glioblastoma cells\"\n",
       "[4] \"mTORC2-suppressed glioblastoma cells\""
      ]
     },
     "metadata": {},
     "output_type": "display_data"
    }
   ],
   "source": [
    "\n",
    "# Obtendo a tabela de fenótipos disponível no GEO (obter informações sobre sexo biológico)\n",
    "pheno.df <- pData(phenoData(gse[[1]]))\n",
    "\n",
    "head(pheno.df)\n",
    "colnames(pheno.df)\n",
    "#Armazenar a informação de sexo biológico para adicionar na phenotype sheet\n"
   ]
  },
  {
   "cell_type": "code",
   "execution_count": 42,
   "id": "927af7c2-60f4-4bfb-b301-9e18cd938673",
   "metadata": {},
   "outputs": [
    {
     "data": {
      "text/html": [
       "<table class=\"dataframe\">\n",
       "<caption>A data.frame: 4 × 1</caption>\n",
       "<thead>\n",
       "\t<tr><th></th><th scope=col>source_name_ch1</th></tr>\n",
       "\t<tr><th></th><th scope=col>&lt;chr&gt;</th></tr>\n",
       "</thead>\n",
       "<tbody>\n",
       "\t<tr><th scope=row>GSM7496815</th><td>Control glioblastoma cells          </td></tr>\n",
       "\t<tr><th scope=row>GSM7496816</th><td>Control glioblastoma cells          </td></tr>\n",
       "\t<tr><th scope=row>GSM7496817</th><td>mTORC2-suppressed glioblastoma cells</td></tr>\n",
       "\t<tr><th scope=row>GSM7496818</th><td>mTORC2-suppressed glioblastoma cells</td></tr>\n",
       "</tbody>\n",
       "</table>\n"
      ],
      "text/latex": [
       "A data.frame: 4 × 1\n",
       "\\begin{tabular}{r|l}\n",
       "  & source\\_name\\_ch1\\\\\n",
       "  & <chr>\\\\\n",
       "\\hline\n",
       "\tGSM7496815 & Control glioblastoma cells          \\\\\n",
       "\tGSM7496816 & Control glioblastoma cells          \\\\\n",
       "\tGSM7496817 & mTORC2-suppressed glioblastoma cells\\\\\n",
       "\tGSM7496818 & mTORC2-suppressed glioblastoma cells\\\\\n",
       "\\end{tabular}\n"
      ],
      "text/markdown": [
       "\n",
       "A data.frame: 4 × 1\n",
       "\n",
       "| <!--/--> | source_name_ch1 &lt;chr&gt; |\n",
       "|---|---|\n",
       "| GSM7496815 | Control glioblastoma cells           |\n",
       "| GSM7496816 | Control glioblastoma cells           |\n",
       "| GSM7496817 | mTORC2-suppressed glioblastoma cells |\n",
       "| GSM7496818 | mTORC2-suppressed glioblastoma cells |\n",
       "\n"
      ],
      "text/plain": [
       "           source_name_ch1                     \n",
       "GSM7496815 Control glioblastoma cells          \n",
       "GSM7496816 Control glioblastoma cells          \n",
       "GSM7496817 mTORC2-suppressed glioblastoma cells\n",
       "GSM7496818 mTORC2-suppressed glioblastoma cells"
      ]
     },
     "metadata": {},
     "output_type": "display_data"
    }
   ],
   "source": [
    "\n",
    "caco.df <- subset(pheno.df, select = \"source_name_ch1\")\n",
    "caco.df"
   ]
  },
  {
   "cell_type": "code",
   "execution_count": 124,
   "id": "3252ee25-b5aa-4f22-a2ff-95b8f6ec32f5",
   "metadata": {},
   "outputs": [],
   "source": [
    "options(timeout = max(300, getOption(\"timeout\")))\n",
    "options(download.file.method.GEOquery = \"wget\")\n",
    "filePaths<- getGEOSuppFiles(\"GSE235207\")"
   ]
  },
  {
   "cell_type": "code",
   "execution_count": 125,
   "id": "15630cdf-e6d7-4a8b-a798-2d37ed40747b",
   "metadata": {},
   "outputs": [
    {
     "data": {
      "text/html": [
       "<table class=\"dataframe\">\n",
       "<caption>A data.frame: 1 × 10</caption>\n",
       "<thead>\n",
       "\t<tr><th></th><th scope=col>size</th><th scope=col>isdir</th><th scope=col>mode</th><th scope=col>mtime</th><th scope=col>ctime</th><th scope=col>atime</th><th scope=col>uid</th><th scope=col>gid</th><th scope=col>uname</th><th scope=col>grname</th></tr>\n",
       "\t<tr><th></th><th scope=col>&lt;dbl&gt;</th><th scope=col>&lt;lgl&gt;</th><th scope=col>&lt;octmode&gt;</th><th scope=col>&lt;dttm&gt;</th><th scope=col>&lt;dttm&gt;</th><th scope=col>&lt;dttm&gt;</th><th scope=col>&lt;int&gt;</th><th scope=col>&lt;int&gt;</th><th scope=col>&lt;chr&gt;</th><th scope=col>&lt;chr&gt;</th></tr>\n",
       "</thead>\n",
       "<tbody>\n",
       "\t<tr><th scope=row>/home/iago/Documents/Epigenetica_curso_pipeline/Exercicios/EX3/GSE235207/GSE235207/GSE235207_RAW.tar</th><td>225832960</td><td>FALSE</td><td>664</td><td>2024-03-20 10:02:26</td><td>2024-06-22 11:29:05</td><td>2024-06-22 11:29:05</td><td>1000</td><td>1000</td><td>iago</td><td>iago</td></tr>\n",
       "</tbody>\n",
       "</table>\n"
      ],
      "text/latex": [
       "A data.frame: 1 × 10\n",
       "\\begin{tabular}{r|llllllllll}\n",
       "  & size & isdir & mode & mtime & ctime & atime & uid & gid & uname & grname\\\\\n",
       "  & <dbl> & <lgl> & <octmode> & <dttm> & <dttm> & <dttm> & <int> & <int> & <chr> & <chr>\\\\\n",
       "\\hline\n",
       "\t/home/iago/Documents/Epigenetica\\_curso\\_pipeline/Exercicios/EX3/GSE235207/GSE235207/GSE235207\\_RAW.tar & 225832960 & FALSE & 664 & 2024-03-20 10:02:26 & 2024-06-22 11:29:05 & 2024-06-22 11:29:05 & 1000 & 1000 & iago & iago\\\\\n",
       "\\end{tabular}\n"
      ],
      "text/markdown": [
       "\n",
       "A data.frame: 1 × 10\n",
       "\n",
       "| <!--/--> | size &lt;dbl&gt; | isdir &lt;lgl&gt; | mode &lt;octmode&gt; | mtime &lt;dttm&gt; | ctime &lt;dttm&gt; | atime &lt;dttm&gt; | uid &lt;int&gt; | gid &lt;int&gt; | uname &lt;chr&gt; | grname &lt;chr&gt; |\n",
       "|---|---|---|---|---|---|---|---|---|---|---|\n",
       "| /home/iago/Documents/Epigenetica_curso_pipeline/Exercicios/EX3/GSE235207/GSE235207/GSE235207_RAW.tar | 225832960 | FALSE | 664 | 2024-03-20 10:02:26 | 2024-06-22 11:29:05 | 2024-06-22 11:29:05 | 1000 | 1000 | iago | iago |\n",
       "\n"
      ],
      "text/plain": [
       "                                                                                                     size     \n",
       "/home/iago/Documents/Epigenetica_curso_pipeline/Exercicios/EX3/GSE235207/GSE235207/GSE235207_RAW.tar 225832960\n",
       "                                                                                                     isdir\n",
       "/home/iago/Documents/Epigenetica_curso_pipeline/Exercicios/EX3/GSE235207/GSE235207/GSE235207_RAW.tar FALSE\n",
       "                                                                                                     mode\n",
       "/home/iago/Documents/Epigenetica_curso_pipeline/Exercicios/EX3/GSE235207/GSE235207/GSE235207_RAW.tar 664 \n",
       "                                                                                                     mtime              \n",
       "/home/iago/Documents/Epigenetica_curso_pipeline/Exercicios/EX3/GSE235207/GSE235207/GSE235207_RAW.tar 2024-03-20 10:02:26\n",
       "                                                                                                     ctime              \n",
       "/home/iago/Documents/Epigenetica_curso_pipeline/Exercicios/EX3/GSE235207/GSE235207/GSE235207_RAW.tar 2024-06-22 11:29:05\n",
       "                                                                                                     atime              \n",
       "/home/iago/Documents/Epigenetica_curso_pipeline/Exercicios/EX3/GSE235207/GSE235207/GSE235207_RAW.tar 2024-06-22 11:29:05\n",
       "                                                                                                     uid \n",
       "/home/iago/Documents/Epigenetica_curso_pipeline/Exercicios/EX3/GSE235207/GSE235207/GSE235207_RAW.tar 1000\n",
       "                                                                                                     gid \n",
       "/home/iago/Documents/Epigenetica_curso_pipeline/Exercicios/EX3/GSE235207/GSE235207/GSE235207_RAW.tar 1000\n",
       "                                                                                                     uname\n",
       "/home/iago/Documents/Epigenetica_curso_pipeline/Exercicios/EX3/GSE235207/GSE235207/GSE235207_RAW.tar iago \n",
       "                                                                                                     grname\n",
       "/home/iago/Documents/Epigenetica_curso_pipeline/Exercicios/EX3/GSE235207/GSE235207/GSE235207_RAW.tar iago  "
      ]
     },
     "metadata": {},
     "output_type": "display_data"
    }
   ],
   "source": [
    "filePaths"
   ]
  },
  {
   "cell_type": "code",
   "execution_count": 126,
   "id": "905159bb-9be2-4470-bd02-9e5e1da18b67",
   "metadata": {},
   "outputs": [
    {
     "data": {
      "text/html": [
       "'/home/iago/Documents/Epigenetica_curso_pipeline/Exercicios/EX3/GSE235207'"
      ],
      "text/latex": [
       "'/home/iago/Documents/Epigenetica\\_curso\\_pipeline/Exercicios/EX3/GSE235207'"
      ],
      "text/markdown": [
       "'/home/iago/Documents/Epigenetica_curso_pipeline/Exercicios/EX3/GSE235207'"
      ],
      "text/plain": [
       "[1] \"/home/iago/Documents/Epigenetica_curso_pipeline/Exercicios/EX3/GSE235207\""
      ]
     },
     "metadata": {},
     "output_type": "display_data"
    }
   ],
   "source": [
    "getwd()"
   ]
  },
  {
   "cell_type": "code",
   "execution_count": 127,
   "id": "0e70b062-4e02-44db-9e61-f6cfa77fd4f6",
   "metadata": {},
   "outputs": [],
   "source": [
    "####################################\n",
    "# Descompactar arquivos \n",
    "####################################\n",
    "system(\"tar -xvf ./GSE235207/GSE235207_RAW.tar\")\n",
    "\n",
    "system(\"gunzip ./*idat.gz\")"
   ]
  },
  {
   "cell_type": "code",
   "execution_count": 82,
   "id": "bd08399f-8598-45aa-8f28-30d6f73dba0f",
   "metadata": {},
   "outputs": [
    {
     "data": {
      "text/html": [
       "<ol>\n",
       "\t<li>'GSM7496815_204289510131_R05C01_Grn.idat'</li>\n",
       "\t<li>'GSM7496815_204289510131_R05C01_Red.idat'</li>\n",
       "\t<li>'GSM7496816_204289510131_R06C01_Grn.idat'</li>\n",
       "\t<li>'GSM7496816_204289510131_R06C01_Red.idat'</li>\n",
       "\t<li>'GSM7496817_204289510131_R07C01_Grn.idat'</li>\n",
       "\t<li>'GSM7496817_204289510131_R07C01_Red.idat'</li>\n",
       "</ol>\n"
      ],
      "text/latex": [
       "\\begin{enumerate}\n",
       "\\item 'GSM7496815\\_204289510131\\_R05C01\\_Grn.idat'\n",
       "\\item 'GSM7496815\\_204289510131\\_R05C01\\_Red.idat'\n",
       "\\item 'GSM7496816\\_204289510131\\_R06C01\\_Grn.idat'\n",
       "\\item 'GSM7496816\\_204289510131\\_R06C01\\_Red.idat'\n",
       "\\item 'GSM7496817\\_204289510131\\_R07C01\\_Grn.idat'\n",
       "\\item 'GSM7496817\\_204289510131\\_R07C01\\_Red.idat'\n",
       "\\end{enumerate}\n"
      ],
      "text/markdown": [
       "1. 'GSM7496815_204289510131_R05C01_Grn.idat'\n",
       "2. 'GSM7496815_204289510131_R05C01_Red.idat'\n",
       "3. 'GSM7496816_204289510131_R06C01_Grn.idat'\n",
       "4. 'GSM7496816_204289510131_R06C01_Red.idat'\n",
       "5. 'GSM7496817_204289510131_R07C01_Grn.idat'\n",
       "6. 'GSM7496817_204289510131_R07C01_Red.idat'\n",
       "\n",
       "\n"
      ],
      "text/plain": [
       "[[1]]\n",
       "[1] \"GSM7496815_204289510131_R05C01_Grn.idat\"\n",
       "\n",
       "[[2]]\n",
       "[1] \"GSM7496815_204289510131_R05C01_Red.idat\"\n",
       "\n",
       "[[3]]\n",
       "[1] \"GSM7496816_204289510131_R06C01_Grn.idat\"\n",
       "\n",
       "[[4]]\n",
       "[1] \"GSM7496816_204289510131_R06C01_Red.idat\"\n",
       "\n",
       "[[5]]\n",
       "[1] \"GSM7496817_204289510131_R07C01_Grn.idat\"\n",
       "\n",
       "[[6]]\n",
       "[1] \"GSM7496817_204289510131_R07C01_Red.idat\"\n"
      ]
     },
     "metadata": {},
     "output_type": "display_data"
    }
   ],
   "source": [
    "####################################\n",
    "# criando sheet \n",
    "####################################\n",
    "\n",
    "\n",
    "idat_filelist <- list()\n",
    "\n",
    "for( file in list.files(getwd(), recursive = TRUE) ){\n",
    " if(endsWith(file, \".idat\")){\n",
    "     idat_filelist <- c(idat_filelist, file)\n",
    "     }\n",
    "}\n",
    "head(idat_filelist)"
   ]
  },
  {
   "cell_type": "code",
   "execution_count": 83,
   "id": "f85575ed-b533-409b-9abc-22575a3f547d",
   "metadata": {},
   "outputs": [],
   "source": [
    "#Create a matrix for the phenofile\n",
    "sheet = as.matrix(matrix(nrow = length(idat_filelist), ncol = 5))\n",
    "colnames(sheet) =c(\"GeoID\",\"SampleID\",\"Basename\",\"Sentrix_ID\",\"Sentrix_Position\")"
   ]
  },
  {
   "cell_type": "code",
   "execution_count": 84,
   "id": "93b9b9b4-ede8-4f62-9488-9ae0f6e6fbd5",
   "metadata": {},
   "outputs": [
    {
     "data": {
      "text/html": [
       "<table class=\"dataframe\">\n",
       "<caption>A matrix: 8 × 5 of type lgl</caption>\n",
       "<thead>\n",
       "\t<tr><th scope=col>GeoID</th><th scope=col>SampleID</th><th scope=col>Basename</th><th scope=col>Sentrix_ID</th><th scope=col>Sentrix_Position</th></tr>\n",
       "</thead>\n",
       "<tbody>\n",
       "\t<tr><td>NA</td><td>NA</td><td>NA</td><td>NA</td><td>NA</td></tr>\n",
       "\t<tr><td>NA</td><td>NA</td><td>NA</td><td>NA</td><td>NA</td></tr>\n",
       "\t<tr><td>NA</td><td>NA</td><td>NA</td><td>NA</td><td>NA</td></tr>\n",
       "\t<tr><td>NA</td><td>NA</td><td>NA</td><td>NA</td><td>NA</td></tr>\n",
       "\t<tr><td>NA</td><td>NA</td><td>NA</td><td>NA</td><td>NA</td></tr>\n",
       "\t<tr><td>NA</td><td>NA</td><td>NA</td><td>NA</td><td>NA</td></tr>\n",
       "\t<tr><td>NA</td><td>NA</td><td>NA</td><td>NA</td><td>NA</td></tr>\n",
       "\t<tr><td>NA</td><td>NA</td><td>NA</td><td>NA</td><td>NA</td></tr>\n",
       "</tbody>\n",
       "</table>\n"
      ],
      "text/latex": [
       "A matrix: 8 × 5 of type lgl\n",
       "\\begin{tabular}{lllll}\n",
       " GeoID & SampleID & Basename & Sentrix\\_ID & Sentrix\\_Position\\\\\n",
       "\\hline\n",
       "\t NA & NA & NA & NA & NA\\\\\n",
       "\t NA & NA & NA & NA & NA\\\\\n",
       "\t NA & NA & NA & NA & NA\\\\\n",
       "\t NA & NA & NA & NA & NA\\\\\n",
       "\t NA & NA & NA & NA & NA\\\\\n",
       "\t NA & NA & NA & NA & NA\\\\\n",
       "\t NA & NA & NA & NA & NA\\\\\n",
       "\t NA & NA & NA & NA & NA\\\\\n",
       "\\end{tabular}\n"
      ],
      "text/markdown": [
       "\n",
       "A matrix: 8 × 5 of type lgl\n",
       "\n",
       "| GeoID | SampleID | Basename | Sentrix_ID | Sentrix_Position |\n",
       "|---|---|---|---|---|\n",
       "| NA | NA | NA | NA | NA |\n",
       "| NA | NA | NA | NA | NA |\n",
       "| NA | NA | NA | NA | NA |\n",
       "| NA | NA | NA | NA | NA |\n",
       "| NA | NA | NA | NA | NA |\n",
       "| NA | NA | NA | NA | NA |\n",
       "| NA | NA | NA | NA | NA |\n",
       "| NA | NA | NA | NA | NA |\n",
       "\n"
      ],
      "text/plain": [
       "     GeoID SampleID Basename Sentrix_ID Sentrix_Position\n",
       "[1,] NA    NA       NA       NA         NA              \n",
       "[2,] NA    NA       NA       NA         NA              \n",
       "[3,] NA    NA       NA       NA         NA              \n",
       "[4,] NA    NA       NA       NA         NA              \n",
       "[5,] NA    NA       NA       NA         NA              \n",
       "[6,] NA    NA       NA       NA         NA              \n",
       "[7,] NA    NA       NA       NA         NA              \n",
       "[8,] NA    NA       NA       NA         NA              "
      ]
     },
     "metadata": {},
     "output_type": "display_data"
    }
   ],
   "source": [
    "sheet"
   ]
  },
  {
   "cell_type": "code",
   "execution_count": 85,
   "id": "25c4383c-8d42-4205-ae18-96456f90d562",
   "metadata": {},
   "outputs": [],
   "source": [
    "for (i in seq(1,length(idat_filelist))){\n",
    "    split_name=strsplit(idat_filelist[[i]], split='_', fixed=TRUE)\n",
    "\n",
    "    #GeoID\n",
    "    sheet[i,1] = split_name[[1]][1]\n",
    "    #SampleID\n",
    "    sheet[i,2]=paste(split_name[[1]][2],split_name[[1]][3],sep=\"_\")\n",
    "    #Basename\n",
    "    #   Obs: incluir o caminho de onde os arquivos idat estão salvos, nesse caso, é nosso working directory. \n",
    "    #        > getwd() \n",
    "    #        [1] \"/home/iago/Documents/Epigenetica_curso_pipeline/GEOdata\"\n",
    "    sheet[i,3]=paste(split_name[[1]][1],split_name[[1]][2],split_name[[1]][3],sep=\"_\")\n",
    "    #Sentrix_ID\n",
    "    sheet[i,4]=split_name[[1]][2]\n",
    "    #SentrixPosition\n",
    "    sheet[i,5]=split_name[[1]][3]\n",
    "    }\n",
    "\n",
    "#Sheet está duplicada, já que temos um idat para cada canal \n",
    "sheet = sheet[duplicated(sheet),]"
   ]
  },
  {
   "cell_type": "code",
   "execution_count": 86,
   "id": "acd99733-8e97-44e2-8e31-dfe728776224",
   "metadata": {},
   "outputs": [
    {
     "data": {
      "text/html": [
       "<table class=\"dataframe\">\n",
       "<caption>A matrix: 4 × 5 of type chr</caption>\n",
       "<thead>\n",
       "\t<tr><th scope=col>GeoID</th><th scope=col>SampleID</th><th scope=col>Basename</th><th scope=col>Sentrix_ID</th><th scope=col>Sentrix_Position</th></tr>\n",
       "</thead>\n",
       "<tbody>\n",
       "\t<tr><td>GSM7496815</td><td>204289510131_R05C01</td><td>GSM7496815_204289510131_R05C01</td><td>204289510131</td><td>R05C01</td></tr>\n",
       "\t<tr><td>GSM7496816</td><td>204289510131_R06C01</td><td>GSM7496816_204289510131_R06C01</td><td>204289510131</td><td>R06C01</td></tr>\n",
       "\t<tr><td>GSM7496817</td><td>204289510131_R07C01</td><td>GSM7496817_204289510131_R07C01</td><td>204289510131</td><td>R07C01</td></tr>\n",
       "\t<tr><td>GSM7496818</td><td>204289510131_R08C01</td><td>GSM7496818_204289510131_R08C01</td><td>204289510131</td><td>R08C01</td></tr>\n",
       "</tbody>\n",
       "</table>\n"
      ],
      "text/latex": [
       "A matrix: 4 × 5 of type chr\n",
       "\\begin{tabular}{lllll}\n",
       " GeoID & SampleID & Basename & Sentrix\\_ID & Sentrix\\_Position\\\\\n",
       "\\hline\n",
       "\t GSM7496815 & 204289510131\\_R05C01 & GSM7496815\\_204289510131\\_R05C01 & 204289510131 & R05C01\\\\\n",
       "\t GSM7496816 & 204289510131\\_R06C01 & GSM7496816\\_204289510131\\_R06C01 & 204289510131 & R06C01\\\\\n",
       "\t GSM7496817 & 204289510131\\_R07C01 & GSM7496817\\_204289510131\\_R07C01 & 204289510131 & R07C01\\\\\n",
       "\t GSM7496818 & 204289510131\\_R08C01 & GSM7496818\\_204289510131\\_R08C01 & 204289510131 & R08C01\\\\\n",
       "\\end{tabular}\n"
      ],
      "text/markdown": [
       "\n",
       "A matrix: 4 × 5 of type chr\n",
       "\n",
       "| GeoID | SampleID | Basename | Sentrix_ID | Sentrix_Position |\n",
       "|---|---|---|---|---|\n",
       "| GSM7496815 | 204289510131_R05C01 | GSM7496815_204289510131_R05C01 | 204289510131 | R05C01 |\n",
       "| GSM7496816 | 204289510131_R06C01 | GSM7496816_204289510131_R06C01 | 204289510131 | R06C01 |\n",
       "| GSM7496817 | 204289510131_R07C01 | GSM7496817_204289510131_R07C01 | 204289510131 | R07C01 |\n",
       "| GSM7496818 | 204289510131_R08C01 | GSM7496818_204289510131_R08C01 | 204289510131 | R08C01 |\n",
       "\n"
      ],
      "text/plain": [
       "     GeoID      SampleID            Basename                       Sentrix_ID  \n",
       "[1,] GSM7496815 204289510131_R05C01 GSM7496815_204289510131_R05C01 204289510131\n",
       "[2,] GSM7496816 204289510131_R06C01 GSM7496816_204289510131_R06C01 204289510131\n",
       "[3,] GSM7496817 204289510131_R07C01 GSM7496817_204289510131_R07C01 204289510131\n",
       "[4,] GSM7496818 204289510131_R08C01 GSM7496818_204289510131_R08C01 204289510131\n",
       "     Sentrix_Position\n",
       "[1,] R05C01          \n",
       "[2,] R06C01          \n",
       "[3,] R07C01          \n",
       "[4,] R08C01          "
      ]
     },
     "metadata": {},
     "output_type": "display_data"
    }
   ],
   "source": [
    "sheet"
   ]
  },
  {
   "cell_type": "code",
   "execution_count": 87,
   "id": "ef247dc7-5115-4792-b19d-74dadb6f2d91",
   "metadata": {},
   "outputs": [
    {
     "data": {
      "text/html": [
       "<table class=\"dataframe\">\n",
       "<caption>A data.frame: 4 × 7</caption>\n",
       "<thead>\n",
       "\t<tr><th scope=col>GeoID</th><th scope=col>SampleID</th><th scope=col>Basename</th><th scope=col>Sentrix_ID</th><th scope=col>Sentrix_Position</th><th scope=col>case-control</th><th scope=col>Sex</th></tr>\n",
       "\t<tr><th scope=col>&lt;chr&gt;</th><th scope=col>&lt;chr&gt;</th><th scope=col>&lt;chr&gt;</th><th scope=col>&lt;chr&gt;</th><th scope=col>&lt;chr&gt;</th><th scope=col>&lt;chr&gt;</th><th scope=col>&lt;chr&gt;</th></tr>\n",
       "</thead>\n",
       "<tbody>\n",
       "\t<tr><td>GSM7496815</td><td>204289510131_R05C01</td><td>GSM7496815_204289510131_R05C01</td><td>204289510131</td><td>R05C01</td><td>Control glioblastoma cells          </td><td>M</td></tr>\n",
       "\t<tr><td>GSM7496816</td><td>204289510131_R06C01</td><td>GSM7496816_204289510131_R06C01</td><td>204289510131</td><td>R06C01</td><td>Control glioblastoma cells          </td><td>F</td></tr>\n",
       "\t<tr><td>GSM7496817</td><td>204289510131_R07C01</td><td>GSM7496817_204289510131_R07C01</td><td>204289510131</td><td>R07C01</td><td>mTORC2-suppressed glioblastoma cells</td><td>F</td></tr>\n",
       "\t<tr><td>GSM7496818</td><td>204289510131_R08C01</td><td>GSM7496818_204289510131_R08C01</td><td>204289510131</td><td>R08C01</td><td>mTORC2-suppressed glioblastoma cells</td><td>M</td></tr>\n",
       "</tbody>\n",
       "</table>\n"
      ],
      "text/latex": [
       "A data.frame: 4 × 7\n",
       "\\begin{tabular}{lllllll}\n",
       " GeoID & SampleID & Basename & Sentrix\\_ID & Sentrix\\_Position & case-control & Sex\\\\\n",
       " <chr> & <chr> & <chr> & <chr> & <chr> & <chr> & <chr>\\\\\n",
       "\\hline\n",
       "\t GSM7496815 & 204289510131\\_R05C01 & GSM7496815\\_204289510131\\_R05C01 & 204289510131 & R05C01 & Control glioblastoma cells           & M\\\\\n",
       "\t GSM7496816 & 204289510131\\_R06C01 & GSM7496816\\_204289510131\\_R06C01 & 204289510131 & R06C01 & Control glioblastoma cells           & F\\\\\n",
       "\t GSM7496817 & 204289510131\\_R07C01 & GSM7496817\\_204289510131\\_R07C01 & 204289510131 & R07C01 & mTORC2-suppressed glioblastoma cells & F\\\\\n",
       "\t GSM7496818 & 204289510131\\_R08C01 & GSM7496818\\_204289510131\\_R08C01 & 204289510131 & R08C01 & mTORC2-suppressed glioblastoma cells & M\\\\\n",
       "\\end{tabular}\n"
      ],
      "text/markdown": [
       "\n",
       "A data.frame: 4 × 7\n",
       "\n",
       "| GeoID &lt;chr&gt; | SampleID &lt;chr&gt; | Basename &lt;chr&gt; | Sentrix_ID &lt;chr&gt; | Sentrix_Position &lt;chr&gt; | case-control &lt;chr&gt; | Sex &lt;chr&gt; |\n",
       "|---|---|---|---|---|---|---|\n",
       "| GSM7496815 | 204289510131_R05C01 | GSM7496815_204289510131_R05C01 | 204289510131 | R05C01 | Control glioblastoma cells           | M |\n",
       "| GSM7496816 | 204289510131_R06C01 | GSM7496816_204289510131_R06C01 | 204289510131 | R06C01 | Control glioblastoma cells           | F |\n",
       "| GSM7496817 | 204289510131_R07C01 | GSM7496817_204289510131_R07C01 | 204289510131 | R07C01 | mTORC2-suppressed glioblastoma cells | F |\n",
       "| GSM7496818 | 204289510131_R08C01 | GSM7496818_204289510131_R08C01 | 204289510131 | R08C01 | mTORC2-suppressed glioblastoma cells | M |\n",
       "\n"
      ],
      "text/plain": [
       "  GeoID      SampleID            Basename                       Sentrix_ID  \n",
       "1 GSM7496815 204289510131_R05C01 GSM7496815_204289510131_R05C01 204289510131\n",
       "2 GSM7496816 204289510131_R06C01 GSM7496816_204289510131_R06C01 204289510131\n",
       "3 GSM7496817 204289510131_R07C01 GSM7496817_204289510131_R07C01 204289510131\n",
       "4 GSM7496818 204289510131_R08C01 GSM7496818_204289510131_R08C01 204289510131\n",
       "  Sentrix_Position case-control                         Sex\n",
       "1 R05C01           Control glioblastoma cells           M  \n",
       "2 R06C01           Control glioblastoma cells           F  \n",
       "3 R07C01           mTORC2-suppressed glioblastoma cells F  \n",
       "4 R08C01           mTORC2-suppressed glioblastoma cells M  "
      ]
     },
     "metadata": {},
     "output_type": "display_data"
    }
   ],
   "source": [
    "#Esse conjunto de dados não possui informações de sexo, iremos inventar apenas para fins de exemplo\n",
    "sheet <- merge(x=sheet, y=caco.df, by.x = \"GeoID\", by.y = \"row.names\")\n",
    "sheet <- cbind(sheet, data.frame(\"Sex\" = c(\"M\", \"F\", \"F\", \"M\")))\n",
    "colnames(sheet) <- c(\"GeoID\", \"SampleID\", \"Basename\", \"Sentrix_ID\", \"Sentrix_Position\", \"case-control\", \"Sex\")\n",
    "#OBS nesta planilha a coluna de informação sexo biológico já está formatada como M e F \n",
    "sheet"
   ]
  },
  {
   "cell_type": "code",
   "execution_count": 88,
   "id": "932f6707-5ae9-4cb9-954a-ef313be3bf62",
   "metadata": {},
   "outputs": [],
   "source": [
    "write.csv(sheet, file = \"./phenotype_file_GSE235207.csv\", quote=F, row.names= F)"
   ]
  },
  {
   "cell_type": "markdown",
   "id": "0abecfde-f23d-4ec7-9856-de45a8d787cf",
   "metadata": {},
   "source": [
    "***\n",
    "### Exercício 2\n",
    "Juntar phenofiles e .idat em 1 só lugar"
   ]
  },
  {
   "cell_type": "code",
   "execution_count": 1,
   "id": "8973a787-637d-4a4f-8f03-add1259bf214",
   "metadata": {
    "scrolled": true
   },
   "outputs": [
    {
     "name": "stderr",
     "output_type": "stream",
     "text": [
      "Loading required package: Biobase\n",
      "\n",
      "Loading required package: BiocGenerics\n",
      "\n",
      "Loading required package: parallel\n",
      "\n",
      "\n",
      "Attaching package: ‘BiocGenerics’\n",
      "\n",
      "\n",
      "The following objects are masked from ‘package:parallel’:\n",
      "\n",
      "    clusterApply, clusterApplyLB, clusterCall, clusterEvalQ,\n",
      "    clusterExport, clusterMap, parApply, parCapply, parLapply,\n",
      "    parLapplyLB, parRapply, parSapply, parSapplyLB\n",
      "\n",
      "\n",
      "The following objects are masked from ‘package:stats’:\n",
      "\n",
      "    IQR, mad, sd, var, xtabs\n",
      "\n",
      "\n",
      "The following objects are masked from ‘package:base’:\n",
      "\n",
      "    anyDuplicated, append, as.data.frame, basename, cbind, colnames,\n",
      "    dirname, do.call, duplicated, eval, evalq, Filter, Find, get, grep,\n",
      "    grepl, intersect, is.unsorted, lapply, Map, mapply, match, mget,\n",
      "    order, paste, pmax, pmax.int, pmin, pmin.int, Position, rank,\n",
      "    rbind, Reduce, rownames, sapply, setdiff, sort, table, tapply,\n",
      "    union, unique, unsplit, which.max, which.min\n",
      "\n",
      "\n",
      "Welcome to Bioconductor\n",
      "\n",
      "    Vignettes contain introductory material; view with\n",
      "    'browseVignettes()'. To cite Bioconductor, see\n",
      "    'citation(\"Biobase\")', and for packages 'citation(\"pkgname\")'.\n",
      "\n",
      "\n",
      "Setting options('download.file.method.GEOquery'='auto')\n",
      "\n",
      "Setting options('GEOquery.inmemory.gpl'=FALSE)\n",
      "\n"
     ]
    }
   ],
   "source": [
    "library(GEOquery)\n",
    "library(ewastools)\n",
    "setwd(\"/home/iago/Documents/Epigenetica_curso_pipeline/Exercicios/EX3/\")\n",
    "\n",
    "dataDirectory <- (\".\")"
   ]
  },
  {
   "cell_type": "code",
   "execution_count": 2,
   "id": "0650fa3a-6979-4147-a08f-d440d3f70473",
   "metadata": {},
   "outputs": [],
   "source": [
    "# Copiar os idats de ambos os lugares para a o pasta exercícios\n",
    "\n",
    "system(\"cp GSE*/*.idat ~/Documents/Epigenetica_curso_pipeline/Exercicios/EX3/\")\n",
    "sys"
   ]
  },
  {
   "cell_type": "code",
   "execution_count": 5,
   "id": "eca6f2ee-74fd-482f-a838-83ddfd6287f4",
   "metadata": {},
   "outputs": [
    {
     "data": {
      "text/html": [
       "<table class=\"dataframe\">\n",
       "<caption>A data.frame: 3 × 6</caption>\n",
       "<thead>\n",
       "\t<tr><th></th><th scope=col>GeoID</th><th scope=col>SampleID</th><th scope=col>Basename</th><th scope=col>Sentrix_ID</th><th scope=col>Sentrix_Position</th><th scope=col>Sex</th></tr>\n",
       "\t<tr><th></th><th scope=col>&lt;chr&gt;</th><th scope=col>&lt;chr&gt;</th><th scope=col>&lt;chr&gt;</th><th scope=col>&lt;dbl&gt;</th><th scope=col>&lt;chr&gt;</th><th scope=col>&lt;chr&gt;</th></tr>\n",
       "</thead>\n",
       "<tbody>\n",
       "\t<tr><th scope=row>1</th><td>GSM5742874</td><td>202702240141_R05C01</td><td>GSM5742874_202702240141_R05C01</td><td>202702240141</td><td>R05C01</td><td>undef</td></tr>\n",
       "\t<tr><th scope=row>2</th><td>GSM5742875</td><td>202702240141_R06C01</td><td>GSM5742875_202702240141_R06C01</td><td>202702240141</td><td>R06C01</td><td>F    </td></tr>\n",
       "\t<tr><th scope=row>3</th><td>GSM5742876</td><td>202702240141_R08C01</td><td>GSM5742876_202702240141_R08C01</td><td>202702240141</td><td>R08C01</td><td>M    </td></tr>\n",
       "</tbody>\n",
       "</table>\n"
      ],
      "text/latex": [
       "A data.frame: 3 × 6\n",
       "\\begin{tabular}{r|llllll}\n",
       "  & GeoID & SampleID & Basename & Sentrix\\_ID & Sentrix\\_Position & Sex\\\\\n",
       "  & <chr> & <chr> & <chr> & <dbl> & <chr> & <chr>\\\\\n",
       "\\hline\n",
       "\t1 & GSM5742874 & 202702240141\\_R05C01 & GSM5742874\\_202702240141\\_R05C01 & 202702240141 & R05C01 & undef\\\\\n",
       "\t2 & GSM5742875 & 202702240141\\_R06C01 & GSM5742875\\_202702240141\\_R06C01 & 202702240141 & R06C01 & F    \\\\\n",
       "\t3 & GSM5742876 & 202702240141\\_R08C01 & GSM5742876\\_202702240141\\_R08C01 & 202702240141 & R08C01 & M    \\\\\n",
       "\\end{tabular}\n"
      ],
      "text/markdown": [
       "\n",
       "A data.frame: 3 × 6\n",
       "\n",
       "| <!--/--> | GeoID &lt;chr&gt; | SampleID &lt;chr&gt; | Basename &lt;chr&gt; | Sentrix_ID &lt;dbl&gt; | Sentrix_Position &lt;chr&gt; | Sex &lt;chr&gt; |\n",
       "|---|---|---|---|---|---|---|\n",
       "| 1 | GSM5742874 | 202702240141_R05C01 | GSM5742874_202702240141_R05C01 | 202702240141 | R05C01 | undef |\n",
       "| 2 | GSM5742875 | 202702240141_R06C01 | GSM5742875_202702240141_R06C01 | 202702240141 | R06C01 | F     |\n",
       "| 3 | GSM5742876 | 202702240141_R08C01 | GSM5742876_202702240141_R08C01 | 202702240141 | R08C01 | M     |\n",
       "\n"
      ],
      "text/plain": [
       "  GeoID      SampleID            Basename                       Sentrix_ID  \n",
       "1 GSM5742874 202702240141_R05C01 GSM5742874_202702240141_R05C01 202702240141\n",
       "2 GSM5742875 202702240141_R06C01 GSM5742875_202702240141_R06C01 202702240141\n",
       "3 GSM5742876 202702240141_R08C01 GSM5742876_202702240141_R08C01 202702240141\n",
       "  Sentrix_Position Sex  \n",
       "1 R05C01           undef\n",
       "2 R06C01           F    \n",
       "3 R08C01           M    "
      ]
     },
     "metadata": {},
     "output_type": "display_data"
    },
    {
     "data": {
      "text/html": [
       "<table class=\"dataframe\">\n",
       "<caption>A data.frame: 3 × 6</caption>\n",
       "<thead>\n",
       "\t<tr><th></th><th scope=col>GeoID</th><th scope=col>SampleID</th><th scope=col>Basename</th><th scope=col>Sentrix_ID</th><th scope=col>Sentrix_Position</th><th scope=col>Sex</th></tr>\n",
       "\t<tr><th></th><th scope=col>&lt;chr&gt;</th><th scope=col>&lt;chr&gt;</th><th scope=col>&lt;chr&gt;</th><th scope=col>&lt;dbl&gt;</th><th scope=col>&lt;chr&gt;</th><th scope=col>&lt;chr&gt;</th></tr>\n",
       "</thead>\n",
       "<tbody>\n",
       "\t<tr><th scope=row>1</th><td>GSM7496815</td><td>204289510131_R05C01</td><td>GSM7496815_204289510131_R05C01</td><td>204289510131</td><td>R05C01</td><td>M</td></tr>\n",
       "\t<tr><th scope=row>2</th><td>GSM7496816</td><td>204289510131_R06C01</td><td>GSM7496816_204289510131_R06C01</td><td>204289510131</td><td>R06C01</td><td>F</td></tr>\n",
       "\t<tr><th scope=row>3</th><td>GSM7496817</td><td>204289510131_R07C01</td><td>GSM7496817_204289510131_R07C01</td><td>204289510131</td><td>R07C01</td><td>F</td></tr>\n",
       "</tbody>\n",
       "</table>\n"
      ],
      "text/latex": [
       "A data.frame: 3 × 6\n",
       "\\begin{tabular}{r|llllll}\n",
       "  & GeoID & SampleID & Basename & Sentrix\\_ID & Sentrix\\_Position & Sex\\\\\n",
       "  & <chr> & <chr> & <chr> & <dbl> & <chr> & <chr>\\\\\n",
       "\\hline\n",
       "\t1 & GSM7496815 & 204289510131\\_R05C01 & GSM7496815\\_204289510131\\_R05C01 & 204289510131 & R05C01 & M\\\\\n",
       "\t2 & GSM7496816 & 204289510131\\_R06C01 & GSM7496816\\_204289510131\\_R06C01 & 204289510131 & R06C01 & F\\\\\n",
       "\t3 & GSM7496817 & 204289510131\\_R07C01 & GSM7496817\\_204289510131\\_R07C01 & 204289510131 & R07C01 & F\\\\\n",
       "\\end{tabular}\n"
      ],
      "text/markdown": [
       "\n",
       "A data.frame: 3 × 6\n",
       "\n",
       "| <!--/--> | GeoID &lt;chr&gt; | SampleID &lt;chr&gt; | Basename &lt;chr&gt; | Sentrix_ID &lt;dbl&gt; | Sentrix_Position &lt;chr&gt; | Sex &lt;chr&gt; |\n",
       "|---|---|---|---|---|---|---|\n",
       "| 1 | GSM7496815 | 204289510131_R05C01 | GSM7496815_204289510131_R05C01 | 204289510131 | R05C01 | M |\n",
       "| 2 | GSM7496816 | 204289510131_R06C01 | GSM7496816_204289510131_R06C01 | 204289510131 | R06C01 | F |\n",
       "| 3 | GSM7496817 | 204289510131_R07C01 | GSM7496817_204289510131_R07C01 | 204289510131 | R07C01 | F |\n",
       "\n"
      ],
      "text/plain": [
       "  GeoID      SampleID            Basename                       Sentrix_ID  \n",
       "1 GSM7496815 204289510131_R05C01 GSM7496815_204289510131_R05C01 204289510131\n",
       "2 GSM7496816 204289510131_R06C01 GSM7496816_204289510131_R06C01 204289510131\n",
       "3 GSM7496817 204289510131_R07C01 GSM7496817_204289510131_R07C01 204289510131\n",
       "  Sentrix_Position Sex\n",
       "1 R05C01           M  \n",
       "2 R06C01           F  \n",
       "3 R07C01           F  "
      ]
     },
     "metadata": {},
     "output_type": "display_data"
    }
   ],
   "source": [
    "# Carregar as duas tabelas de fenótipos e agrupar \n",
    "sheet1 <- read.csv(\"GSE191276/phenotype_file_GSE191276.csv\")\n",
    "sheet1[1:3,]\n",
    "sheet2 <- read.csv(\"GSE235207/phenotype_file_GSE235207.csv\")\n",
    "sheet2[1:3,]\n"
   ]
  },
  {
   "cell_type": "code",
   "execution_count": 9,
   "id": "29598a85-8048-4c92-9ba0-62d03022a44d",
   "metadata": {},
   "outputs": [
    {
     "data": {
      "text/html": [
       "<table class=\"dataframe\">\n",
       "<caption>A data.frame: 11 × 6</caption>\n",
       "<thead>\n",
       "\t<tr><th scope=col>GeoID</th><th scope=col>SampleID</th><th scope=col>Basename</th><th scope=col>Sentrix_ID</th><th scope=col>Sentrix_Position</th><th scope=col>Sex</th></tr>\n",
       "\t<tr><th scope=col>&lt;chr&gt;</th><th scope=col>&lt;chr&gt;</th><th scope=col>&lt;chr&gt;</th><th scope=col>&lt;dbl&gt;</th><th scope=col>&lt;chr&gt;</th><th scope=col>&lt;chr&gt;</th></tr>\n",
       "</thead>\n",
       "<tbody>\n",
       "\t<tr><td>GSM5742874</td><td>202702240141_R05C01</td><td>GSM5742874_202702240141_R05C01</td><td>202702240141</td><td>R05C01</td><td>undef</td></tr>\n",
       "\t<tr><td>GSM5742875</td><td>202702240141_R06C01</td><td>GSM5742875_202702240141_R06C01</td><td>202702240141</td><td>R06C01</td><td>F    </td></tr>\n",
       "\t<tr><td>GSM5742876</td><td>202702240141_R08C01</td><td>GSM5742876_202702240141_R08C01</td><td>202702240141</td><td>R08C01</td><td>M    </td></tr>\n",
       "\t<tr><td>GSM5742877</td><td>204088150175_R01C01</td><td>GSM5742877_204088150175_R01C01</td><td>204088150175</td><td>R01C01</td><td>M    </td></tr>\n",
       "\t<tr><td>GSM5742878</td><td>204088150175_R02C01</td><td>GSM5742878_204088150175_R02C01</td><td>204088150175</td><td>R02C01</td><td>F    </td></tr>\n",
       "\t<tr><td>GSM5742879</td><td>204088150175_R03C01</td><td>GSM5742879_204088150175_R03C01</td><td>204088150175</td><td>R03C01</td><td>M    </td></tr>\n",
       "\t<tr><td>GSM5742880</td><td>204088150175_R04C01</td><td>GSM5742880_204088150175_R04C01</td><td>204088150175</td><td>R04C01</td><td>M    </td></tr>\n",
       "\t<tr><td>GSM7496815</td><td>204289510131_R05C01</td><td>GSM7496815_204289510131_R05C01</td><td>204289510131</td><td>R05C01</td><td>M    </td></tr>\n",
       "\t<tr><td>GSM7496816</td><td>204289510131_R06C01</td><td>GSM7496816_204289510131_R06C01</td><td>204289510131</td><td>R06C01</td><td>F    </td></tr>\n",
       "\t<tr><td>GSM7496817</td><td>204289510131_R07C01</td><td>GSM7496817_204289510131_R07C01</td><td>204289510131</td><td>R07C01</td><td>F    </td></tr>\n",
       "\t<tr><td>GSM7496818</td><td>204289510131_R08C01</td><td>GSM7496818_204289510131_R08C01</td><td>204289510131</td><td>R08C01</td><td>M    </td></tr>\n",
       "</tbody>\n",
       "</table>\n"
      ],
      "text/latex": [
       "A data.frame: 11 × 6\n",
       "\\begin{tabular}{llllll}\n",
       " GeoID & SampleID & Basename & Sentrix\\_ID & Sentrix\\_Position & Sex\\\\\n",
       " <chr> & <chr> & <chr> & <dbl> & <chr> & <chr>\\\\\n",
       "\\hline\n",
       "\t GSM5742874 & 202702240141\\_R05C01 & GSM5742874\\_202702240141\\_R05C01 & 202702240141 & R05C01 & undef\\\\\n",
       "\t GSM5742875 & 202702240141\\_R06C01 & GSM5742875\\_202702240141\\_R06C01 & 202702240141 & R06C01 & F    \\\\\n",
       "\t GSM5742876 & 202702240141\\_R08C01 & GSM5742876\\_202702240141\\_R08C01 & 202702240141 & R08C01 & M    \\\\\n",
       "\t GSM5742877 & 204088150175\\_R01C01 & GSM5742877\\_204088150175\\_R01C01 & 204088150175 & R01C01 & M    \\\\\n",
       "\t GSM5742878 & 204088150175\\_R02C01 & GSM5742878\\_204088150175\\_R02C01 & 204088150175 & R02C01 & F    \\\\\n",
       "\t GSM5742879 & 204088150175\\_R03C01 & GSM5742879\\_204088150175\\_R03C01 & 204088150175 & R03C01 & M    \\\\\n",
       "\t GSM5742880 & 204088150175\\_R04C01 & GSM5742880\\_204088150175\\_R04C01 & 204088150175 & R04C01 & M    \\\\\n",
       "\t GSM7496815 & 204289510131\\_R05C01 & GSM7496815\\_204289510131\\_R05C01 & 204289510131 & R05C01 & M    \\\\\n",
       "\t GSM7496816 & 204289510131\\_R06C01 & GSM7496816\\_204289510131\\_R06C01 & 204289510131 & R06C01 & F    \\\\\n",
       "\t GSM7496817 & 204289510131\\_R07C01 & GSM7496817\\_204289510131\\_R07C01 & 204289510131 & R07C01 & F    \\\\\n",
       "\t GSM7496818 & 204289510131\\_R08C01 & GSM7496818\\_204289510131\\_R08C01 & 204289510131 & R08C01 & M    \\\\\n",
       "\\end{tabular}\n"
      ],
      "text/markdown": [
       "\n",
       "A data.frame: 11 × 6\n",
       "\n",
       "| GeoID &lt;chr&gt; | SampleID &lt;chr&gt; | Basename &lt;chr&gt; | Sentrix_ID &lt;dbl&gt; | Sentrix_Position &lt;chr&gt; | Sex &lt;chr&gt; |\n",
       "|---|---|---|---|---|---|\n",
       "| GSM5742874 | 202702240141_R05C01 | GSM5742874_202702240141_R05C01 | 202702240141 | R05C01 | undef |\n",
       "| GSM5742875 | 202702240141_R06C01 | GSM5742875_202702240141_R06C01 | 202702240141 | R06C01 | F     |\n",
       "| GSM5742876 | 202702240141_R08C01 | GSM5742876_202702240141_R08C01 | 202702240141 | R08C01 | M     |\n",
       "| GSM5742877 | 204088150175_R01C01 | GSM5742877_204088150175_R01C01 | 204088150175 | R01C01 | M     |\n",
       "| GSM5742878 | 204088150175_R02C01 | GSM5742878_204088150175_R02C01 | 204088150175 | R02C01 | F     |\n",
       "| GSM5742879 | 204088150175_R03C01 | GSM5742879_204088150175_R03C01 | 204088150175 | R03C01 | M     |\n",
       "| GSM5742880 | 204088150175_R04C01 | GSM5742880_204088150175_R04C01 | 204088150175 | R04C01 | M     |\n",
       "| GSM7496815 | 204289510131_R05C01 | GSM7496815_204289510131_R05C01 | 204289510131 | R05C01 | M     |\n",
       "| GSM7496816 | 204289510131_R06C01 | GSM7496816_204289510131_R06C01 | 204289510131 | R06C01 | F     |\n",
       "| GSM7496817 | 204289510131_R07C01 | GSM7496817_204289510131_R07C01 | 204289510131 | R07C01 | F     |\n",
       "| GSM7496818 | 204289510131_R08C01 | GSM7496818_204289510131_R08C01 | 204289510131 | R08C01 | M     |\n",
       "\n"
      ],
      "text/plain": [
       "   GeoID      SampleID            Basename                       Sentrix_ID  \n",
       "1  GSM5742874 202702240141_R05C01 GSM5742874_202702240141_R05C01 202702240141\n",
       "2  GSM5742875 202702240141_R06C01 GSM5742875_202702240141_R06C01 202702240141\n",
       "3  GSM5742876 202702240141_R08C01 GSM5742876_202702240141_R08C01 202702240141\n",
       "4  GSM5742877 204088150175_R01C01 GSM5742877_204088150175_R01C01 204088150175\n",
       "5  GSM5742878 204088150175_R02C01 GSM5742878_204088150175_R02C01 204088150175\n",
       "6  GSM5742879 204088150175_R03C01 GSM5742879_204088150175_R03C01 204088150175\n",
       "7  GSM5742880 204088150175_R04C01 GSM5742880_204088150175_R04C01 204088150175\n",
       "8  GSM7496815 204289510131_R05C01 GSM7496815_204289510131_R05C01 204289510131\n",
       "9  GSM7496816 204289510131_R06C01 GSM7496816_204289510131_R06C01 204289510131\n",
       "10 GSM7496817 204289510131_R07C01 GSM7496817_204289510131_R07C01 204289510131\n",
       "11 GSM7496818 204289510131_R08C01 GSM7496818_204289510131_R08C01 204289510131\n",
       "   Sentrix_Position Sex  \n",
       "1  R05C01           undef\n",
       "2  R06C01           F    \n",
       "3  R08C01           M    \n",
       "4  R01C01           M    \n",
       "5  R02C01           F    \n",
       "6  R03C01           M    \n",
       "7  R04C01           M    \n",
       "8  R05C01           M    \n",
       "9  R06C01           F    \n",
       "10 R07C01           F    \n",
       "11 R08C01           M    "
      ]
     },
     "metadata": {},
     "output_type": "display_data"
    },
    {
     "data": {
      "text/html": [
       "<style>\n",
       ".list-inline {list-style: none; margin:0; padding: 0}\n",
       ".list-inline>li {display: inline-block}\n",
       ".list-inline>li:not(:last-child)::after {content: \"\\00b7\"; padding: 0 .5ex}\n",
       "</style>\n",
       "<ol class=list-inline><li>11</li><li>6</li></ol>\n"
      ],
      "text/latex": [
       "\\begin{enumerate*}\n",
       "\\item 11\n",
       "\\item 6\n",
       "\\end{enumerate*}\n"
      ],
      "text/markdown": [
       "1. 11\n",
       "2. 6\n",
       "\n",
       "\n"
      ],
      "text/plain": [
       "[1] 11  6"
      ]
     },
     "metadata": {},
     "output_type": "display_data"
    }
   ],
   "source": [
    "# Usaremos rbind para agrupar as duas sheet\n",
    "\n",
    "sheet <- rbind(sheet1,sheet2)\n",
    "sheet\n",
    "\n",
    "dim(sheet)"
   ]
  },
  {
   "cell_type": "code",
   "execution_count": 10,
   "id": "a763315f-cf59-4483-af11-2d7dd030e1c2",
   "metadata": {},
   "outputs": [],
   "source": [
    "write.csv(sheet,\"phenotype_file_ex3.csv\", row.names=F)"
   ]
  },
  {
   "cell_type": "code",
   "execution_count": null,
   "id": "deae7a0f-5a05-4450-9434-b3416e083142",
   "metadata": {},
   "outputs": [],
   "source": []
  },
  {
   "cell_type": "markdown",
   "id": "3c2c0f76-6107-40a7-a3ac-eedc9c577702",
   "metadata": {},
   "source": [
    "***\n",
    "# ewastools"
   ]
  },
  {
   "cell_type": "code",
   "execution_count": 4,
   "id": "78e909b8-450a-471f-acac-03903b17a337",
   "metadata": {},
   "outputs": [
    {
     "data": {
      "text/html": [
       "<table class=\"dataframe\">\n",
       "<caption>A data.frame: 6 × 6</caption>\n",
       "<thead>\n",
       "\t<tr><th></th><th scope=col>GeoID</th><th scope=col>SampleID</th><th scope=col>Basename</th><th scope=col>Sentrix_ID</th><th scope=col>Sentrix_Position</th><th scope=col>Sex</th></tr>\n",
       "\t<tr><th></th><th scope=col>&lt;chr&gt;</th><th scope=col>&lt;chr&gt;</th><th scope=col>&lt;chr&gt;</th><th scope=col>&lt;dbl&gt;</th><th scope=col>&lt;chr&gt;</th><th scope=col>&lt;chr&gt;</th></tr>\n",
       "</thead>\n",
       "<tbody>\n",
       "\t<tr><th scope=row>1</th><td>GSM5742874</td><td>202702240141_R05C01</td><td>GSM5742874_202702240141_R05C01</td><td>202702240141</td><td>R05C01</td><td>NA</td></tr>\n",
       "\t<tr><th scope=row>2</th><td>GSM5742875</td><td>202702240141_R06C01</td><td>GSM5742875_202702240141_R06C01</td><td>202702240141</td><td>R06C01</td><td>F </td></tr>\n",
       "\t<tr><th scope=row>3</th><td>GSM5742876</td><td>202702240141_R08C01</td><td>GSM5742876_202702240141_R08C01</td><td>202702240141</td><td>R08C01</td><td>M </td></tr>\n",
       "\t<tr><th scope=row>4</th><td>GSM5742877</td><td>204088150175_R01C01</td><td>GSM5742877_204088150175_R01C01</td><td>204088150175</td><td>R01C01</td><td>M </td></tr>\n",
       "\t<tr><th scope=row>5</th><td>GSM5742878</td><td>204088150175_R02C01</td><td>GSM5742878_204088150175_R02C01</td><td>204088150175</td><td>R02C01</td><td>F </td></tr>\n",
       "\t<tr><th scope=row>6</th><td>GSM5742879</td><td>204088150175_R03C01</td><td>GSM5742879_204088150175_R03C01</td><td>204088150175</td><td>R03C01</td><td>M </td></tr>\n",
       "</tbody>\n",
       "</table>\n"
      ],
      "text/latex": [
       "A data.frame: 6 × 6\n",
       "\\begin{tabular}{r|llllll}\n",
       "  & GeoID & SampleID & Basename & Sentrix\\_ID & Sentrix\\_Position & Sex\\\\\n",
       "  & <chr> & <chr> & <chr> & <dbl> & <chr> & <chr>\\\\\n",
       "\\hline\n",
       "\t1 & GSM5742874 & 202702240141\\_R05C01 & GSM5742874\\_202702240141\\_R05C01 & 202702240141 & R05C01 & NA\\\\\n",
       "\t2 & GSM5742875 & 202702240141\\_R06C01 & GSM5742875\\_202702240141\\_R06C01 & 202702240141 & R06C01 & F \\\\\n",
       "\t3 & GSM5742876 & 202702240141\\_R08C01 & GSM5742876\\_202702240141\\_R08C01 & 202702240141 & R08C01 & M \\\\\n",
       "\t4 & GSM5742877 & 204088150175\\_R01C01 & GSM5742877\\_204088150175\\_R01C01 & 204088150175 & R01C01 & M \\\\\n",
       "\t5 & GSM5742878 & 204088150175\\_R02C01 & GSM5742878\\_204088150175\\_R02C01 & 204088150175 & R02C01 & F \\\\\n",
       "\t6 & GSM5742879 & 204088150175\\_R03C01 & GSM5742879\\_204088150175\\_R03C01 & 204088150175 & R03C01 & M \\\\\n",
       "\\end{tabular}\n"
      ],
      "text/markdown": [
       "\n",
       "A data.frame: 6 × 6\n",
       "\n",
       "| <!--/--> | GeoID &lt;chr&gt; | SampleID &lt;chr&gt; | Basename &lt;chr&gt; | Sentrix_ID &lt;dbl&gt; | Sentrix_Position &lt;chr&gt; | Sex &lt;chr&gt; |\n",
       "|---|---|---|---|---|---|---|\n",
       "| 1 | GSM5742874 | 202702240141_R05C01 | GSM5742874_202702240141_R05C01 | 202702240141 | R05C01 | NA |\n",
       "| 2 | GSM5742875 | 202702240141_R06C01 | GSM5742875_202702240141_R06C01 | 202702240141 | R06C01 | F  |\n",
       "| 3 | GSM5742876 | 202702240141_R08C01 | GSM5742876_202702240141_R08C01 | 202702240141 | R08C01 | M  |\n",
       "| 4 | GSM5742877 | 204088150175_R01C01 | GSM5742877_204088150175_R01C01 | 204088150175 | R01C01 | M  |\n",
       "| 5 | GSM5742878 | 204088150175_R02C01 | GSM5742878_204088150175_R02C01 | 204088150175 | R02C01 | F  |\n",
       "| 6 | GSM5742879 | 204088150175_R03C01 | GSM5742879_204088150175_R03C01 | 204088150175 | R03C01 | M  |\n",
       "\n"
      ],
      "text/plain": [
       "  GeoID      SampleID            Basename                       Sentrix_ID  \n",
       "1 GSM5742874 202702240141_R05C01 GSM5742874_202702240141_R05C01 202702240141\n",
       "2 GSM5742875 202702240141_R06C01 GSM5742875_202702240141_R06C01 202702240141\n",
       "3 GSM5742876 202702240141_R08C01 GSM5742876_202702240141_R08C01 202702240141\n",
       "4 GSM5742877 204088150175_R01C01 GSM5742877_204088150175_R01C01 204088150175\n",
       "5 GSM5742878 204088150175_R02C01 GSM5742878_204088150175_R02C01 204088150175\n",
       "6 GSM5742879 204088150175_R03C01 GSM5742879_204088150175_R03C01 204088150175\n",
       "  Sentrix_Position Sex\n",
       "1 R05C01           NA \n",
       "2 R06C01           F  \n",
       "3 R08C01           M  \n",
       "4 R01C01           M  \n",
       "5 R02C01           F  \n",
       "6 R03C01           M  "
      ]
     },
     "metadata": {},
     "output_type": "display_data"
    }
   ],
   "source": [
    "sheet = read.csv(\"./phenotype_file_ex3.csv\", header= T)\n",
    "\n",
    "head(sheet)\n"
   ]
  },
  {
   "cell_type": "markdown",
   "id": "66073e20-1c30-4504-aed9-2e00e328f31f",
   "metadata": {},
   "source": [
    "***\n",
    "#### Leitura de idats\n",
    "\n"
   ]
  },
  {
   "cell_type": "code",
   "execution_count": 12,
   "id": "95cb13c7-04fc-4035-87f6-14f626c81793",
   "metadata": {},
   "outputs": [
    {
     "data": {
      "text/html": [
       "<style>\n",
       ".list-inline {list-style: none; margin:0; padding: 0}\n",
       ".list-inline>li {display: inline-block}\n",
       ".list-inline>li:not(:last-child)::after {content: \"\\00b7\"; padding: 0 .5ex}\n",
       "</style>\n",
       "<ol class=list-inline><li>'./GSM5742874_202702240141_R05C01'</li><li>'./GSM5742875_202702240141_R06C01'</li><li>'./GSM5742876_202702240141_R08C01'</li><li>'./GSM5742877_204088150175_R01C01'</li><li>'./GSM5742878_204088150175_R02C01'</li><li>'./GSM5742879_204088150175_R03C01'</li></ol>\n"
      ],
      "text/latex": [
       "\\begin{enumerate*}\n",
       "\\item './GSM5742874\\_202702240141\\_R05C01'\n",
       "\\item './GSM5742875\\_202702240141\\_R06C01'\n",
       "\\item './GSM5742876\\_202702240141\\_R08C01'\n",
       "\\item './GSM5742877\\_204088150175\\_R01C01'\n",
       "\\item './GSM5742878\\_204088150175\\_R02C01'\n",
       "\\item './GSM5742879\\_204088150175\\_R03C01'\n",
       "\\end{enumerate*}\n"
      ],
      "text/markdown": [
       "1. './GSM5742874_202702240141_R05C01'\n",
       "2. './GSM5742875_202702240141_R06C01'\n",
       "3. './GSM5742876_202702240141_R08C01'\n",
       "4. './GSM5742877_204088150175_R01C01'\n",
       "5. './GSM5742878_204088150175_R02C01'\n",
       "6. './GSM5742879_204088150175_R03C01'\n",
       "\n",
       "\n"
      ],
      "text/plain": [
       "[1] \"./GSM5742874_202702240141_R05C01\" \"./GSM5742875_202702240141_R06C01\"\n",
       "[3] \"./GSM5742876_202702240141_R08C01\" \"./GSM5742877_204088150175_R01C01\"\n",
       "[5] \"./GSM5742878_204088150175_R02C01\" \"./GSM5742879_204088150175_R03C01\""
      ]
     },
     "metadata": {},
     "output_type": "display_data"
    },
    {
     "name": "stdout",
     "output_type": "stream",
     "text": [
      "[1] \"Meth file loaded.\"\n"
     ]
    }
   ],
   "source": [
    "head(paste(dataDirectory,sheet$Basename,sep=\"/\"))\n",
    "\n",
    "### Moditicar o BASENAME para ter o caminho em que os .idat estão salvos\n",
    "if(\"methdata.RData\" %in% list.files(\"./\")){\n",
    "    load(\"./methdata.RData\")\n",
    "    print(\"Meth file loaded.\")\n",
    "    }else{\n",
    "    meth = read_idats(paste(dataDirectory,sheet$Basename,sep = \"/\"))\n",
    "    save(meth, file=\"./methdata.RData\")\n",
    "    }\n"
   ]
  },
  {
   "cell_type": "code",
   "execution_count": 14,
   "id": "4638e81a-31a3-4c4f-bdbc-f471cfec2b35",
   "metadata": {},
   "outputs": [
    {
     "data": {
      "text/html": [
       "<table class=\"dataframe\">\n",
       "<caption>A data.table: 5 × 13</caption>\n",
       "<thead>\n",
       "\t<tr><th scope=col>probe_id</th><th scope=col>addressU</th><th scope=col>addressM</th><th scope=col>channel</th><th scope=col>next_base</th><th scope=col>chr</th><th scope=col>mapinfo</th><th scope=col>strand</th><th scope=col>probe_type</th><th scope=col>index</th><th scope=col>OOBi</th><th scope=col>Ui</th><th scope=col>Mi</th></tr>\n",
       "\t<tr><th scope=col>&lt;chr&gt;</th><th scope=col>&lt;int&gt;</th><th scope=col>&lt;int&gt;</th><th scope=col>&lt;chr&gt;</th><th scope=col>&lt;chr&gt;</th><th scope=col>&lt;chr&gt;</th><th scope=col>&lt;int&gt;</th><th scope=col>&lt;fct&gt;</th><th scope=col>&lt;chr&gt;</th><th scope=col>&lt;int&gt;</th><th scope=col>&lt;int&gt;</th><th scope=col>&lt;int&gt;</th><th scope=col>&lt;int&gt;</th></tr>\n",
       "</thead>\n",
       "<tbody>\n",
       "\t<tr><td>rs10796216</td><td>84632581</td><td>77745366</td><td>Red </td><td>A</td><td></td><td>NA</td><td></td><td>rs</td><td>1</td><td> 1</td><td>838118</td><td>750746</td></tr>\n",
       "\t<tr><td>rs2468330 </td><td>55653201</td><td>      NA</td><td>Both</td><td> </td><td></td><td>NA</td><td></td><td>rs</td><td>2</td><td>NA</td><td>536579</td><td>536579</td></tr>\n",
       "\t<tr><td>rs213028  </td><td>31661197</td><td> 3637210</td><td>Red </td><td>T</td><td></td><td>NA</td><td></td><td>rs</td><td>3</td><td> 2</td><td>317324</td><td> 29821</td></tr>\n",
       "\t<tr><td>rs951295  </td><td> 1777132</td><td>81605941</td><td>Grn </td><td>C</td><td></td><td>NA</td><td></td><td>rs</td><td>4</td><td> 1</td><td> 11371</td><td>796811</td></tr>\n",
       "\t<tr><td>rs877309  </td><td>79696145</td><td>      NA</td><td>Both</td><td> </td><td></td><td>NA</td><td></td><td>rs</td><td>5</td><td>NA</td><td>774881</td><td>774881</td></tr>\n",
       "</tbody>\n",
       "</table>\n"
      ],
      "text/latex": [
       "A data.table: 5 × 13\n",
       "\\begin{tabular}{lllllllllllll}\n",
       " probe\\_id & addressU & addressM & channel & next\\_base & chr & mapinfo & strand & probe\\_type & index & OOBi & Ui & Mi\\\\\n",
       " <chr> & <int> & <int> & <chr> & <chr> & <chr> & <int> & <fct> & <chr> & <int> & <int> & <int> & <int>\\\\\n",
       "\\hline\n",
       "\t rs10796216 & 84632581 & 77745366 & Red  & A &  & NA &  & rs & 1 &  1 & 838118 & 750746\\\\\n",
       "\t rs2468330  & 55653201 &       NA & Both &   &  & NA &  & rs & 2 & NA & 536579 & 536579\\\\\n",
       "\t rs213028   & 31661197 &  3637210 & Red  & T &  & NA &  & rs & 3 &  2 & 317324 &  29821\\\\\n",
       "\t rs951295   &  1777132 & 81605941 & Grn  & C &  & NA &  & rs & 4 &  1 &  11371 & 796811\\\\\n",
       "\t rs877309   & 79696145 &       NA & Both &   &  & NA &  & rs & 5 & NA & 774881 & 774881\\\\\n",
       "\\end{tabular}\n"
      ],
      "text/markdown": [
       "\n",
       "A data.table: 5 × 13\n",
       "\n",
       "| probe_id &lt;chr&gt; | addressU &lt;int&gt; | addressM &lt;int&gt; | channel &lt;chr&gt; | next_base &lt;chr&gt; | chr &lt;chr&gt; | mapinfo &lt;int&gt; | strand &lt;fct&gt; | probe_type &lt;chr&gt; | index &lt;int&gt; | OOBi &lt;int&gt; | Ui &lt;int&gt; | Mi &lt;int&gt; |\n",
       "|---|---|---|---|---|---|---|---|---|---|---|---|---|\n",
       "| rs10796216 | 84632581 | 77745366 | Red  | A | <!----> | NA | <!----> | rs | 1 |  1 | 838118 | 750746 |\n",
       "| rs2468330  | 55653201 |       NA | Both | <!----> | <!----> | NA | <!----> | rs | 2 | NA | 536579 | 536579 |\n",
       "| rs213028   | 31661197 |  3637210 | Red  | T | <!----> | NA | <!----> | rs | 3 |  2 | 317324 |  29821 |\n",
       "| rs951295   |  1777132 | 81605941 | Grn  | C | <!----> | NA | <!----> | rs | 4 |  1 |  11371 | 796811 |\n",
       "| rs877309   | 79696145 |       NA | Both | <!----> | <!----> | NA | <!----> | rs | 5 | NA | 774881 | 774881 |\n",
       "\n"
      ],
      "text/plain": [
       "  probe_id   addressU addressM channel next_base chr mapinfo strand probe_type\n",
       "1 rs10796216 84632581 77745366 Red     A             NA             rs        \n",
       "2 rs2468330  55653201       NA Both                  NA             rs        \n",
       "3 rs213028   31661197  3637210 Red     T             NA             rs        \n",
       "4 rs951295    1777132 81605941 Grn     C             NA             rs        \n",
       "5 rs877309   79696145       NA Both                  NA             rs        \n",
       "  index OOBi Ui     Mi    \n",
       "1 1      1   838118 750746\n",
       "2 2     NA   536579 536579\n",
       "3 3      2   317324  29821\n",
       "4 4      1    11371 796811\n",
       "5 5     NA   774881 774881"
      ]
     },
     "metadata": {},
     "output_type": "display_data"
    }
   ],
   "source": [
    "meth$manifest[1:5,]"
   ]
  },
  {
   "cell_type": "markdown",
   "id": "0f8f3759-1544-4849-91b8-bea73c2d1bce",
   "metadata": {},
   "source": [
    "***\n",
    "#### Aplicando as control metrics\n",
    " * função control metrics\n",
    " * predict_sex()"
   ]
  },
  {
   "cell_type": "code",
   "execution_count": 17,
   "id": "d84ac7b9-be80-4797-932a-bc6d4e35bb0d",
   "metadata": {},
   "outputs": [
    {
     "name": "stderr",
     "output_type": "stream",
     "text": [
      "Failed Samples: 0\n",
      "\n"
     ]
    }
   ],
   "source": [
    "sheet = as.data.table(sheet)\n",
    "sheet[,exclude:=FALSE]\n",
    "meth %>% control_metrics %>% sample_failure -> sheet$failed\n",
    "fails <- subset(sheet, failed == \"TRUE\")\n",
    "message(\"Failed Samples: \", nrow(fails))"
   ]
  },
  {
   "cell_type": "code",
   "execution_count": 45,
   "id": "f5930617-d640-40b5-831a-c1ed4af4819f",
   "metadata": {},
   "outputs": [
    {
     "data": {
      "image/png": "[encoded data removed]",
      "text/plain": [
       "plot without title"
      ]
     },
     "metadata": {
      "image/png": {
       "height": 420,
       "width": 420
      }
     },
     "output_type": "display_data"
    }
   ],
   "source": [
    "ctrls = control_metrics(meth)\n",
    "stripchart(ctrls$`Bisulfite Conversion II`,method=\"jitter\",pch=4,xlab='Bisulfite Conversion II',xlim=c(0,10))\n",
    "abline(v=1,col=2,lty=3)"
   ]
  },
  {
   "cell_type": "code",
   "execution_count": 46,
   "id": "aa42db7b-0e02-40f0-897b-a5a93dff59fe",
   "metadata": {},
   "outputs": [
    {
     "data": {
      "text/plain": [
       "\n",
       "FALSE \n",
       "    7 "
      ]
     },
     "metadata": {},
     "output_type": "display_data"
    }
   ],
   "source": [
    "sheet$failed = sample_failure(ctrls)\n",
    "table(sheet$failed)"
   ]
  },
  {
   "cell_type": "code",
   "execution_count": 47,
   "id": "4ea1b6ec-7c04-48ac-abc9-45c9b30f57ea",
   "metadata": {},
   "outputs": [
    {
     "data": {
      "text/html": [
       "<style>\n",
       ".dl-inline {width: auto; margin:0; padding: 0}\n",
       ".dl-inline>dt, .dl-inline>dd {float: none; width: auto; display: inline-block}\n",
       ".dl-inline>dt::after {content: \":\\0020\"; padding-right: .5ex}\n",
       ".dl-inline>dt:not(:first-of-type) {padding-left: .5ex}\n",
       "</style><dl class=dl-inline><dt>F</dt><dd>130.5</dd><dt>M</dt><dd>534</dd></dl>\n"
      ],
      "text/latex": [
       "\\begin{description*}\n",
       "\\item[F] 130.5\n",
       "\\item[M] 534\n",
       "\\end{description*}\n"
      ],
      "text/markdown": [
       "F\n",
       ":   130.5M\n",
       ":   534\n",
       "\n"
      ],
      "text/plain": [
       "    F     M \n",
       "130.5 534.0 "
      ]
     },
     "metadata": {},
     "output_type": "display_data"
    },
    {
     "data": {
      "text/plain": [
       "   \n",
       "    m f\n",
       "  F 0 2\n",
       "  M 4 0"
      ]
     },
     "metadata": {},
     "output_type": "display_data"
    },
    {
     "data": {
      "image/png": "[encoded data removed]",
      "text/plain": [
       "plot without title"
      ]
     },
     "metadata": {
      "image/png": {
       "height": 420,
       "width": 420
      }
     },
     "output_type": "display_data"
    }
   ],
   "source": [
    "# 1. Obter o detectionP dos dados de metilação originais\n",
    "detP = meth$detP[chrY,]\n",
    "\n",
    "# 2. Calcular a quantidade das colunas de detP de cada indivíduo que obtem valor menor que 0.01 para o cromossomo Y\n",
    "detP = colSums(detP<0.01,na.rm=TRUE)\n",
    "\n",
    "# 3. Realizar um boxplot mostrando a distribução de detP < 0.01 em homens e mulheres ( de acordo com sexo biológico autodeclarado)\n",
    "boxplot(split(detP,sheet$Sex),ylab=\"# of detected Y chromosome probes\")\n",
    "\n",
    "# 4. Calcuando a mediana das distribuições nas subamostras de homens e mulhres\n",
    "split(detP,sheet$Sex) %>% sapply(median)\n",
    "\n",
    "\n",
    "#------------------------------------------\n",
    "#Aplicando as funções check_sex e predict_sex\n",
    "sexpred = check_sex(meth) \n",
    "PredSex = predict_sex(sexpred$X, sexpred$Y)\n",
    "\n",
    "sheet$predSex_X = sexpred$X\n",
    "sheet$predSex_Y = sexpred$Y\n",
    "sheet$predSex = PredSex\n",
    "\n",
    "table(sheet$Sex,sheet$predSex)"
   ]
  },
  {
   "cell_type": "markdown",
   "id": "ffec322c-f969-46b1-825a-39f897aea0b9",
   "metadata": {},
   "source": [
    "***\n",
    "#### Omitir probes que estiverem com mediana de detP < 0.01 "
   ]
  },
  {
   "cell_type": "code",
   "execution_count": 41,
   "id": "a49f8c8f-442c-43df-9250-27bdfcb5a786",
   "metadata": {},
   "outputs": [],
   "source": [
    "beta = meth %>% ewastools::mask(0.01)"
   ]
  },
  {
   "cell_type": "code",
   "execution_count": 42,
   "id": "bb84a30b-bb9e-472c-bc9c-ee4cfdea4b80",
   "metadata": {},
   "outputs": [
    {
     "data": {
      "text/html": [
       "'list'"
      ],
      "text/latex": [
       "'list'"
      ],
      "text/markdown": [
       "'list'"
      ],
      "text/plain": [
       "[1] \"list\""
      ]
     },
     "metadata": {},
     "output_type": "display_data"
    }
   ],
   "source": [
    "typeof(beta)\n"
   ]
  },
  {
   "cell_type": "code",
   "execution_count": 43,
   "id": "bab08d9e-5681-48fa-9c48-901a3572707b",
   "metadata": {},
   "outputs": [],
   "source": [
    "beta %<>% correct_dye_bias"
   ]
  },
  {
   "cell_type": "code",
   "execution_count": 44,
   "id": "bbf81bd1-d809-400b-93a5-cb9ce9a182b4",
   "metadata": {},
   "outputs": [],
   "source": [
    "beta %<>% ewastools::dont_normalize()\n",
    "\n",
    "save(beta,file=\"./raw_beta.RData\")\n",
    "\n",
    "rm(beta)"
   ]
  },
  {
   "cell_type": "code",
   "execution_count": 66,
   "id": "d9e44fee-07c4-4d86-90e9-ec4cf316ef5f",
   "metadata": {},
   "outputs": [],
   "source": [
    "rm(list=ls())"
   ]
  },
  {
   "cell_type": "markdown",
   "id": "675eee0d-c0ee-459e-8d0b-458df89534d4",
   "metadata": {
    "jp-MarkdownHeadingCollapsed": true
   },
   "source": [
    "***\n",
    "# Minfi"
   ]
  },
  {
   "cell_type": "code",
   "execution_count": 67,
   "id": "6184321c-762b-422d-b85d-82f90bf64422",
   "metadata": {},
   "outputs": [],
   "source": [
    "library(minfi)\n",
    "\n",
    "library(stringi)\n",
    "library(magrittr)\n",
    "library(data.table)\n",
    "library(svd)\n",
    "library(purrr)"
   ]
  },
  {
   "cell_type": "code",
   "execution_count": 82,
   "id": "44a7b705-8841-48f4-9066-8f66b2dd48ed",
   "metadata": {},
   "outputs": [],
   "source": [
    "setwd(\"/home/iago/Documents/Epigenetica_curso_pipeline/Exercicios/EX3/\")\n",
    "basedir = getwd()\n",
    "date=\"June4th2024\"\n",
    "dataDirectory <- (\"/home/iago/Documents/Epigenetica_curso_pipeline/Exercicios/EX3/\")"
   ]
  },
  {
   "cell_type": "code",
   "execution_count": 83,
   "id": "bdadc3a8-07e6-47eb-b7c9-eb2446fb8edb",
   "metadata": {},
   "outputs": [
    {
     "data": {
      "text/html": [
       "<table class=\"dataframe\">\n",
       "<caption>A data.frame: 6 × 6</caption>\n",
       "<thead>\n",
       "\t<tr><th></th><th scope=col>GeoID</th><th scope=col>SampleID</th><th scope=col>Basename</th><th scope=col>Sentrix_ID</th><th scope=col>Sentrix_Position</th><th scope=col>Sex</th></tr>\n",
       "\t<tr><th></th><th scope=col>&lt;chr&gt;</th><th scope=col>&lt;chr&gt;</th><th scope=col>&lt;chr&gt;</th><th scope=col>&lt;dbl&gt;</th><th scope=col>&lt;chr&gt;</th><th scope=col>&lt;chr&gt;</th></tr>\n",
       "</thead>\n",
       "<tbody>\n",
       "\t<tr><th scope=row>1</th><td>GSM5742874</td><td>202702240141_R05C01</td><td>GSM5742874_202702240141_R05C01</td><td>202702240141</td><td>R05C01</td><td>undef</td></tr>\n",
       "\t<tr><th scope=row>2</th><td>GSM5742875</td><td>202702240141_R06C01</td><td>GSM5742875_202702240141_R06C01</td><td>202702240141</td><td>R06C01</td><td>F    </td></tr>\n",
       "\t<tr><th scope=row>3</th><td>GSM5742876</td><td>202702240141_R08C01</td><td>GSM5742876_202702240141_R08C01</td><td>202702240141</td><td>R08C01</td><td>M    </td></tr>\n",
       "\t<tr><th scope=row>4</th><td>GSM5742877</td><td>204088150175_R01C01</td><td>GSM5742877_204088150175_R01C01</td><td>204088150175</td><td>R01C01</td><td>M    </td></tr>\n",
       "\t<tr><th scope=row>5</th><td>GSM5742878</td><td>204088150175_R02C01</td><td>GSM5742878_204088150175_R02C01</td><td>204088150175</td><td>R02C01</td><td>F    </td></tr>\n",
       "\t<tr><th scope=row>6</th><td>GSM5742879</td><td>204088150175_R03C01</td><td>GSM5742879_204088150175_R03C01</td><td>204088150175</td><td>R03C01</td><td>M    </td></tr>\n",
       "</tbody>\n",
       "</table>\n"
      ],
      "text/latex": [
       "A data.frame: 6 × 6\n",
       "\\begin{tabular}{r|llllll}\n",
       "  & GeoID & SampleID & Basename & Sentrix\\_ID & Sentrix\\_Position & Sex\\\\\n",
       "  & <chr> & <chr> & <chr> & <dbl> & <chr> & <chr>\\\\\n",
       "\\hline\n",
       "\t1 & GSM5742874 & 202702240141\\_R05C01 & GSM5742874\\_202702240141\\_R05C01 & 202702240141 & R05C01 & undef\\\\\n",
       "\t2 & GSM5742875 & 202702240141\\_R06C01 & GSM5742875\\_202702240141\\_R06C01 & 202702240141 & R06C01 & F    \\\\\n",
       "\t3 & GSM5742876 & 202702240141\\_R08C01 & GSM5742876\\_202702240141\\_R08C01 & 202702240141 & R08C01 & M    \\\\\n",
       "\t4 & GSM5742877 & 204088150175\\_R01C01 & GSM5742877\\_204088150175\\_R01C01 & 204088150175 & R01C01 & M    \\\\\n",
       "\t5 & GSM5742878 & 204088150175\\_R02C01 & GSM5742878\\_204088150175\\_R02C01 & 204088150175 & R02C01 & F    \\\\\n",
       "\t6 & GSM5742879 & 204088150175\\_R03C01 & GSM5742879\\_204088150175\\_R03C01 & 204088150175 & R03C01 & M    \\\\\n",
       "\\end{tabular}\n"
      ],
      "text/markdown": [
       "\n",
       "A data.frame: 6 × 6\n",
       "\n",
       "| <!--/--> | GeoID &lt;chr&gt; | SampleID &lt;chr&gt; | Basename &lt;chr&gt; | Sentrix_ID &lt;dbl&gt; | Sentrix_Position &lt;chr&gt; | Sex &lt;chr&gt; |\n",
       "|---|---|---|---|---|---|---|\n",
       "| 1 | GSM5742874 | 202702240141_R05C01 | GSM5742874_202702240141_R05C01 | 202702240141 | R05C01 | undef |\n",
       "| 2 | GSM5742875 | 202702240141_R06C01 | GSM5742875_202702240141_R06C01 | 202702240141 | R06C01 | F     |\n",
       "| 3 | GSM5742876 | 202702240141_R08C01 | GSM5742876_202702240141_R08C01 | 202702240141 | R08C01 | M     |\n",
       "| 4 | GSM5742877 | 204088150175_R01C01 | GSM5742877_204088150175_R01C01 | 204088150175 | R01C01 | M     |\n",
       "| 5 | GSM5742878 | 204088150175_R02C01 | GSM5742878_204088150175_R02C01 | 204088150175 | R02C01 | F     |\n",
       "| 6 | GSM5742879 | 204088150175_R03C01 | GSM5742879_204088150175_R03C01 | 204088150175 | R03C01 | M     |\n",
       "\n"
      ],
      "text/plain": [
       "  GeoID      SampleID            Basename                       Sentrix_ID  \n",
       "1 GSM5742874 202702240141_R05C01 GSM5742874_202702240141_R05C01 202702240141\n",
       "2 GSM5742875 202702240141_R06C01 GSM5742875_202702240141_R06C01 202702240141\n",
       "3 GSM5742876 202702240141_R08C01 GSM5742876_202702240141_R08C01 202702240141\n",
       "4 GSM5742877 204088150175_R01C01 GSM5742877_204088150175_R01C01 204088150175\n",
       "5 GSM5742878 204088150175_R02C01 GSM5742878_204088150175_R02C01 204088150175\n",
       "6 GSM5742879 204088150175_R03C01 GSM5742879_204088150175_R03C01 204088150175\n",
       "  Sentrix_Position Sex  \n",
       "1 R05C01           undef\n",
       "2 R06C01           F    \n",
       "3 R08C01           M    \n",
       "4 R01C01           M    \n",
       "5 R02C01           F    \n",
       "6 R03C01           M    "
      ]
     },
     "metadata": {},
     "output_type": "display_data"
    }
   ],
   "source": [
    "sheet=read.csv(file.path(dataDirectory, \"phenotype_file.csv\"))\n",
    "head(sheet)"
   ]
  },
  {
   "cell_type": "code",
   "execution_count": null,
   "id": "56cba269-c46b-4915-b1d0-3a381d825951",
   "metadata": {},
   "outputs": [],
   "source": [
    "if (file.exists(\"./minfiRGset.RData\")){\n",
    "    load(\"./minfiRGset.RData\")\n",
    "} else{\n",
    "    setwd(dataDirectory)\n",
    "    RGSet <- minfi::read.metharray.exp(targets = sheet, verbose = FALSE)\n",
    "    save(RGSet, file = \"./minfiRGset.RData\")\n",
    "}"
   ]
  },
  {
   "cell_type": "markdown",
   "id": "9f9e0d2f-28e5-4636-b78a-229e66d714db",
   "metadata": {},
   "source": [
    "### Busca por sex mismacthes"
   ]
  },
  {
   "cell_type": "code",
   "execution_count": 84,
   "id": "cd0a1a1e-a52d-4ee5-87bb-5b37f345ae80",
   "metadata": {},
   "outputs": [
    {
     "data": {
      "text/plain": [
       "DataFrame with 7 rows and 3 columns\n",
       "                                    xMed      yMed predictedSex\n",
       "                               <numeric> <numeric>  <character>\n",
       "GSM5742874_202702240141_R05C01   13.5306  12.75259            M\n",
       "GSM5742875_202702240141_R06C01   13.8054   9.47168            F\n",
       "GSM5742876_202702240141_R08C01   12.7141  13.06508            M\n",
       "GSM5742877_204088150175_R01C01   12.3476  12.76466            M\n",
       "GSM5742878_204088150175_R02C01   13.3737   8.38370            F\n",
       "GSM5742879_204088150175_R03C01   12.9157  13.21037            M\n",
       "GSM5742880_204088150175_R04C01   12.9558  13.22807            M"
      ]
     },
     "metadata": {},
     "output_type": "display_data"
    },
    {
     "name": "stdout",
     "output_type": "stream",
     "text": [
      "[1] \"Há discordância de sexos na amostra\"\n",
      "       GeoID            SampleID                       Basename   Sentrix_ID\n",
      "1 GSM5742874 202702240141_R05C01 GSM5742874_202702240141_R05C01 202702240141\n",
      "  Sentrix_Position   Sex predictedSex\n",
      "1           R05C01 UNDEF            M\n"
     ]
    }
   ],
   "source": [
    "predSex <-  getSex(GMRset)\n",
    "predSex\n",
    "sheet$predictedSex <- predSex$predictedSex\n",
    "\n",
    "sheet$Sex <-  toupper(sheet$Sex)\n",
    "\n",
    "\n",
    "\n",
    "if(!all(sheet$Sex == sheet$predictedSex)){\n",
    "    print(\"Há discordância de sexos na amostra\")\n",
    "    mismatch <- sheet[which(sheet$Sex != sheet$predictedSex),]\n",
    "    print(mismatch)\n",
    "} else{\n",
    "    print(\"Não há discordância de sexos na amostra\")\n",
    "}"
   ]
  },
  {
   "cell_type": "markdown",
   "id": "9413195a-4dea-49b8-88c3-abb0eb5fac0c",
   "metadata": {},
   "source": [
    "##### Sex mismatch encontrado, vamos remover a amostra"
   ]
  },
  {
   "cell_type": "code",
   "execution_count": 85,
   "id": "b321feea-b948-4121-a063-cf1d711b599b",
   "metadata": {},
   "outputs": [
    {
     "data": {
      "text/html": [
       "<table class=\"dataframe\">\n",
       "<caption>A data.frame: 6 × 7</caption>\n",
       "<thead>\n",
       "\t<tr><th></th><th scope=col>GeoID</th><th scope=col>SampleID</th><th scope=col>Basename</th><th scope=col>Sentrix_ID</th><th scope=col>Sentrix_Position</th><th scope=col>Sex</th><th scope=col>predictedSex</th></tr>\n",
       "\t<tr><th></th><th scope=col>&lt;chr&gt;</th><th scope=col>&lt;chr&gt;</th><th scope=col>&lt;chr&gt;</th><th scope=col>&lt;dbl&gt;</th><th scope=col>&lt;chr&gt;</th><th scope=col>&lt;chr&gt;</th><th scope=col>&lt;chr&gt;</th></tr>\n",
       "</thead>\n",
       "<tbody>\n",
       "\t<tr><th scope=row>2</th><td>GSM5742875</td><td>202702240141_R06C01</td><td>GSM5742875_202702240141_R06C01</td><td>202702240141</td><td>R06C01</td><td>F</td><td>F</td></tr>\n",
       "\t<tr><th scope=row>3</th><td>GSM5742876</td><td>202702240141_R08C01</td><td>GSM5742876_202702240141_R08C01</td><td>202702240141</td><td>R08C01</td><td>M</td><td>M</td></tr>\n",
       "\t<tr><th scope=row>4</th><td>GSM5742877</td><td>204088150175_R01C01</td><td>GSM5742877_204088150175_R01C01</td><td>204088150175</td><td>R01C01</td><td>M</td><td>M</td></tr>\n",
       "\t<tr><th scope=row>5</th><td>GSM5742878</td><td>204088150175_R02C01</td><td>GSM5742878_204088150175_R02C01</td><td>204088150175</td><td>R02C01</td><td>F</td><td>F</td></tr>\n",
       "\t<tr><th scope=row>6</th><td>GSM5742879</td><td>204088150175_R03C01</td><td>GSM5742879_204088150175_R03C01</td><td>204088150175</td><td>R03C01</td><td>M</td><td>M</td></tr>\n",
       "\t<tr><th scope=row>7</th><td>GSM5742880</td><td>204088150175_R04C01</td><td>GSM5742880_204088150175_R04C01</td><td>204088150175</td><td>R04C01</td><td>M</td><td>M</td></tr>\n",
       "</tbody>\n",
       "</table>\n"
      ],
      "text/latex": [
       "A data.frame: 6 × 7\n",
       "\\begin{tabular}{r|lllllll}\n",
       "  & GeoID & SampleID & Basename & Sentrix\\_ID & Sentrix\\_Position & Sex & predictedSex\\\\\n",
       "  & <chr> & <chr> & <chr> & <dbl> & <chr> & <chr> & <chr>\\\\\n",
       "\\hline\n",
       "\t2 & GSM5742875 & 202702240141\\_R06C01 & GSM5742875\\_202702240141\\_R06C01 & 202702240141 & R06C01 & F & F\\\\\n",
       "\t3 & GSM5742876 & 202702240141\\_R08C01 & GSM5742876\\_202702240141\\_R08C01 & 202702240141 & R08C01 & M & M\\\\\n",
       "\t4 & GSM5742877 & 204088150175\\_R01C01 & GSM5742877\\_204088150175\\_R01C01 & 204088150175 & R01C01 & M & M\\\\\n",
       "\t5 & GSM5742878 & 204088150175\\_R02C01 & GSM5742878\\_204088150175\\_R02C01 & 204088150175 & R02C01 & F & F\\\\\n",
       "\t6 & GSM5742879 & 204088150175\\_R03C01 & GSM5742879\\_204088150175\\_R03C01 & 204088150175 & R03C01 & M & M\\\\\n",
       "\t7 & GSM5742880 & 204088150175\\_R04C01 & GSM5742880\\_204088150175\\_R04C01 & 204088150175 & R04C01 & M & M\\\\\n",
       "\\end{tabular}\n"
      ],
      "text/markdown": [
       "\n",
       "A data.frame: 6 × 7\n",
       "\n",
       "| <!--/--> | GeoID &lt;chr&gt; | SampleID &lt;chr&gt; | Basename &lt;chr&gt; | Sentrix_ID &lt;dbl&gt; | Sentrix_Position &lt;chr&gt; | Sex &lt;chr&gt; | predictedSex &lt;chr&gt; |\n",
       "|---|---|---|---|---|---|---|---|\n",
       "| 2 | GSM5742875 | 202702240141_R06C01 | GSM5742875_202702240141_R06C01 | 202702240141 | R06C01 | F | F |\n",
       "| 3 | GSM5742876 | 202702240141_R08C01 | GSM5742876_202702240141_R08C01 | 202702240141 | R08C01 | M | M |\n",
       "| 4 | GSM5742877 | 204088150175_R01C01 | GSM5742877_204088150175_R01C01 | 204088150175 | R01C01 | M | M |\n",
       "| 5 | GSM5742878 | 204088150175_R02C01 | GSM5742878_204088150175_R02C01 | 204088150175 | R02C01 | F | F |\n",
       "| 6 | GSM5742879 | 204088150175_R03C01 | GSM5742879_204088150175_R03C01 | 204088150175 | R03C01 | M | M |\n",
       "| 7 | GSM5742880 | 204088150175_R04C01 | GSM5742880_204088150175_R04C01 | 204088150175 | R04C01 | M | M |\n",
       "\n"
      ],
      "text/plain": [
       "  GeoID      SampleID            Basename                       Sentrix_ID  \n",
       "2 GSM5742875 202702240141_R06C01 GSM5742875_202702240141_R06C01 202702240141\n",
       "3 GSM5742876 202702240141_R08C01 GSM5742876_202702240141_R08C01 202702240141\n",
       "4 GSM5742877 204088150175_R01C01 GSM5742877_204088150175_R01C01 204088150175\n",
       "5 GSM5742878 204088150175_R02C01 GSM5742878_204088150175_R02C01 204088150175\n",
       "6 GSM5742879 204088150175_R03C01 GSM5742879_204088150175_R03C01 204088150175\n",
       "7 GSM5742880 204088150175_R04C01 GSM5742880_204088150175_R04C01 204088150175\n",
       "  Sentrix_Position Sex predictedSex\n",
       "2 R06C01           F   F           \n",
       "3 R08C01           M   M           \n",
       "4 R01C01           M   M           \n",
       "5 R02C01           F   F           \n",
       "6 R03C01           M   M           \n",
       "7 R04C01           M   M           "
      ]
     },
     "metadata": {},
     "output_type": "display_data"
    }
   ],
   "source": [
    "sheet <- subset(sheet, !sheet$SampleID %in% mismatch$SampleID)\n",
    "sheet"
   ]
  },
  {
   "cell_type": "markdown",
   "id": "8c347f65-919b-428b-b48c-b124c9a27db8",
   "metadata": {},
   "source": [
    "#### Vamos gerar novamente o RGSet com os indivíduos que sobraram"
   ]
  },
  {
   "cell_type": "code",
   "execution_count": 87,
   "id": "cb14891e-80a7-4095-8535-6aa27dc04915",
   "metadata": {},
   "outputs": [
    {
     "name": "stderr",
     "output_type": "stream",
     "text": [
      "Warning message in readChar(con, nchars = n):\n",
      "“truncating string with embedded nuls”\n",
      "Warning message in readChar(con, nchars = n):\n",
      "“truncating string with embedded nuls”\n",
      "Warning message in readChar(con, nchars = n):\n",
      "“truncating string with embedded nuls”\n",
      "Warning message in readChar(con, nchars = n):\n",
      "“truncating string with embedded nuls”\n",
      "Warning message in readChar(con, nchars = n):\n",
      "“truncating string with embedded nuls”\n",
      "Warning message in readChar(con, nchars = n):\n",
      "“truncating string with embedded nuls”\n",
      "Warning message in readChar(con, nchars = n):\n",
      "“truncating string with embedded nuls”\n",
      "Warning message in readChar(con, nchars = n):\n",
      "“truncating string with embedded nuls”\n",
      "Warning message in readChar(con, nchars = n):\n",
      "“truncating string with embedded nuls”\n",
      "Warning message in readChar(con, nchars = n):\n",
      "“truncating string with embedded nuls”\n",
      "Warning message in readChar(con, nchars = n):\n",
      "“truncating string with embedded nuls”\n",
      "Warning message in readChar(con, nchars = n):\n",
      "“truncating string with embedded nuls”\n"
     ]
    }
   ],
   "source": [
    "\n",
    "RGSet <- minfi::read.metharray.exp(targets = sheet, verbose = FALSE)\n",
    "save(RGSet, file = \"./minfiRGset.RData\")"
   ]
  },
  {
   "cell_type": "code",
   "execution_count": 88,
   "id": "36c2d7ac-156f-4322-96be-83a728dde121",
   "metadata": {},
   "outputs": [
    {
     "data": {
      "text/html": [
       "<style>\n",
       ".dl-inline {width: auto; margin:0; padding: 0}\n",
       ".dl-inline>dt, .dl-inline>dd {float: none; width: auto; display: inline-block}\n",
       ".dl-inline>dt::after {content: \":\\0020\"; padding-right: .5ex}\n",
       ".dl-inline>dt:not(:first-of-type) {padding-left: .5ex}\n",
       "</style><dl class=dl-inline><dt>array</dt><dd>'IlluminaHumanMethylationEPIC'</dd><dt>annotation</dt><dd>'ilm10b4.hg19'</dd></dl>\n"
      ],
      "text/latex": [
       "\\begin{description*}\n",
       "\\item[array] 'IlluminaHumanMethylationEPIC'\n",
       "\\item[annotation] 'ilm10b4.hg19'\n",
       "\\end{description*}\n"
      ],
      "text/markdown": [
       "array\n",
       ":   'IlluminaHumanMethylationEPIC'annotation\n",
       ":   'ilm10b4.hg19'\n",
       "\n"
      ],
      "text/plain": [
       "                         array                     annotation \n",
       "\"IlluminaHumanMethylationEPIC\"                 \"ilm10b4.hg19\" "
      ]
     },
     "metadata": {},
     "output_type": "display_data"
    }
   ],
   "source": [
    "annotation(RGSet)"
   ]
  },
  {
   "cell_type": "code",
   "execution_count": 90,
   "id": "30c40f35-a5a9-42a8-aa1e-33c1b491089f",
   "metadata": {},
   "outputs": [
    {
     "data": {
      "text/plain": [
       "IlluminaMethylationManifest object\n",
       "Annotation\n",
       "  array: IlluminaHumanMethylationEPIC\n",
       "Number of type I probes: 142262 \n",
       "Number of type II probes: 724574 \n",
       "Number of control probes: 635 \n",
       "Number of SNP type I probes: 21 \n",
       "Number of SNP type II probes: 38 "
      ]
     },
     "metadata": {},
     "output_type": "display_data"
    }
   ],
   "source": [
    "library(IlluminaHumanMethylationEPICmanifest)\n",
    "manifest <- getManifest(RGSet)\n",
    "manifest"
   ]
  },
  {
   "cell_type": "code",
   "execution_count": 91,
   "id": "9c6c80b6-9392-41f1-90df-b2ebb37a5e96",
   "metadata": {},
   "outputs": [],
   "source": [
    "MSet <- preprocessRaw(RGSet) "
   ]
  },
  {
   "cell_type": "code",
   "execution_count": 92,
   "id": "b3540050-c825-4e71-9951-d603885f1970",
   "metadata": {},
   "outputs": [
    {
     "data": {
      "text/plain": [
       "class: MethylSet \n",
       "dim: 866091 6 \n",
       "metadata(0):\n",
       "assays(2): Meth Unmeth\n",
       "rownames(866091): cg18478105 cg09835024 ... cg10633746 cg12623625\n",
       "rowData names(0):\n",
       "colnames(6): GSM5742875_202702240141_R06C01\n",
       "  GSM5742876_202702240141_R08C01 ... GSM5742879_204088150175_R03C01\n",
       "  GSM5742880_204088150175_R04C01\n",
       "colData names(8): GeoID SampleID ... predictedSex filenames\n",
       "Annotation\n",
       "  array: IlluminaHumanMethylationEPIC\n",
       "  annotation: ilm10b4.hg19\n",
       "Preprocessing\n",
       "  Method: Raw (no normalization or bg correction)\n",
       "  minfi version: 1.38.0\n",
       "  Manifest version: 0.3.0"
      ]
     },
     "metadata": {},
     "output_type": "display_data"
    }
   ],
   "source": [
    "MSet"
   ]
  },
  {
   "cell_type": "code",
   "execution_count": 93,
   "id": "7ff61238-76c4-4111-b860-a908ef7e3a82",
   "metadata": {},
   "outputs": [
    {
     "data": {
      "text/plain": [
       "class: RatioSet \n",
       "dim: 866091 6 \n",
       "metadata(0):\n",
       "assays(3): Beta M CN\n",
       "rownames(866091): cg18478105 cg09835024 ... cg10633746 cg12623625\n",
       "rowData names(0):\n",
       "colnames(6): GSM5742875_202702240141_R06C01\n",
       "  GSM5742876_202702240141_R08C01 ... GSM5742879_204088150175_R03C01\n",
       "  GSM5742880_204088150175_R04C01\n",
       "colData names(8): GeoID SampleID ... predictedSex filenames\n",
       "Annotation\n",
       "  array: IlluminaHumanMethylationEPIC\n",
       "  annotation: ilm10b4.hg19\n",
       "Preprocessing\n",
       "  Method: Raw (no normalization or bg correction)\n",
       "  minfi version: 1.38.0\n",
       "  Manifest version: 0.3.0"
      ]
     },
     "metadata": {},
     "output_type": "display_data"
    }
   ],
   "source": [
    "ratioSet <- ratioConvert(MSet, what = \"both\", keepCN = TRUE)\n",
    "ratioSet"
   ]
  },
  {
   "cell_type": "code",
   "execution_count": 94,
   "id": "16a331fa-cb2e-43b1-b851-d5356f5c524d",
   "metadata": {},
   "outputs": [
    {
     "data": {
      "text/plain": [
       "class: GenomicRatioSet \n",
       "dim: 865859 6 \n",
       "metadata(0):\n",
       "assays(3): Beta M CN\n",
       "rownames(865859): cg14817997 cg26928153 ... cg07587934 cg16855331\n",
       "rowData names(0):\n",
       "colnames(6): GSM5742875_202702240141_R06C01\n",
       "  GSM5742876_202702240141_R08C01 ... GSM5742879_204088150175_R03C01\n",
       "  GSM5742880_204088150175_R04C01\n",
       "colData names(8): GeoID SampleID ... predictedSex filenames\n",
       "Annotation\n",
       "  array: IlluminaHumanMethylationEPIC\n",
       "  annotation: ilm10b4.hg19\n",
       "Preprocessing\n",
       "  Method: Raw (no normalization or bg correction)\n",
       "  minfi version: 1.38.0\n",
       "  Manifest version: 0.3.0"
      ]
     },
     "metadata": {},
     "output_type": "display_data"
    }
   ],
   "source": [
    "library(IlluminaHumanMethylationEPICanno.ilm10b4.hg19)\n",
    "GMRset <- mapToGenome(ratioSet)\n",
    "GMRset"
   ]
  },
  {
   "cell_type": "code",
   "execution_count": 95,
   "id": "e771d597-94d6-47af-a008-dc5a5f852481",
   "metadata": {},
   "outputs": [
    {
     "data": {
      "text/html": [
       "<table class=\"dataframe\">\n",
       "<caption>A matrix: 3 × 3 of type dbl</caption>\n",
       "<thead>\n",
       "\t<tr><th></th><th scope=col>GSM5742875_202702240141_R06C01</th><th scope=col>GSM5742876_202702240141_R08C01</th><th scope=col>GSM5742877_204088150175_R01C01</th></tr>\n",
       "</thead>\n",
       "<tbody>\n",
       "\t<tr><th scope=row>cg18478105</th><td>0.03134255</td><td>0.02482479</td><td>0.02326347</td></tr>\n",
       "\t<tr><th scope=row>cg09835024</th><td>0.01633734</td><td>0.06291706</td><td>0.03003148</td></tr>\n",
       "\t<tr><th scope=row>cg14361672</th><td>0.82757830</td><td>0.87517095</td><td>0.82394115</td></tr>\n",
       "</tbody>\n",
       "</table>\n"
      ],
      "text/latex": [
       "A matrix: 3 × 3 of type dbl\n",
       "\\begin{tabular}{r|lll}\n",
       "  & GSM5742875\\_202702240141\\_R06C01 & GSM5742876\\_202702240141\\_R08C01 & GSM5742877\\_204088150175\\_R01C01\\\\\n",
       "\\hline\n",
       "\tcg18478105 & 0.03134255 & 0.02482479 & 0.02326347\\\\\n",
       "\tcg09835024 & 0.01633734 & 0.06291706 & 0.03003148\\\\\n",
       "\tcg14361672 & 0.82757830 & 0.87517095 & 0.82394115\\\\\n",
       "\\end{tabular}\n"
      ],
      "text/markdown": [
       "\n",
       "A matrix: 3 × 3 of type dbl\n",
       "\n",
       "| <!--/--> | GSM5742875_202702240141_R06C01 | GSM5742876_202702240141_R08C01 | GSM5742877_204088150175_R01C01 |\n",
       "|---|---|---|---|\n",
       "| cg18478105 | 0.03134255 | 0.02482479 | 0.02326347 |\n",
       "| cg09835024 | 0.01633734 | 0.06291706 | 0.03003148 |\n",
       "| cg14361672 | 0.82757830 | 0.87517095 | 0.82394115 |\n",
       "\n"
      ],
      "text/plain": [
       "           GSM5742875_202702240141_R06C01 GSM5742876_202702240141_R08C01\n",
       "cg18478105 0.03134255                     0.02482479                    \n",
       "cg09835024 0.01633734                     0.06291706                    \n",
       "cg14361672 0.82757830                     0.87517095                    \n",
       "           GSM5742877_204088150175_R01C01\n",
       "cg18478105 0.02326347                    \n",
       "cg09835024 0.03003148                    \n",
       "cg14361672 0.82394115                    "
      ]
     },
     "metadata": {},
     "output_type": "display_data"
    }
   ],
   "source": [
    "beta <- getBeta(ratioSet)\n",
    "head(beta)[1:3,1:3]"
   ]
  },
  {
   "cell_type": "code",
   "execution_count": 98,
   "id": "1dbd6f4b-710c-4816-9ee3-60c5af64f822",
   "metadata": {},
   "outputs": [
    {
     "data": {
      "text/html": [
       "<table class=\"dataframe\">\n",
       "<caption>A matrix: 6 × 6 of type dbl</caption>\n",
       "<thead>\n",
       "\t<tr><th></th><th scope=col>GSM5742875_202702240141_R06C01</th><th scope=col>GSM5742876_202702240141_R08C01</th><th scope=col>GSM5742877_204088150175_R01C01</th><th scope=col>GSM5742878_204088150175_R02C01</th><th scope=col>GSM5742879_204088150175_R03C01</th><th scope=col>GSM5742880_204088150175_R04C01</th></tr>\n",
       "</thead>\n",
       "<tbody>\n",
       "\t<tr><th scope=row>cg14817997</th><td>0.7056056</td><td>0.76000000</td><td>0.8167623</td><td>0.6806998</td><td>0.6846424</td><td>0.6826098</td></tr>\n",
       "\t<tr><th scope=row>cg26928153</th><td>0.9347629</td><td>0.93909163</td><td>0.9288172</td><td>0.9188198</td><td>0.9205045</td><td>0.8893638</td></tr>\n",
       "\t<tr><th scope=row>cg16269199</th><td>0.8249841</td><td>0.82551112</td><td>0.8337838</td><td>0.7557061</td><td>0.7752809</td><td>0.6953148</td></tr>\n",
       "\t<tr><th scope=row>cg13869341</th><td>0.8054633</td><td>0.87803752</td><td>0.8674722</td><td>0.7981630</td><td>0.7986025</td><td>0.8127746</td></tr>\n",
       "\t<tr><th scope=row>cg14008030</th><td>0.4672655</td><td>0.47033866</td><td>0.4323929</td><td>0.3526455</td><td>0.4511728</td><td>0.4136604</td></tr>\n",
       "\t<tr><th scope=row>cg12045430</th><td>0.1378938</td><td>0.07855726</td><td>0.1145412</td><td>0.1296852</td><td>0.1256524</td><td>0.1177946</td></tr>\n",
       "</tbody>\n",
       "</table>\n"
      ],
      "text/latex": [
       "A matrix: 6 × 6 of type dbl\n",
       "\\begin{tabular}{r|llllll}\n",
       "  & GSM5742875\\_202702240141\\_R06C01 & GSM5742876\\_202702240141\\_R08C01 & GSM5742877\\_204088150175\\_R01C01 & GSM5742878\\_204088150175\\_R02C01 & GSM5742879\\_204088150175\\_R03C01 & GSM5742880\\_204088150175\\_R04C01\\\\\n",
       "\\hline\n",
       "\tcg14817997 & 0.7056056 & 0.76000000 & 0.8167623 & 0.6806998 & 0.6846424 & 0.6826098\\\\\n",
       "\tcg26928153 & 0.9347629 & 0.93909163 & 0.9288172 & 0.9188198 & 0.9205045 & 0.8893638\\\\\n",
       "\tcg16269199 & 0.8249841 & 0.82551112 & 0.8337838 & 0.7557061 & 0.7752809 & 0.6953148\\\\\n",
       "\tcg13869341 & 0.8054633 & 0.87803752 & 0.8674722 & 0.7981630 & 0.7986025 & 0.8127746\\\\\n",
       "\tcg14008030 & 0.4672655 & 0.47033866 & 0.4323929 & 0.3526455 & 0.4511728 & 0.4136604\\\\\n",
       "\tcg12045430 & 0.1378938 & 0.07855726 & 0.1145412 & 0.1296852 & 0.1256524 & 0.1177946\\\\\n",
       "\\end{tabular}\n"
      ],
      "text/markdown": [
       "\n",
       "A matrix: 6 × 6 of type dbl\n",
       "\n",
       "| <!--/--> | GSM5742875_202702240141_R06C01 | GSM5742876_202702240141_R08C01 | GSM5742877_204088150175_R01C01 | GSM5742878_204088150175_R02C01 | GSM5742879_204088150175_R03C01 | GSM5742880_204088150175_R04C01 |\n",
       "|---|---|---|---|---|---|---|\n",
       "| cg14817997 | 0.7056056 | 0.76000000 | 0.8167623 | 0.6806998 | 0.6846424 | 0.6826098 |\n",
       "| cg26928153 | 0.9347629 | 0.93909163 | 0.9288172 | 0.9188198 | 0.9205045 | 0.8893638 |\n",
       "| cg16269199 | 0.8249841 | 0.82551112 | 0.8337838 | 0.7557061 | 0.7752809 | 0.6953148 |\n",
       "| cg13869341 | 0.8054633 | 0.87803752 | 0.8674722 | 0.7981630 | 0.7986025 | 0.8127746 |\n",
       "| cg14008030 | 0.4672655 | 0.47033866 | 0.4323929 | 0.3526455 | 0.4511728 | 0.4136604 |\n",
       "| cg12045430 | 0.1378938 | 0.07855726 | 0.1145412 | 0.1296852 | 0.1256524 | 0.1177946 |\n",
       "\n"
      ],
      "text/plain": [
       "           GSM5742875_202702240141_R06C01 GSM5742876_202702240141_R08C01\n",
       "cg14817997 0.7056056                      0.76000000                    \n",
       "cg26928153 0.9347629                      0.93909163                    \n",
       "cg16269199 0.8249841                      0.82551112                    \n",
       "cg13869341 0.8054633                      0.87803752                    \n",
       "cg14008030 0.4672655                      0.47033866                    \n",
       "cg12045430 0.1378938                      0.07855726                    \n",
       "           GSM5742877_204088150175_R01C01 GSM5742878_204088150175_R02C01\n",
       "cg14817997 0.8167623                      0.6806998                     \n",
       "cg26928153 0.9288172                      0.9188198                     \n",
       "cg16269199 0.8337838                      0.7557061                     \n",
       "cg13869341 0.8674722                      0.7981630                     \n",
       "cg14008030 0.4323929                      0.3526455                     \n",
       "cg12045430 0.1145412                      0.1296852                     \n",
       "           GSM5742879_204088150175_R03C01 GSM5742880_204088150175_R04C01\n",
       "cg14817997 0.6846424                      0.6826098                     \n",
       "cg26928153 0.9205045                      0.8893638                     \n",
       "cg16269199 0.7752809                      0.6953148                     \n",
       "cg13869341 0.7986025                      0.8127746                     \n",
       "cg14008030 0.4511728                      0.4136604                     \n",
       "cg12045430 0.1256524                      0.1177946                     "
      ]
     },
     "metadata": {},
     "output_type": "display_data"
    },
    {
     "data": {
      "text/html": [
       "<table class=\"dataframe\">\n",
       "<caption>A matrix: 6 × 6 of type dbl</caption>\n",
       "<thead>\n",
       "\t<tr><th></th><th scope=col>GSM5742875_202702240141_R06C01</th><th scope=col>GSM5742876_202702240141_R08C01</th><th scope=col>GSM5742877_204088150175_R01C01</th><th scope=col>GSM5742878_204088150175_R02C01</th><th scope=col>GSM5742879_204088150175_R03C01</th><th scope=col>GSM5742880_204088150175_R04C01</th></tr>\n",
       "</thead>\n",
       "<tbody>\n",
       "\t<tr><th scope=row>cg14817997</th><td> 1.2611121</td><td> 1.6629650</td><td> 2.1561996</td><td> 1.0921055</td><td> 1.1183622</td><td> 1.1048033</td></tr>\n",
       "\t<tr><th scope=row>cg26928153</th><td> 3.8408354</td><td> 3.9465534</td><td> 3.7057942</td><td> 3.5005817</td><td> 3.5334790</td><td> 3.0069499</td></tr>\n",
       "\t<tr><th scope=row>cg16269199</th><td> 2.2368808</td><td> 2.2421526</td><td> 2.3266122</td><td> 1.6292077</td><td> 1.7865964</td><td> 1.1903468</td></tr>\n",
       "\t<tr><th scope=row>cg13869341</th><td> 2.0497763</td><td> 2.8478452</td><td> 2.7105231</td><td> 1.9834923</td><td> 1.9874318</td><td> 2.1180795</td></tr>\n",
       "\t<tr><th scope=row>cg14008030</th><td>-0.1891742</td><td>-0.1713703</td><td>-0.3925499</td><td>-0.8763375</td><td>-0.2826718</td><td>-0.5032897</td></tr>\n",
       "\t<tr><th scope=row>cg12045430</th><td>-2.6443077</td><td>-3.5520780</td><td>-2.9505584</td><td>-2.7465240</td><td>-2.7987685</td><td>-2.9048416</td></tr>\n",
       "</tbody>\n",
       "</table>\n"
      ],
      "text/latex": [
       "A matrix: 6 × 6 of type dbl\n",
       "\\begin{tabular}{r|llllll}\n",
       "  & GSM5742875\\_202702240141\\_R06C01 & GSM5742876\\_202702240141\\_R08C01 & GSM5742877\\_204088150175\\_R01C01 & GSM5742878\\_204088150175\\_R02C01 & GSM5742879\\_204088150175\\_R03C01 & GSM5742880\\_204088150175\\_R04C01\\\\\n",
       "\\hline\n",
       "\tcg14817997 &  1.2611121 &  1.6629650 &  2.1561996 &  1.0921055 &  1.1183622 &  1.1048033\\\\\n",
       "\tcg26928153 &  3.8408354 &  3.9465534 &  3.7057942 &  3.5005817 &  3.5334790 &  3.0069499\\\\\n",
       "\tcg16269199 &  2.2368808 &  2.2421526 &  2.3266122 &  1.6292077 &  1.7865964 &  1.1903468\\\\\n",
       "\tcg13869341 &  2.0497763 &  2.8478452 &  2.7105231 &  1.9834923 &  1.9874318 &  2.1180795\\\\\n",
       "\tcg14008030 & -0.1891742 & -0.1713703 & -0.3925499 & -0.8763375 & -0.2826718 & -0.5032897\\\\\n",
       "\tcg12045430 & -2.6443077 & -3.5520780 & -2.9505584 & -2.7465240 & -2.7987685 & -2.9048416\\\\\n",
       "\\end{tabular}\n"
      ],
      "text/markdown": [
       "\n",
       "A matrix: 6 × 6 of type dbl\n",
       "\n",
       "| <!--/--> | GSM5742875_202702240141_R06C01 | GSM5742876_202702240141_R08C01 | GSM5742877_204088150175_R01C01 | GSM5742878_204088150175_R02C01 | GSM5742879_204088150175_R03C01 | GSM5742880_204088150175_R04C01 |\n",
       "|---|---|---|---|---|---|---|\n",
       "| cg14817997 |  1.2611121 |  1.6629650 |  2.1561996 |  1.0921055 |  1.1183622 |  1.1048033 |\n",
       "| cg26928153 |  3.8408354 |  3.9465534 |  3.7057942 |  3.5005817 |  3.5334790 |  3.0069499 |\n",
       "| cg16269199 |  2.2368808 |  2.2421526 |  2.3266122 |  1.6292077 |  1.7865964 |  1.1903468 |\n",
       "| cg13869341 |  2.0497763 |  2.8478452 |  2.7105231 |  1.9834923 |  1.9874318 |  2.1180795 |\n",
       "| cg14008030 | -0.1891742 | -0.1713703 | -0.3925499 | -0.8763375 | -0.2826718 | -0.5032897 |\n",
       "| cg12045430 | -2.6443077 | -3.5520780 | -2.9505584 | -2.7465240 | -2.7987685 | -2.9048416 |\n",
       "\n"
      ],
      "text/plain": [
       "           GSM5742875_202702240141_R06C01 GSM5742876_202702240141_R08C01\n",
       "cg14817997  1.2611121                      1.6629650                    \n",
       "cg26928153  3.8408354                      3.9465534                    \n",
       "cg16269199  2.2368808                      2.2421526                    \n",
       "cg13869341  2.0497763                      2.8478452                    \n",
       "cg14008030 -0.1891742                     -0.1713703                    \n",
       "cg12045430 -2.6443077                     -3.5520780                    \n",
       "           GSM5742877_204088150175_R01C01 GSM5742878_204088150175_R02C01\n",
       "cg14817997  2.1561996                      1.0921055                    \n",
       "cg26928153  3.7057942                      3.5005817                    \n",
       "cg16269199  2.3266122                      1.6292077                    \n",
       "cg13869341  2.7105231                      1.9834923                    \n",
       "cg14008030 -0.3925499                     -0.8763375                    \n",
       "cg12045430 -2.9505584                     -2.7465240                    \n",
       "           GSM5742879_204088150175_R03C01 GSM5742880_204088150175_R04C01\n",
       "cg14817997  1.1183622                      1.1048033                    \n",
       "cg26928153  3.5334790                      3.0069499                    \n",
       "cg16269199  1.7865964                      1.1903468                    \n",
       "cg13869341  1.9874318                      2.1180795                    \n",
       "cg14008030 -0.2826718                     -0.5032897                    \n",
       "cg12045430 -2.7987685                     -2.9048416                    "
      ]
     },
     "metadata": {},
     "output_type": "display_data"
    },
    {
     "data": {
      "text/html": [
       "<table class=\"dataframe\">\n",
       "<caption>A matrix: 6 × 6 of type dbl</caption>\n",
       "<thead>\n",
       "\t<tr><th></th><th scope=col>GSM5742875_202702240141_R06C01</th><th scope=col>GSM5742876_202702240141_R08C01</th><th scope=col>GSM5742877_204088150175_R01C01</th><th scope=col>GSM5742878_204088150175_R02C01</th><th scope=col>GSM5742879_204088150175_R03C01</th><th scope=col>GSM5742880_204088150175_R04C01</th></tr>\n",
       "</thead>\n",
       "<tbody>\n",
       "\t<tr><th scope=row>cg14817997</th><td>11.31685</td><td>10.98371</td><td>11.61563</td><td>11.83684</td><td>11.32136</td><td>11.99329</td></tr>\n",
       "\t<tr><th scope=row>cg26928153</th><td>13.10558</td><td>12.89520</td><td>12.18302</td><td>12.61425</td><td>12.78484</td><td>12.99947</td></tr>\n",
       "\t<tr><th scope=row>cg16269199</th><td>12.94490</td><td>12.92500</td><td>12.53138</td><td>12.45327</td><td>12.72366</td><td>12.73767</td></tr>\n",
       "\t<tr><th scope=row>cg13869341</th><td>15.35270</td><td>15.16863</td><td>15.12234</td><td>15.20526</td><td>15.26953</td><td>15.33004</td></tr>\n",
       "\t<tr><th scope=row>cg14008030</th><td>14.74120</td><td>14.68814</td><td>14.41660</td><td>14.51878</td><td>14.47187</td><td>14.65083</td></tr>\n",
       "\t<tr><th scope=row>cg12045430</th><td>14.98540</td><td>14.75890</td><td>14.65060</td><td>14.77386</td><td>14.79137</td><td>14.90623</td></tr>\n",
       "</tbody>\n",
       "</table>\n"
      ],
      "text/latex": [
       "A matrix: 6 × 6 of type dbl\n",
       "\\begin{tabular}{r|llllll}\n",
       "  & GSM5742875\\_202702240141\\_R06C01 & GSM5742876\\_202702240141\\_R08C01 & GSM5742877\\_204088150175\\_R01C01 & GSM5742878\\_204088150175\\_R02C01 & GSM5742879\\_204088150175\\_R03C01 & GSM5742880\\_204088150175\\_R04C01\\\\\n",
       "\\hline\n",
       "\tcg14817997 & 11.31685 & 10.98371 & 11.61563 & 11.83684 & 11.32136 & 11.99329\\\\\n",
       "\tcg26928153 & 13.10558 & 12.89520 & 12.18302 & 12.61425 & 12.78484 & 12.99947\\\\\n",
       "\tcg16269199 & 12.94490 & 12.92500 & 12.53138 & 12.45327 & 12.72366 & 12.73767\\\\\n",
       "\tcg13869341 & 15.35270 & 15.16863 & 15.12234 & 15.20526 & 15.26953 & 15.33004\\\\\n",
       "\tcg14008030 & 14.74120 & 14.68814 & 14.41660 & 14.51878 & 14.47187 & 14.65083\\\\\n",
       "\tcg12045430 & 14.98540 & 14.75890 & 14.65060 & 14.77386 & 14.79137 & 14.90623\\\\\n",
       "\\end{tabular}\n"
      ],
      "text/markdown": [
       "\n",
       "A matrix: 6 × 6 of type dbl\n",
       "\n",
       "| <!--/--> | GSM5742875_202702240141_R06C01 | GSM5742876_202702240141_R08C01 | GSM5742877_204088150175_R01C01 | GSM5742878_204088150175_R02C01 | GSM5742879_204088150175_R03C01 | GSM5742880_204088150175_R04C01 |\n",
       "|---|---|---|---|---|---|---|\n",
       "| cg14817997 | 11.31685 | 10.98371 | 11.61563 | 11.83684 | 11.32136 | 11.99329 |\n",
       "| cg26928153 | 13.10558 | 12.89520 | 12.18302 | 12.61425 | 12.78484 | 12.99947 |\n",
       "| cg16269199 | 12.94490 | 12.92500 | 12.53138 | 12.45327 | 12.72366 | 12.73767 |\n",
       "| cg13869341 | 15.35270 | 15.16863 | 15.12234 | 15.20526 | 15.26953 | 15.33004 |\n",
       "| cg14008030 | 14.74120 | 14.68814 | 14.41660 | 14.51878 | 14.47187 | 14.65083 |\n",
       "| cg12045430 | 14.98540 | 14.75890 | 14.65060 | 14.77386 | 14.79137 | 14.90623 |\n",
       "\n"
      ],
      "text/plain": [
       "           GSM5742875_202702240141_R06C01 GSM5742876_202702240141_R08C01\n",
       "cg14817997 11.31685                       10.98371                      \n",
       "cg26928153 13.10558                       12.89520                      \n",
       "cg16269199 12.94490                       12.92500                      \n",
       "cg13869341 15.35270                       15.16863                      \n",
       "cg14008030 14.74120                       14.68814                      \n",
       "cg12045430 14.98540                       14.75890                      \n",
       "           GSM5742877_204088150175_R01C01 GSM5742878_204088150175_R02C01\n",
       "cg14817997 11.61563                       11.83684                      \n",
       "cg26928153 12.18302                       12.61425                      \n",
       "cg16269199 12.53138                       12.45327                      \n",
       "cg13869341 15.12234                       15.20526                      \n",
       "cg14008030 14.41660                       14.51878                      \n",
       "cg12045430 14.65060                       14.77386                      \n",
       "           GSM5742879_204088150175_R03C01 GSM5742880_204088150175_R04C01\n",
       "cg14817997 11.32136                       11.99329                      \n",
       "cg26928153 12.78484                       12.99947                      \n",
       "cg16269199 12.72366                       12.73767                      \n",
       "cg13869341 15.26953                       15.33004                      \n",
       "cg14008030 14.47187                       14.65083                      \n",
       "cg12045430 14.79137                       14.90623                      "
      ]
     },
     "metadata": {},
     "output_type": "display_data"
    }
   ],
   "source": [
    "beta <- getBeta(GMRset)\n",
    "head(beta)\n",
    "\n",
    "Mval <- getM(GMRset)\n",
    "head(Mval)\n",
    "\n",
    "cn <- getCN(GMRset)\n",
    "head(cn)\n",
    "\n",
    "save(beta,file=\"./MINFI_raw_betaGMRset.RData\")\n",
    "save(GMRset, ratioSet, file =\"./MINFI_ratioSet_GMRSet.RData\")"
   ]
  },
  {
   "cell_type": "code",
   "execution_count": 97,
   "id": "785f509f-43b6-40f9-9c42-0011bfe4747b",
   "metadata": {},
   "outputs": [
    {
     "data": {
      "image/png": "[encoded data removed]",
      "text/plain": [
       "plot without title"
      ]
     },
     "metadata": {
      "image/png": {
       "height": 420,
       "width": 420
      }
     },
     "output_type": "display_data"
    }
   ],
   "source": [
    "qc <- getQC(MSet)\n",
    "QCmetrics <- cbind(sheet,qc)\n",
    "\n",
    "write.csv(QCmetrics, file=\"phenotype_file_minfiQC.csv\", row.names=F, quote=F)\n",
    "\n",
    "plotQC(qc)"
   ]
  },
  {
   "cell_type": "code",
   "execution_count": 99,
   "id": "ddff6422-1e6b-488d-b34a-162d50b6e1da",
   "metadata": {},
   "outputs": [],
   "source": [
    "rm(list=ls())"
   ]
  },
  {
   "cell_type": "markdown",
   "id": "21a366f5-9579-48ce-8772-0c269fa3dfc4",
   "metadata": {},
   "source": [
    "***\n",
    "# ENmix "
   ]
  },
  {
   "cell_type": "code",
   "execution_count": 1,
   "id": "3ea77783-e404-4c7c-aa12-efd08a1aafe4",
   "metadata": {},
   "outputs": [
    {
     "name": "stderr",
     "output_type": "stream",
     "text": [
      "Loading required package: parallel\n",
      "\n",
      "Loading required package: doParallel\n",
      "\n",
      "Loading required package: foreach\n",
      "\n",
      "Loading required package: iterators\n",
      "\n",
      "Loading required package: SummarizedExperiment\n",
      "\n",
      "Loading required package: MatrixGenerics\n",
      "\n",
      "Loading required package: matrixStats\n",
      "\n",
      "\n",
      "Attaching package: ‘MatrixGenerics’\n",
      "\n",
      "\n",
      "The following objects are masked from ‘package:matrixStats’:\n",
      "\n",
      "    colAlls, colAnyNAs, colAnys, colAvgsPerRowSet, colCollapse,\n",
      "    colCounts, colCummaxs, colCummins, colCumprods, colCumsums,\n",
      "    colDiffs, colIQRDiffs, colIQRs, colLogSumExps, colMadDiffs,\n",
      "    colMads, colMaxs, colMeans2, colMedians, colMins, colOrderStats,\n",
      "    colProds, colQuantiles, colRanges, colRanks, colSdDiffs, colSds,\n",
      "    colSums2, colTabulates, colVarDiffs, colVars, colWeightedMads,\n",
      "    colWeightedMeans, colWeightedMedians, colWeightedSds,\n",
      "    colWeightedVars, rowAlls, rowAnyNAs, rowAnys, rowAvgsPerColSet,\n",
      "    rowCollapse, rowCounts, rowCummaxs, rowCummins, rowCumprods,\n",
      "    rowCumsums, rowDiffs, rowIQRDiffs, rowIQRs, rowLogSumExps,\n",
      "    rowMadDiffs, rowMads, rowMaxs, rowMeans2, rowMedians, rowMins,\n",
      "    rowOrderStats, rowProds, rowQuantiles, rowRanges, rowRanks,\n",
      "    rowSdDiffs, rowSds, rowSums2, rowTabulates, rowVarDiffs, rowVars,\n",
      "    rowWeightedMads, rowWeightedMeans, rowWeightedMedians,\n",
      "    rowWeightedSds, rowWeightedVars\n",
      "\n",
      "\n",
      "Loading required package: GenomicRanges\n",
      "\n",
      "Loading required package: stats4\n",
      "\n",
      "Loading required package: BiocGenerics\n",
      "\n",
      "\n",
      "Attaching package: ‘BiocGenerics’\n",
      "\n",
      "\n",
      "The following objects are masked from ‘package:parallel’:\n",
      "\n",
      "    clusterApply, clusterApplyLB, clusterCall, clusterEvalQ,\n",
      "    clusterExport, clusterMap, parApply, parCapply, parLapply,\n",
      "    parLapplyLB, parRapply, parSapply, parSapplyLB\n",
      "\n",
      "\n",
      "The following objects are masked from ‘package:stats’:\n",
      "\n",
      "    IQR, mad, sd, var, xtabs\n",
      "\n",
      "\n",
      "The following objects are masked from ‘package:base’:\n",
      "\n",
      "    anyDuplicated, append, as.data.frame, basename, cbind, colnames,\n",
      "    dirname, do.call, duplicated, eval, evalq, Filter, Find, get, grep,\n",
      "    grepl, intersect, is.unsorted, lapply, Map, mapply, match, mget,\n",
      "    order, paste, pmax, pmax.int, pmin, pmin.int, Position, rank,\n",
      "    rbind, Reduce, rownames, sapply, setdiff, sort, table, tapply,\n",
      "    union, unique, unsplit, which.max, which.min\n",
      "\n",
      "\n",
      "Loading required package: S4Vectors\n",
      "\n",
      "\n",
      "Attaching package: ‘S4Vectors’\n",
      "\n",
      "\n",
      "The following objects are masked from ‘package:base’:\n",
      "\n",
      "    expand.grid, I, unname\n",
      "\n",
      "\n",
      "Loading required package: IRanges\n",
      "\n",
      "Loading required package: GenomeInfoDb\n",
      "\n",
      "Loading required package: Biobase\n",
      "\n",
      "Welcome to Bioconductor\n",
      "\n",
      "    Vignettes contain introductory material; view with\n",
      "    'browseVignettes()'. To cite Bioconductor, see\n",
      "    'citation(\"Biobase\")', and for packages 'citation(\"pkgname\")'.\n",
      "\n",
      "\n",
      "\n",
      "Attaching package: ‘Biobase’\n",
      "\n",
      "\n",
      "The following object is masked from ‘package:MatrixGenerics’:\n",
      "\n",
      "    rowMedians\n",
      "\n",
      "\n",
      "The following objects are masked from ‘package:matrixStats’:\n",
      "\n",
      "    anyMissing, rowMedians\n",
      "\n",
      "\n",
      "Setting options('download.file.method.GEOquery'='auto')\n",
      "\n",
      "Setting options('GEOquery.inmemory.gpl'=FALSE)\n",
      "\n",
      "\n",
      "Attaching package: ‘data.table’\n",
      "\n",
      "\n",
      "The following object is masked from ‘package:SummarizedExperiment’:\n",
      "\n",
      "    shift\n",
      "\n",
      "\n",
      "The following object is masked from ‘package:GenomicRanges’:\n",
      "\n",
      "    shift\n",
      "\n",
      "\n",
      "The following object is masked from ‘package:IRanges’:\n",
      "\n",
      "    shift\n",
      "\n",
      "\n",
      "The following objects are masked from ‘package:S4Vectors’:\n",
      "\n",
      "    first, second\n",
      "\n",
      "\n",
      "\n",
      "Attaching package: ‘purrr’\n",
      "\n",
      "\n",
      "The following object is masked from ‘package:data.table’:\n",
      "\n",
      "    transpose\n",
      "\n",
      "\n",
      "The following object is masked from ‘package:magrittr’:\n",
      "\n",
      "    set_names\n",
      "\n",
      "\n",
      "The following object is masked from ‘package:GenomicRanges’:\n",
      "\n",
      "    reduce\n",
      "\n",
      "\n",
      "The following object is masked from ‘package:IRanges’:\n",
      "\n",
      "    reduce\n",
      "\n",
      "\n",
      "The following objects are masked from ‘package:foreach’:\n",
      "\n",
      "    accumulate, when\n",
      "\n",
      "\n"
     ]
    }
   ],
   "source": [
    "library(ENmix)\n",
    "\n",
    "library(stringi)\n",
    "library(magrittr)\n",
    "library(data.table)\n",
    "library(svd)\n",
    "library(purrr)"
   ]
  },
  {
   "cell_type": "code",
   "execution_count": 2,
   "id": "1932ee89-0d22-47dc-8b9f-649b743fee01",
   "metadata": {},
   "outputs": [],
   "source": [
    "setwd(\"/home/iago/Documents/Epigenetica_curso_pipeline/Exercicios/EX3/\")\n",
    "basedir = getwd()\n",
    "dataDirectory <- (\"/home/iago/Documents/Epigenetica_curso_pipeline/Exercicios/EX3/\")"
   ]
  },
  {
   "cell_type": "code",
   "execution_count": 3,
   "id": "1957a3fd-ebed-413a-91c6-db4ad155d124",
   "metadata": {},
   "outputs": [
    {
     "data": {
      "text/html": [
       "<table class=\"dataframe\">\n",
       "<caption>A data.frame: 7 × 6</caption>\n",
       "<thead>\n",
       "\t<tr><th scope=col>GeoID</th><th scope=col>SampleID</th><th scope=col>Basename</th><th scope=col>Sentrix_ID</th><th scope=col>Sentrix_Position</th><th scope=col>Sex</th></tr>\n",
       "\t<tr><th scope=col>&lt;chr&gt;</th><th scope=col>&lt;chr&gt;</th><th scope=col>&lt;chr&gt;</th><th scope=col>&lt;dbl&gt;</th><th scope=col>&lt;chr&gt;</th><th scope=col>&lt;chr&gt;</th></tr>\n",
       "</thead>\n",
       "<tbody>\n",
       "\t<tr><td>GSM5742874</td><td>202702240141_R05C01</td><td>GSM5742874_202702240141_R05C01</td><td>202702240141</td><td>R05C01</td><td>undef</td></tr>\n",
       "\t<tr><td>GSM5742875</td><td>202702240141_R06C01</td><td>GSM5742875_202702240141_R06C01</td><td>202702240141</td><td>R06C01</td><td>F    </td></tr>\n",
       "\t<tr><td>GSM5742876</td><td>202702240141_R08C01</td><td>GSM5742876_202702240141_R08C01</td><td>202702240141</td><td>R08C01</td><td>M    </td></tr>\n",
       "\t<tr><td>GSM5742877</td><td>204088150175_R01C01</td><td>GSM5742877_204088150175_R01C01</td><td>204088150175</td><td>R01C01</td><td>M    </td></tr>\n",
       "\t<tr><td>GSM5742878</td><td>204088150175_R02C01</td><td>GSM5742878_204088150175_R02C01</td><td>204088150175</td><td>R02C01</td><td>F    </td></tr>\n",
       "\t<tr><td>GSM5742879</td><td>204088150175_R03C01</td><td>GSM5742879_204088150175_R03C01</td><td>204088150175</td><td>R03C01</td><td>M    </td></tr>\n",
       "\t<tr><td>GSM5742880</td><td>204088150175_R04C01</td><td>GSM5742880_204088150175_R04C01</td><td>204088150175</td><td>R04C01</td><td>M    </td></tr>\n",
       "</tbody>\n",
       "</table>\n"
      ],
      "text/latex": [
       "A data.frame: 7 × 6\n",
       "\\begin{tabular}{llllll}\n",
       " GeoID & SampleID & Basename & Sentrix\\_ID & Sentrix\\_Position & Sex\\\\\n",
       " <chr> & <chr> & <chr> & <dbl> & <chr> & <chr>\\\\\n",
       "\\hline\n",
       "\t GSM5742874 & 202702240141\\_R05C01 & GSM5742874\\_202702240141\\_R05C01 & 202702240141 & R05C01 & undef\\\\\n",
       "\t GSM5742875 & 202702240141\\_R06C01 & GSM5742875\\_202702240141\\_R06C01 & 202702240141 & R06C01 & F    \\\\\n",
       "\t GSM5742876 & 202702240141\\_R08C01 & GSM5742876\\_202702240141\\_R08C01 & 202702240141 & R08C01 & M    \\\\\n",
       "\t GSM5742877 & 204088150175\\_R01C01 & GSM5742877\\_204088150175\\_R01C01 & 204088150175 & R01C01 & M    \\\\\n",
       "\t GSM5742878 & 204088150175\\_R02C01 & GSM5742878\\_204088150175\\_R02C01 & 204088150175 & R02C01 & F    \\\\\n",
       "\t GSM5742879 & 204088150175\\_R03C01 & GSM5742879\\_204088150175\\_R03C01 & 204088150175 & R03C01 & M    \\\\\n",
       "\t GSM5742880 & 204088150175\\_R04C01 & GSM5742880\\_204088150175\\_R04C01 & 204088150175 & R04C01 & M    \\\\\n",
       "\\end{tabular}\n"
      ],
      "text/markdown": [
       "\n",
       "A data.frame: 7 × 6\n",
       "\n",
       "| GeoID &lt;chr&gt; | SampleID &lt;chr&gt; | Basename &lt;chr&gt; | Sentrix_ID &lt;dbl&gt; | Sentrix_Position &lt;chr&gt; | Sex &lt;chr&gt; |\n",
       "|---|---|---|---|---|---|\n",
       "| GSM5742874 | 202702240141_R05C01 | GSM5742874_202702240141_R05C01 | 202702240141 | R05C01 | undef |\n",
       "| GSM5742875 | 202702240141_R06C01 | GSM5742875_202702240141_R06C01 | 202702240141 | R06C01 | F     |\n",
       "| GSM5742876 | 202702240141_R08C01 | GSM5742876_202702240141_R08C01 | 202702240141 | R08C01 | M     |\n",
       "| GSM5742877 | 204088150175_R01C01 | GSM5742877_204088150175_R01C01 | 204088150175 | R01C01 | M     |\n",
       "| GSM5742878 | 204088150175_R02C01 | GSM5742878_204088150175_R02C01 | 204088150175 | R02C01 | F     |\n",
       "| GSM5742879 | 204088150175_R03C01 | GSM5742879_204088150175_R03C01 | 204088150175 | R03C01 | M     |\n",
       "| GSM5742880 | 204088150175_R04C01 | GSM5742880_204088150175_R04C01 | 204088150175 | R04C01 | M     |\n",
       "\n"
      ],
      "text/plain": [
       "  GeoID      SampleID            Basename                       Sentrix_ID  \n",
       "1 GSM5742874 202702240141_R05C01 GSM5742874_202702240141_R05C01 202702240141\n",
       "2 GSM5742875 202702240141_R06C01 GSM5742875_202702240141_R06C01 202702240141\n",
       "3 GSM5742876 202702240141_R08C01 GSM5742876_202702240141_R08C01 202702240141\n",
       "4 GSM5742877 204088150175_R01C01 GSM5742877_204088150175_R01C01 204088150175\n",
       "5 GSM5742878 204088150175_R02C01 GSM5742878_204088150175_R02C01 204088150175\n",
       "6 GSM5742879 204088150175_R03C01 GSM5742879_204088150175_R03C01 204088150175\n",
       "7 GSM5742880 204088150175_R04C01 GSM5742880_204088150175_R04C01 204088150175\n",
       "  Sentrix_Position Sex  \n",
       "1 R05C01           undef\n",
       "2 R06C01           F    \n",
       "3 R08C01           M    \n",
       "4 R01C01           M    \n",
       "5 R02C01           F    \n",
       "6 R03C01           M    \n",
       "7 R04C01           M    "
      ]
     },
     "metadata": {},
     "output_type": "display_data"
    }
   ],
   "source": [
    "sheet <- read.csv(\"./phenotype_file.csv\")\n",
    "sheet"
   ]
  },
  {
   "cell_type": "code",
   "execution_count": 4,
   "id": "ca19ef8d-1fb2-4f2a-ba98-a0d6ae32be03",
   "metadata": {},
   "outputs": [
    {
     "name": "stderr",
     "output_type": "stream",
     "text": [
      "[readidat] Found 7 files with suffix _Grn.idat\n",
      "\n",
      "[readidat] Found 7 files with suffix _Red.idat\n",
      "\n",
      "Warning message in readChar(con, nchars = n):\n",
      "“truncating string with embedded nuls”\n",
      "Warning message in readChar(con, nchars = n):\n",
      "“truncating string with embedded nuls”\n",
      "Warning message in readChar(con, nchars = n):\n",
      "“truncating string with embedded nuls”\n",
      "Warning message in readChar(con, nchars = n):\n",
      "“truncating string with embedded nuls”\n",
      "Warning message in readChar(con, nchars = n):\n",
      "“truncating string with embedded nuls”\n",
      "Warning message in readChar(con, nchars = n):\n",
      "“truncating string with embedded nuls”\n",
      "Warning message in readChar(con, nchars = n):\n",
      "“truncating string with embedded nuls”\n",
      "Loading required package: IlluminaHumanMethylationEPICmanifest\n",
      "\n",
      "Loading required package: minfi\n",
      "\n",
      "Loading required package: Biostrings\n",
      "\n",
      "Loading required package: XVector\n",
      "\n",
      "\n",
      "Attaching package: ‘XVector’\n",
      "\n",
      "\n",
      "The following object is masked from ‘package:purrr’:\n",
      "\n",
      "    compact\n",
      "\n",
      "\n",
      "\n",
      "Attaching package: ‘Biostrings’\n",
      "\n",
      "\n",
      "The following object is masked from ‘package:base’:\n",
      "\n",
      "    strsplit\n",
      "\n",
      "\n",
      "Loading required package: bumphunter\n",
      "\n",
      "Loading required package: locfit\n",
      "\n",
      "locfit 1.5-9.7 \t 2023-01-02\n",
      "\n",
      "\n",
      "Attaching package: ‘locfit’\n",
      "\n",
      "\n",
      "The following object is masked from ‘package:purrr’:\n",
      "\n",
      "    none\n",
      "\n",
      "\n",
      "Loading required package: IlluminaHumanMethylationEPICanno.ilm10b2.hg19\n",
      "\n",
      "Warning message in readChar(con, nchars = n):\n",
      "“truncating string with embedded nuls”\n",
      "Warning message in readChar(con, nchars = n):\n",
      "“truncating string with embedded nuls”\n",
      "Warning message in readChar(con, nchars = n):\n",
      "“truncating string with embedded nuls”\n",
      "Warning message in readChar(con, nchars = n):\n",
      "“truncating string with embedded nuls”\n",
      "Warning message in readChar(con, nchars = n):\n",
      "“truncating string with embedded nuls”\n",
      "Warning message in readChar(con, nchars = n):\n",
      "“truncating string with embedded nuls”\n",
      "Warning message in readChar(con, nchars = n):\n",
      "“truncating string with embedded nuls”\n",
      "[readidat] Red Green Channel contains 1008987 probes and 7 Samples\n",
      "\n"
     ]
    },
    {
     "data": {
      "text/plain": [
       "class: rgDataSet \n",
       "dim: 1008987 7 \n",
       "metadata(3): ictrl Array annotation\n",
       "assays(3): Red Green NBeads\n",
       "rownames(1008987): 1600101 1600111 ... 99810978 99810992\n",
       "rowData names(45): Name Address ... Methyl450_Loci Random_Loci\n",
       "colnames(7): GSM5742874_202702240141_R05C01\n",
       "  GSM5742875_202702240141_R06C01 ... GSM5742879_204088150175_R03C01\n",
       "  GSM5742880_204088150175_R04C01\n",
       "colData names(0):\n",
       "Array:  IlluminaHumanMethylationEPIC \n",
       "Annotation:  ilm10b2.hg19 "
      ]
     },
     "metadata": {},
     "output_type": "display_data"
    }
   ],
   "source": [
    "rgSet <- readidat(path = dataDirectory)\n",
    "rgSet"
   ]
  },
  {
   "cell_type": "code",
   "execution_count": 5,
   "id": "5d3faaee-afcd-4505-8c94-7a3ff575cc76",
   "metadata": {},
   "outputs": [],
   "source": [
    "save(rgSet, file=\"./ENMIX_rgSet.RData\")"
   ]
  },
  {
   "cell_type": "markdown",
   "id": "26818b64-cb62-4a1b-95cd-2036c35f16a0",
   "metadata": {},
   "source": [
    "### quality checks\n",
    "\n",
    "Vamos criar uma pasta separada para armazenar os gráficos gerados pelo QC do ENmix"
   ]
  },
  {
   "cell_type": "code",
   "execution_count": 6,
   "id": "99fa0e4e-9212-4964-9e53-abe7bc855d01",
   "metadata": {},
   "outputs": [
    {
     "name": "stdout",
     "output_type": "stream",
     "text": [
      "Plotting  STAINING .jpg \n",
      "Plotting  EXTENSION .jpg \n",
      "Plotting  HYBRIDIZATION .jpg \n",
      "Plotting  TARGET_REMOVAL .jpg \n",
      "Plotting  BISULFITE_CONVERSION_I .jpg \n",
      "Plotting  BISULFITE_CONVERSION_II .jpg \n",
      "Plotting  SPECIFICITY_I .jpg \n",
      "Plotting  SPECIFICITY_II .jpg \n",
      "Plotting  NON-POLYMORPHIC .jpg \n",
      "Plotting  NEGATIVE .jpg \n",
      "Plotting  NORM_A .jpg \n",
      "Plotting  NORM_C .jpg \n",
      "Plotting  NORM_G .jpg \n",
      "Plotting  NORM_T .jpg \n",
      "Plotting  NORM_ACGT .jpg \n"
     ]
    }
   ],
   "source": [
    "system(\"mkdir ./ENmix-QCgraphs\")\n",
    "setwd(\"./ENmix-QCgraphs\")\n",
    "\n",
    "plotCtrl(rgSet)\n",
    "setwd(\"../\")"
   ]
  },
  {
   "cell_type": "markdown",
   "id": "d94bb534-cffb-4be2-bd06-4a019d437aba",
   "metadata": {},
   "source": [
    "Podemos abrir o nosso explorardor de arquivos e olhar os diversos gráficos para avaliar o compartamento das amostras e, se necessário, excluí-las.\n",
    "***\n",
    "#### QCInfo()"
   ]
  },
  {
   "cell_type": "code",
   "execution_count": 7,
   "id": "ac7dcb92-98cd-4e4d-a73e-7655697fd605",
   "metadata": {},
   "outputs": [
    {
     "name": "stdout",
     "output_type": "stream",
     "text": [
      "0  samples with percentage of low quality CpG value greater than  0.05  or bisulfite intensity less than  13526.35 \n",
      "2818  CpGs with percentage of low quality value greater than  0.05 \n",
      "Ploting qc_sample.jpg ...Done\n",
      "Ploting qc_CpG.jpg ...Done\n",
      "Identifying ourlier samples based on beta or total intensity values...\n",
      "After excluding low quality samples and CpGs\n",
      "0  samples are outliers based on averaged total intensity value \n",
      "1  samples are outliers in beta value distribution \n",
      "1  outlier samples were added into badsample list\n",
      "WARNING: Sample size may be too small to correctly identify outlier samples!\n",
      "RECOMMAND: set outlier=FALSE or double check total intensity and beta value \n",
      "     distribution plots to confirm\n",
      "Ploting freqpolygon_beta_beforeQC.jpg ...Done\n",
      "Ploting freqpolygon_beta_afterQC.jpg ...Done\n"
     ]
    }
   ],
   "source": [
    "qc<-QCinfo(rgSet,detPtype=\"negative\",detPthre=0.000001)"
   ]
  },
  {
   "cell_type": "markdown",
   "id": "45d0721b-d1ce-45ad-8be0-857cb5db6e29",
   "metadata": {},
   "source": [
    "O QC do ENmix entregou uma amostra marcada como \"BadSample\" na distribuição beta. Sendo assim, iremos excluí-la."
   ]
  },
  {
   "cell_type": "code",
   "execution_count": 8,
   "id": "d77006a8-3f0b-43a5-9cd3-404b43205b35",
   "metadata": {},
   "outputs": [
    {
     "data": {
      "text/html": [
       "'GSM5742876_202702240141_R08C01'"
      ],
      "text/latex": [
       "'GSM5742876\\_202702240141\\_R08C01'"
      ],
      "text/markdown": [
       "'GSM5742876_202702240141_R08C01'"
      ],
      "text/plain": [
       "[1] \"GSM5742876_202702240141_R08C01\""
      ]
     },
     "metadata": {},
     "output_type": "display_data"
    }
   ],
   "source": [
    "qc$badsample"
   ]
  },
  {
   "cell_type": "code",
   "execution_count": 9,
   "id": "108632b7-2ced-4f33-8ba0-c6dc2d7598c3",
   "metadata": {},
   "outputs": [
    {
     "data": {
      "text/html": [
       "<table class=\"dataframe\">\n",
       "<caption>A data.frame: 6 × 6</caption>\n",
       "<thead>\n",
       "\t<tr><th></th><th scope=col>GeoID</th><th scope=col>SampleID</th><th scope=col>Basename</th><th scope=col>Sentrix_ID</th><th scope=col>Sentrix_Position</th><th scope=col>Sex</th></tr>\n",
       "\t<tr><th></th><th scope=col>&lt;chr&gt;</th><th scope=col>&lt;chr&gt;</th><th scope=col>&lt;chr&gt;</th><th scope=col>&lt;dbl&gt;</th><th scope=col>&lt;chr&gt;</th><th scope=col>&lt;chr&gt;</th></tr>\n",
       "</thead>\n",
       "<tbody>\n",
       "\t<tr><th scope=row>1</th><td>GSM5742874</td><td>202702240141_R05C01</td><td>GSM5742874_202702240141_R05C01</td><td>202702240141</td><td>R05C01</td><td>undef</td></tr>\n",
       "\t<tr><th scope=row>2</th><td>GSM5742875</td><td>202702240141_R06C01</td><td>GSM5742875_202702240141_R06C01</td><td>202702240141</td><td>R06C01</td><td>F    </td></tr>\n",
       "\t<tr><th scope=row>4</th><td>GSM5742877</td><td>204088150175_R01C01</td><td>GSM5742877_204088150175_R01C01</td><td>204088150175</td><td>R01C01</td><td>M    </td></tr>\n",
       "\t<tr><th scope=row>5</th><td>GSM5742878</td><td>204088150175_R02C01</td><td>GSM5742878_204088150175_R02C01</td><td>204088150175</td><td>R02C01</td><td>F    </td></tr>\n",
       "\t<tr><th scope=row>6</th><td>GSM5742879</td><td>204088150175_R03C01</td><td>GSM5742879_204088150175_R03C01</td><td>204088150175</td><td>R03C01</td><td>M    </td></tr>\n",
       "\t<tr><th scope=row>7</th><td>GSM5742880</td><td>204088150175_R04C01</td><td>GSM5742880_204088150175_R04C01</td><td>204088150175</td><td>R04C01</td><td>M    </td></tr>\n",
       "</tbody>\n",
       "</table>\n"
      ],
      "text/latex": [
       "A data.frame: 6 × 6\n",
       "\\begin{tabular}{r|llllll}\n",
       "  & GeoID & SampleID & Basename & Sentrix\\_ID & Sentrix\\_Position & Sex\\\\\n",
       "  & <chr> & <chr> & <chr> & <dbl> & <chr> & <chr>\\\\\n",
       "\\hline\n",
       "\t1 & GSM5742874 & 202702240141\\_R05C01 & GSM5742874\\_202702240141\\_R05C01 & 202702240141 & R05C01 & undef\\\\\n",
       "\t2 & GSM5742875 & 202702240141\\_R06C01 & GSM5742875\\_202702240141\\_R06C01 & 202702240141 & R06C01 & F    \\\\\n",
       "\t4 & GSM5742877 & 204088150175\\_R01C01 & GSM5742877\\_204088150175\\_R01C01 & 204088150175 & R01C01 & M    \\\\\n",
       "\t5 & GSM5742878 & 204088150175\\_R02C01 & GSM5742878\\_204088150175\\_R02C01 & 204088150175 & R02C01 & F    \\\\\n",
       "\t6 & GSM5742879 & 204088150175\\_R03C01 & GSM5742879\\_204088150175\\_R03C01 & 204088150175 & R03C01 & M    \\\\\n",
       "\t7 & GSM5742880 & 204088150175\\_R04C01 & GSM5742880\\_204088150175\\_R04C01 & 204088150175 & R04C01 & M    \\\\\n",
       "\\end{tabular}\n"
      ],
      "text/markdown": [
       "\n",
       "A data.frame: 6 × 6\n",
       "\n",
       "| <!--/--> | GeoID &lt;chr&gt; | SampleID &lt;chr&gt; | Basename &lt;chr&gt; | Sentrix_ID &lt;dbl&gt; | Sentrix_Position &lt;chr&gt; | Sex &lt;chr&gt; |\n",
       "|---|---|---|---|---|---|---|\n",
       "| 1 | GSM5742874 | 202702240141_R05C01 | GSM5742874_202702240141_R05C01 | 202702240141 | R05C01 | undef |\n",
       "| 2 | GSM5742875 | 202702240141_R06C01 | GSM5742875_202702240141_R06C01 | 202702240141 | R06C01 | F     |\n",
       "| 4 | GSM5742877 | 204088150175_R01C01 | GSM5742877_204088150175_R01C01 | 204088150175 | R01C01 | M     |\n",
       "| 5 | GSM5742878 | 204088150175_R02C01 | GSM5742878_204088150175_R02C01 | 204088150175 | R02C01 | F     |\n",
       "| 6 | GSM5742879 | 204088150175_R03C01 | GSM5742879_204088150175_R03C01 | 204088150175 | R03C01 | M     |\n",
       "| 7 | GSM5742880 | 204088150175_R04C01 | GSM5742880_204088150175_R04C01 | 204088150175 | R04C01 | M     |\n",
       "\n"
      ],
      "text/plain": [
       "  GeoID      SampleID            Basename                       Sentrix_ID  \n",
       "1 GSM5742874 202702240141_R05C01 GSM5742874_202702240141_R05C01 202702240141\n",
       "2 GSM5742875 202702240141_R06C01 GSM5742875_202702240141_R06C01 202702240141\n",
       "4 GSM5742877 204088150175_R01C01 GSM5742877_204088150175_R01C01 204088150175\n",
       "5 GSM5742878 204088150175_R02C01 GSM5742878_204088150175_R02C01 204088150175\n",
       "6 GSM5742879 204088150175_R03C01 GSM5742879_204088150175_R03C01 204088150175\n",
       "7 GSM5742880 204088150175_R04C01 GSM5742880_204088150175_R04C01 204088150175\n",
       "  Sentrix_Position Sex  \n",
       "1 R05C01           undef\n",
       "2 R06C01           F    \n",
       "4 R01C01           M    \n",
       "5 R02C01           F    \n",
       "6 R03C01           M    \n",
       "7 R04C01           M    "
      ]
     },
     "metadata": {},
     "output_type": "display_data"
    }
   ],
   "source": [
    "sheet <- subset(sheet, !sheet$Basename %in% qc$badsample)\n",
    "sheet"
   ]
  },
  {
   "cell_type": "code",
   "execution_count": 10,
   "id": "58d317ef-dc0f-49fb-b40f-a7f3337e5f07",
   "metadata": {},
   "outputs": [
    {
     "data": {
      "text/plain": [
       "class: rgDataSet \n",
       "dim: 1008987 7 \n",
       "metadata(3): ictrl Array annotation\n",
       "assays(3): Red Green NBeads\n",
       "rownames(1008987): 1600101 1600111 ... 99810978 99810992\n",
       "rowData names(45): Name Address ... Methyl450_Loci Random_Loci\n",
       "colnames(7): GSM5742874_202702240141_R05C01\n",
       "  GSM5742875_202702240141_R06C01 ... GSM5742879_204088150175_R03C01\n",
       "  GSM5742880_204088150175_R04C01\n",
       "colData names(0):\n",
       "Array:  IlluminaHumanMethylationEPIC \n",
       "Annotation:  ilm10b2.hg19 "
      ]
     },
     "metadata": {},
     "output_type": "display_data"
    }
   ],
   "source": [
    "rgSet"
   ]
  },
  {
   "cell_type": "markdown",
   "id": "b4b6592f-afb3-4108-8354-c779d395ac7d",
   "metadata": {},
   "source": [
    "Vamos recriar o rgSet apenas com os indivídios que passaram no QC\n",
    "### Atenção!!!\n",
    "* O numero de cores em nCores deve ser escolhido com cautela em computadores pessoais, já que mais cores demandam maior poder computacionao. Isto, pode acabar deixando o seu computador lento.\n",
    "* Entretanto, em HPCs *(High Performance Computers)* como servidores externos mais poderosos, quanto mais cores disponíveis você puder utilizarmais rápido será o processamento\n",
    "    * **Recomendado**: 1 a 3 cores em computadores comumns."
   ]
  },
  {
   "cell_type": "markdown",
   "id": "33d7ffbe-435f-4a56-b20f-cb16a19d32d6",
   "metadata": {},
   "source": [
    "***\n",
    "O processENmix já irá gerar um methylSet corrigido para dye-bias e background correction.\n",
    "\n",
    "Além disso, ele irá excluir as probes e indivíduos sinalizados como \"basamples\" ou \"badcpgs\" indicados no QC."
   ]
  },
  {
   "cell_type": "code",
   "execution_count": null,
   "id": "ec8a9155-8437-42b5-a71f-394479bdc3f4",
   "metadata": {},
   "outputs": [],
   "source": [
    "mdat <- preprocessENmix(rgSet, bgParaEst=\"oob\", dyeCorr=\"RELIC\",\n",
    "                      QCinfo=qc, nCores=3)"
   ]
  },
  {
   "cell_type": "code",
   "execution_count": 12,
   "id": "40892c24-f76b-4075-8b6b-a1bd54745439",
   "metadata": {},
   "outputs": [
    {
     "data": {
      "text/plain": [
       "class: methDataSet \n",
       "dim: 863332 6 \n",
       "metadata(1): preprocessMethod\n",
       "assays(2): Meth Unmeth\n",
       "rownames(863332): cg00000622 cg00001245 ... cg06284364 cg05688618\n",
       "rowData names(46): Name AddressA ... Methyl450_Loci Random_Loci\n",
       "colnames(6): GSM5742874_202702240141_R05C01\n",
       "  GSM5742875_202702240141_R06C01 ... GSM5742879_204088150175_R03C01\n",
       "  GSM5742880_204088150175_R04C01\n",
       "colData names(0):\n",
       "PreprocessMethod:  Backgroud_corr: ENmix,oob dyeBiasCorrection: RELIC "
      ]
     },
     "metadata": {},
     "output_type": "display_data"
    }
   ],
   "source": [
    "mdat"
   ]
  },
  {
   "cell_type": "markdown",
   "id": "86c879d3-3a69-489f-816f-0aecc1692e95",
   "metadata": {},
   "source": [
    "***\n",
    "Para obter um MethylSet sem nenhuma correção, vc pode usar o getMeth()"
   ]
  },
  {
   "cell_type": "code",
   "execution_count": 13,
   "id": "01fcbb41-769d-47a5-8b07-4017b764ca10",
   "metadata": {},
   "outputs": [],
   "source": [
    "mraw <- getmeth(rgSet)"
   ]
  },
  {
   "cell_type": "code",
   "execution_count": 14,
   "id": "35a5b39c-075e-4b7a-8102-50eae9d704c2",
   "metadata": {},
   "outputs": [
    {
     "data": {
      "text/plain": [
       "class: methDataSet \n",
       "dim: 866150 7 \n",
       "metadata(1): preprocessMethod\n",
       "assays(2): Meth Unmeth\n",
       "rownames(866150): cg00000622 cg00001245 ... cg06284364 cg05688618\n",
       "rowData names(46): Name AddressA ... Methyl450_Loci Random_Loci\n",
       "colnames(7): GSM5742874_202702240141_R05C01\n",
       "  GSM5742875_202702240141_R06C01 ... GSM5742879_204088150175_R03C01\n",
       "  GSM5742880_204088150175_R04C01\n",
       "colData names(0):\n",
       "PreprocessMethod:   "
      ]
     },
     "metadata": {},
     "output_type": "display_data"
    }
   ],
   "source": [
    "mraw"
   ]
  },
  {
   "cell_type": "code",
   "execution_count": null,
   "id": "ea68e1cc-849a-4270-8867-77f7ecf3d3b3",
   "metadata": {},
   "outputs": [],
   "source": []
  }
 ],
 "metadata": {
  "kernelspec": {
   "display_name": "R [conda env:EWAS_env] *",
   "language": "R",
   "name": "conda-env-EWAS_env-r"
  },
  "language_info": {
   "codemirror_mode": "r",
   "file_extension": ".r",
   "mimetype": "text/x-r-source",
   "name": "R",
   "pygments_lexer": "r",
   "version": "4.1.3"
  }
 },
 "nbformat": 4,
 "nbformat_minor": 5
}
