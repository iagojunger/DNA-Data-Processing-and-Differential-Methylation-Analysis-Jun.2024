{
 "cells": [
  {
   "cell_type": "markdown",
   "id": "a0c2f19e-101b-453f-89d1-12af9d01ad46",
   "metadata": {},
   "source": [
    "# **Exercícios de Análise de qualidade**"
   ]
  },
  {
   "cell_type": "markdown",
   "id": "e9d400d1-a5e2-457d-9a75-21063109ccc4",
   "metadata": {},
   "source": [
    "\n",
    "Carregue as seguintes bibliotecas para trabalhar com os dados:\n",
    " \n",
    "    library(stringi)\n",
    "    library(magrittr)\n",
    "    library(data.table)\n",
    "    library(svd)\n",
    "    library(purrr)\n",
    "    library(devtools)\n",
    "\n",
    "    library(ewastools)\n",
    "    library(minfi)\n",
    "    library(ENmix)\n",
    "\n",
    "\n",
    "***\n",
    "#### Para não ter que criar objetos Methylation set novamente, carregue os arquivos RGset do minfi e o ENmix e o Meth do ewastools."
   ]
  },
  {
   "cell_type": "markdown",
   "id": "340695cc-d333-45fb-948e-9ab64f0b6f44",
   "metadata": {},
   "source": [
    "***\n",
    "### Exercício 1\n",
    "1. Usando o GEOquery, baixe os dados dos códigos GSE191276 e GSE235207. Crie uma pasta com os idats de cada fenótipo e crie o *phenotype file* de cada conjunto de dados"
   ]
  },
  {
   "cell_type": "code",
   "execution_count": null,
   "id": "19728ddf-fece-4399-b939-8d0a9f340deb",
   "metadata": {},
   "outputs": [],
   "source": []
  },
  {
   "cell_type": "markdown",
   "id": "61e95357-0d99-4294-a23b-87dc337aaee1",
   "metadata": {},
   "source": [
    "***\n",
    "### Exercício 2\n",
    "\n",
    "Escolham um pacote, minfi ou ENmix\n",
    "\n",
    " a) EScolham um dos códigos, GSE235207 e GSE191276, e sigam o protocolo abaixo. Caso termine antes, faça para os dois códigos e compare.:\n",
    "\n",
    "  **i)** processem os idats para obter um MethylSet; \n",
    "  \n",
    "  **ii)** Criem uma planilha de fenótipos;\n",
    "  \n",
    "  **iii)** Façam *sexcheck*\n",
    "* Marcar na planilha de fenótipos os indivíduos que tiveram sexo discordande. \n",
    "  \n",
    "**iv)** Realizem o controle de qualidade;\n",
    "* Marcar na planilha os indivíduos que falharam.\n",
    "\n",
    "**v)** processem o MethylSet para obter os valores de beta (**Não nornalizem**);\n",
    "\n",
    "**Salvem os RGSet, MSet e outros objetos ou tabelas geradas para os próximos exercícios.**\n",
    "\n",
    "\n",
    "***  \n",
    "**Observação**: Como apoio, podem utilizar os jupyter-notebooks das aulas e os links de pipeline exemplos disponibilizados no inicio de cada arquivo.\n",
    "***\n",
    "\n",
    "b) Compare o controle de qualidade feito por você com mesmo processo exemplo feito no ewastools. Durante o controle de qualidade, foram observadas diferenças entre os pipelines? Eles eliminaram a mesma quantidade de indivíduos?"
   ]
  },
  {
   "cell_type": "markdown",
   "id": "82bb7e9f-ed50-40a1-a610-2ba3f750e2d4",
   "metadata": {},
   "source": [
    "### Exercício 3\n",
    "\n",
    "3. A partir dos resultados obtidos no exercício anterior, gerem densityPlots dos valores de *raw betas* (não normalizados) obtidos após o QC."
   ]
  },
  {
   "cell_type": "code",
   "execution_count": null,
   "id": "858fdb4a-3339-4655-ad57-2b649564093c",
   "metadata": {},
   "outputs": [],
   "source": []
  }
 ],
 "metadata": {
  "kernelspec": {
   "display_name": "R [conda env:EWAS_env] *",
   "language": "R",
   "name": "conda-env-EWAS_env-r"
  },
  "language_info": {
   "codemirror_mode": "r",
   "file_extension": ".r",
   "mimetype": "text/x-r-source",
   "name": "R",
   "pygments_lexer": "r",
   "version": "4.1.3"
  }
 },
 "nbformat": 4,
 "nbformat_minor": 5
}
