{
 "cells": [
  {
   "cell_type": "markdown",
   "id": "110512f8-bb82-48bb-abf4-16d9ce8f3ef7",
   "metadata": {},
   "source": [
    "# *****0. Criar o working directory (diretório de trabalho)*****\n",
    "\n",
    "Para isso, crie uma pasta chamada /GEOdata no seu sistema de arquivos. Para fins de exemplo, criaremos essa pasta dentro do home/usuário/ (~/)\n",
    "\n",
    "**Linux**\n",
    "\n",
    "> ~/ = /home/usuario/\n",
    "\n",
    "Abra o terminal e digite:\n",
    "> mkdir GEOdata\n",
    "\n",
    "Em seguida, para pegar o caminho criado, utilize o comando abaixo:\n",
    "> readlink -f GEOdata\n"
   ]
  },
  {
   "cell_type": "code",
   "execution_count": 2,
   "id": "c1407fb2-f5e7-4fd9-8658-e645e10367a2",
   "metadata": {},
   "outputs": [],
   "source": [
    "setwd(\"/home/iago/GEOdata\")\n",
    "\n",
    "date=\"June4th2024\"\n",
    "dataDirectory <- \"/home/iago/GEOdata\""
   ]
  },
  {
   "cell_type": "markdown",
   "id": "550d3a8a-3298-4611-8e24-15e11963ed29",
   "metadata": {},
   "source": [
    "***\n",
    "# ***1. Baixando dados do GEO (Gene Expression Omnibus)***\n",
    "\n",
    "GEO é um repositório público funcional de dados genômicos que oferece suporte ao envio de dados em conformidade com o MIAME. Dados baseados em array e sequência são aceitos. Ferramentas são fornecidas para ajudar os usuários a consultar e baixar experimentos e perfis de expressão genética selecionados. "
   ]
  },
  {
   "cell_type": "code",
   "execution_count": 3,
   "id": "e9bfc3b3-571c-4053-b350-edb4641fe47d",
   "metadata": {
    "scrolled": true
   },
   "outputs": [
    {
     "name": "stderr",
     "output_type": "stream",
     "text": [
      "Loading required package: Biobase\n",
      "\n",
      "Loading required package: BiocGenerics\n",
      "\n",
      "Loading required package: parallel\n",
      "\n",
      "\n",
      "Attaching package: ‘BiocGenerics’\n",
      "\n",
      "\n",
      "The following objects are masked from ‘package:parallel’:\n",
      "\n",
      "    clusterApply, clusterApplyLB, clusterCall, clusterEvalQ,\n",
      "    clusterExport, clusterMap, parApply, parCapply, parLapply,\n",
      "    parLapplyLB, parRapply, parSapply, parSapplyLB\n",
      "\n",
      "\n",
      "The following objects are masked from ‘package:stats’:\n",
      "\n",
      "    IQR, mad, sd, var, xtabs\n",
      "\n",
      "\n",
      "The following objects are masked from ‘package:base’:\n",
      "\n",
      "    anyDuplicated, append, as.data.frame, basename, cbind, colnames,\n",
      "    dirname, do.call, duplicated, eval, evalq, Filter, Find, get, grep,\n",
      "    grepl, intersect, is.unsorted, lapply, Map, mapply, match, mget,\n",
      "    order, paste, pmax, pmax.int, pmin, pmin.int, Position, rank,\n",
      "    rbind, Reduce, rownames, sapply, setdiff, sort, table, tapply,\n",
      "    union, unique, unsplit, which.max, which.min\n",
      "\n",
      "\n",
      "Welcome to Bioconductor\n",
      "\n",
      "    Vignettes contain introductory material; view with\n",
      "    'browseVignettes()'. To cite Bioconductor, see\n",
      "    'citation(\"Biobase\")', and for packages 'citation(\"pkgname\")'.\n",
      "\n",
      "\n",
      "Setting options('download.file.method.GEOquery'='auto')\n",
      "\n",
      "Setting options('GEOquery.inmemory.gpl'=FALSE)\n",
      "\n"
     ]
    }
   ],
   "source": [
    "library(GEOquery)"
   ]
  },
  {
   "cell_type": "code",
   "execution_count": 6,
   "id": "e680201d-c6de-4966-9499-a9e2bedc7493",
   "metadata": {},
   "outputs": [
    {
     "name": "stderr",
     "output_type": "stream",
     "text": [
      "Found 1 file(s)\n",
      "\n",
      "GSE191276_series_matrix.txt.gz\n",
      "\n",
      "Using locally cached version: /tmp/RtmpFi5Ib7/GSE191276_series_matrix.txt.gz\n",
      "\n",
      "\u001b[1mRows: \u001b[22m\u001b[34m339770\u001b[39m \u001b[1mColumns: \u001b[22m\u001b[34m8\u001b[39m\n",
      "\u001b[36m──\u001b[39m \u001b[1mColumn specification\u001b[22m \u001b[36m────────────────────────────────────────────────────────\u001b[39m\n",
      "\u001b[1mDelimiter:\u001b[22m \"\\t\"\n",
      "\u001b[31mchr\u001b[39m (1): ID_REF\n",
      "\u001b[32mdbl\u001b[39m (7): GSM5742874, GSM5742875, GSM5742876, GSM5742877, GSM5742878, GSM5742...\n",
      "\n",
      "\u001b[36mℹ\u001b[39m Use `spec()` to retrieve the full column specification for this data.\n",
      "\u001b[36mℹ\u001b[39m Specify the column types or set `show_col_types = FALSE` to quiet this message.\n",
      "File stored at: \n",
      "\n",
      "/tmp/RtmpFi5Ib7/GPL23976.soft\n",
      "\n"
     ]
    },
    {
     "name": "stdout",
     "output_type": "stream",
     "text": [
      "$GSE191276_series_matrix.txt.gz\n",
      "ExpressionSet (storageMode: lockedEnvironment)\n",
      "assayData: 339770 features, 7 samples \n",
      "  element names: exprs \n",
      "protocolData: none\n",
      "phenoData\n",
      "  sampleNames: GSM5742874 GSM5742875 ... GSM5742880 (7 total)\n",
      "  varLabels: title geo_accession ... Sex:ch1 (39 total)\n",
      "  varMetadata: labelDescription\n",
      "featureData\n",
      "  featureNames: cg00000029 cg00000109 ... cg11346159 (339770 total)\n",
      "  fvarLabels: ID SPOT_ID\n",
      "  fvarMetadata: Column Description labelDescription\n",
      "experimentData: use 'experimentData(object)'\n",
      "  pubMedIds: 35094088 \n",
      "Annotation: GPL23976 \n",
      "\n"
     ]
    }
   ],
   "source": [
    "#Usando o GEO para obter os dados do fenótipo\n",
    "gse <- getGEO(\"GSE191276\", GSEMatrix = TRUE)\n",
    "show(gse)\n"
   ]
  },
  {
   "cell_type": "code",
   "execution_count": 10,
   "id": "bd4ceefa-c8b4-4923-803d-aea6e75a41ca",
   "metadata": {},
   "outputs": [
    {
     "data": {
      "text/html": [
       "<table class=\"dataframe\">\n",
       "<caption>A data.frame: 6 × 39</caption>\n",
       "<thead>\n",
       "\t<tr><th></th><th scope=col>title</th><th scope=col>geo_accession</th><th scope=col>status</th><th scope=col>submission_date</th><th scope=col>last_update_date</th><th scope=col>type</th><th scope=col>channel_count</th><th scope=col>source_name_ch1</th><th scope=col>organism_ch1</th><th scope=col>characteristics_ch1</th><th scope=col>⋯</th><th scope=col>contact_zip/postal_code</th><th scope=col>contact_country</th><th scope=col>supplementary_file</th><th scope=col>supplementary_file.1</th><th scope=col>data_row_count</th><th scope=col>age (years):ch1</th><th scope=col>case control status:ch1</th><th scope=col>participant type:ch1</th><th scope=col>self-declared ancestry:ch1</th><th scope=col>Sex:ch1</th></tr>\n",
       "\t<tr><th></th><th scope=col>&lt;chr&gt;</th><th scope=col>&lt;chr&gt;</th><th scope=col>&lt;chr&gt;</th><th scope=col>&lt;chr&gt;</th><th scope=col>&lt;chr&gt;</th><th scope=col>&lt;chr&gt;</th><th scope=col>&lt;chr&gt;</th><th scope=col>&lt;chr&gt;</th><th scope=col>&lt;chr&gt;</th><th scope=col>&lt;chr&gt;</th><th scope=col>⋯</th><th scope=col>&lt;chr&gt;</th><th scope=col>&lt;chr&gt;</th><th scope=col>&lt;chr&gt;</th><th scope=col>&lt;chr&gt;</th><th scope=col>&lt;chr&gt;</th><th scope=col>&lt;chr&gt;</th><th scope=col>&lt;chr&gt;</th><th scope=col>&lt;chr&gt;</th><th scope=col>&lt;chr&gt;</th><th scope=col>&lt;chr&gt;</th></tr>\n",
       "</thead>\n",
       "<tbody>\n",
       "\t<tr><th scope=row>GSM5742874</th><td>pooled_PC</td><td>GSM5742874</td><td>Public on Mar 01 2022</td><td>Dec 20 2021</td><td>Mar 02 2022</td><td>genomic</td><td>1</td><td>Whole blood</td><td>Homo sapiens</td><td>case control status: Pooled controls</td><td>⋯</td><td>M20 4BX</td><td>United Kingdom</td><td>ftp://ftp.ncbi.nlm.nih.gov/geo/samples/GSM5742nnn/GSM5742874/suppl/GSM5742874_202702240141_R05C01_Grn.idat.gz</td><td>ftp://ftp.ncbi.nlm.nih.gov/geo/samples/GSM5742nnn/GSM5742874/suppl/GSM5742874_202702240141_R05C01_Red.idat.gz</td><td>776062</td><td>NA  </td><td>Pooled controls</td><td>Pooled parent controls   </td><td>NA                             </td><td>NA</td></tr>\n",
       "\t<tr><th scope=row>GSM5742875</th><td>5767-P   </td><td>GSM5742875</td><td>Public on Mar 01 2022</td><td>Dec 20 2021</td><td>Mar 02 2022</td><td>genomic</td><td>1</td><td>Whole blood</td><td>Homo sapiens</td><td>case control status: Case           </td><td>⋯</td><td>M20 4BX</td><td>United Kingdom</td><td>ftp://ftp.ncbi.nlm.nih.gov/geo/samples/GSM5742nnn/GSM5742875/suppl/GSM5742875_202702240141_R06C01_Grn.idat.gz</td><td>ftp://ftp.ncbi.nlm.nih.gov/geo/samples/GSM5742nnn/GSM5742875/suppl/GSM5742875_202702240141_R06C01_Red.idat.gz</td><td>776062</td><td>17.8</td><td>Case           </td><td>Proband                  </td><td>Asian                          </td><td>F </td></tr>\n",
       "\t<tr><th scope=row>GSM5742876</th><td>8658-P   </td><td>GSM5742876</td><td>Public on Mar 01 2022</td><td>Dec 20 2021</td><td>Mar 02 2022</td><td>genomic</td><td>1</td><td>Whole blood</td><td>Homo sapiens</td><td>case control status: Case           </td><td>⋯</td><td>M20 4BX</td><td>United Kingdom</td><td>ftp://ftp.ncbi.nlm.nih.gov/geo/samples/GSM5742nnn/GSM5742876/suppl/GSM5742876_202702240141_R08C01_Grn.idat.gz</td><td>ftp://ftp.ncbi.nlm.nih.gov/geo/samples/GSM5742nnn/GSM5742876/suppl/GSM5742876_202702240141_R08C01_Red.idat.gz</td><td>776062</td><td>27  </td><td>Case           </td><td>Proband                  </td><td>White                          </td><td>M </td></tr>\n",
       "\t<tr><th scope=row>GSM5742877</th><td>3425-P   </td><td>GSM5742877</td><td>Public on Mar 01 2022</td><td>Dec 20 2021</td><td>Mar 02 2022</td><td>genomic</td><td>1</td><td>Whole blood</td><td>Homo sapiens</td><td>case control status: Case           </td><td>⋯</td><td>M20 4BX</td><td>United Kingdom</td><td>ftp://ftp.ncbi.nlm.nih.gov/geo/samples/GSM5742nnn/GSM5742877/suppl/GSM5742877_204088150175_R01C01_Grn.idat.gz</td><td>ftp://ftp.ncbi.nlm.nih.gov/geo/samples/GSM5742nnn/GSM5742877/suppl/GSM5742877_204088150175_R01C01_Red.idat.gz</td><td>776062</td><td>20.9</td><td>Case           </td><td>Proband                  </td><td>Asian                          </td><td>M </td></tr>\n",
       "\t<tr><th scope=row>GSM5742878</th><td>F-16-20  </td><td>GSM5742878</td><td>Public on Mar 01 2022</td><td>Dec 20 2021</td><td>Mar 02 2022</td><td>genomic</td><td>1</td><td>Whole blood</td><td>Homo sapiens</td><td>case control status: Control        </td><td>⋯</td><td>M20 4BX</td><td>United Kingdom</td><td>ftp://ftp.ncbi.nlm.nih.gov/geo/samples/GSM5742nnn/GSM5742878/suppl/GSM5742878_204088150175_R02C01_Grn.idat.gz</td><td>ftp://ftp.ncbi.nlm.nih.gov/geo/samples/GSM5742nnn/GSM5742878/suppl/GSM5742878_204088150175_R02C01_Red.idat.gz</td><td>776062</td><td>18.5</td><td>Control        </td><td>Age and sex matched donor</td><td>Unknown (Anonymous blood donor)</td><td>F </td></tr>\n",
       "\t<tr><th scope=row>GSM5742879</th><td>M-19-23  </td><td>GSM5742879</td><td>Public on Mar 01 2022</td><td>Dec 20 2021</td><td>Mar 02 2022</td><td>genomic</td><td>1</td><td>Whole blood</td><td>Homo sapiens</td><td>case control status: Control        </td><td>⋯</td><td>M20 4BX</td><td>United Kingdom</td><td>ftp://ftp.ncbi.nlm.nih.gov/geo/samples/GSM5742nnn/GSM5742879/suppl/GSM5742879_204088150175_R03C01_Grn.idat.gz</td><td>ftp://ftp.ncbi.nlm.nih.gov/geo/samples/GSM5742nnn/GSM5742879/suppl/GSM5742879_204088150175_R03C01_Red.idat.gz</td><td>776062</td><td>21  </td><td>Control        </td><td>Age and sex matched donor</td><td>Unknown (Anonymous blood donor)</td><td>M </td></tr>\n",
       "</tbody>\n",
       "</table>\n"
      ],
      "text/latex": [
       "A data.frame: 6 × 39\n",
       "\\begin{tabular}{r|lllllllllllllllllllll}\n",
       "  & title & geo\\_accession & status & submission\\_date & last\\_update\\_date & type & channel\\_count & source\\_name\\_ch1 & organism\\_ch1 & characteristics\\_ch1 & ⋯ & contact\\_zip/postal\\_code & contact\\_country & supplementary\\_file & supplementary\\_file.1 & data\\_row\\_count & age (years):ch1 & case control status:ch1 & participant type:ch1 & self-declared ancestry:ch1 & Sex:ch1\\\\\n",
       "  & <chr> & <chr> & <chr> & <chr> & <chr> & <chr> & <chr> & <chr> & <chr> & <chr> & ⋯ & <chr> & <chr> & <chr> & <chr> & <chr> & <chr> & <chr> & <chr> & <chr> & <chr>\\\\\n",
       "\\hline\n",
       "\tGSM5742874 & pooled\\_PC & GSM5742874 & Public on Mar 01 2022 & Dec 20 2021 & Mar 02 2022 & genomic & 1 & Whole blood & Homo sapiens & case control status: Pooled controls & ⋯ & M20 4BX & United Kingdom & ftp://ftp.ncbi.nlm.nih.gov/geo/samples/GSM5742nnn/GSM5742874/suppl/GSM5742874\\_202702240141\\_R05C01\\_Grn.idat.gz & ftp://ftp.ncbi.nlm.nih.gov/geo/samples/GSM5742nnn/GSM5742874/suppl/GSM5742874\\_202702240141\\_R05C01\\_Red.idat.gz & 776062 & NA   & Pooled controls & Pooled parent controls    & NA                              & NA\\\\\n",
       "\tGSM5742875 & 5767-P    & GSM5742875 & Public on Mar 01 2022 & Dec 20 2021 & Mar 02 2022 & genomic & 1 & Whole blood & Homo sapiens & case control status: Case            & ⋯ & M20 4BX & United Kingdom & ftp://ftp.ncbi.nlm.nih.gov/geo/samples/GSM5742nnn/GSM5742875/suppl/GSM5742875\\_202702240141\\_R06C01\\_Grn.idat.gz & ftp://ftp.ncbi.nlm.nih.gov/geo/samples/GSM5742nnn/GSM5742875/suppl/GSM5742875\\_202702240141\\_R06C01\\_Red.idat.gz & 776062 & 17.8 & Case            & Proband                   & Asian                           & F \\\\\n",
       "\tGSM5742876 & 8658-P    & GSM5742876 & Public on Mar 01 2022 & Dec 20 2021 & Mar 02 2022 & genomic & 1 & Whole blood & Homo sapiens & case control status: Case            & ⋯ & M20 4BX & United Kingdom & ftp://ftp.ncbi.nlm.nih.gov/geo/samples/GSM5742nnn/GSM5742876/suppl/GSM5742876\\_202702240141\\_R08C01\\_Grn.idat.gz & ftp://ftp.ncbi.nlm.nih.gov/geo/samples/GSM5742nnn/GSM5742876/suppl/GSM5742876\\_202702240141\\_R08C01\\_Red.idat.gz & 776062 & 27   & Case            & Proband                   & White                           & M \\\\\n",
       "\tGSM5742877 & 3425-P    & GSM5742877 & Public on Mar 01 2022 & Dec 20 2021 & Mar 02 2022 & genomic & 1 & Whole blood & Homo sapiens & case control status: Case            & ⋯ & M20 4BX & United Kingdom & ftp://ftp.ncbi.nlm.nih.gov/geo/samples/GSM5742nnn/GSM5742877/suppl/GSM5742877\\_204088150175\\_R01C01\\_Grn.idat.gz & ftp://ftp.ncbi.nlm.nih.gov/geo/samples/GSM5742nnn/GSM5742877/suppl/GSM5742877\\_204088150175\\_R01C01\\_Red.idat.gz & 776062 & 20.9 & Case            & Proband                   & Asian                           & M \\\\\n",
       "\tGSM5742878 & F-16-20   & GSM5742878 & Public on Mar 01 2022 & Dec 20 2021 & Mar 02 2022 & genomic & 1 & Whole blood & Homo sapiens & case control status: Control         & ⋯ & M20 4BX & United Kingdom & ftp://ftp.ncbi.nlm.nih.gov/geo/samples/GSM5742nnn/GSM5742878/suppl/GSM5742878\\_204088150175\\_R02C01\\_Grn.idat.gz & ftp://ftp.ncbi.nlm.nih.gov/geo/samples/GSM5742nnn/GSM5742878/suppl/GSM5742878\\_204088150175\\_R02C01\\_Red.idat.gz & 776062 & 18.5 & Control         & Age and sex matched donor & Unknown (Anonymous blood donor) & F \\\\\n",
       "\tGSM5742879 & M-19-23   & GSM5742879 & Public on Mar 01 2022 & Dec 20 2021 & Mar 02 2022 & genomic & 1 & Whole blood & Homo sapiens & case control status: Control         & ⋯ & M20 4BX & United Kingdom & ftp://ftp.ncbi.nlm.nih.gov/geo/samples/GSM5742nnn/GSM5742879/suppl/GSM5742879\\_204088150175\\_R03C01\\_Grn.idat.gz & ftp://ftp.ncbi.nlm.nih.gov/geo/samples/GSM5742nnn/GSM5742879/suppl/GSM5742879\\_204088150175\\_R03C01\\_Red.idat.gz & 776062 & 21   & Control         & Age and sex matched donor & Unknown (Anonymous blood donor) & M \\\\\n",
       "\\end{tabular}\n"
      ],
      "text/markdown": [
       "\n",
       "A data.frame: 6 × 39\n",
       "\n",
       "| <!--/--> | title &lt;chr&gt; | geo_accession &lt;chr&gt; | status &lt;chr&gt; | submission_date &lt;chr&gt; | last_update_date &lt;chr&gt; | type &lt;chr&gt; | channel_count &lt;chr&gt; | source_name_ch1 &lt;chr&gt; | organism_ch1 &lt;chr&gt; | characteristics_ch1 &lt;chr&gt; | ⋯ ⋯ | contact_zip/postal_code &lt;chr&gt; | contact_country &lt;chr&gt; | supplementary_file &lt;chr&gt; | supplementary_file.1 &lt;chr&gt; | data_row_count &lt;chr&gt; | age (years):ch1 &lt;chr&gt; | case control status:ch1 &lt;chr&gt; | participant type:ch1 &lt;chr&gt; | self-declared ancestry:ch1 &lt;chr&gt; | Sex:ch1 &lt;chr&gt; |\n",
       "|---|---|---|---|---|---|---|---|---|---|---|---|---|---|---|---|---|---|---|---|---|---|\n",
       "| GSM5742874 | pooled_PC | GSM5742874 | Public on Mar 01 2022 | Dec 20 2021 | Mar 02 2022 | genomic | 1 | Whole blood | Homo sapiens | case control status: Pooled controls | ⋯ | M20 4BX | United Kingdom | ftp://ftp.ncbi.nlm.nih.gov/geo/samples/GSM5742nnn/GSM5742874/suppl/GSM5742874_202702240141_R05C01_Grn.idat.gz | ftp://ftp.ncbi.nlm.nih.gov/geo/samples/GSM5742nnn/GSM5742874/suppl/GSM5742874_202702240141_R05C01_Red.idat.gz | 776062 | NA   | Pooled controls | Pooled parent controls    | NA                              | NA |\n",
       "| GSM5742875 | 5767-P    | GSM5742875 | Public on Mar 01 2022 | Dec 20 2021 | Mar 02 2022 | genomic | 1 | Whole blood | Homo sapiens | case control status: Case            | ⋯ | M20 4BX | United Kingdom | ftp://ftp.ncbi.nlm.nih.gov/geo/samples/GSM5742nnn/GSM5742875/suppl/GSM5742875_202702240141_R06C01_Grn.idat.gz | ftp://ftp.ncbi.nlm.nih.gov/geo/samples/GSM5742nnn/GSM5742875/suppl/GSM5742875_202702240141_R06C01_Red.idat.gz | 776062 | 17.8 | Case            | Proband                   | Asian                           | F  |\n",
       "| GSM5742876 | 8658-P    | GSM5742876 | Public on Mar 01 2022 | Dec 20 2021 | Mar 02 2022 | genomic | 1 | Whole blood | Homo sapiens | case control status: Case            | ⋯ | M20 4BX | United Kingdom | ftp://ftp.ncbi.nlm.nih.gov/geo/samples/GSM5742nnn/GSM5742876/suppl/GSM5742876_202702240141_R08C01_Grn.idat.gz | ftp://ftp.ncbi.nlm.nih.gov/geo/samples/GSM5742nnn/GSM5742876/suppl/GSM5742876_202702240141_R08C01_Red.idat.gz | 776062 | 27   | Case            | Proband                   | White                           | M  |\n",
       "| GSM5742877 | 3425-P    | GSM5742877 | Public on Mar 01 2022 | Dec 20 2021 | Mar 02 2022 | genomic | 1 | Whole blood | Homo sapiens | case control status: Case            | ⋯ | M20 4BX | United Kingdom | ftp://ftp.ncbi.nlm.nih.gov/geo/samples/GSM5742nnn/GSM5742877/suppl/GSM5742877_204088150175_R01C01_Grn.idat.gz | ftp://ftp.ncbi.nlm.nih.gov/geo/samples/GSM5742nnn/GSM5742877/suppl/GSM5742877_204088150175_R01C01_Red.idat.gz | 776062 | 20.9 | Case            | Proband                   | Asian                           | M  |\n",
       "| GSM5742878 | F-16-20   | GSM5742878 | Public on Mar 01 2022 | Dec 20 2021 | Mar 02 2022 | genomic | 1 | Whole blood | Homo sapiens | case control status: Control         | ⋯ | M20 4BX | United Kingdom | ftp://ftp.ncbi.nlm.nih.gov/geo/samples/GSM5742nnn/GSM5742878/suppl/GSM5742878_204088150175_R02C01_Grn.idat.gz | ftp://ftp.ncbi.nlm.nih.gov/geo/samples/GSM5742nnn/GSM5742878/suppl/GSM5742878_204088150175_R02C01_Red.idat.gz | 776062 | 18.5 | Control         | Age and sex matched donor | Unknown (Anonymous blood donor) | F  |\n",
       "| GSM5742879 | M-19-23   | GSM5742879 | Public on Mar 01 2022 | Dec 20 2021 | Mar 02 2022 | genomic | 1 | Whole blood | Homo sapiens | case control status: Control         | ⋯ | M20 4BX | United Kingdom | ftp://ftp.ncbi.nlm.nih.gov/geo/samples/GSM5742nnn/GSM5742879/suppl/GSM5742879_204088150175_R03C01_Grn.idat.gz | ftp://ftp.ncbi.nlm.nih.gov/geo/samples/GSM5742nnn/GSM5742879/suppl/GSM5742879_204088150175_R03C01_Red.idat.gz | 776062 | 21   | Control         | Age and sex matched donor | Unknown (Anonymous blood donor) | M  |\n",
       "\n"
      ],
      "text/plain": [
       "           title     geo_accession status                submission_date\n",
       "GSM5742874 pooled_PC GSM5742874    Public on Mar 01 2022 Dec 20 2021    \n",
       "GSM5742875 5767-P    GSM5742875    Public on Mar 01 2022 Dec 20 2021    \n",
       "GSM5742876 8658-P    GSM5742876    Public on Mar 01 2022 Dec 20 2021    \n",
       "GSM5742877 3425-P    GSM5742877    Public on Mar 01 2022 Dec 20 2021    \n",
       "GSM5742878 F-16-20   GSM5742878    Public on Mar 01 2022 Dec 20 2021    \n",
       "GSM5742879 M-19-23   GSM5742879    Public on Mar 01 2022 Dec 20 2021    \n",
       "           last_update_date type    channel_count source_name_ch1 organism_ch1\n",
       "GSM5742874 Mar 02 2022      genomic 1             Whole blood     Homo sapiens\n",
       "GSM5742875 Mar 02 2022      genomic 1             Whole blood     Homo sapiens\n",
       "GSM5742876 Mar 02 2022      genomic 1             Whole blood     Homo sapiens\n",
       "GSM5742877 Mar 02 2022      genomic 1             Whole blood     Homo sapiens\n",
       "GSM5742878 Mar 02 2022      genomic 1             Whole blood     Homo sapiens\n",
       "GSM5742879 Mar 02 2022      genomic 1             Whole blood     Homo sapiens\n",
       "           characteristics_ch1                  ⋯ contact_zip/postal_code\n",
       "GSM5742874 case control status: Pooled controls ⋯ M20 4BX                \n",
       "GSM5742875 case control status: Case            ⋯ M20 4BX                \n",
       "GSM5742876 case control status: Case            ⋯ M20 4BX                \n",
       "GSM5742877 case control status: Case            ⋯ M20 4BX                \n",
       "GSM5742878 case control status: Control         ⋯ M20 4BX                \n",
       "GSM5742879 case control status: Control         ⋯ M20 4BX                \n",
       "           contact_country\n",
       "GSM5742874 United Kingdom \n",
       "GSM5742875 United Kingdom \n",
       "GSM5742876 United Kingdom \n",
       "GSM5742877 United Kingdom \n",
       "GSM5742878 United Kingdom \n",
       "GSM5742879 United Kingdom \n",
       "           supplementary_file                                                                                           \n",
       "GSM5742874 ftp://ftp.ncbi.nlm.nih.gov/geo/samples/GSM5742nnn/GSM5742874/suppl/GSM5742874_202702240141_R05C01_Grn.idat.gz\n",
       "GSM5742875 ftp://ftp.ncbi.nlm.nih.gov/geo/samples/GSM5742nnn/GSM5742875/suppl/GSM5742875_202702240141_R06C01_Grn.idat.gz\n",
       "GSM5742876 ftp://ftp.ncbi.nlm.nih.gov/geo/samples/GSM5742nnn/GSM5742876/suppl/GSM5742876_202702240141_R08C01_Grn.idat.gz\n",
       "GSM5742877 ftp://ftp.ncbi.nlm.nih.gov/geo/samples/GSM5742nnn/GSM5742877/suppl/GSM5742877_204088150175_R01C01_Grn.idat.gz\n",
       "GSM5742878 ftp://ftp.ncbi.nlm.nih.gov/geo/samples/GSM5742nnn/GSM5742878/suppl/GSM5742878_204088150175_R02C01_Grn.idat.gz\n",
       "GSM5742879 ftp://ftp.ncbi.nlm.nih.gov/geo/samples/GSM5742nnn/GSM5742879/suppl/GSM5742879_204088150175_R03C01_Grn.idat.gz\n",
       "           supplementary_file.1                                                                                         \n",
       "GSM5742874 ftp://ftp.ncbi.nlm.nih.gov/geo/samples/GSM5742nnn/GSM5742874/suppl/GSM5742874_202702240141_R05C01_Red.idat.gz\n",
       "GSM5742875 ftp://ftp.ncbi.nlm.nih.gov/geo/samples/GSM5742nnn/GSM5742875/suppl/GSM5742875_202702240141_R06C01_Red.idat.gz\n",
       "GSM5742876 ftp://ftp.ncbi.nlm.nih.gov/geo/samples/GSM5742nnn/GSM5742876/suppl/GSM5742876_202702240141_R08C01_Red.idat.gz\n",
       "GSM5742877 ftp://ftp.ncbi.nlm.nih.gov/geo/samples/GSM5742nnn/GSM5742877/suppl/GSM5742877_204088150175_R01C01_Red.idat.gz\n",
       "GSM5742878 ftp://ftp.ncbi.nlm.nih.gov/geo/samples/GSM5742nnn/GSM5742878/suppl/GSM5742878_204088150175_R02C01_Red.idat.gz\n",
       "GSM5742879 ftp://ftp.ncbi.nlm.nih.gov/geo/samples/GSM5742nnn/GSM5742879/suppl/GSM5742879_204088150175_R03C01_Red.idat.gz\n",
       "           data_row_count age (years):ch1 case control status:ch1\n",
       "GSM5742874 776062         NA              Pooled controls        \n",
       "GSM5742875 776062         17.8            Case                   \n",
       "GSM5742876 776062         27              Case                   \n",
       "GSM5742877 776062         20.9            Case                   \n",
       "GSM5742878 776062         18.5            Control                \n",
       "GSM5742879 776062         21              Control                \n",
       "           participant type:ch1      self-declared ancestry:ch1      Sex:ch1\n",
       "GSM5742874 Pooled parent controls    NA                              NA     \n",
       "GSM5742875 Proband                   Asian                           F      \n",
       "GSM5742876 Proband                   White                           M      \n",
       "GSM5742877 Proband                   Asian                           M      \n",
       "GSM5742878 Age and sex matched donor Unknown (Anonymous blood donor) F      \n",
       "GSM5742879 Age and sex matched donor Unknown (Anonymous blood donor) M      "
      ]
     },
     "metadata": {},
     "output_type": "display_data"
    }
   ],
   "source": [
    "\n",
    "# Obtendo a tabela de fenótipos disponível no GEO (obter informações sobre sexo biológico)\n",
    "pheno.df <- pData(phenoData(gse[[1]]))\n",
    "\n",
    "\n",
    "head(pheno.df)\n",
    "\n",
    "#Armazenar a informação de sexo biológico para adicionar na phenotype sheet\n",
    "Sex.df <- subset(pheno.df, select = c(\"Sex:ch1\"))"
   ]
  },
  {
   "cell_type": "code",
   "execution_count": 11,
   "id": "df48ecda-d3f6-4b2d-a187-d2d0a818ffbe",
   "metadata": {},
   "outputs": [
    {
     "data": {
      "text/html": [
       "<table class=\"dataframe\">\n",
       "<caption>A data.frame: 7 × 1</caption>\n",
       "<thead>\n",
       "\t<tr><th></th><th scope=col>Sex:ch1</th></tr>\n",
       "\t<tr><th></th><th scope=col>&lt;chr&gt;</th></tr>\n",
       "</thead>\n",
       "<tbody>\n",
       "\t<tr><th scope=row>GSM5742874</th><td>NA</td></tr>\n",
       "\t<tr><th scope=row>GSM5742875</th><td>F </td></tr>\n",
       "\t<tr><th scope=row>GSM5742876</th><td>M </td></tr>\n",
       "\t<tr><th scope=row>GSM5742877</th><td>M </td></tr>\n",
       "\t<tr><th scope=row>GSM5742878</th><td>F </td></tr>\n",
       "\t<tr><th scope=row>GSM5742879</th><td>M </td></tr>\n",
       "\t<tr><th scope=row>GSM5742880</th><td>M </td></tr>\n",
       "</tbody>\n",
       "</table>\n"
      ],
      "text/latex": [
       "A data.frame: 7 × 1\n",
       "\\begin{tabular}{r|l}\n",
       "  & Sex:ch1\\\\\n",
       "  & <chr>\\\\\n",
       "\\hline\n",
       "\tGSM5742874 & NA\\\\\n",
       "\tGSM5742875 & F \\\\\n",
       "\tGSM5742876 & M \\\\\n",
       "\tGSM5742877 & M \\\\\n",
       "\tGSM5742878 & F \\\\\n",
       "\tGSM5742879 & M \\\\\n",
       "\tGSM5742880 & M \\\\\n",
       "\\end{tabular}\n"
      ],
      "text/markdown": [
       "\n",
       "A data.frame: 7 × 1\n",
       "\n",
       "| <!--/--> | Sex:ch1 &lt;chr&gt; |\n",
       "|---|---|\n",
       "| GSM5742874 | NA |\n",
       "| GSM5742875 | F  |\n",
       "| GSM5742876 | M  |\n",
       "| GSM5742877 | M  |\n",
       "| GSM5742878 | F  |\n",
       "| GSM5742879 | M  |\n",
       "| GSM5742880 | M  |\n",
       "\n"
      ],
      "text/plain": [
       "           Sex:ch1\n",
       "GSM5742874 NA     \n",
       "GSM5742875 F      \n",
       "GSM5742876 M      \n",
       "GSM5742877 M      \n",
       "GSM5742878 F      \n",
       "GSM5742879 M      \n",
       "GSM5742880 M      "
      ]
     },
     "metadata": {},
     "output_type": "display_data"
    }
   ],
   "source": [
    "Sex.df"
   ]
  },
  {
   "cell_type": "markdown",
   "id": "8f78f2e9-4435-4870-8b62-566e0efc2137",
   "metadata": {},
   "source": [
    "***\n",
    "### 1.1 Baixar os dados RAW do GEO (dados brutos)\n",
    "\n",
    "No comando abaixo, iremos realizar o download dos arquivos raw a uma pasta com nome **GSE268211** dentro do nosso diretório de trabalho (definido na primeira célula)"
   ]
  },
  {
   "cell_type": "code",
   "execution_count": 12,
   "id": "17f50d96-c766-4f98-8491-d944b3874fbf",
   "metadata": {},
   "outputs": [
    {
     "data": {
      "text/html": [
       "<table class=\"dataframe\">\n",
       "<caption>A data.frame: 2 × 10</caption>\n",
       "<thead>\n",
       "\t<tr><th></th><th scope=col>size</th><th scope=col>isdir</th><th scope=col>mode</th><th scope=col>mtime</th><th scope=col>ctime</th><th scope=col>atime</th><th scope=col>uid</th><th scope=col>gid</th><th scope=col>uname</th><th scope=col>grname</th></tr>\n",
       "\t<tr><th></th><th scope=col>&lt;dbl&gt;</th><th scope=col>&lt;lgl&gt;</th><th scope=col>&lt;octmode&gt;</th><th scope=col>&lt;dttm&gt;</th><th scope=col>&lt;dttm&gt;</th><th scope=col>&lt;dttm&gt;</th><th scope=col>&lt;int&gt;</th><th scope=col>&lt;int&gt;</th><th scope=col>&lt;chr&gt;</th><th scope=col>&lt;chr&gt;</th></tr>\n",
       "</thead>\n",
       "<tbody>\n",
       "\t<tr><th scope=row>/home/iago/GEOdata/GSE191276/GSE191276_Matrix_signal_intensities.txt.gz</th><td> 41838553</td><td>FALSE</td><td>664</td><td>2021-12-20 13:09:47</td><td>2024-06-25 13:36:59</td><td>2024-06-25 13:36:59</td><td>1000</td><td>1000</td><td>iago</td><td>iago</td></tr>\n",
       "\t<tr><th scope=row>/home/iago/GEOdata/GSE191276/GSE191276_RAW.tar</th><td>103802880</td><td>FALSE</td><td>664</td><td>2022-03-02 19:51:15</td><td>2024-06-25 13:38:58</td><td>2024-06-25 13:38:58</td><td>1000</td><td>1000</td><td>iago</td><td>iago</td></tr>\n",
       "</tbody>\n",
       "</table>\n"
      ],
      "text/latex": [
       "A data.frame: 2 × 10\n",
       "\\begin{tabular}{r|llllllllll}\n",
       "  & size & isdir & mode & mtime & ctime & atime & uid & gid & uname & grname\\\\\n",
       "  & <dbl> & <lgl> & <octmode> & <dttm> & <dttm> & <dttm> & <int> & <int> & <chr> & <chr>\\\\\n",
       "\\hline\n",
       "\t/home/iago/GEOdata/GSE191276/GSE191276\\_Matrix\\_signal\\_intensities.txt.gz &  41838553 & FALSE & 664 & 2021-12-20 13:09:47 & 2024-06-25 13:36:59 & 2024-06-25 13:36:59 & 1000 & 1000 & iago & iago\\\\\n",
       "\t/home/iago/GEOdata/GSE191276/GSE191276\\_RAW.tar & 103802880 & FALSE & 664 & 2022-03-02 19:51:15 & 2024-06-25 13:38:58 & 2024-06-25 13:38:58 & 1000 & 1000 & iago & iago\\\\\n",
       "\\end{tabular}\n"
      ],
      "text/markdown": [
       "\n",
       "A data.frame: 2 × 10\n",
       "\n",
       "| <!--/--> | size &lt;dbl&gt; | isdir &lt;lgl&gt; | mode &lt;octmode&gt; | mtime &lt;dttm&gt; | ctime &lt;dttm&gt; | atime &lt;dttm&gt; | uid &lt;int&gt; | gid &lt;int&gt; | uname &lt;chr&gt; | grname &lt;chr&gt; |\n",
       "|---|---|---|---|---|---|---|---|---|---|---|\n",
       "| /home/iago/GEOdata/GSE191276/GSE191276_Matrix_signal_intensities.txt.gz |  41838553 | FALSE | 664 | 2021-12-20 13:09:47 | 2024-06-25 13:36:59 | 2024-06-25 13:36:59 | 1000 | 1000 | iago | iago |\n",
       "| /home/iago/GEOdata/GSE191276/GSE191276_RAW.tar | 103802880 | FALSE | 664 | 2022-03-02 19:51:15 | 2024-06-25 13:38:58 | 2024-06-25 13:38:58 | 1000 | 1000 | iago | iago |\n",
       "\n"
      ],
      "text/plain": [
       "                                                                        size     \n",
       "/home/iago/GEOdata/GSE191276/GSE191276_Matrix_signal_intensities.txt.gz  41838553\n",
       "/home/iago/GEOdata/GSE191276/GSE191276_RAW.tar                          103802880\n",
       "                                                                        isdir\n",
       "/home/iago/GEOdata/GSE191276/GSE191276_Matrix_signal_intensities.txt.gz FALSE\n",
       "/home/iago/GEOdata/GSE191276/GSE191276_RAW.tar                          FALSE\n",
       "                                                                        mode\n",
       "/home/iago/GEOdata/GSE191276/GSE191276_Matrix_signal_intensities.txt.gz 664 \n",
       "/home/iago/GEOdata/GSE191276/GSE191276_RAW.tar                          664 \n",
       "                                                                        mtime              \n",
       "/home/iago/GEOdata/GSE191276/GSE191276_Matrix_signal_intensities.txt.gz 2021-12-20 13:09:47\n",
       "/home/iago/GEOdata/GSE191276/GSE191276_RAW.tar                          2022-03-02 19:51:15\n",
       "                                                                        ctime              \n",
       "/home/iago/GEOdata/GSE191276/GSE191276_Matrix_signal_intensities.txt.gz 2024-06-25 13:36:59\n",
       "/home/iago/GEOdata/GSE191276/GSE191276_RAW.tar                          2024-06-25 13:38:58\n",
       "                                                                        atime              \n",
       "/home/iago/GEOdata/GSE191276/GSE191276_Matrix_signal_intensities.txt.gz 2024-06-25 13:36:59\n",
       "/home/iago/GEOdata/GSE191276/GSE191276_RAW.tar                          2024-06-25 13:38:58\n",
       "                                                                        uid \n",
       "/home/iago/GEOdata/GSE191276/GSE191276_Matrix_signal_intensities.txt.gz 1000\n",
       "/home/iago/GEOdata/GSE191276/GSE191276_RAW.tar                          1000\n",
       "                                                                        gid \n",
       "/home/iago/GEOdata/GSE191276/GSE191276_Matrix_signal_intensities.txt.gz 1000\n",
       "/home/iago/GEOdata/GSE191276/GSE191276_RAW.tar                          1000\n",
       "                                                                        uname\n",
       "/home/iago/GEOdata/GSE191276/GSE191276_Matrix_signal_intensities.txt.gz iago \n",
       "/home/iago/GEOdata/GSE191276/GSE191276_RAW.tar                          iago \n",
       "                                                                        grname\n",
       "/home/iago/GEOdata/GSE191276/GSE191276_Matrix_signal_intensities.txt.gz iago  \n",
       "/home/iago/GEOdata/GSE191276/GSE191276_RAW.tar                          iago  "
      ]
     },
     "metadata": {},
     "output_type": "display_data"
    }
   ],
   "source": [
    "options(timeout = max(300, getOption(\"timeout\")))\n",
    "options(download.file.method.GEOquery = \"wget\")\n",
    "filePaths<- getGEOSuppFiles(\"GSE191276\")\n",
    "filePaths"
   ]
  },
  {
   "cell_type": "code",
   "execution_count": 13,
   "id": "65727417-ba0b-4baa-885a-18eaad88f3fd",
   "metadata": {},
   "outputs": [
    {
     "data": {
      "text/html": [
       "<style>\n",
       ".list-inline {list-style: none; margin:0; padding: 0}\n",
       ".list-inline>li {display: inline-block}\n",
       ".list-inline>li:not(:last-child)::after {content: \"\\00b7\"; padding: 0 .5ex}\n",
       "</style>\n",
       "<ol class=list-inline><li>20</li><li>36</li></ol>\n"
      ],
      "text/latex": [
       "\\begin{enumerate*}\n",
       "\\item 20\n",
       "\\item 36\n",
       "\\end{enumerate*}\n"
      ],
      "text/markdown": [
       "1. 20\n",
       "2. 36\n",
       "\n",
       "\n"
      ],
      "text/plain": [
       "[1] 20 36"
      ]
     },
     "metadata": {},
     "output_type": "display_data"
    },
    {
     "data": {
      "text/html": [
       "<table class=\"dataframe\">\n",
       "<caption>A data.frame: 6 × 3</caption>\n",
       "<thead>\n",
       "\t<tr><th></th><th scope=col>title</th><th scope=col>geo_accession</th><th scope=col>status</th></tr>\n",
       "\t<tr><th></th><th scope=col>&lt;chr&gt;</th><th scope=col>&lt;chr&gt;</th><th scope=col>&lt;chr&gt;</th></tr>\n",
       "</thead>\n",
       "<tbody>\n",
       "\t<tr><th scope=row>GSM8288007</th><td>1_204963470004_R01C01_Participant 1_Male_1 Baseline  </td><td>GSM8288007</td><td>Public on May 30 2024</td></tr>\n",
       "\t<tr><th scope=row>GSM8288008</th><td>2_204963470004_R02C01_Participant 1_Male_2 Training  </td><td>GSM8288008</td><td>Public on May 30 2024</td></tr>\n",
       "\t<tr><th scope=row>GSM8288009</th><td>3_204963470004_R03C01_Participant 1_Male_3 Detraining</td><td>GSM8288009</td><td>Public on May 30 2024</td></tr>\n",
       "\t<tr><th scope=row>GSM8288010</th><td>4_204963470004_R04C01_Participant 1_Male_4 Retraining</td><td>GSM8288010</td><td>Public on May 30 2024</td></tr>\n",
       "\t<tr><th scope=row>GSM8288011</th><td>5_204963470004_R05C01_Participant 2_Male_1 Baseline  </td><td>GSM8288011</td><td>Public on May 30 2024</td></tr>\n",
       "\t<tr><th scope=row>GSM8288012</th><td>6_204963470004_R06C01_Participant 2_Male_2 Training  </td><td>GSM8288012</td><td>Public on May 30 2024</td></tr>\n",
       "</tbody>\n",
       "</table>\n"
      ],
      "text/latex": [
       "A data.frame: 6 × 3\n",
       "\\begin{tabular}{r|lll}\n",
       "  & title & geo\\_accession & status\\\\\n",
       "  & <chr> & <chr> & <chr>\\\\\n",
       "\\hline\n",
       "\tGSM8288007 & 1\\_204963470004\\_R01C01\\_Participant 1\\_Male\\_1 Baseline   & GSM8288007 & Public on May 30 2024\\\\\n",
       "\tGSM8288008 & 2\\_204963470004\\_R02C01\\_Participant 1\\_Male\\_2 Training   & GSM8288008 & Public on May 30 2024\\\\\n",
       "\tGSM8288009 & 3\\_204963470004\\_R03C01\\_Participant 1\\_Male\\_3 Detraining & GSM8288009 & Public on May 30 2024\\\\\n",
       "\tGSM8288010 & 4\\_204963470004\\_R04C01\\_Participant 1\\_Male\\_4 Retraining & GSM8288010 & Public on May 30 2024\\\\\n",
       "\tGSM8288011 & 5\\_204963470004\\_R05C01\\_Participant 2\\_Male\\_1 Baseline   & GSM8288011 & Public on May 30 2024\\\\\n",
       "\tGSM8288012 & 6\\_204963470004\\_R06C01\\_Participant 2\\_Male\\_2 Training   & GSM8288012 & Public on May 30 2024\\\\\n",
       "\\end{tabular}\n"
      ],
      "text/markdown": [
       "\n",
       "A data.frame: 6 × 3\n",
       "\n",
       "| <!--/--> | title &lt;chr&gt; | geo_accession &lt;chr&gt; | status &lt;chr&gt; |\n",
       "|---|---|---|---|\n",
       "| GSM8288007 | 1_204963470004_R01C01_Participant 1_Male_1 Baseline   | GSM8288007 | Public on May 30 2024 |\n",
       "| GSM8288008 | 2_204963470004_R02C01_Participant 1_Male_2 Training   | GSM8288008 | Public on May 30 2024 |\n",
       "| GSM8288009 | 3_204963470004_R03C01_Participant 1_Male_3 Detraining | GSM8288009 | Public on May 30 2024 |\n",
       "| GSM8288010 | 4_204963470004_R04C01_Participant 1_Male_4 Retraining | GSM8288010 | Public on May 30 2024 |\n",
       "| GSM8288011 | 5_204963470004_R05C01_Participant 2_Male_1 Baseline   | GSM8288011 | Public on May 30 2024 |\n",
       "| GSM8288012 | 6_204963470004_R06C01_Participant 2_Male_2 Training   | GSM8288012 | Public on May 30 2024 |\n",
       "\n"
      ],
      "text/plain": [
       "           title                                                 geo_accession\n",
       "GSM8288007 1_204963470004_R01C01_Participant 1_Male_1 Baseline   GSM8288007   \n",
       "GSM8288008 2_204963470004_R02C01_Participant 1_Male_2 Training   GSM8288008   \n",
       "GSM8288009 3_204963470004_R03C01_Participant 1_Male_3 Detraining GSM8288009   \n",
       "GSM8288010 4_204963470004_R04C01_Participant 1_Male_4 Retraining GSM8288010   \n",
       "GSM8288011 5_204963470004_R05C01_Participant 2_Male_1 Baseline   GSM8288011   \n",
       "GSM8288012 6_204963470004_R06C01_Participant 2_Male_2 Training   GSM8288012   \n",
       "           status               \n",
       "GSM8288007 Public on May 30 2024\n",
       "GSM8288008 Public on May 30 2024\n",
       "GSM8288009 Public on May 30 2024\n",
       "GSM8288010 Public on May 30 2024\n",
       "GSM8288011 Public on May 30 2024\n",
       "GSM8288012 Public on May 30 2024"
      ]
     },
     "metadata": {},
     "output_type": "display_data"
    }
   ],
   "source": [
    "dim(pData(gse[[1]]))\n",
    "head(pData(gse[[1]])[, 1:3])"
   ]
  },
  {
   "cell_type": "code",
   "execution_count": 14,
   "id": "55e32c79-9f5b-4b9a-a2fa-7a4cbd5069df",
   "metadata": {},
   "outputs": [
    {
     "data": {
      "text/html": [
       "<ol>\n",
       "</ol>\n"
      ],
      "text/latex": [
       "\\begin{enumerate}\n",
       "\\end{enumerate}\n"
      ],
      "text/markdown": [
       "\n",
       "\n"
      ],
      "text/plain": [
       "list()"
      ]
     },
     "metadata": {},
     "output_type": "display_data"
    }
   ],
   "source": [
    "df1 <- getGSEDataTables(\"GSE268211\")\n",
    "lapply(df1, head)"
   ]
  },
  {
   "cell_type": "markdown",
   "id": "96706c90-5221-4168-8255-667cca157893",
   "metadata": {},
   "source": [
    "***\n",
    "### 1.2 Abrindo o arquivo RAW baixado \n",
    "\n",
    "Para abrir o arquivo baixado, iremos usar o comando tar (linux) para descompactar a compressar .tar"
   ]
  },
  {
   "cell_type": "code",
   "execution_count": 13,
   "id": "ca03f93f-f128-4fc1-b397-e0221636a5e0",
   "metadata": {},
   "outputs": [],
   "source": [
    "library(utils)"
   ]
  },
  {
   "cell_type": "code",
   "execution_count": 14,
   "id": "ad7f063a-4192-4dce-93c5-5c45d680ef87",
   "metadata": {},
   "outputs": [],
   "source": [
    "# Abrindo o arquivo GSE268211_RAW.tar com o comando tar\n",
    "system(\"tar -xvf ~/GEOdata/GSE191276/GSE191276_RAW.tar\")"
   ]
  },
  {
   "cell_type": "markdown",
   "id": "3818bad4-d7e9-4195-9305-ae6a259345b1",
   "metadata": {},
   "source": [
    "Agora, vamos observar os arquivos descritos no nosso \"working directory\". Neles, devemos encontrar os arquivos baixados do GEO"
   ]
  },
  {
   "cell_type": "code",
   "execution_count": 15,
   "id": "4bb5b854-43b8-43f6-8599-8cdebe045c52",
   "metadata": {},
   "outputs": [
    {
     "data": {
      "text/html": [
       "<style>\n",
       ".list-inline {list-style: none; margin:0; padding: 0}\n",
       ".list-inline>li {display: inline-block}\n",
       ".list-inline>li:not(:last-child)::after {content: \"\\00b7\"; padding: 0 .5ex}\n",
       "</style>\n",
       "<ol class=list-inline><li>'GSE191276/GSE191276_Matrix_signal_intensities.txt.gz'</li><li>'GSE191276/GSE191276_RAW.tar'</li><li>'GSM5742874_202702240141_R05C01_Grn.idat.gz'</li><li>'GSM5742874_202702240141_R05C01_Red.idat.gz'</li><li>'GSM5742875_202702240141_R06C01_Grn.idat.gz'</li><li>'GSM5742875_202702240141_R06C01_Red.idat.gz'</li></ol>\n"
      ],
      "text/latex": [
       "\\begin{enumerate*}\n",
       "\\item 'GSE191276/GSE191276\\_Matrix\\_signal\\_intensities.txt.gz'\n",
       "\\item 'GSE191276/GSE191276\\_RAW.tar'\n",
       "\\item 'GSM5742874\\_202702240141\\_R05C01\\_Grn.idat.gz'\n",
       "\\item 'GSM5742874\\_202702240141\\_R05C01\\_Red.idat.gz'\n",
       "\\item 'GSM5742875\\_202702240141\\_R06C01\\_Grn.idat.gz'\n",
       "\\item 'GSM5742875\\_202702240141\\_R06C01\\_Red.idat.gz'\n",
       "\\end{enumerate*}\n"
      ],
      "text/markdown": [
       "1. 'GSE191276/GSE191276_Matrix_signal_intensities.txt.gz'\n",
       "2. 'GSE191276/GSE191276_RAW.tar'\n",
       "3. 'GSM5742874_202702240141_R05C01_Grn.idat.gz'\n",
       "4. 'GSM5742874_202702240141_R05C01_Red.idat.gz'\n",
       "5. 'GSM5742875_202702240141_R06C01_Grn.idat.gz'\n",
       "6. 'GSM5742875_202702240141_R06C01_Red.idat.gz'\n",
       "\n",
       "\n"
      ],
      "text/plain": [
       "[1] \"GSE191276/GSE191276_Matrix_signal_intensities.txt.gz\"\n",
       "[2] \"GSE191276/GSE191276_RAW.tar\"                         \n",
       "[3] \"GSM5742874_202702240141_R05C01_Grn.idat.gz\"          \n",
       "[4] \"GSM5742874_202702240141_R05C01_Red.idat.gz\"          \n",
       "[5] \"GSM5742875_202702240141_R06C01_Grn.idat.gz\"          \n",
       "[6] \"GSM5742875_202702240141_R06C01_Red.idat.gz\"          "
      ]
     },
     "metadata": {},
     "output_type": "display_data"
    }
   ],
   "source": [
    "dataDirectory <- getwd()\n",
    "head(list.files(dataDirectory, recursive = TRUE))"
   ]
  },
  {
   "cell_type": "markdown",
   "id": "1a26434a-542a-4580-8db8-0083b33c8ff4",
   "metadata": {},
   "source": [
    "***\n",
    "**OBS:** \n",
    "\n",
    "> Comando gunzip: descompacta arquivos .gz (gnu unzip)\n",
    "***"
   ]
  },
  {
   "cell_type": "code",
   "execution_count": 16,
   "id": "bc49e832-ea7b-4e73-829c-2188ce727de7",
   "metadata": {},
   "outputs": [],
   "source": [
    "system(\"gunzip *\")"
   ]
  },
  {
   "cell_type": "markdown",
   "id": "9cee932d-a523-4d45-9ad9-7790152002de",
   "metadata": {},
   "source": [
    "Observe que os arquivos .idat que possuiem a extensão .gz ao final, perderam a extensão \".gz\"\n"
   ]
  },
  {
   "cell_type": "code",
   "execution_count": 17,
   "id": "45e740bb-7ef0-4115-b72e-546fe96296d5",
   "metadata": {},
   "outputs": [
    {
     "data": {
      "text/html": [
       "<style>\n",
       ".list-inline {list-style: none; margin:0; padding: 0}\n",
       ".list-inline>li {display: inline-block}\n",
       ".list-inline>li:not(:last-child)::after {content: \"\\00b7\"; padding: 0 .5ex}\n",
       "</style>\n",
       "<ol class=list-inline><li>'GSM5742877_204088150175_R01C01_Red.idat'</li><li>'GSM5742878_204088150175_R02C01_Grn.idat'</li><li>'GSM5742878_204088150175_R02C01_Red.idat'</li><li>'GSM5742879_204088150175_R03C01_Grn.idat'</li><li>'GSM5742879_204088150175_R03C01_Red.idat'</li><li>'GSM5742880_204088150175_R04C01_Grn.idat'</li></ol>\n"
      ],
      "text/latex": [
       "\\begin{enumerate*}\n",
       "\\item 'GSM5742877\\_204088150175\\_R01C01\\_Red.idat'\n",
       "\\item 'GSM5742878\\_204088150175\\_R02C01\\_Grn.idat'\n",
       "\\item 'GSM5742878\\_204088150175\\_R02C01\\_Red.idat'\n",
       "\\item 'GSM5742879\\_204088150175\\_R03C01\\_Grn.idat'\n",
       "\\item 'GSM5742879\\_204088150175\\_R03C01\\_Red.idat'\n",
       "\\item 'GSM5742880\\_204088150175\\_R04C01\\_Grn.idat'\n",
       "\\end{enumerate*}\n"
      ],
      "text/markdown": [
       "1. 'GSM5742877_204088150175_R01C01_Red.idat'\n",
       "2. 'GSM5742878_204088150175_R02C01_Grn.idat'\n",
       "3. 'GSM5742878_204088150175_R02C01_Red.idat'\n",
       "4. 'GSM5742879_204088150175_R03C01_Grn.idat'\n",
       "5. 'GSM5742879_204088150175_R03C01_Red.idat'\n",
       "6. 'GSM5742880_204088150175_R04C01_Grn.idat'\n",
       "\n",
       "\n"
      ],
      "text/plain": [
       "[1] \"GSM5742877_204088150175_R01C01_Red.idat\"\n",
       "[2] \"GSM5742878_204088150175_R02C01_Grn.idat\"\n",
       "[3] \"GSM5742878_204088150175_R02C01_Red.idat\"\n",
       "[4] \"GSM5742879_204088150175_R03C01_Grn.idat\"\n",
       "[5] \"GSM5742879_204088150175_R03C01_Red.idat\"\n",
       "[6] \"GSM5742880_204088150175_R04C01_Grn.idat\""
      ]
     },
     "metadata": {},
     "output_type": "display_data"
    }
   ],
   "source": [
    "list.files(dataDirectory, recursive = TRUE)[10:15]\n"
   ]
  },
  {
   "cell_type": "markdown",
   "id": "ab1d8b14-8466-410f-b3ec-baae0a433766",
   "metadata": {},
   "source": [
    "\n",
    "***\n",
    "Neste loop, criamos uma lista exclusiva com os arquivos .idat (aqueles que contém as informações de EWAS do chip EPIC da illumina)\n",
    "***"
   ]
  },
  {
   "cell_type": "code",
   "execution_count": 18,
   "id": "fb2e8012-cf42-4cb7-a8e9-2b5457e7f7ab",
   "metadata": {},
   "outputs": [
    {
     "data": {
      "text/html": [
       "<ol>\n",
       "\t<li>'GSM5742874_202702240141_R05C01_Grn.idat'</li>\n",
       "\t<li>'GSM5742874_202702240141_R05C01_Red.idat'</li>\n",
       "\t<li>'GSM5742875_202702240141_R06C01_Grn.idat'</li>\n",
       "\t<li>'GSM5742875_202702240141_R06C01_Red.idat'</li>\n",
       "\t<li>'GSM5742876_202702240141_R08C01_Grn.idat'</li>\n",
       "\t<li>'GSM5742876_202702240141_R08C01_Red.idat'</li>\n",
       "</ol>\n"
      ],
      "text/latex": [
       "\\begin{enumerate}\n",
       "\\item 'GSM5742874\\_202702240141\\_R05C01\\_Grn.idat'\n",
       "\\item 'GSM5742874\\_202702240141\\_R05C01\\_Red.idat'\n",
       "\\item 'GSM5742875\\_202702240141\\_R06C01\\_Grn.idat'\n",
       "\\item 'GSM5742875\\_202702240141\\_R06C01\\_Red.idat'\n",
       "\\item 'GSM5742876\\_202702240141\\_R08C01\\_Grn.idat'\n",
       "\\item 'GSM5742876\\_202702240141\\_R08C01\\_Red.idat'\n",
       "\\end{enumerate}\n"
      ],
      "text/markdown": [
       "1. 'GSM5742874_202702240141_R05C01_Grn.idat'\n",
       "2. 'GSM5742874_202702240141_R05C01_Red.idat'\n",
       "3. 'GSM5742875_202702240141_R06C01_Grn.idat'\n",
       "4. 'GSM5742875_202702240141_R06C01_Red.idat'\n",
       "5. 'GSM5742876_202702240141_R08C01_Grn.idat'\n",
       "6. 'GSM5742876_202702240141_R08C01_Red.idat'\n",
       "\n",
       "\n"
      ],
      "text/plain": [
       "[[1]]\n",
       "[1] \"GSM5742874_202702240141_R05C01_Grn.idat\"\n",
       "\n",
       "[[2]]\n",
       "[1] \"GSM5742874_202702240141_R05C01_Red.idat\"\n",
       "\n",
       "[[3]]\n",
       "[1] \"GSM5742875_202702240141_R06C01_Grn.idat\"\n",
       "\n",
       "[[4]]\n",
       "[1] \"GSM5742875_202702240141_R06C01_Red.idat\"\n",
       "\n",
       "[[5]]\n",
       "[1] \"GSM5742876_202702240141_R08C01_Grn.idat\"\n",
       "\n",
       "[[6]]\n",
       "[1] \"GSM5742876_202702240141_R08C01_Red.idat\"\n"
      ]
     },
     "metadata": {},
     "output_type": "display_data"
    }
   ],
   "source": [
    "idat_filelist <- list()\n",
    "\n",
    "for( file in list.files(dataDirectory, recursive = TRUE) ){\n",
    " if(endsWith(file, \".idat\")){\n",
    "     idat_filelist <- c(idat_filelist, file)\n",
    "     }\n",
    "}\n",
    "head(idat_filelist)"
   ]
  },
  {
   "cell_type": "markdown",
   "id": "8edf0fa9-6fcb-47e1-94b7-08034a0e0c0a",
   "metadata": {},
   "source": [
    "***\n",
    "# ******2. Criando sheet******"
   ]
  },
  {
   "cell_type": "code",
   "execution_count": 19,
   "id": "cc1c3dde-a1e2-45e1-b173-14b093146948",
   "metadata": {},
   "outputs": [],
   "source": [
    "#Create a matrix for the phenofile\n",
    "sheet = as.matrix(matrix(nrow = length(idat_filelist), ncol = 5))\n",
    "colnames(sheet) =c(\"GeoID\",\"SampleID\",\"Basename\",\"Sentrix_ID\",\"Sentrix_Position\")\n"
   ]
  },
  {
   "cell_type": "code",
   "execution_count": 105,
   "id": "ce7947d0-12f2-4718-8e2d-386c6a28efe4",
   "metadata": {},
   "outputs": [
    {
     "data": {
      "text/html": [
       "<table class=\"dataframe\">\n",
       "<caption>A matrix: 6 × 5 of type lgl</caption>\n",
       "<thead>\n",
       "\t<tr><th scope=col>GeoID</th><th scope=col>SampleID</th><th scope=col>Basename</th><th scope=col>Sentrix_ID</th><th scope=col>Sentrix_Position</th></tr>\n",
       "</thead>\n",
       "<tbody>\n",
       "\t<tr><td>NA</td><td>NA</td><td>NA</td><td>NA</td><td>NA</td></tr>\n",
       "\t<tr><td>NA</td><td>NA</td><td>NA</td><td>NA</td><td>NA</td></tr>\n",
       "\t<tr><td>NA</td><td>NA</td><td>NA</td><td>NA</td><td>NA</td></tr>\n",
       "\t<tr><td>NA</td><td>NA</td><td>NA</td><td>NA</td><td>NA</td></tr>\n",
       "\t<tr><td>NA</td><td>NA</td><td>NA</td><td>NA</td><td>NA</td></tr>\n",
       "\t<tr><td>NA</td><td>NA</td><td>NA</td><td>NA</td><td>NA</td></tr>\n",
       "</tbody>\n",
       "</table>\n"
      ],
      "text/latex": [
       "A matrix: 6 × 5 of type lgl\n",
       "\\begin{tabular}{lllll}\n",
       " GeoID & SampleID & Basename & Sentrix\\_ID & Sentrix\\_Position\\\\\n",
       "\\hline\n",
       "\t NA & NA & NA & NA & NA\\\\\n",
       "\t NA & NA & NA & NA & NA\\\\\n",
       "\t NA & NA & NA & NA & NA\\\\\n",
       "\t NA & NA & NA & NA & NA\\\\\n",
       "\t NA & NA & NA & NA & NA\\\\\n",
       "\t NA & NA & NA & NA & NA\\\\\n",
       "\\end{tabular}\n"
      ],
      "text/markdown": [
       "\n",
       "A matrix: 6 × 5 of type lgl\n",
       "\n",
       "| GeoID | SampleID | Basename | Sentrix_ID | Sentrix_Position |\n",
       "|---|---|---|---|---|\n",
       "| NA | NA | NA | NA | NA |\n",
       "| NA | NA | NA | NA | NA |\n",
       "| NA | NA | NA | NA | NA |\n",
       "| NA | NA | NA | NA | NA |\n",
       "| NA | NA | NA | NA | NA |\n",
       "| NA | NA | NA | NA | NA |\n",
       "\n"
      ],
      "text/plain": [
       "     GeoID SampleID Basename Sentrix_ID Sentrix_Position\n",
       "[1,] NA    NA       NA       NA         NA              \n",
       "[2,] NA    NA       NA       NA         NA              \n",
       "[3,] NA    NA       NA       NA         NA              \n",
       "[4,] NA    NA       NA       NA         NA              \n",
       "[5,] NA    NA       NA       NA         NA              \n",
       "[6,] NA    NA       NA       NA         NA              "
      ]
     },
     "metadata": {},
     "output_type": "display_data"
    }
   ],
   "source": [
    "head(sheet)"
   ]
  },
  {
   "cell_type": "code",
   "execution_count": 106,
   "id": "49095f1a-5dce-4160-b1ee-91931333e881",
   "metadata": {},
   "outputs": [
    {
     "data": {
      "text/html": [
       "<style>\n",
       ".list-inline {list-style: none; margin:0; padding: 0}\n",
       ".list-inline>li {display: inline-block}\n",
       ".list-inline>li:not(:last-child)::after {content: \"\\00b7\"; padding: 0 .5ex}\n",
       "</style>\n",
       "<ol class=list-inline><li>40</li><li>5</li></ol>\n"
      ],
      "text/latex": [
       "\\begin{enumerate*}\n",
       "\\item 40\n",
       "\\item 5\n",
       "\\end{enumerate*}\n"
      ],
      "text/markdown": [
       "1. 40\n",
       "2. 5\n",
       "\n",
       "\n"
      ],
      "text/plain": [
       "[1] 40  5"
      ]
     },
     "metadata": {},
     "output_type": "display_data"
    }
   ],
   "source": [
    "dim(sheet)"
   ]
  },
  {
   "cell_type": "markdown",
   "id": "1de54f56-b3e1-49f6-aaf9-532a16c7166e",
   "metadata": {},
   "source": [
    "### 2.1 Para cada idat file (cada indivíduo), criar uma linha na tabela com as informações da tabela\n",
    "A informações que queremos estão no nome de cada arquivo \n",
    "Exemplo: \n",
    "> GSM8258459_200889820015_R02C01_Grn.idat\n",
    "\n",
    "\n",
    "* **SentrixID** \n",
    "\n",
    "Identificação do chip\n",
    "    \n",
    "> 200889820015\n",
    "\n",
    "* **SentrixPosition** \n",
    "\n",
    "Posição do poço correspondente a aquele indivíduo no chip\n",
    "\n",
    "> R02C01\n",
    "\n",
    "* **SampleID** \n",
    "\n",
    "Nome que irá identificar aquela amostra --> junção do *SentrixID_SentrixPosition*\n",
    "\n",
    "> 200889820015_R02C01\n",
    "\n",
    "- **Basename**\n",
    "\n",
    "Parte do nome do arquivo que é comum ao idat de canal verde e o idat de canal vermelho\n",
    "\n",
    "> GSM8258459_200889820015_R02C01\n"
   ]
  },
  {
   "cell_type": "code",
   "execution_count": 20,
   "id": "240fefb0-4abe-4f53-bf1a-8c851669a6d7",
   "metadata": {},
   "outputs": [],
   "source": [
    "\n",
    "for (i in seq(1,length(idat_filelist))){\n",
    "    split_name=strsplit(idat_filelist[[i]], split='_', fixed=TRUE)\n",
    "\n",
    "    #GeoID\n",
    "    sheet[i,1] = split_name[[1]][1]\n",
    "    #SampleID\n",
    "    sheet[i,2]=paste(split_name[[1]][2],split_name[[1]][3],sep=\"_\")\n",
    "    #Basename\n",
    "    #   Obs: incluir o caminho de onde os arquivos idat estão salvos, nesse caso, é nosso working directory. \n",
    "    #        > getwd() \n",
    "    #        [1] \"/home/iago/Documents/Epigenetica_curso_pipeline/GEOdata\"\n",
    "    sheet[i,3]=paste(split_name[[1]][1],split_name[[1]][2],split_name[[1]][3],sep=\"_\")\n",
    "    #Sentrix_ID\n",
    "    sheet[i,4]=split_name[[1]][2]\n",
    "    #SentrixPosition\n",
    "    sheet[i,5]=split_name[[1]][3]\n",
    "    }\n",
    "\n",
    "#Sheet está duplicada, já que temos um idat para cada canal \n",
    "sheet = sheet[duplicated(sheet),]"
   ]
  },
  {
   "cell_type": "code",
   "execution_count": 21,
   "id": "1c0efee9-b7c2-4965-ae81-84e811f192d8",
   "metadata": {
    "scrolled": true
   },
   "outputs": [
    {
     "data": {
      "text/html": [
       "<table class=\"dataframe\">\n",
       "<caption>A matrix: 6 × 5 of type chr</caption>\n",
       "<thead>\n",
       "\t<tr><th scope=col>GeoID</th><th scope=col>SampleID</th><th scope=col>Basename</th><th scope=col>Sentrix_ID</th><th scope=col>Sentrix_Position</th></tr>\n",
       "</thead>\n",
       "<tbody>\n",
       "\t<tr><td>GSM5742874</td><td>202702240141_R05C01</td><td>GSM5742874_202702240141_R05C01</td><td>202702240141</td><td>R05C01</td></tr>\n",
       "\t<tr><td>GSM5742875</td><td>202702240141_R06C01</td><td>GSM5742875_202702240141_R06C01</td><td>202702240141</td><td>R06C01</td></tr>\n",
       "\t<tr><td>GSM5742876</td><td>202702240141_R08C01</td><td>GSM5742876_202702240141_R08C01</td><td>202702240141</td><td>R08C01</td></tr>\n",
       "\t<tr><td>GSM5742877</td><td>204088150175_R01C01</td><td>GSM5742877_204088150175_R01C01</td><td>204088150175</td><td>R01C01</td></tr>\n",
       "\t<tr><td>GSM5742878</td><td>204088150175_R02C01</td><td>GSM5742878_204088150175_R02C01</td><td>204088150175</td><td>R02C01</td></tr>\n",
       "\t<tr><td>GSM5742879</td><td>204088150175_R03C01</td><td>GSM5742879_204088150175_R03C01</td><td>204088150175</td><td>R03C01</td></tr>\n",
       "</tbody>\n",
       "</table>\n"
      ],
      "text/latex": [
       "A matrix: 6 × 5 of type chr\n",
       "\\begin{tabular}{lllll}\n",
       " GeoID & SampleID & Basename & Sentrix\\_ID & Sentrix\\_Position\\\\\n",
       "\\hline\n",
       "\t GSM5742874 & 202702240141\\_R05C01 & GSM5742874\\_202702240141\\_R05C01 & 202702240141 & R05C01\\\\\n",
       "\t GSM5742875 & 202702240141\\_R06C01 & GSM5742875\\_202702240141\\_R06C01 & 202702240141 & R06C01\\\\\n",
       "\t GSM5742876 & 202702240141\\_R08C01 & GSM5742876\\_202702240141\\_R08C01 & 202702240141 & R08C01\\\\\n",
       "\t GSM5742877 & 204088150175\\_R01C01 & GSM5742877\\_204088150175\\_R01C01 & 204088150175 & R01C01\\\\\n",
       "\t GSM5742878 & 204088150175\\_R02C01 & GSM5742878\\_204088150175\\_R02C01 & 204088150175 & R02C01\\\\\n",
       "\t GSM5742879 & 204088150175\\_R03C01 & GSM5742879\\_204088150175\\_R03C01 & 204088150175 & R03C01\\\\\n",
       "\\end{tabular}\n"
      ],
      "text/markdown": [
       "\n",
       "A matrix: 6 × 5 of type chr\n",
       "\n",
       "| GeoID | SampleID | Basename | Sentrix_ID | Sentrix_Position |\n",
       "|---|---|---|---|---|\n",
       "| GSM5742874 | 202702240141_R05C01 | GSM5742874_202702240141_R05C01 | 202702240141 | R05C01 |\n",
       "| GSM5742875 | 202702240141_R06C01 | GSM5742875_202702240141_R06C01 | 202702240141 | R06C01 |\n",
       "| GSM5742876 | 202702240141_R08C01 | GSM5742876_202702240141_R08C01 | 202702240141 | R08C01 |\n",
       "| GSM5742877 | 204088150175_R01C01 | GSM5742877_204088150175_R01C01 | 204088150175 | R01C01 |\n",
       "| GSM5742878 | 204088150175_R02C01 | GSM5742878_204088150175_R02C01 | 204088150175 | R02C01 |\n",
       "| GSM5742879 | 204088150175_R03C01 | GSM5742879_204088150175_R03C01 | 204088150175 | R03C01 |\n",
       "\n"
      ],
      "text/plain": [
       "     GeoID      SampleID            Basename                       Sentrix_ID  \n",
       "[1,] GSM5742874 202702240141_R05C01 GSM5742874_202702240141_R05C01 202702240141\n",
       "[2,] GSM5742875 202702240141_R06C01 GSM5742875_202702240141_R06C01 202702240141\n",
       "[3,] GSM5742876 202702240141_R08C01 GSM5742876_202702240141_R08C01 202702240141\n",
       "[4,] GSM5742877 204088150175_R01C01 GSM5742877_204088150175_R01C01 204088150175\n",
       "[5,] GSM5742878 204088150175_R02C01 GSM5742878_204088150175_R02C01 204088150175\n",
       "[6,] GSM5742879 204088150175_R03C01 GSM5742879_204088150175_R03C01 204088150175\n",
       "     Sentrix_Position\n",
       "[1,] R05C01          \n",
       "[2,] R06C01          \n",
       "[3,] R08C01          \n",
       "[4,] R01C01          \n",
       "[5,] R02C01          \n",
       "[6,] R03C01          "
      ]
     },
     "metadata": {},
     "output_type": "display_data"
    },
    {
     "data": {
      "text/html": [
       "<style>\n",
       ".list-inline {list-style: none; margin:0; padding: 0}\n",
       ".list-inline>li {display: inline-block}\n",
       ".list-inline>li:not(:last-child)::after {content: \"\\00b7\"; padding: 0 .5ex}\n",
       "</style>\n",
       "<ol class=list-inline><li>7</li><li>5</li></ol>\n"
      ],
      "text/latex": [
       "\\begin{enumerate*}\n",
       "\\item 7\n",
       "\\item 5\n",
       "\\end{enumerate*}\n"
      ],
      "text/markdown": [
       "1. 7\n",
       "2. 5\n",
       "\n",
       "\n"
      ],
      "text/plain": [
       "[1] 7 5"
      ]
     },
     "metadata": {},
     "output_type": "display_data"
    }
   ],
   "source": [
    "head(sheet)\n",
    "dim(sheet)"
   ]
  },
  {
   "cell_type": "markdown",
   "id": "25215fc3-bd42-4dfb-9842-70a7f86bba2b",
   "metadata": {},
   "source": [
    "***\n",
    "Agora, converteremos o nosso phenotype sheet em um data.frame do R para facilitar o manuseio dos dados\n",
    "***"
   ]
  },
  {
   "cell_type": "code",
   "execution_count": 22,
   "id": "f6f5f299-e71f-4af1-b1b7-0592a5afe623",
   "metadata": {},
   "outputs": [
    {
     "data": {
      "text/html": [
       "<table class=\"dataframe\">\n",
       "<caption>A data.frame: 6 × 1</caption>\n",
       "<thead>\n",
       "\t<tr><th></th><th scope=col>Sex:ch1</th></tr>\n",
       "\t<tr><th></th><th scope=col>&lt;chr&gt;</th></tr>\n",
       "</thead>\n",
       "<tbody>\n",
       "\t<tr><th scope=row>GSM5742874</th><td>NA</td></tr>\n",
       "\t<tr><th scope=row>GSM5742875</th><td>F </td></tr>\n",
       "\t<tr><th scope=row>GSM5742876</th><td>M </td></tr>\n",
       "\t<tr><th scope=row>GSM5742877</th><td>M </td></tr>\n",
       "\t<tr><th scope=row>GSM5742878</th><td>F </td></tr>\n",
       "\t<tr><th scope=row>GSM5742879</th><td>M </td></tr>\n",
       "</tbody>\n",
       "</table>\n"
      ],
      "text/latex": [
       "A data.frame: 6 × 1\n",
       "\\begin{tabular}{r|l}\n",
       "  & Sex:ch1\\\\\n",
       "  & <chr>\\\\\n",
       "\\hline\n",
       "\tGSM5742874 & NA\\\\\n",
       "\tGSM5742875 & F \\\\\n",
       "\tGSM5742876 & M \\\\\n",
       "\tGSM5742877 & M \\\\\n",
       "\tGSM5742878 & F \\\\\n",
       "\tGSM5742879 & M \\\\\n",
       "\\end{tabular}\n"
      ],
      "text/markdown": [
       "\n",
       "A data.frame: 6 × 1\n",
       "\n",
       "| <!--/--> | Sex:ch1 &lt;chr&gt; |\n",
       "|---|---|\n",
       "| GSM5742874 | NA |\n",
       "| GSM5742875 | F  |\n",
       "| GSM5742876 | M  |\n",
       "| GSM5742877 | M  |\n",
       "| GSM5742878 | F  |\n",
       "| GSM5742879 | M  |\n",
       "\n"
      ],
      "text/plain": [
       "           Sex:ch1\n",
       "GSM5742874 NA     \n",
       "GSM5742875 F      \n",
       "GSM5742876 M      \n",
       "GSM5742877 M      \n",
       "GSM5742878 F      \n",
       "GSM5742879 M      "
      ]
     },
     "metadata": {},
     "output_type": "display_data"
    },
    {
     "data": {
      "text/html": [
       "<table class=\"dataframe\">\n",
       "<caption>A data.frame: 7 × 6</caption>\n",
       "<thead>\n",
       "\t<tr><th scope=col>GeoID</th><th scope=col>SampleID</th><th scope=col>Basename</th><th scope=col>Sentrix_ID</th><th scope=col>Sentrix_Position</th><th scope=col>Sex</th></tr>\n",
       "\t<tr><th scope=col>&lt;chr&gt;</th><th scope=col>&lt;chr&gt;</th><th scope=col>&lt;chr&gt;</th><th scope=col>&lt;chr&gt;</th><th scope=col>&lt;chr&gt;</th><th scope=col>&lt;chr&gt;</th></tr>\n",
       "</thead>\n",
       "<tbody>\n",
       "\t<tr><td>GSM5742874</td><td>202702240141_R05C01</td><td>GSM5742874_202702240141_R05C01</td><td>202702240141</td><td>R05C01</td><td>F</td></tr>\n",
       "\t<tr><td>GSM5742875</td><td>202702240141_R06C01</td><td>GSM5742875_202702240141_R06C01</td><td>202702240141</td><td>R06C01</td><td>F</td></tr>\n",
       "\t<tr><td>GSM5742876</td><td>202702240141_R08C01</td><td>GSM5742876_202702240141_R08C01</td><td>202702240141</td><td>R08C01</td><td>M</td></tr>\n",
       "\t<tr><td>GSM5742877</td><td>204088150175_R01C01</td><td>GSM5742877_204088150175_R01C01</td><td>204088150175</td><td>R01C01</td><td>M</td></tr>\n",
       "\t<tr><td>GSM5742878</td><td>204088150175_R02C01</td><td>GSM5742878_204088150175_R02C01</td><td>204088150175</td><td>R02C01</td><td>F</td></tr>\n",
       "\t<tr><td>GSM5742879</td><td>204088150175_R03C01</td><td>GSM5742879_204088150175_R03C01</td><td>204088150175</td><td>R03C01</td><td>M</td></tr>\n",
       "\t<tr><td>GSM5742880</td><td>204088150175_R04C01</td><td>GSM5742880_204088150175_R04C01</td><td>204088150175</td><td>R04C01</td><td>M</td></tr>\n",
       "</tbody>\n",
       "</table>\n"
      ],
      "text/latex": [
       "A data.frame: 7 × 6\n",
       "\\begin{tabular}{llllll}\n",
       " GeoID & SampleID & Basename & Sentrix\\_ID & Sentrix\\_Position & Sex\\\\\n",
       " <chr> & <chr> & <chr> & <chr> & <chr> & <chr>\\\\\n",
       "\\hline\n",
       "\t GSM5742874 & 202702240141\\_R05C01 & GSM5742874\\_202702240141\\_R05C01 & 202702240141 & R05C01 & F\\\\\n",
       "\t GSM5742875 & 202702240141\\_R06C01 & GSM5742875\\_202702240141\\_R06C01 & 202702240141 & R06C01 & F\\\\\n",
       "\t GSM5742876 & 202702240141\\_R08C01 & GSM5742876\\_202702240141\\_R08C01 & 202702240141 & R08C01 & M\\\\\n",
       "\t GSM5742877 & 204088150175\\_R01C01 & GSM5742877\\_204088150175\\_R01C01 & 204088150175 & R01C01 & M\\\\\n",
       "\t GSM5742878 & 204088150175\\_R02C01 & GSM5742878\\_204088150175\\_R02C01 & 204088150175 & R02C01 & F\\\\\n",
       "\t GSM5742879 & 204088150175\\_R03C01 & GSM5742879\\_204088150175\\_R03C01 & 204088150175 & R03C01 & M\\\\\n",
       "\t GSM5742880 & 204088150175\\_R04C01 & GSM5742880\\_204088150175\\_R04C01 & 204088150175 & R04C01 & M\\\\\n",
       "\\end{tabular}\n"
      ],
      "text/markdown": [
       "\n",
       "A data.frame: 7 × 6\n",
       "\n",
       "| GeoID &lt;chr&gt; | SampleID &lt;chr&gt; | Basename &lt;chr&gt; | Sentrix_ID &lt;chr&gt; | Sentrix_Position &lt;chr&gt; | Sex &lt;chr&gt; |\n",
       "|---|---|---|---|---|---|\n",
       "| GSM5742874 | 202702240141_R05C01 | GSM5742874_202702240141_R05C01 | 202702240141 | R05C01 | F |\n",
       "| GSM5742875 | 202702240141_R06C01 | GSM5742875_202702240141_R06C01 | 202702240141 | R06C01 | F |\n",
       "| GSM5742876 | 202702240141_R08C01 | GSM5742876_202702240141_R08C01 | 202702240141 | R08C01 | M |\n",
       "| GSM5742877 | 204088150175_R01C01 | GSM5742877_204088150175_R01C01 | 204088150175 | R01C01 | M |\n",
       "| GSM5742878 | 204088150175_R02C01 | GSM5742878_204088150175_R02C01 | 204088150175 | R02C01 | F |\n",
       "| GSM5742879 | 204088150175_R03C01 | GSM5742879_204088150175_R03C01 | 204088150175 | R03C01 | M |\n",
       "| GSM5742880 | 204088150175_R04C01 | GSM5742880_204088150175_R04C01 | 204088150175 | R04C01 | M |\n",
       "\n"
      ],
      "text/plain": [
       "  GeoID      SampleID            Basename                       Sentrix_ID  \n",
       "1 GSM5742874 202702240141_R05C01 GSM5742874_202702240141_R05C01 202702240141\n",
       "2 GSM5742875 202702240141_R06C01 GSM5742875_202702240141_R06C01 202702240141\n",
       "3 GSM5742876 202702240141_R08C01 GSM5742876_202702240141_R08C01 202702240141\n",
       "4 GSM5742877 204088150175_R01C01 GSM5742877_204088150175_R01C01 204088150175\n",
       "5 GSM5742878 204088150175_R02C01 GSM5742878_204088150175_R02C01 204088150175\n",
       "6 GSM5742879 204088150175_R03C01 GSM5742879_204088150175_R03C01 204088150175\n",
       "7 GSM5742880 204088150175_R04C01 GSM5742880_204088150175_R04C01 204088150175\n",
       "  Sentrix_Position Sex\n",
       "1 R05C01           F  \n",
       "2 R06C01           F  \n",
       "3 R08C01           M  \n",
       "4 R01C01           M  \n",
       "5 R02C01           F  \n",
       "6 R03C01           M  \n",
       "7 R04C01           M  "
      ]
     },
     "metadata": {},
     "output_type": "display_data"
    }
   ],
   "source": [
    "head(Sex.df)\n",
    "sheet <- merge(x=sheet, y=Sex.df, by.x = \"GeoID\", by.y = \"row.names\")\n",
    "\n",
    "colnames(sheet) <- c(\"GeoID\",\"SampleID\",\"Basename\",\"Sentrix_ID\",\"Sentrix_Position\",\"Sex\")\n",
    "\n",
    "sheet$Sex = ifelse((sheet$Sex == \"Male\" | sheet$Sex == \"M\"), \"M\",\"F\")\n",
    "sheet"
   ]
  },
  {
   "cell_type": "markdown",
   "id": "02edf559-2ae4-4af1-81ea-436d21e2ef4a",
   "metadata": {},
   "source": [
    "### 2.2 Salvar o phenotype file (sheet) com os dados criados para utlizarmos nas próximas etapas\n",
    "\n",
    "Observe que salvamos o arquivo no nosso working directory, para encontrá-lo novamente é lá que devemos procurar"
   ]
  },
  {
   "cell_type": "code",
   "execution_count": 23,
   "id": "3bdfb77d-d7d9-44f9-aaa4-8f6631ad2db8",
   "metadata": {},
   "outputs": [],
   "source": [
    "write.csv(sheet, file = \"phenotype_file.csv\", quote=F, row.names= F)"
   ]
  }
 ],
 "metadata": {
  "kernelspec": {
   "display_name": "R [conda env:EWAS_env] *",
   "language": "R",
   "name": "conda-env-EWAS_env-r"
  },
  "language_info": {
   "codemirror_mode": "r",
   "file_extension": ".r",
   "mimetype": "text/x-r-source",
   "name": "R",
   "pygments_lexer": "r",
   "version": "4.1.3"
  }
 },
 "nbformat": 4,
 "nbformat_minor": 5
}
