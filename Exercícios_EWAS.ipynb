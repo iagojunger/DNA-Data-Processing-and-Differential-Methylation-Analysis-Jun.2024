{
 "cells": [
  {
   "cell_type": "markdown",
   "id": "7fc0b9cc-6919-4599-9f3c-76690a3ee522",
   "metadata": {},
   "source": [
    "# Exercícios de criação de modelo em EWAS \n",
    "\n",
    "\n",
    "***\n",
    "### Exercício 7\n",
    "Crie um modelo de regressão com apenas o fenótipo de interesse como preditor e os valores de beta como desfecho.\n",
    "\n",
    "***\n",
    "### Exercício 8\n",
    "Inclua como covariáveis Sexo, idade e proporções celulares."
   ]
  },
  {
   "cell_type": "code",
   "execution_count": null,
   "id": "7a15f881-8414-41fe-b869-27cb98141d0f",
   "metadata": {},
   "outputs": [],
   "source": []
  }
 ],
 "metadata": {
  "kernelspec": {
   "display_name": "R [conda env:EWAS_env] *",
   "language": "R",
   "name": "conda-env-EWAS_env-r"
  },
  "language_info": {
   "codemirror_mode": "r",
   "file_extension": ".r",
   "mimetype": "text/x-r-source",
   "name": "R",
   "pygments_lexer": "r",
   "version": "4.1.3"
  }
 },
 "nbformat": 4,
 "nbformat_minor": 5
}
