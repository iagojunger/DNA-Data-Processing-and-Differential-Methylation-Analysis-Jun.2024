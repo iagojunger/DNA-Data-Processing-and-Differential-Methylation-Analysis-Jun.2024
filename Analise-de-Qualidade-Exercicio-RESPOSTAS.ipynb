{
 "cells": [
  {
   "cell_type": "code",
   "execution_count": 243,
   "id": "ad79213e-c333-43c4-a753-d1ef5b364b60",
   "metadata": {},
   "outputs": [],
   "source": [
    "rm(list=ls())"
   ]
  },
  {
   "cell_type": "markdown",
   "id": "3c2c0f76-6107-40a7-a3ac-eedc9c577702",
   "metadata": {
    "jp-MarkdownHeadingCollapsed": true
   },
   "source": [
    "***\n",
    "# ewastools"
   ]
  },
  {
   "cell_type": "code",
   "execution_count": 244,
   "id": "da7a857d-ab2b-41bc-b7ce-cc14da7ab24b",
   "metadata": {},
   "outputs": [],
   "source": [
    "library(stringi)\n",
    "library(magrittr)\n",
    "library(data.table)\n",
    "library(svd)\n",
    "library(purrr)\n",
    "library(devtools)"
   ]
  },
  {
   "cell_type": "code",
   "execution_count": 246,
   "id": "1341ca3d-08be-410d-81b6-681fbecca530",
   "metadata": {},
   "outputs": [],
   "source": [
    "setwd(\"~/Documents/Epigenetica_curso_pipeline/Exercicios/EX3/GSE191276/\")\n",
    "dataDirectory <- getwd()  "
   ]
  },
  {
   "cell_type": "code",
   "execution_count": 248,
   "id": "78e909b8-450a-471f-acac-03903b17a337",
   "metadata": {},
   "outputs": [
    {
     "data": {
      "text/html": [
       "<table class=\"dataframe\">\n",
       "<caption>A data.frame: 6 × 9</caption>\n",
       "<thead>\n",
       "\t<tr><th></th><th scope=col>GeoID</th><th scope=col>SampleID</th><th scope=col>Basename</th><th scope=col>Sentrix_ID</th><th scope=col>Sentrix_Position</th><th scope=col>Age</th><th scope=col>Sex</th><th scope=col>case.control</th><th scope=col>ancestry</th></tr>\n",
       "\t<tr><th></th><th scope=col>&lt;chr&gt;</th><th scope=col>&lt;chr&gt;</th><th scope=col>&lt;chr&gt;</th><th scope=col>&lt;dbl&gt;</th><th scope=col>&lt;chr&gt;</th><th scope=col>&lt;dbl&gt;</th><th scope=col>&lt;chr&gt;</th><th scope=col>&lt;chr&gt;</th><th scope=col>&lt;chr&gt;</th></tr>\n",
       "</thead>\n",
       "<tbody>\n",
       "\t<tr><th scope=row>1</th><td>GSM5742874</td><td>202702240141_R05C01</td><td>GSM5742874_202702240141_R05C01</td><td>202702240141</td><td>R05C01</td><td>  NA</td><td>undef</td><td>Pooled controls</td><td>NA                             </td></tr>\n",
       "\t<tr><th scope=row>2</th><td>GSM5742875</td><td>202702240141_R06C01</td><td>GSM5742875_202702240141_R06C01</td><td>202702240141</td><td>R06C01</td><td>17.8</td><td>F    </td><td>Case           </td><td>Asian                          </td></tr>\n",
       "\t<tr><th scope=row>3</th><td>GSM5742876</td><td>202702240141_R08C01</td><td>GSM5742876_202702240141_R08C01</td><td>202702240141</td><td>R08C01</td><td>27.0</td><td>M    </td><td>Case           </td><td>White                          </td></tr>\n",
       "\t<tr><th scope=row>4</th><td>GSM5742877</td><td>204088150175_R01C01</td><td>GSM5742877_204088150175_R01C01</td><td>204088150175</td><td>R01C01</td><td>20.9</td><td>M    </td><td>Case           </td><td>Asian                          </td></tr>\n",
       "\t<tr><th scope=row>5</th><td>GSM5742878</td><td>204088150175_R02C01</td><td>GSM5742878_204088150175_R02C01</td><td>204088150175</td><td>R02C01</td><td>18.5</td><td>F    </td><td>Control        </td><td>Unknown (Anonymous blood donor)</td></tr>\n",
       "\t<tr><th scope=row>6</th><td>GSM5742879</td><td>204088150175_R03C01</td><td>GSM5742879_204088150175_R03C01</td><td>204088150175</td><td>R03C01</td><td>21.0</td><td>M    </td><td>Control        </td><td>Unknown (Anonymous blood donor)</td></tr>\n",
       "</tbody>\n",
       "</table>\n"
      ],
      "text/latex": [
       "A data.frame: 6 × 9\n",
       "\\begin{tabular}{r|lllllllll}\n",
       "  & GeoID & SampleID & Basename & Sentrix\\_ID & Sentrix\\_Position & Age & Sex & case.control & ancestry\\\\\n",
       "  & <chr> & <chr> & <chr> & <dbl> & <chr> & <dbl> & <chr> & <chr> & <chr>\\\\\n",
       "\\hline\n",
       "\t1 & GSM5742874 & 202702240141\\_R05C01 & GSM5742874\\_202702240141\\_R05C01 & 202702240141 & R05C01 &   NA & undef & Pooled controls & NA                             \\\\\n",
       "\t2 & GSM5742875 & 202702240141\\_R06C01 & GSM5742875\\_202702240141\\_R06C01 & 202702240141 & R06C01 & 17.8 & F     & Case            & Asian                          \\\\\n",
       "\t3 & GSM5742876 & 202702240141\\_R08C01 & GSM5742876\\_202702240141\\_R08C01 & 202702240141 & R08C01 & 27.0 & M     & Case            & White                          \\\\\n",
       "\t4 & GSM5742877 & 204088150175\\_R01C01 & GSM5742877\\_204088150175\\_R01C01 & 204088150175 & R01C01 & 20.9 & M     & Case            & Asian                          \\\\\n",
       "\t5 & GSM5742878 & 204088150175\\_R02C01 & GSM5742878\\_204088150175\\_R02C01 & 204088150175 & R02C01 & 18.5 & F     & Control         & Unknown (Anonymous blood donor)\\\\\n",
       "\t6 & GSM5742879 & 204088150175\\_R03C01 & GSM5742879\\_204088150175\\_R03C01 & 204088150175 & R03C01 & 21.0 & M     & Control         & Unknown (Anonymous blood donor)\\\\\n",
       "\\end{tabular}\n"
      ],
      "text/markdown": [
       "\n",
       "A data.frame: 6 × 9\n",
       "\n",
       "| <!--/--> | GeoID &lt;chr&gt; | SampleID &lt;chr&gt; | Basename &lt;chr&gt; | Sentrix_ID &lt;dbl&gt; | Sentrix_Position &lt;chr&gt; | Age &lt;dbl&gt; | Sex &lt;chr&gt; | case.control &lt;chr&gt; | ancestry &lt;chr&gt; |\n",
       "|---|---|---|---|---|---|---|---|---|---|\n",
       "| 1 | GSM5742874 | 202702240141_R05C01 | GSM5742874_202702240141_R05C01 | 202702240141 | R05C01 |   NA | undef | Pooled controls | NA                              |\n",
       "| 2 | GSM5742875 | 202702240141_R06C01 | GSM5742875_202702240141_R06C01 | 202702240141 | R06C01 | 17.8 | F     | Case            | Asian                           |\n",
       "| 3 | GSM5742876 | 202702240141_R08C01 | GSM5742876_202702240141_R08C01 | 202702240141 | R08C01 | 27.0 | M     | Case            | White                           |\n",
       "| 4 | GSM5742877 | 204088150175_R01C01 | GSM5742877_204088150175_R01C01 | 204088150175 | R01C01 | 20.9 | M     | Case            | Asian                           |\n",
       "| 5 | GSM5742878 | 204088150175_R02C01 | GSM5742878_204088150175_R02C01 | 204088150175 | R02C01 | 18.5 | F     | Control         | Unknown (Anonymous blood donor) |\n",
       "| 6 | GSM5742879 | 204088150175_R03C01 | GSM5742879_204088150175_R03C01 | 204088150175 | R03C01 | 21.0 | M     | Control         | Unknown (Anonymous blood donor) |\n",
       "\n"
      ],
      "text/plain": [
       "  GeoID      SampleID            Basename                       Sentrix_ID  \n",
       "1 GSM5742874 202702240141_R05C01 GSM5742874_202702240141_R05C01 202702240141\n",
       "2 GSM5742875 202702240141_R06C01 GSM5742875_202702240141_R06C01 202702240141\n",
       "3 GSM5742876 202702240141_R08C01 GSM5742876_202702240141_R08C01 202702240141\n",
       "4 GSM5742877 204088150175_R01C01 GSM5742877_204088150175_R01C01 204088150175\n",
       "5 GSM5742878 204088150175_R02C01 GSM5742878_204088150175_R02C01 204088150175\n",
       "6 GSM5742879 204088150175_R03C01 GSM5742879_204088150175_R03C01 204088150175\n",
       "  Sentrix_Position Age  Sex   case.control    ancestry                       \n",
       "1 R05C01             NA undef Pooled controls NA                             \n",
       "2 R06C01           17.8 F     Case            Asian                          \n",
       "3 R08C01           27.0 M     Case            White                          \n",
       "4 R01C01           20.9 M     Case            Asian                          \n",
       "5 R02C01           18.5 F     Control         Unknown (Anonymous blood donor)\n",
       "6 R03C01           21.0 M     Control         Unknown (Anonymous blood donor)"
      ]
     },
     "metadata": {},
     "output_type": "display_data"
    }
   ],
   "source": [
    "sheet = read.csv(\"./phenotype_file_GSE191276.csv\", header= T)\n",
    "\n",
    "head(sheet)\n"
   ]
  },
  {
   "cell_type": "markdown",
   "id": "66073e20-1c30-4504-aed9-2e00e328f31f",
   "metadata": {},
   "source": [
    "***\n",
    "#### Leitura de idats\n",
    "\n"
   ]
  },
  {
   "cell_type": "code",
   "execution_count": 249,
   "id": "95cb13c7-04fc-4035-87f6-14f626c81793",
   "metadata": {
    "scrolled": true
   },
   "outputs": [
    {
     "data": {
      "text/html": [
       "<style>\n",
       ".list-inline {list-style: none; margin:0; padding: 0}\n",
       ".list-inline>li {display: inline-block}\n",
       ".list-inline>li:not(:last-child)::after {content: \"\\00b7\"; padding: 0 .5ex}\n",
       "</style>\n",
       "<ol class=list-inline><li>'/home/iago/Documents/Epigenetica_curso_pipeline/Exercicios/EX3/GSE191276/GSM5742874_202702240141_R05C01'</li><li>'/home/iago/Documents/Epigenetica_curso_pipeline/Exercicios/EX3/GSE191276/GSM5742875_202702240141_R06C01'</li><li>'/home/iago/Documents/Epigenetica_curso_pipeline/Exercicios/EX3/GSE191276/GSM5742876_202702240141_R08C01'</li><li>'/home/iago/Documents/Epigenetica_curso_pipeline/Exercicios/EX3/GSE191276/GSM5742877_204088150175_R01C01'</li><li>'/home/iago/Documents/Epigenetica_curso_pipeline/Exercicios/EX3/GSE191276/GSM5742878_204088150175_R02C01'</li><li>'/home/iago/Documents/Epigenetica_curso_pipeline/Exercicios/EX3/GSE191276/GSM5742879_204088150175_R03C01'</li></ol>\n"
      ],
      "text/latex": [
       "\\begin{enumerate*}\n",
       "\\item '/home/iago/Documents/Epigenetica\\_curso\\_pipeline/Exercicios/EX3/GSE191276/GSM5742874\\_202702240141\\_R05C01'\n",
       "\\item '/home/iago/Documents/Epigenetica\\_curso\\_pipeline/Exercicios/EX3/GSE191276/GSM5742875\\_202702240141\\_R06C01'\n",
       "\\item '/home/iago/Documents/Epigenetica\\_curso\\_pipeline/Exercicios/EX3/GSE191276/GSM5742876\\_202702240141\\_R08C01'\n",
       "\\item '/home/iago/Documents/Epigenetica\\_curso\\_pipeline/Exercicios/EX3/GSE191276/GSM5742877\\_204088150175\\_R01C01'\n",
       "\\item '/home/iago/Documents/Epigenetica\\_curso\\_pipeline/Exercicios/EX3/GSE191276/GSM5742878\\_204088150175\\_R02C01'\n",
       "\\item '/home/iago/Documents/Epigenetica\\_curso\\_pipeline/Exercicios/EX3/GSE191276/GSM5742879\\_204088150175\\_R03C01'\n",
       "\\end{enumerate*}\n"
      ],
      "text/markdown": [
       "1. '/home/iago/Documents/Epigenetica_curso_pipeline/Exercicios/EX3/GSE191276/GSM5742874_202702240141_R05C01'\n",
       "2. '/home/iago/Documents/Epigenetica_curso_pipeline/Exercicios/EX3/GSE191276/GSM5742875_202702240141_R06C01'\n",
       "3. '/home/iago/Documents/Epigenetica_curso_pipeline/Exercicios/EX3/GSE191276/GSM5742876_202702240141_R08C01'\n",
       "4. '/home/iago/Documents/Epigenetica_curso_pipeline/Exercicios/EX3/GSE191276/GSM5742877_204088150175_R01C01'\n",
       "5. '/home/iago/Documents/Epigenetica_curso_pipeline/Exercicios/EX3/GSE191276/GSM5742878_204088150175_R02C01'\n",
       "6. '/home/iago/Documents/Epigenetica_curso_pipeline/Exercicios/EX3/GSE191276/GSM5742879_204088150175_R03C01'\n",
       "\n",
       "\n"
      ],
      "text/plain": [
       "[1] \"/home/iago/Documents/Epigenetica_curso_pipeline/Exercicios/EX3/GSE191276/GSM5742874_202702240141_R05C01\"\n",
       "[2] \"/home/iago/Documents/Epigenetica_curso_pipeline/Exercicios/EX3/GSE191276/GSM5742875_202702240141_R06C01\"\n",
       "[3] \"/home/iago/Documents/Epigenetica_curso_pipeline/Exercicios/EX3/GSE191276/GSM5742876_202702240141_R08C01\"\n",
       "[4] \"/home/iago/Documents/Epigenetica_curso_pipeline/Exercicios/EX3/GSE191276/GSM5742877_204088150175_R01C01\"\n",
       "[5] \"/home/iago/Documents/Epigenetica_curso_pipeline/Exercicios/EX3/GSE191276/GSM5742878_204088150175_R02C01\"\n",
       "[6] \"/home/iago/Documents/Epigenetica_curso_pipeline/Exercicios/EX3/GSE191276/GSM5742879_204088150175_R03C01\""
      ]
     },
     "metadata": {},
     "output_type": "display_data"
    },
    {
     "name": "stderr",
     "output_type": "stream",
     "text": [
      "Warning message in readChar(con, nchars = n):\n",
      "“truncating string with embedded nuls”\n"
     ]
    },
    {
     "name": "stdout",
     "output_type": "stream",
     "text": [
      "[1] 1051815\n",
      "  |                                                                      |   0%"
     ]
    },
    {
     "name": "stderr",
     "output_type": "stream",
     "text": [
      "Warning message in readChar(con, nchars = n):\n",
      "“truncating string with embedded nuls”\n",
      "Warning message in readChar(con, nchars = n):\n",
      "“truncating string with embedded nuls”\n"
     ]
    },
    {
     "name": "stdout",
     "output_type": "stream",
     "text": [
      "  |==========                                                            |  14%"
     ]
    },
    {
     "name": "stderr",
     "output_type": "stream",
     "text": [
      "Warning message in readChar(con, nchars = n):\n",
      "“truncating string with embedded nuls”\n",
      "Warning message in readChar(con, nchars = n):\n",
      "“truncating string with embedded nuls”\n"
     ]
    },
    {
     "name": "stdout",
     "output_type": "stream",
     "text": [
      "  |====================                                                  |  29%"
     ]
    },
    {
     "name": "stderr",
     "output_type": "stream",
     "text": [
      "Warning message in readChar(con, nchars = n):\n",
      "“truncating string with embedded nuls”\n",
      "Warning message in readChar(con, nchars = n):\n",
      "“truncating string with embedded nuls”\n"
     ]
    },
    {
     "name": "stdout",
     "output_type": "stream",
     "text": [
      "  |==============================                                        |  43%"
     ]
    },
    {
     "name": "stderr",
     "output_type": "stream",
     "text": [
      "Warning message in readChar(con, nchars = n):\n",
      "“truncating string with embedded nuls”\n",
      "Warning message in readChar(con, nchars = n):\n",
      "“truncating string with embedded nuls”\n"
     ]
    },
    {
     "name": "stdout",
     "output_type": "stream",
     "text": [
      "  |========================================                              |  57%"
     ]
    },
    {
     "name": "stderr",
     "output_type": "stream",
     "text": [
      "Warning message in readChar(con, nchars = n):\n",
      "“truncating string with embedded nuls”\n",
      "Warning message in readChar(con, nchars = n):\n",
      "“truncating string with embedded nuls”\n"
     ]
    },
    {
     "name": "stdout",
     "output_type": "stream",
     "text": [
      "  |==================================================                    |  71%"
     ]
    },
    {
     "name": "stderr",
     "output_type": "stream",
     "text": [
      "Warning message in readChar(con, nchars = n):\n",
      "“truncating string with embedded nuls”\n",
      "Warning message in readChar(con, nchars = n):\n",
      "“truncating string with embedded nuls”\n"
     ]
    },
    {
     "name": "stdout",
     "output_type": "stream",
     "text": [
      "  |============================================================          |  86%"
     ]
    },
    {
     "name": "stderr",
     "output_type": "stream",
     "text": [
      "Warning message in readChar(con, nchars = n):\n",
      "“truncating string with embedded nuls”\n",
      "Warning message in readChar(con, nchars = n):\n",
      "“truncating string with embedded nuls”\n"
     ]
    },
    {
     "name": "stdout",
     "output_type": "stream",
     "text": [
      "  |======================================================================| 100%\n"
     ]
    }
   ],
   "source": [
    "head(paste(dataDirectory,sheet$Basename,sep=\"/\"))\n",
    "\n",
    "### Moditicar o BASENAME para ter o caminho em que os .idat estão salvos\n",
    "if(\"methdata.RData\" %in% list.files(\"./\")){\n",
    "    load(\"./methdata.RData\")\n",
    "    print(\"Meth file loaded.\")\n",
    "    }else{\n",
    "    meth = read_idats(paste(dataDirectory,sheet$Basename,sep = \"/\"))\n",
    "    save(meth, file=\"./methdata.RData\")\n",
    "    }\n"
   ]
  },
  {
   "cell_type": "code",
   "execution_count": 250,
   "id": "4638e81a-31a3-4c4f-bdbc-f471cfec2b35",
   "metadata": {},
   "outputs": [
    {
     "data": {
      "text/html": [
       "<table class=\"dataframe\">\n",
       "<caption>A data.table: 5 × 13</caption>\n",
       "<thead>\n",
       "\t<tr><th scope=col>probe_id</th><th scope=col>addressU</th><th scope=col>addressM</th><th scope=col>channel</th><th scope=col>next_base</th><th scope=col>chr</th><th scope=col>mapinfo</th><th scope=col>strand</th><th scope=col>probe_type</th><th scope=col>index</th><th scope=col>OOBi</th><th scope=col>Ui</th><th scope=col>Mi</th></tr>\n",
       "\t<tr><th scope=col>&lt;chr&gt;</th><th scope=col>&lt;int&gt;</th><th scope=col>&lt;int&gt;</th><th scope=col>&lt;chr&gt;</th><th scope=col>&lt;chr&gt;</th><th scope=col>&lt;chr&gt;</th><th scope=col>&lt;int&gt;</th><th scope=col>&lt;fct&gt;</th><th scope=col>&lt;chr&gt;</th><th scope=col>&lt;int&gt;</th><th scope=col>&lt;int&gt;</th><th scope=col>&lt;int&gt;</th><th scope=col>&lt;int&gt;</th></tr>\n",
       "</thead>\n",
       "<tbody>\n",
       "\t<tr><td>rs10796216</td><td>84632581</td><td>77745366</td><td>Red </td><td>A</td><td></td><td>NA</td><td></td><td>rs</td><td>1</td><td> 1</td><td>838118</td><td>750746</td></tr>\n",
       "\t<tr><td>rs2468330 </td><td>55653201</td><td>      NA</td><td>Both</td><td> </td><td></td><td>NA</td><td></td><td>rs</td><td>2</td><td>NA</td><td>536579</td><td>536579</td></tr>\n",
       "\t<tr><td>rs213028  </td><td>31661197</td><td> 3637210</td><td>Red </td><td>T</td><td></td><td>NA</td><td></td><td>rs</td><td>3</td><td> 2</td><td>317324</td><td> 29821</td></tr>\n",
       "\t<tr><td>rs951295  </td><td> 1777132</td><td>81605941</td><td>Grn </td><td>C</td><td></td><td>NA</td><td></td><td>rs</td><td>4</td><td> 1</td><td> 11371</td><td>796811</td></tr>\n",
       "\t<tr><td>rs877309  </td><td>79696145</td><td>      NA</td><td>Both</td><td> </td><td></td><td>NA</td><td></td><td>rs</td><td>5</td><td>NA</td><td>774881</td><td>774881</td></tr>\n",
       "</tbody>\n",
       "</table>\n"
      ],
      "text/latex": [
       "A data.table: 5 × 13\n",
       "\\begin{tabular}{lllllllllllll}\n",
       " probe\\_id & addressU & addressM & channel & next\\_base & chr & mapinfo & strand & probe\\_type & index & OOBi & Ui & Mi\\\\\n",
       " <chr> & <int> & <int> & <chr> & <chr> & <chr> & <int> & <fct> & <chr> & <int> & <int> & <int> & <int>\\\\\n",
       "\\hline\n",
       "\t rs10796216 & 84632581 & 77745366 & Red  & A &  & NA &  & rs & 1 &  1 & 838118 & 750746\\\\\n",
       "\t rs2468330  & 55653201 &       NA & Both &   &  & NA &  & rs & 2 & NA & 536579 & 536579\\\\\n",
       "\t rs213028   & 31661197 &  3637210 & Red  & T &  & NA &  & rs & 3 &  2 & 317324 &  29821\\\\\n",
       "\t rs951295   &  1777132 & 81605941 & Grn  & C &  & NA &  & rs & 4 &  1 &  11371 & 796811\\\\\n",
       "\t rs877309   & 79696145 &       NA & Both &   &  & NA &  & rs & 5 & NA & 774881 & 774881\\\\\n",
       "\\end{tabular}\n"
      ],
      "text/markdown": [
       "\n",
       "A data.table: 5 × 13\n",
       "\n",
       "| probe_id &lt;chr&gt; | addressU &lt;int&gt; | addressM &lt;int&gt; | channel &lt;chr&gt; | next_base &lt;chr&gt; | chr &lt;chr&gt; | mapinfo &lt;int&gt; | strand &lt;fct&gt; | probe_type &lt;chr&gt; | index &lt;int&gt; | OOBi &lt;int&gt; | Ui &lt;int&gt; | Mi &lt;int&gt; |\n",
       "|---|---|---|---|---|---|---|---|---|---|---|---|---|\n",
       "| rs10796216 | 84632581 | 77745366 | Red  | A | <!----> | NA | <!----> | rs | 1 |  1 | 838118 | 750746 |\n",
       "| rs2468330  | 55653201 |       NA | Both | <!----> | <!----> | NA | <!----> | rs | 2 | NA | 536579 | 536579 |\n",
       "| rs213028   | 31661197 |  3637210 | Red  | T | <!----> | NA | <!----> | rs | 3 |  2 | 317324 |  29821 |\n",
       "| rs951295   |  1777132 | 81605941 | Grn  | C | <!----> | NA | <!----> | rs | 4 |  1 |  11371 | 796811 |\n",
       "| rs877309   | 79696145 |       NA | Both | <!----> | <!----> | NA | <!----> | rs | 5 | NA | 774881 | 774881 |\n",
       "\n"
      ],
      "text/plain": [
       "  probe_id   addressU addressM channel next_base chr mapinfo strand probe_type\n",
       "1 rs10796216 84632581 77745366 Red     A             NA             rs        \n",
       "2 rs2468330  55653201       NA Both                  NA             rs        \n",
       "3 rs213028   31661197  3637210 Red     T             NA             rs        \n",
       "4 rs951295    1777132 81605941 Grn     C             NA             rs        \n",
       "5 rs877309   79696145       NA Both                  NA             rs        \n",
       "  index OOBi Ui     Mi    \n",
       "1 1      1   838118 750746\n",
       "2 2     NA   536579 536579\n",
       "3 3      2   317324  29821\n",
       "4 4      1    11371 796811\n",
       "5 5     NA   774881 774881"
      ]
     },
     "metadata": {},
     "output_type": "display_data"
    }
   ],
   "source": [
    "meth$manifest[1:5,]"
   ]
  },
  {
   "cell_type": "markdown",
   "id": "0f8f3759-1544-4849-91b8-bea73c2d1bce",
   "metadata": {},
   "source": [
    "***\n",
    "#### Aplicando as control metrics\n",
    " * função control metrics\n",
    " * predict_sex()"
   ]
  },
  {
   "cell_type": "code",
   "execution_count": 251,
   "id": "d84ac7b9-be80-4797-932a-bc6d4e35bb0d",
   "metadata": {},
   "outputs": [
    {
     "name": "stderr",
     "output_type": "stream",
     "text": [
      "Failed Samples: 0\n",
      "\n"
     ]
    }
   ],
   "source": [
    "sheet = as.data.table(sheet)\n",
    "sheet[,exclude:=FALSE]\n",
    "meth %>% control_metrics %>% sample_failure -> sheet$failed\n",
    "fails <- subset(sheet, failed == \"TRUE\")\n",
    "message(\"Failed Samples: \", nrow(fails))"
   ]
  },
  {
   "cell_type": "code",
   "execution_count": 252,
   "id": "f5930617-d640-40b5-831a-c1ed4af4819f",
   "metadata": {},
   "outputs": [
    {
     "data": {
      "image/png": "[encoded data removed]",
      "text/plain": [
       "plot without title"
      ]
     },
     "metadata": {
      "image/png": {
       "height": 420,
       "width": 420
      }
     },
     "output_type": "display_data"
    }
   ],
   "source": [
    "ctrls = control_metrics(meth)\n",
    "stripchart(ctrls$`Bisulfite Conversion II`,method=\"jitter\",pch=4,xlab='Bisulfite Conversion II',xlim=c(0,10))\n",
    "abline(v=1,col=2,lty=3)"
   ]
  },
  {
   "cell_type": "code",
   "execution_count": 253,
   "id": "aa42db7b-0e02-40f0-897b-a5a93dff59fe",
   "metadata": {},
   "outputs": [
    {
     "data": {
      "text/plain": [
       "\n",
       "FALSE \n",
       "    7 "
      ]
     },
     "metadata": {},
     "output_type": "display_data"
    }
   ],
   "source": [
    "sheet$failed = sample_failure(ctrls)\n",
    "table(sheet$failed)"
   ]
  },
  {
   "cell_type": "code",
   "execution_count": 254,
   "id": "9502c456-22cd-4996-96bd-3284014f134a",
   "metadata": {},
   "outputs": [],
   "source": [
    "meth %<>% ewastools::detectionP()\n",
    "P.new = meth$detP\n",
    "\n",
    "chrY = meth$manifest[chr=='Y',index]\n",
    "\n",
    "male = which(sheet$Sex==\"m\")[1]\n",
    "female = which(sheet$Sex==\"f\")[1]\n",
    "\n",
    "P.new = P.new[chrY,c(male,female)]\n",
    "\n",
    "P.new = colSums(P.new<0.01,na.rm=TRUE)\n",
    "\n",
    "names(P.new) = c(\"male\",\"female\")"
   ]
  },
  {
   "cell_type": "code",
   "execution_count": 255,
   "id": "4ea1b6ec-7c04-48ac-abc9-45c9b30f57ea",
   "metadata": {},
   "outputs": [
    {
     "data": {
      "text/html": [
       "<style>\n",
       ".dl-inline {width: auto; margin:0; padding: 0}\n",
       ".dl-inline>dt, .dl-inline>dd {float: none; width: auto; display: inline-block}\n",
       ".dl-inline>dt::after {content: \":\\0020\"; padding-right: .5ex}\n",
       ".dl-inline>dt:not(:first-of-type) {padding-left: .5ex}\n",
       "</style><dl class=dl-inline><dt>F</dt><dd>130.5</dd><dt>M</dt><dd>534</dd><dt>undef</dt><dd>517</dd></dl>\n"
      ],
      "text/latex": [
       "\\begin{description*}\n",
       "\\item[F] 130.5\n",
       "\\item[M] 534\n",
       "\\item[undef] 517\n",
       "\\end{description*}\n"
      ],
      "text/markdown": [
       "F\n",
       ":   130.5M\n",
       ":   534undef\n",
       ":   517\n",
       "\n"
      ],
      "text/plain": [
       "    F     M undef \n",
       "130.5 534.0 517.0 "
      ]
     },
     "metadata": {},
     "output_type": "display_data"
    },
    {
     "data": {
      "text/plain": [
       "       \n",
       "        m f\n",
       "  F     0 2\n",
       "  M     4 0\n",
       "  undef 0 1"
      ]
     },
     "metadata": {},
     "output_type": "display_data"
    },
    {
     "data": {
      "image/png": "[encoded data removed]",
      "text/plain": [
       "plot without title"
      ]
     },
     "metadata": {
      "image/png": {
       "height": 420,
       "width": 420
      }
     },
     "output_type": "display_data"
    }
   ],
   "source": [
    "# 1. Obter o detectionP dos dados de metilação originais\n",
    "detP = meth$detP[chrY,]\n",
    "\n",
    "# 2. Calcular a quantidade das colunas de detP de cada indivíduo que obtem valor menor que 0.01 para o cromossomo Y\n",
    "detP = colSums(detP<0.01,na.rm=TRUE)\n",
    "\n",
    "# 3. Realizar um boxplot mostrando a distribução de detP < 0.01 em homens e mulheres ( de acordo com sexo biológico autodeclarado)\n",
    "boxplot(split(detP,sheet$Sex),ylab=\"# of detected Y chromosome probes\")\n",
    "\n",
    "# 4. Calcuando a mediana das distribuições nas subamostras de homens e mulhres\n",
    "split(detP,sheet$Sex) %>% sapply(median)\n",
    "\n",
    "\n",
    "#------------------------------------------\n",
    "#Aplicando as funções check_sex e predict_sex\n",
    "sexpred = check_sex(meth) \n",
    "PredSex = predict_sex(sexpred$X, sexpred$Y)\n",
    "\n",
    "sheet$predSex_X = sexpred$X\n",
    "sheet$predSex_Y = sexpred$Y\n",
    "sheet$predSex = PredSex\n",
    "\n",
    "table(sheet$Sex,sheet$predSex)"
   ]
  },
  {
   "cell_type": "code",
   "execution_count": 256,
   "id": "c56075d2-a4fc-4419-a853-93747e5fd0c9",
   "metadata": {},
   "outputs": [
    {
     "data": {
      "text/html": [
       "<style>\n",
       ".list-inline {list-style: none; margin:0; padding: 0}\n",
       ".list-inline>li {display: inline-block}\n",
       ".list-inline>li:not(:last-child)::after {content: \"\\00b7\"; padding: 0 .5ex}\n",
       "</style>\n",
       "<ol class=list-inline><li>517</li><li>128</li><li>534</li><li>533</li><li>133</li><li>535</li><li>534</li></ol>\n"
      ],
      "text/latex": [
       "\\begin{enumerate*}\n",
       "\\item 517\n",
       "\\item 128\n",
       "\\item 534\n",
       "\\item 533\n",
       "\\item 133\n",
       "\\item 535\n",
       "\\item 534\n",
       "\\end{enumerate*}\n"
      ],
      "text/markdown": [
       "1. 517\n",
       "2. 128\n",
       "3. 534\n",
       "4. 533\n",
       "5. 133\n",
       "6. 535\n",
       "7. 534\n",
       "\n",
       "\n"
      ],
      "text/plain": [
       "[1] 517 128 534 533 133 535 534"
      ]
     },
     "metadata": {},
     "output_type": "display_data"
    }
   ],
   "source": [
    "detP"
   ]
  },
  {
   "cell_type": "code",
   "execution_count": 257,
   "id": "3d7c711e-53ae-4d8b-987e-fa7b3f4ce09e",
   "metadata": {},
   "outputs": [
    {
     "data": {
      "text/html": [
       "<style>\n",
       ".list-inline {list-style: none; margin:0; padding: 0}\n",
       ".list-inline>li {display: inline-block}\n",
       ".list-inline>li:not(:last-child)::after {content: \"\\00b7\"; padding: 0 .5ex}\n",
       "</style>\n",
       "<ol class=list-inline><li>6</li><li>14</li></ol>\n"
      ],
      "text/latex": [
       "\\begin{enumerate*}\n",
       "\\item 6\n",
       "\\item 14\n",
       "\\end{enumerate*}\n"
      ],
      "text/markdown": [
       "1. 6\n",
       "2. 14\n",
       "\n",
       "\n"
      ],
      "text/plain": [
       "[1]  6 14"
      ]
     },
     "metadata": {},
     "output_type": "display_data"
    },
    {
     "data": {
      "text/html": [
       "<table class=\"dataframe\">\n",
       "<caption>A data.table: 0 × 15</caption>\n",
       "<thead>\n",
       "\t<tr><th scope=col>GeoID</th><th scope=col>SampleID</th><th scope=col>Basename</th><th scope=col>Sentrix_ID</th><th scope=col>Sentrix_Position</th><th scope=col>Age</th><th scope=col>Sex</th><th scope=col>case.control</th><th scope=col>ancestry</th><th scope=col>exclude</th><th scope=col>failed</th><th scope=col>predSex_X</th><th scope=col>predSex_Y</th><th scope=col>predSex</th><th scope=col>ewastoolsMismatch</th></tr>\n",
       "\t<tr><th scope=col>&lt;chr&gt;</th><th scope=col>&lt;chr&gt;</th><th scope=col>&lt;chr&gt;</th><th scope=col>&lt;dbl&gt;</th><th scope=col>&lt;chr&gt;</th><th scope=col>&lt;dbl&gt;</th><th scope=col>&lt;chr&gt;</th><th scope=col>&lt;chr&gt;</th><th scope=col>&lt;chr&gt;</th><th scope=col>&lt;lgl&gt;</th><th scope=col>&lt;lgl&gt;</th><th scope=col>&lt;dbl&gt;</th><th scope=col>&lt;dbl&gt;</th><th scope=col>&lt;fct&gt;</th><th scope=col>&lt;lgl&gt;</th></tr>\n",
       "</thead>\n",
       "<tbody>\n",
       "</tbody>\n",
       "</table>\n"
      ],
      "text/latex": [
       "A data.table: 0 × 15\n",
       "\\begin{tabular}{lllllllllllllll}\n",
       " GeoID & SampleID & Basename & Sentrix\\_ID & Sentrix\\_Position & Age & Sex & case.control & ancestry & exclude & failed & predSex\\_X & predSex\\_Y & predSex & ewastoolsMismatch\\\\\n",
       " <chr> & <chr> & <chr> & <dbl> & <chr> & <dbl> & <chr> & <chr> & <chr> & <lgl> & <lgl> & <dbl> & <dbl> & <fct> & <lgl>\\\\\n",
       "\\hline\n",
       "\\end{tabular}\n"
      ],
      "text/markdown": [
       "\n",
       "A data.table: 0 × 15\n",
       "\n",
       "| GeoID &lt;chr&gt; | SampleID &lt;chr&gt; | Basename &lt;chr&gt; | Sentrix_ID &lt;dbl&gt; | Sentrix_Position &lt;chr&gt; | Age &lt;dbl&gt; | Sex &lt;chr&gt; | case.control &lt;chr&gt; | ancestry &lt;chr&gt; | exclude &lt;lgl&gt; | failed &lt;lgl&gt; | predSex_X &lt;dbl&gt; | predSex_Y &lt;dbl&gt; | predSex &lt;fct&gt; | ewastoolsMismatch &lt;lgl&gt; |\n",
       "|---|---|---|---|---|---|---|---|---|---|---|---|---|---|---|\n",
       "\n"
      ],
      "text/plain": [
       "     GeoID SampleID Basename Sentrix_ID Sentrix_Position Age Sex case.control\n",
       "     ancestry exclude failed predSex_X predSex_Y predSex ewastoolsMismatch"
      ]
     },
     "metadata": {},
     "output_type": "display_data"
    }
   ],
   "source": [
    "# Resolver as inconsistências de sexo na amostra \n",
    "# 1. Remover a classe undef da amostra\n",
    "sheet <- sheet[which(sheet$Sex %in% c(\"M\",\"F\"))]\n",
    "dim(sheet)\n",
    "\n",
    "sheet$ewastoolsMismatch <- ifelse(sheet$Sex != toupper(sheet$predSex), TRUE, FALSE)\n",
    "\n",
    "sheet[which(sheet$ewastoolsMismatch == TRUE),]\n"
   ]
  },
  {
   "cell_type": "markdown",
   "id": "ffec322c-f969-46b1-825a-39f897aea0b9",
   "metadata": {},
   "source": [
    "***\n",
    "#### Omitir probes que estiverem com mediana de detP < 0.01 "
   ]
  },
  {
   "cell_type": "code",
   "execution_count": 258,
   "id": "a49f8c8f-442c-43df-9250-27bdfcb5a786",
   "metadata": {},
   "outputs": [],
   "source": [
    "beta = meth %>% ewastools::mask(0.01)"
   ]
  },
  {
   "cell_type": "code",
   "execution_count": 259,
   "id": "bab08d9e-5681-48fa-9c48-901a3572707b",
   "metadata": {},
   "outputs": [],
   "source": [
    "beta %<>% correct_dye_bias"
   ]
  },
  {
   "cell_type": "code",
   "execution_count": 260,
   "id": "bbf81bd1-d809-400b-93a5-cb9ce9a182b4",
   "metadata": {},
   "outputs": [],
   "source": [
    "beta %<>% ewastools::dont_normalize()\n",
    "\n",
    "save(beta,file=\"./raw_beta_ewastools.RData\")\n"
   ]
  },
  {
   "cell_type": "code",
   "execution_count": 262,
   "id": "29d526eb-b4d2-4197-bd7a-a620792e45a0",
   "metadata": {},
   "outputs": [],
   "source": [
    "write.csv(sheet, \"phenotype_file_GSE191276_ewastools.csv\", row.names=F)"
   ]
  },
  {
   "cell_type": "code",
   "execution_count": 263,
   "id": "2f480ea3-eaa4-43ee-850d-4a1ea89addab",
   "metadata": {
    "scrolled": true
   },
   "outputs": [],
   "source": [
    "library(minfi)"
   ]
  },
  {
   "cell_type": "code",
   "execution_count": 264,
   "id": "12f37a14-013d-4fff-9fe8-9d473270337d",
   "metadata": {},
   "outputs": [
    {
     "data": {
      "image/png": "[encoded data removed]",
      "text/plain": [
       "Plot with title “”"
      ]
     },
     "metadata": {
      "image/png": {
       "height": 420,
       "width": 420
      }
     },
     "output_type": "display_data"
    }
   ],
   "source": [
    "densityPlot(beta, sampGroups = sheet$Sentrix_ID)"
   ]
  },
  {
   "cell_type": "code",
   "execution_count": 265,
   "id": "d9e44fee-07c4-4d86-90e9-ec4cf316ef5f",
   "metadata": {},
   "outputs": [],
   "source": [
    "rm(list=ls())"
   ]
  },
  {
   "cell_type": "markdown",
   "id": "675eee0d-c0ee-459e-8d0b-458df89534d4",
   "metadata": {
    "jp-MarkdownHeadingCollapsed": true
   },
   "source": [
    "***\n",
    "# Minfi"
   ]
  },
  {
   "cell_type": "code",
   "execution_count": 266,
   "id": "6fe45384-4841-419b-92fd-93376a890196",
   "metadata": {},
   "outputs": [],
   "source": [
    "rm(list=ls())"
   ]
  },
  {
   "cell_type": "code",
   "execution_count": 267,
   "id": "6184321c-762b-422d-b85d-82f90bf64422",
   "metadata": {},
   "outputs": [],
   "source": [
    "library(minfi)\n",
    "\n",
    "library(stringi)\n",
    "library(magrittr)\n",
    "library(data.table)\n",
    "library(svd)\n",
    "library(purrr)"
   ]
  },
  {
   "cell_type": "code",
   "execution_count": 291,
   "id": "44a7b705-8841-48f4-9066-8f66b2dd48ed",
   "metadata": {},
   "outputs": [],
   "source": [
    "setwd(\"/home/iago/Documents/Epigenetica_curso_pipeline/Exercicios/EX3/GSE191276/\")\n",
    "\n",
    "dataDirectory <- getwd() "
   ]
  },
  {
   "cell_type": "code",
   "execution_count": 292,
   "id": "bdadc3a8-07e6-47eb-b7c9-eb2446fb8edb",
   "metadata": {},
   "outputs": [
    {
     "data": {
      "text/html": [
       "<table class=\"dataframe\">\n",
       "<caption>A data.frame: 6 × 9</caption>\n",
       "<thead>\n",
       "\t<tr><th></th><th scope=col>GeoID</th><th scope=col>SampleID</th><th scope=col>Basename</th><th scope=col>Sentrix_ID</th><th scope=col>Sentrix_Position</th><th scope=col>Age</th><th scope=col>Sex</th><th scope=col>case.control</th><th scope=col>ancestry</th></tr>\n",
       "\t<tr><th></th><th scope=col>&lt;chr&gt;</th><th scope=col>&lt;chr&gt;</th><th scope=col>&lt;chr&gt;</th><th scope=col>&lt;dbl&gt;</th><th scope=col>&lt;chr&gt;</th><th scope=col>&lt;dbl&gt;</th><th scope=col>&lt;chr&gt;</th><th scope=col>&lt;chr&gt;</th><th scope=col>&lt;chr&gt;</th></tr>\n",
       "</thead>\n",
       "<tbody>\n",
       "\t<tr><th scope=row>1</th><td>GSM5742874</td><td>202702240141_R05C01</td><td>GSM5742874_202702240141_R05C01</td><td>202702240141</td><td>R05C01</td><td>  NA</td><td>undef</td><td>Pooled controls</td><td>NA                             </td></tr>\n",
       "\t<tr><th scope=row>2</th><td>GSM5742875</td><td>202702240141_R06C01</td><td>GSM5742875_202702240141_R06C01</td><td>202702240141</td><td>R06C01</td><td>17.8</td><td>F    </td><td>Case           </td><td>Asian                          </td></tr>\n",
       "\t<tr><th scope=row>3</th><td>GSM5742876</td><td>202702240141_R08C01</td><td>GSM5742876_202702240141_R08C01</td><td>202702240141</td><td>R08C01</td><td>27.0</td><td>M    </td><td>Case           </td><td>White                          </td></tr>\n",
       "\t<tr><th scope=row>4</th><td>GSM5742877</td><td>204088150175_R01C01</td><td>GSM5742877_204088150175_R01C01</td><td>204088150175</td><td>R01C01</td><td>20.9</td><td>M    </td><td>Case           </td><td>Asian                          </td></tr>\n",
       "\t<tr><th scope=row>5</th><td>GSM5742878</td><td>204088150175_R02C01</td><td>GSM5742878_204088150175_R02C01</td><td>204088150175</td><td>R02C01</td><td>18.5</td><td>F    </td><td>Control        </td><td>Unknown (Anonymous blood donor)</td></tr>\n",
       "\t<tr><th scope=row>6</th><td>GSM5742879</td><td>204088150175_R03C01</td><td>GSM5742879_204088150175_R03C01</td><td>204088150175</td><td>R03C01</td><td>21.0</td><td>M    </td><td>Control        </td><td>Unknown (Anonymous blood donor)</td></tr>\n",
       "</tbody>\n",
       "</table>\n"
      ],
      "text/latex": [
       "A data.frame: 6 × 9\n",
       "\\begin{tabular}{r|lllllllll}\n",
       "  & GeoID & SampleID & Basename & Sentrix\\_ID & Sentrix\\_Position & Age & Sex & case.control & ancestry\\\\\n",
       "  & <chr> & <chr> & <chr> & <dbl> & <chr> & <dbl> & <chr> & <chr> & <chr>\\\\\n",
       "\\hline\n",
       "\t1 & GSM5742874 & 202702240141\\_R05C01 & GSM5742874\\_202702240141\\_R05C01 & 202702240141 & R05C01 &   NA & undef & Pooled controls & NA                             \\\\\n",
       "\t2 & GSM5742875 & 202702240141\\_R06C01 & GSM5742875\\_202702240141\\_R06C01 & 202702240141 & R06C01 & 17.8 & F     & Case            & Asian                          \\\\\n",
       "\t3 & GSM5742876 & 202702240141\\_R08C01 & GSM5742876\\_202702240141\\_R08C01 & 202702240141 & R08C01 & 27.0 & M     & Case            & White                          \\\\\n",
       "\t4 & GSM5742877 & 204088150175\\_R01C01 & GSM5742877\\_204088150175\\_R01C01 & 204088150175 & R01C01 & 20.9 & M     & Case            & Asian                          \\\\\n",
       "\t5 & GSM5742878 & 204088150175\\_R02C01 & GSM5742878\\_204088150175\\_R02C01 & 204088150175 & R02C01 & 18.5 & F     & Control         & Unknown (Anonymous blood donor)\\\\\n",
       "\t6 & GSM5742879 & 204088150175\\_R03C01 & GSM5742879\\_204088150175\\_R03C01 & 204088150175 & R03C01 & 21.0 & M     & Control         & Unknown (Anonymous blood donor)\\\\\n",
       "\\end{tabular}\n"
      ],
      "text/markdown": [
       "\n",
       "A data.frame: 6 × 9\n",
       "\n",
       "| <!--/--> | GeoID &lt;chr&gt; | SampleID &lt;chr&gt; | Basename &lt;chr&gt; | Sentrix_ID &lt;dbl&gt; | Sentrix_Position &lt;chr&gt; | Age &lt;dbl&gt; | Sex &lt;chr&gt; | case.control &lt;chr&gt; | ancestry &lt;chr&gt; |\n",
       "|---|---|---|---|---|---|---|---|---|---|\n",
       "| 1 | GSM5742874 | 202702240141_R05C01 | GSM5742874_202702240141_R05C01 | 202702240141 | R05C01 |   NA | undef | Pooled controls | NA                              |\n",
       "| 2 | GSM5742875 | 202702240141_R06C01 | GSM5742875_202702240141_R06C01 | 202702240141 | R06C01 | 17.8 | F     | Case            | Asian                           |\n",
       "| 3 | GSM5742876 | 202702240141_R08C01 | GSM5742876_202702240141_R08C01 | 202702240141 | R08C01 | 27.0 | M     | Case            | White                           |\n",
       "| 4 | GSM5742877 | 204088150175_R01C01 | GSM5742877_204088150175_R01C01 | 204088150175 | R01C01 | 20.9 | M     | Case            | Asian                           |\n",
       "| 5 | GSM5742878 | 204088150175_R02C01 | GSM5742878_204088150175_R02C01 | 204088150175 | R02C01 | 18.5 | F     | Control         | Unknown (Anonymous blood donor) |\n",
       "| 6 | GSM5742879 | 204088150175_R03C01 | GSM5742879_204088150175_R03C01 | 204088150175 | R03C01 | 21.0 | M     | Control         | Unknown (Anonymous blood donor) |\n",
       "\n"
      ],
      "text/plain": [
       "  GeoID      SampleID            Basename                       Sentrix_ID  \n",
       "1 GSM5742874 202702240141_R05C01 GSM5742874_202702240141_R05C01 202702240141\n",
       "2 GSM5742875 202702240141_R06C01 GSM5742875_202702240141_R06C01 202702240141\n",
       "3 GSM5742876 202702240141_R08C01 GSM5742876_202702240141_R08C01 202702240141\n",
       "4 GSM5742877 204088150175_R01C01 GSM5742877_204088150175_R01C01 204088150175\n",
       "5 GSM5742878 204088150175_R02C01 GSM5742878_204088150175_R02C01 204088150175\n",
       "6 GSM5742879 204088150175_R03C01 GSM5742879_204088150175_R03C01 204088150175\n",
       "  Sentrix_Position Age  Sex   case.control    ancestry                       \n",
       "1 R05C01             NA undef Pooled controls NA                             \n",
       "2 R06C01           17.8 F     Case            Asian                          \n",
       "3 R08C01           27.0 M     Case            White                          \n",
       "4 R01C01           20.9 M     Case            Asian                          \n",
       "5 R02C01           18.5 F     Control         Unknown (Anonymous blood donor)\n",
       "6 R03C01           21.0 M     Control         Unknown (Anonymous blood donor)"
      ]
     },
     "metadata": {},
     "output_type": "display_data"
    }
   ],
   "source": [
    "sheet=read.csv(file.path(dataDirectory,\"phenotype_file_GSE191276.csv\"))\n",
    "head(sheet)"
   ]
  },
  {
   "cell_type": "code",
   "execution_count": 293,
   "id": "56cba269-c46b-4915-b1d0-3a381d825951",
   "metadata": {
    "scrolled": true
   },
   "outputs": [],
   "source": [
    "if (file.exists(\"./minfiRGset.RData\")){\n",
    "    load(\"./minfiRGset.RData\")\n",
    "} else{\n",
    "    setwd(dataDirectory)\n",
    "    RGSet <- minfi::read.metharray.exp(targets = sheet, verbose = FALSE, force = TRUE)\n",
    "    save(RGSet, file = \"./minfiRGset.RData\")\n",
    "}"
   ]
  },
  {
   "cell_type": "code",
   "execution_count": 294,
   "id": "60d8cbdf-8312-4a39-983b-9db8e833f18b",
   "metadata": {},
   "outputs": [
    {
     "data": {
      "text/plain": [
       "class: MethylSet \n",
       "dim: 866091 7 \n",
       "metadata(0):\n",
       "assays(2): Meth Unmeth\n",
       "rownames(866091): cg18478105 cg09835024 ... cg10633746 cg12623625\n",
       "rowData names(0):\n",
       "colnames(7): GSM5742874_202702240141_R05C01\n",
       "  GSM5742875_202702240141_R06C01 ... GSM5742879_204088150175_R03C01\n",
       "  GSM5742880_204088150175_R04C01\n",
       "colData names(7): GeoID SampleID ... Sex filenames\n",
       "Annotation\n",
       "  array: IlluminaHumanMethylationEPIC\n",
       "  annotation: ilm10b4.hg19\n",
       "Preprocessing\n",
       "  Method: Raw (no normalization or bg correction)\n",
       "  minfi version: 1.38.0\n",
       "  Manifest version: 0.3.0"
      ]
     },
     "metadata": {},
     "output_type": "display_data"
    }
   ],
   "source": [
    "MSet <- preprocessRaw(RGSet) \n",
    "MSet\n",
    "\n",
    "ratioSet <- ratioConvert(MSet, what = \"both\", keepCN = TRUE)\n",
    "GMRset <- mapToGenome(ratioSet)"
   ]
  },
  {
   "cell_type": "markdown",
   "id": "9f9e0d2f-28e5-4636-b78a-229e66d714db",
   "metadata": {},
   "source": [
    "### Busca por sex mismacthes"
   ]
  },
  {
   "cell_type": "code",
   "execution_count": 295,
   "id": "cd0a1a1e-a52d-4ee5-87bb-5b37f345ae80",
   "metadata": {},
   "outputs": [
    {
     "data": {
      "text/plain": [
       "DataFrame with 7 rows and 3 columns\n",
       "                                    xMed      yMed predictedSex\n",
       "                               <numeric> <numeric>  <character>\n",
       "GSM5742874_202702240141_R05C01   13.5306  12.75259            M\n",
       "GSM5742875_202702240141_R06C01   13.8054   9.47168            F\n",
       "GSM5742876_202702240141_R08C01   12.7141  13.06508            M\n",
       "GSM5742877_204088150175_R01C01   12.3476  12.76466            M\n",
       "GSM5742878_204088150175_R02C01   13.3737   8.38370            F\n",
       "GSM5742879_204088150175_R03C01   12.9157  13.21037            M\n",
       "GSM5742880_204088150175_R04C01   12.9558  13.22807            M"
      ]
     },
     "metadata": {},
     "output_type": "display_data"
    },
    {
     "name": "stdout",
     "output_type": "stream",
     "text": [
      "[1] \"Há discordância de sexos na amostra: 1 indivíduos\"\n",
      "       GeoID            SampleID                       Basename   Sentrix_ID\n",
      "1 GSM5742874 202702240141_R05C01 GSM5742874_202702240141_R05C01 202702240141\n",
      "  Sentrix_Position Age   Sex    case.control ancestry predictedSex\n",
      "1           R05C01  NA UNDEF Pooled controls     <NA>            M\n"
     ]
    }
   ],
   "source": [
    "predSex <-  getSex(GMRset)\n",
    "predSex\n",
    "sheet$predictedSex <- predSex$predictedSex\n",
    "\n",
    "sheet$Sex <-  toupper(sheet$Sex)\n",
    "\n",
    "\n",
    "\n",
    "if(!all(sheet$Sex == sheet$predictedSex)){\n",
    "    mismatch <- sheet[which(sheet$Sex != sheet$predictedSex),]\n",
    "   print(paste(\"Há discordância de sexos na amostra:\", nrow(mismatch), \"indivíduos\"))\n",
    "   print(mismatch)\n",
    "} else{\n",
    "    print(\"Não há discordância de sexos na amostra\")\n",
    "}"
   ]
  },
  {
   "cell_type": "markdown",
   "id": "9413195a-4dea-49b8-88c3-abb0eb5fac0c",
   "metadata": {},
   "source": [
    "##### Sex mismatch encontrado, vamos reportar o mismathc na amostra"
   ]
  },
  {
   "cell_type": "code",
   "execution_count": 296,
   "id": "b321feea-b948-4121-a063-cf1d711b599b",
   "metadata": {},
   "outputs": [
    {
     "data": {
      "text/html": [
       "<table class=\"dataframe\">\n",
       "<caption>A data.frame: 7 × 11</caption>\n",
       "<thead>\n",
       "\t<tr><th scope=col>GeoID</th><th scope=col>SampleID</th><th scope=col>Basename</th><th scope=col>Sentrix_ID</th><th scope=col>Sentrix_Position</th><th scope=col>Age</th><th scope=col>Sex</th><th scope=col>case.control</th><th scope=col>ancestry</th><th scope=col>predictedSex</th><th scope=col>minfiMismatch</th></tr>\n",
       "\t<tr><th scope=col>&lt;chr&gt;</th><th scope=col>&lt;chr&gt;</th><th scope=col>&lt;chr&gt;</th><th scope=col>&lt;dbl&gt;</th><th scope=col>&lt;chr&gt;</th><th scope=col>&lt;dbl&gt;</th><th scope=col>&lt;chr&gt;</th><th scope=col>&lt;chr&gt;</th><th scope=col>&lt;chr&gt;</th><th scope=col>&lt;chr&gt;</th><th scope=col>&lt;lgl&gt;</th></tr>\n",
       "</thead>\n",
       "<tbody>\n",
       "\t<tr><td>GSM5742874</td><td>202702240141_R05C01</td><td>GSM5742874_202702240141_R05C01</td><td>202702240141</td><td>R05C01</td><td>  NA</td><td>UNDEF</td><td>Pooled controls</td><td>NA                             </td><td>M</td><td> TRUE</td></tr>\n",
       "\t<tr><td>GSM5742875</td><td>202702240141_R06C01</td><td>GSM5742875_202702240141_R06C01</td><td>202702240141</td><td>R06C01</td><td>17.8</td><td>F    </td><td>Case           </td><td>Asian                          </td><td>F</td><td>FALSE</td></tr>\n",
       "\t<tr><td>GSM5742876</td><td>202702240141_R08C01</td><td>GSM5742876_202702240141_R08C01</td><td>202702240141</td><td>R08C01</td><td>27.0</td><td>M    </td><td>Case           </td><td>White                          </td><td>M</td><td>FALSE</td></tr>\n",
       "\t<tr><td>GSM5742877</td><td>204088150175_R01C01</td><td>GSM5742877_204088150175_R01C01</td><td>204088150175</td><td>R01C01</td><td>20.9</td><td>M    </td><td>Case           </td><td>Asian                          </td><td>M</td><td>FALSE</td></tr>\n",
       "\t<tr><td>GSM5742878</td><td>204088150175_R02C01</td><td>GSM5742878_204088150175_R02C01</td><td>204088150175</td><td>R02C01</td><td>18.5</td><td>F    </td><td>Control        </td><td>Unknown (Anonymous blood donor)</td><td>F</td><td>FALSE</td></tr>\n",
       "\t<tr><td>GSM5742879</td><td>204088150175_R03C01</td><td>GSM5742879_204088150175_R03C01</td><td>204088150175</td><td>R03C01</td><td>21.0</td><td>M    </td><td>Control        </td><td>Unknown (Anonymous blood donor)</td><td>M</td><td>FALSE</td></tr>\n",
       "\t<tr><td>GSM5742880</td><td>204088150175_R04C01</td><td>GSM5742880_204088150175_R04C01</td><td>204088150175</td><td>R04C01</td><td>25.0</td><td>M    </td><td>Control        </td><td>Unknown (Anonymous blood donor)</td><td>M</td><td>FALSE</td></tr>\n",
       "</tbody>\n",
       "</table>\n"
      ],
      "text/latex": [
       "A data.frame: 7 × 11\n",
       "\\begin{tabular}{lllllllllll}\n",
       " GeoID & SampleID & Basename & Sentrix\\_ID & Sentrix\\_Position & Age & Sex & case.control & ancestry & predictedSex & minfiMismatch\\\\\n",
       " <chr> & <chr> & <chr> & <dbl> & <chr> & <dbl> & <chr> & <chr> & <chr> & <chr> & <lgl>\\\\\n",
       "\\hline\n",
       "\t GSM5742874 & 202702240141\\_R05C01 & GSM5742874\\_202702240141\\_R05C01 & 202702240141 & R05C01 &   NA & UNDEF & Pooled controls & NA                              & M &  TRUE\\\\\n",
       "\t GSM5742875 & 202702240141\\_R06C01 & GSM5742875\\_202702240141\\_R06C01 & 202702240141 & R06C01 & 17.8 & F     & Case            & Asian                           & F & FALSE\\\\\n",
       "\t GSM5742876 & 202702240141\\_R08C01 & GSM5742876\\_202702240141\\_R08C01 & 202702240141 & R08C01 & 27.0 & M     & Case            & White                           & M & FALSE\\\\\n",
       "\t GSM5742877 & 204088150175\\_R01C01 & GSM5742877\\_204088150175\\_R01C01 & 204088150175 & R01C01 & 20.9 & M     & Case            & Asian                           & M & FALSE\\\\\n",
       "\t GSM5742878 & 204088150175\\_R02C01 & GSM5742878\\_204088150175\\_R02C01 & 204088150175 & R02C01 & 18.5 & F     & Control         & Unknown (Anonymous blood donor) & F & FALSE\\\\\n",
       "\t GSM5742879 & 204088150175\\_R03C01 & GSM5742879\\_204088150175\\_R03C01 & 204088150175 & R03C01 & 21.0 & M     & Control         & Unknown (Anonymous blood donor) & M & FALSE\\\\\n",
       "\t GSM5742880 & 204088150175\\_R04C01 & GSM5742880\\_204088150175\\_R04C01 & 204088150175 & R04C01 & 25.0 & M     & Control         & Unknown (Anonymous blood donor) & M & FALSE\\\\\n",
       "\\end{tabular}\n"
      ],
      "text/markdown": [
       "\n",
       "A data.frame: 7 × 11\n",
       "\n",
       "| GeoID &lt;chr&gt; | SampleID &lt;chr&gt; | Basename &lt;chr&gt; | Sentrix_ID &lt;dbl&gt; | Sentrix_Position &lt;chr&gt; | Age &lt;dbl&gt; | Sex &lt;chr&gt; | case.control &lt;chr&gt; | ancestry &lt;chr&gt; | predictedSex &lt;chr&gt; | minfiMismatch &lt;lgl&gt; |\n",
       "|---|---|---|---|---|---|---|---|---|---|---|\n",
       "| GSM5742874 | 202702240141_R05C01 | GSM5742874_202702240141_R05C01 | 202702240141 | R05C01 |   NA | UNDEF | Pooled controls | NA                              | M |  TRUE |\n",
       "| GSM5742875 | 202702240141_R06C01 | GSM5742875_202702240141_R06C01 | 202702240141 | R06C01 | 17.8 | F     | Case            | Asian                           | F | FALSE |\n",
       "| GSM5742876 | 202702240141_R08C01 | GSM5742876_202702240141_R08C01 | 202702240141 | R08C01 | 27.0 | M     | Case            | White                           | M | FALSE |\n",
       "| GSM5742877 | 204088150175_R01C01 | GSM5742877_204088150175_R01C01 | 204088150175 | R01C01 | 20.9 | M     | Case            | Asian                           | M | FALSE |\n",
       "| GSM5742878 | 204088150175_R02C01 | GSM5742878_204088150175_R02C01 | 204088150175 | R02C01 | 18.5 | F     | Control         | Unknown (Anonymous blood donor) | F | FALSE |\n",
       "| GSM5742879 | 204088150175_R03C01 | GSM5742879_204088150175_R03C01 | 204088150175 | R03C01 | 21.0 | M     | Control         | Unknown (Anonymous blood donor) | M | FALSE |\n",
       "| GSM5742880 | 204088150175_R04C01 | GSM5742880_204088150175_R04C01 | 204088150175 | R04C01 | 25.0 | M     | Control         | Unknown (Anonymous blood donor) | M | FALSE |\n",
       "\n"
      ],
      "text/plain": [
       "  GeoID      SampleID            Basename                       Sentrix_ID  \n",
       "1 GSM5742874 202702240141_R05C01 GSM5742874_202702240141_R05C01 202702240141\n",
       "2 GSM5742875 202702240141_R06C01 GSM5742875_202702240141_R06C01 202702240141\n",
       "3 GSM5742876 202702240141_R08C01 GSM5742876_202702240141_R08C01 202702240141\n",
       "4 GSM5742877 204088150175_R01C01 GSM5742877_204088150175_R01C01 204088150175\n",
       "5 GSM5742878 204088150175_R02C01 GSM5742878_204088150175_R02C01 204088150175\n",
       "6 GSM5742879 204088150175_R03C01 GSM5742879_204088150175_R03C01 204088150175\n",
       "7 GSM5742880 204088150175_R04C01 GSM5742880_204088150175_R04C01 204088150175\n",
       "  Sentrix_Position Age  Sex   case.control    ancestry                       \n",
       "1 R05C01             NA UNDEF Pooled controls NA                             \n",
       "2 R06C01           17.8 F     Case            Asian                          \n",
       "3 R08C01           27.0 M     Case            White                          \n",
       "4 R01C01           20.9 M     Case            Asian                          \n",
       "5 R02C01           18.5 F     Control         Unknown (Anonymous blood donor)\n",
       "6 R03C01           21.0 M     Control         Unknown (Anonymous blood donor)\n",
       "7 R04C01           25.0 M     Control         Unknown (Anonymous blood donor)\n",
       "  predictedSex minfiMismatch\n",
       "1 M             TRUE        \n",
       "2 F            FALSE        \n",
       "3 M            FALSE        \n",
       "4 M            FALSE        \n",
       "5 F            FALSE        \n",
       "6 M            FALSE        \n",
       "7 M            FALSE        "
      ]
     },
     "metadata": {},
     "output_type": "display_data"
    }
   ],
   "source": [
    "sheet$minfiMismatch <- ifelse(sheet$Sex != sheet$predictedSex, TRUE, FALSE)\n",
    "sheet"
   ]
  },
  {
   "cell_type": "code",
   "execution_count": 297,
   "id": "e771d597-94d6-47af-a008-dc5a5f852481",
   "metadata": {},
   "outputs": [
    {
     "data": {
      "text/html": [
       "<table class=\"dataframe\">\n",
       "<caption>A matrix: 3 × 3 of type dbl</caption>\n",
       "<thead>\n",
       "\t<tr><th></th><th scope=col>GSM5742874_202702240141_R05C01</th><th scope=col>GSM5742875_202702240141_R06C01</th><th scope=col>GSM5742876_202702240141_R08C01</th></tr>\n",
       "</thead>\n",
       "<tbody>\n",
       "\t<tr><th scope=row>cg18478105</th><td>0.04226705</td><td>0.03134255</td><td>0.02482479</td></tr>\n",
       "\t<tr><th scope=row>cg09835024</th><td>0.04235962</td><td>0.01633734</td><td>0.06291706</td></tr>\n",
       "\t<tr><th scope=row>cg14361672</th><td>0.84236582</td><td>0.82757830</td><td>0.87517095</td></tr>\n",
       "</tbody>\n",
       "</table>\n"
      ],
      "text/latex": [
       "A matrix: 3 × 3 of type dbl\n",
       "\\begin{tabular}{r|lll}\n",
       "  & GSM5742874\\_202702240141\\_R05C01 & GSM5742875\\_202702240141\\_R06C01 & GSM5742876\\_202702240141\\_R08C01\\\\\n",
       "\\hline\n",
       "\tcg18478105 & 0.04226705 & 0.03134255 & 0.02482479\\\\\n",
       "\tcg09835024 & 0.04235962 & 0.01633734 & 0.06291706\\\\\n",
       "\tcg14361672 & 0.84236582 & 0.82757830 & 0.87517095\\\\\n",
       "\\end{tabular}\n"
      ],
      "text/markdown": [
       "\n",
       "A matrix: 3 × 3 of type dbl\n",
       "\n",
       "| <!--/--> | GSM5742874_202702240141_R05C01 | GSM5742875_202702240141_R06C01 | GSM5742876_202702240141_R08C01 |\n",
       "|---|---|---|---|\n",
       "| cg18478105 | 0.04226705 | 0.03134255 | 0.02482479 |\n",
       "| cg09835024 | 0.04235962 | 0.01633734 | 0.06291706 |\n",
       "| cg14361672 | 0.84236582 | 0.82757830 | 0.87517095 |\n",
       "\n"
      ],
      "text/plain": [
       "           GSM5742874_202702240141_R05C01 GSM5742875_202702240141_R06C01\n",
       "cg18478105 0.04226705                     0.03134255                    \n",
       "cg09835024 0.04235962                     0.01633734                    \n",
       "cg14361672 0.84236582                     0.82757830                    \n",
       "           GSM5742876_202702240141_R08C01\n",
       "cg18478105 0.02482479                    \n",
       "cg09835024 0.06291706                    \n",
       "cg14361672 0.87517095                    "
      ]
     },
     "metadata": {},
     "output_type": "display_data"
    }
   ],
   "source": [
    "beta <- getBeta(ratioSet)\n",
    "head(beta)[1:3,1:3]"
   ]
  },
  {
   "cell_type": "code",
   "execution_count": 298,
   "id": "1dbd6f4b-710c-4816-9ee3-60c5af64f822",
   "metadata": {},
   "outputs": [
    {
     "data": {
      "text/html": [
       "<table class=\"dataframe\">\n",
       "<caption>A matrix: 6 × 7 of type dbl</caption>\n",
       "<thead>\n",
       "\t<tr><th></th><th scope=col>GSM5742874_202702240141_R05C01</th><th scope=col>GSM5742875_202702240141_R06C01</th><th scope=col>GSM5742876_202702240141_R08C01</th><th scope=col>GSM5742877_204088150175_R01C01</th><th scope=col>GSM5742878_204088150175_R02C01</th><th scope=col>GSM5742879_204088150175_R03C01</th><th scope=col>GSM5742880_204088150175_R04C01</th></tr>\n",
       "</thead>\n",
       "<tbody>\n",
       "\t<tr><th scope=row>cg14817997</th><td>0.6755901</td><td>0.7056056</td><td>0.76000000</td><td>0.8167623</td><td>0.6806998</td><td>0.6846424</td><td>0.6826098</td></tr>\n",
       "\t<tr><th scope=row>cg26928153</th><td>0.9108351</td><td>0.9347629</td><td>0.93909163</td><td>0.9288172</td><td>0.9188198</td><td>0.9205045</td><td>0.8893638</td></tr>\n",
       "\t<tr><th scope=row>cg16269199</th><td>0.7340313</td><td>0.8249841</td><td>0.82551112</td><td>0.8337838</td><td>0.7557061</td><td>0.7752809</td><td>0.6953148</td></tr>\n",
       "\t<tr><th scope=row>cg13869341</th><td>0.8316377</td><td>0.8054633</td><td>0.87803752</td><td>0.8674722</td><td>0.7981630</td><td>0.7986025</td><td>0.8127746</td></tr>\n",
       "\t<tr><th scope=row>cg14008030</th><td>0.4253382</td><td>0.4672655</td><td>0.47033866</td><td>0.4323929</td><td>0.3526455</td><td>0.4511728</td><td>0.4136604</td></tr>\n",
       "\t<tr><th scope=row>cg12045430</th><td>0.1177015</td><td>0.1378938</td><td>0.07855726</td><td>0.1145412</td><td>0.1296852</td><td>0.1256524</td><td>0.1177946</td></tr>\n",
       "</tbody>\n",
       "</table>\n"
      ],
      "text/latex": [
       "A matrix: 6 × 7 of type dbl\n",
       "\\begin{tabular}{r|lllllll}\n",
       "  & GSM5742874\\_202702240141\\_R05C01 & GSM5742875\\_202702240141\\_R06C01 & GSM5742876\\_202702240141\\_R08C01 & GSM5742877\\_204088150175\\_R01C01 & GSM5742878\\_204088150175\\_R02C01 & GSM5742879\\_204088150175\\_R03C01 & GSM5742880\\_204088150175\\_R04C01\\\\\n",
       "\\hline\n",
       "\tcg14817997 & 0.6755901 & 0.7056056 & 0.76000000 & 0.8167623 & 0.6806998 & 0.6846424 & 0.6826098\\\\\n",
       "\tcg26928153 & 0.9108351 & 0.9347629 & 0.93909163 & 0.9288172 & 0.9188198 & 0.9205045 & 0.8893638\\\\\n",
       "\tcg16269199 & 0.7340313 & 0.8249841 & 0.82551112 & 0.8337838 & 0.7557061 & 0.7752809 & 0.6953148\\\\\n",
       "\tcg13869341 & 0.8316377 & 0.8054633 & 0.87803752 & 0.8674722 & 0.7981630 & 0.7986025 & 0.8127746\\\\\n",
       "\tcg14008030 & 0.4253382 & 0.4672655 & 0.47033866 & 0.4323929 & 0.3526455 & 0.4511728 & 0.4136604\\\\\n",
       "\tcg12045430 & 0.1177015 & 0.1378938 & 0.07855726 & 0.1145412 & 0.1296852 & 0.1256524 & 0.1177946\\\\\n",
       "\\end{tabular}\n"
      ],
      "text/markdown": [
       "\n",
       "A matrix: 6 × 7 of type dbl\n",
       "\n",
       "| <!--/--> | GSM5742874_202702240141_R05C01 | GSM5742875_202702240141_R06C01 | GSM5742876_202702240141_R08C01 | GSM5742877_204088150175_R01C01 | GSM5742878_204088150175_R02C01 | GSM5742879_204088150175_R03C01 | GSM5742880_204088150175_R04C01 |\n",
       "|---|---|---|---|---|---|---|---|\n",
       "| cg14817997 | 0.6755901 | 0.7056056 | 0.76000000 | 0.8167623 | 0.6806998 | 0.6846424 | 0.6826098 |\n",
       "| cg26928153 | 0.9108351 | 0.9347629 | 0.93909163 | 0.9288172 | 0.9188198 | 0.9205045 | 0.8893638 |\n",
       "| cg16269199 | 0.7340313 | 0.8249841 | 0.82551112 | 0.8337838 | 0.7557061 | 0.7752809 | 0.6953148 |\n",
       "| cg13869341 | 0.8316377 | 0.8054633 | 0.87803752 | 0.8674722 | 0.7981630 | 0.7986025 | 0.8127746 |\n",
       "| cg14008030 | 0.4253382 | 0.4672655 | 0.47033866 | 0.4323929 | 0.3526455 | 0.4511728 | 0.4136604 |\n",
       "| cg12045430 | 0.1177015 | 0.1378938 | 0.07855726 | 0.1145412 | 0.1296852 | 0.1256524 | 0.1177946 |\n",
       "\n"
      ],
      "text/plain": [
       "           GSM5742874_202702240141_R05C01 GSM5742875_202702240141_R06C01\n",
       "cg14817997 0.6755901                      0.7056056                     \n",
       "cg26928153 0.9108351                      0.9347629                     \n",
       "cg16269199 0.7340313                      0.8249841                     \n",
       "cg13869341 0.8316377                      0.8054633                     \n",
       "cg14008030 0.4253382                      0.4672655                     \n",
       "cg12045430 0.1177015                      0.1378938                     \n",
       "           GSM5742876_202702240141_R08C01 GSM5742877_204088150175_R01C01\n",
       "cg14817997 0.76000000                     0.8167623                     \n",
       "cg26928153 0.93909163                     0.9288172                     \n",
       "cg16269199 0.82551112                     0.8337838                     \n",
       "cg13869341 0.87803752                     0.8674722                     \n",
       "cg14008030 0.47033866                     0.4323929                     \n",
       "cg12045430 0.07855726                     0.1145412                     \n",
       "           GSM5742878_204088150175_R02C01 GSM5742879_204088150175_R03C01\n",
       "cg14817997 0.6806998                      0.6846424                     \n",
       "cg26928153 0.9188198                      0.9205045                     \n",
       "cg16269199 0.7557061                      0.7752809                     \n",
       "cg13869341 0.7981630                      0.7986025                     \n",
       "cg14008030 0.3526455                      0.4511728                     \n",
       "cg12045430 0.1296852                      0.1256524                     \n",
       "           GSM5742880_204088150175_R04C01\n",
       "cg14817997 0.6826098                     \n",
       "cg26928153 0.8893638                     \n",
       "cg16269199 0.6953148                     \n",
       "cg13869341 0.8127746                     \n",
       "cg14008030 0.4136604                     \n",
       "cg12045430 0.1177946                     "
      ]
     },
     "metadata": {},
     "output_type": "display_data"
    },
    {
     "data": {
      "text/html": [
       "<table class=\"dataframe\">\n",
       "<caption>A matrix: 6 × 7 of type dbl</caption>\n",
       "<thead>\n",
       "\t<tr><th></th><th scope=col>GSM5742874_202702240141_R05C01</th><th scope=col>GSM5742875_202702240141_R06C01</th><th scope=col>GSM5742876_202702240141_R08C01</th><th scope=col>GSM5742877_204088150175_R01C01</th><th scope=col>GSM5742878_204088150175_R02C01</th><th scope=col>GSM5742879_204088150175_R03C01</th><th scope=col>GSM5742880_204088150175_R04C01</th></tr>\n",
       "</thead>\n",
       "<tbody>\n",
       "\t<tr><th scope=row>cg14817997</th><td> 1.0583303</td><td> 1.2611121</td><td> 1.6629650</td><td> 2.1561996</td><td> 1.0921055</td><td> 1.1183622</td><td> 1.1048033</td></tr>\n",
       "\t<tr><th scope=row>cg26928153</th><td> 3.3526413</td><td> 3.8408354</td><td> 3.9465534</td><td> 3.7057942</td><td> 3.5005817</td><td> 3.5334790</td><td> 3.0069499</td></tr>\n",
       "\t<tr><th scope=row>cg16269199</th><td> 1.4645849</td><td> 2.2368808</td><td> 2.2421526</td><td> 2.3266122</td><td> 1.6292077</td><td> 1.7865964</td><td> 1.1903468</td></tr>\n",
       "\t<tr><th scope=row>cg13869341</th><td> 2.3043860</td><td> 2.0497763</td><td> 2.8478452</td><td> 2.7105231</td><td> 1.9834923</td><td> 1.9874318</td><td> 2.1180795</td></tr>\n",
       "\t<tr><th scope=row>cg14008030</th><td>-0.4341028</td><td>-0.1891742</td><td>-0.1713703</td><td>-0.3925499</td><td>-0.8763375</td><td>-0.2826718</td><td>-0.5032897</td></tr>\n",
       "\t<tr><th scope=row>cg12045430</th><td>-2.9061335</td><td>-2.6443077</td><td>-3.5520780</td><td>-2.9505584</td><td>-2.7465240</td><td>-2.7987685</td><td>-2.9048416</td></tr>\n",
       "</tbody>\n",
       "</table>\n"
      ],
      "text/latex": [
       "A matrix: 6 × 7 of type dbl\n",
       "\\begin{tabular}{r|lllllll}\n",
       "  & GSM5742874\\_202702240141\\_R05C01 & GSM5742875\\_202702240141\\_R06C01 & GSM5742876\\_202702240141\\_R08C01 & GSM5742877\\_204088150175\\_R01C01 & GSM5742878\\_204088150175\\_R02C01 & GSM5742879\\_204088150175\\_R03C01 & GSM5742880\\_204088150175\\_R04C01\\\\\n",
       "\\hline\n",
       "\tcg14817997 &  1.0583303 &  1.2611121 &  1.6629650 &  2.1561996 &  1.0921055 &  1.1183622 &  1.1048033\\\\\n",
       "\tcg26928153 &  3.3526413 &  3.8408354 &  3.9465534 &  3.7057942 &  3.5005817 &  3.5334790 &  3.0069499\\\\\n",
       "\tcg16269199 &  1.4645849 &  2.2368808 &  2.2421526 &  2.3266122 &  1.6292077 &  1.7865964 &  1.1903468\\\\\n",
       "\tcg13869341 &  2.3043860 &  2.0497763 &  2.8478452 &  2.7105231 &  1.9834923 &  1.9874318 &  2.1180795\\\\\n",
       "\tcg14008030 & -0.4341028 & -0.1891742 & -0.1713703 & -0.3925499 & -0.8763375 & -0.2826718 & -0.5032897\\\\\n",
       "\tcg12045430 & -2.9061335 & -2.6443077 & -3.5520780 & -2.9505584 & -2.7465240 & -2.7987685 & -2.9048416\\\\\n",
       "\\end{tabular}\n"
      ],
      "text/markdown": [
       "\n",
       "A matrix: 6 × 7 of type dbl\n",
       "\n",
       "| <!--/--> | GSM5742874_202702240141_R05C01 | GSM5742875_202702240141_R06C01 | GSM5742876_202702240141_R08C01 | GSM5742877_204088150175_R01C01 | GSM5742878_204088150175_R02C01 | GSM5742879_204088150175_R03C01 | GSM5742880_204088150175_R04C01 |\n",
       "|---|---|---|---|---|---|---|---|\n",
       "| cg14817997 |  1.0583303 |  1.2611121 |  1.6629650 |  2.1561996 |  1.0921055 |  1.1183622 |  1.1048033 |\n",
       "| cg26928153 |  3.3526413 |  3.8408354 |  3.9465534 |  3.7057942 |  3.5005817 |  3.5334790 |  3.0069499 |\n",
       "| cg16269199 |  1.4645849 |  2.2368808 |  2.2421526 |  2.3266122 |  1.6292077 |  1.7865964 |  1.1903468 |\n",
       "| cg13869341 |  2.3043860 |  2.0497763 |  2.8478452 |  2.7105231 |  1.9834923 |  1.9874318 |  2.1180795 |\n",
       "| cg14008030 | -0.4341028 | -0.1891742 | -0.1713703 | -0.3925499 | -0.8763375 | -0.2826718 | -0.5032897 |\n",
       "| cg12045430 | -2.9061335 | -2.6443077 | -3.5520780 | -2.9505584 | -2.7465240 | -2.7987685 | -2.9048416 |\n",
       "\n"
      ],
      "text/plain": [
       "           GSM5742874_202702240141_R05C01 GSM5742875_202702240141_R06C01\n",
       "cg14817997  1.0583303                      1.2611121                    \n",
       "cg26928153  3.3526413                      3.8408354                    \n",
       "cg16269199  1.4645849                      2.2368808                    \n",
       "cg13869341  2.3043860                      2.0497763                    \n",
       "cg14008030 -0.4341028                     -0.1891742                    \n",
       "cg12045430 -2.9061335                     -2.6443077                    \n",
       "           GSM5742876_202702240141_R08C01 GSM5742877_204088150175_R01C01\n",
       "cg14817997  1.6629650                      2.1561996                    \n",
       "cg26928153  3.9465534                      3.7057942                    \n",
       "cg16269199  2.2421526                      2.3266122                    \n",
       "cg13869341  2.8478452                      2.7105231                    \n",
       "cg14008030 -0.1713703                     -0.3925499                    \n",
       "cg12045430 -3.5520780                     -2.9505584                    \n",
       "           GSM5742878_204088150175_R02C01 GSM5742879_204088150175_R03C01\n",
       "cg14817997  1.0921055                      1.1183622                    \n",
       "cg26928153  3.5005817                      3.5334790                    \n",
       "cg16269199  1.6292077                      1.7865964                    \n",
       "cg13869341  1.9834923                      1.9874318                    \n",
       "cg14008030 -0.8763375                     -0.2826718                    \n",
       "cg12045430 -2.7465240                     -2.7987685                    \n",
       "           GSM5742880_204088150175_R04C01\n",
       "cg14817997  1.1048033                    \n",
       "cg26928153  3.0069499                    \n",
       "cg16269199  1.1903468                    \n",
       "cg13869341  2.1180795                    \n",
       "cg14008030 -0.5032897                    \n",
       "cg12045430 -2.9048416                    "
      ]
     },
     "metadata": {},
     "output_type": "display_data"
    },
    {
     "data": {
      "text/html": [
       "<table class=\"dataframe\">\n",
       "<caption>A matrix: 6 × 7 of type dbl</caption>\n",
       "<thead>\n",
       "\t<tr><th></th><th scope=col>GSM5742874_202702240141_R05C01</th><th scope=col>GSM5742875_202702240141_R06C01</th><th scope=col>GSM5742876_202702240141_R08C01</th><th scope=col>GSM5742877_204088150175_R01C01</th><th scope=col>GSM5742878_204088150175_R02C01</th><th scope=col>GSM5742879_204088150175_R03C01</th><th scope=col>GSM5742880_204088150175_R04C01</th></tr>\n",
       "</thead>\n",
       "<tbody>\n",
       "\t<tr><th scope=row>cg14817997</th><td>11.76238</td><td>11.31685</td><td>10.98371</td><td>11.61563</td><td>11.83684</td><td>11.32136</td><td>11.99329</td></tr>\n",
       "\t<tr><th scope=row>cg26928153</th><td>12.82277</td><td>13.10558</td><td>12.89520</td><td>12.18302</td><td>12.61425</td><td>12.78484</td><td>12.99947</td></tr>\n",
       "\t<tr><th scope=row>cg16269199</th><td>12.88150</td><td>12.94490</td><td>12.92500</td><td>12.53138</td><td>12.45327</td><td>12.72366</td><td>12.73767</td></tr>\n",
       "\t<tr><th scope=row>cg13869341</th><td>15.30549</td><td>15.35270</td><td>15.16863</td><td>15.12234</td><td>15.20526</td><td>15.26953</td><td>15.33004</td></tr>\n",
       "\t<tr><th scope=row>cg14008030</th><td>14.71575</td><td>14.74120</td><td>14.68814</td><td>14.41660</td><td>14.51878</td><td>14.47187</td><td>14.65083</td></tr>\n",
       "\t<tr><th scope=row>cg12045430</th><td>14.98313</td><td>14.98540</td><td>14.75890</td><td>14.65060</td><td>14.77386</td><td>14.79137</td><td>14.90623</td></tr>\n",
       "</tbody>\n",
       "</table>\n"
      ],
      "text/latex": [
       "A matrix: 6 × 7 of type dbl\n",
       "\\begin{tabular}{r|lllllll}\n",
       "  & GSM5742874\\_202702240141\\_R05C01 & GSM5742875\\_202702240141\\_R06C01 & GSM5742876\\_202702240141\\_R08C01 & GSM5742877\\_204088150175\\_R01C01 & GSM5742878\\_204088150175\\_R02C01 & GSM5742879\\_204088150175\\_R03C01 & GSM5742880\\_204088150175\\_R04C01\\\\\n",
       "\\hline\n",
       "\tcg14817997 & 11.76238 & 11.31685 & 10.98371 & 11.61563 & 11.83684 & 11.32136 & 11.99329\\\\\n",
       "\tcg26928153 & 12.82277 & 13.10558 & 12.89520 & 12.18302 & 12.61425 & 12.78484 & 12.99947\\\\\n",
       "\tcg16269199 & 12.88150 & 12.94490 & 12.92500 & 12.53138 & 12.45327 & 12.72366 & 12.73767\\\\\n",
       "\tcg13869341 & 15.30549 & 15.35270 & 15.16863 & 15.12234 & 15.20526 & 15.26953 & 15.33004\\\\\n",
       "\tcg14008030 & 14.71575 & 14.74120 & 14.68814 & 14.41660 & 14.51878 & 14.47187 & 14.65083\\\\\n",
       "\tcg12045430 & 14.98313 & 14.98540 & 14.75890 & 14.65060 & 14.77386 & 14.79137 & 14.90623\\\\\n",
       "\\end{tabular}\n"
      ],
      "text/markdown": [
       "\n",
       "A matrix: 6 × 7 of type dbl\n",
       "\n",
       "| <!--/--> | GSM5742874_202702240141_R05C01 | GSM5742875_202702240141_R06C01 | GSM5742876_202702240141_R08C01 | GSM5742877_204088150175_R01C01 | GSM5742878_204088150175_R02C01 | GSM5742879_204088150175_R03C01 | GSM5742880_204088150175_R04C01 |\n",
       "|---|---|---|---|---|---|---|---|\n",
       "| cg14817997 | 11.76238 | 11.31685 | 10.98371 | 11.61563 | 11.83684 | 11.32136 | 11.99329 |\n",
       "| cg26928153 | 12.82277 | 13.10558 | 12.89520 | 12.18302 | 12.61425 | 12.78484 | 12.99947 |\n",
       "| cg16269199 | 12.88150 | 12.94490 | 12.92500 | 12.53138 | 12.45327 | 12.72366 | 12.73767 |\n",
       "| cg13869341 | 15.30549 | 15.35270 | 15.16863 | 15.12234 | 15.20526 | 15.26953 | 15.33004 |\n",
       "| cg14008030 | 14.71575 | 14.74120 | 14.68814 | 14.41660 | 14.51878 | 14.47187 | 14.65083 |\n",
       "| cg12045430 | 14.98313 | 14.98540 | 14.75890 | 14.65060 | 14.77386 | 14.79137 | 14.90623 |\n",
       "\n"
      ],
      "text/plain": [
       "           GSM5742874_202702240141_R05C01 GSM5742875_202702240141_R06C01\n",
       "cg14817997 11.76238                       11.31685                      \n",
       "cg26928153 12.82277                       13.10558                      \n",
       "cg16269199 12.88150                       12.94490                      \n",
       "cg13869341 15.30549                       15.35270                      \n",
       "cg14008030 14.71575                       14.74120                      \n",
       "cg12045430 14.98313                       14.98540                      \n",
       "           GSM5742876_202702240141_R08C01 GSM5742877_204088150175_R01C01\n",
       "cg14817997 10.98371                       11.61563                      \n",
       "cg26928153 12.89520                       12.18302                      \n",
       "cg16269199 12.92500                       12.53138                      \n",
       "cg13869341 15.16863                       15.12234                      \n",
       "cg14008030 14.68814                       14.41660                      \n",
       "cg12045430 14.75890                       14.65060                      \n",
       "           GSM5742878_204088150175_R02C01 GSM5742879_204088150175_R03C01\n",
       "cg14817997 11.83684                       11.32136                      \n",
       "cg26928153 12.61425                       12.78484                      \n",
       "cg16269199 12.45327                       12.72366                      \n",
       "cg13869341 15.20526                       15.26953                      \n",
       "cg14008030 14.51878                       14.47187                      \n",
       "cg12045430 14.77386                       14.79137                      \n",
       "           GSM5742880_204088150175_R04C01\n",
       "cg14817997 11.99329                      \n",
       "cg26928153 12.99947                      \n",
       "cg16269199 12.73767                      \n",
       "cg13869341 15.33004                      \n",
       "cg14008030 14.65083                      \n",
       "cg12045430 14.90623                      "
      ]
     },
     "metadata": {},
     "output_type": "display_data"
    }
   ],
   "source": [
    "beta <- getBeta(GMRset)\n",
    "head(beta)\n",
    "\n",
    "Mval <- getM(GMRset)\n",
    "head(Mval)\n",
    "\n",
    "cn <- getCN(GMRset)\n",
    "head(cn)\n",
    "\n",
    "save(beta,file=\"./MINFI_raw_betaGMRset.RData\")\n",
    "save(GMRset, ratioSet, file =\"./MINFI_ratioSet_GMRSet.RData\")"
   ]
  },
  {
   "cell_type": "code",
   "execution_count": 299,
   "id": "9f0d9d86-34d3-4934-8682-7f3435b05bf6",
   "metadata": {},
   "outputs": [],
   "source": [
    "detP <- detectionP(RGSet)\n"
   ]
  },
  {
   "cell_type": "code",
   "execution_count": 300,
   "id": "fa579b54-c432-4725-a7db-b3f71c962ded",
   "metadata": {},
   "outputs": [
    {
     "data": {
      "text/html": [
       "<table class=\"dataframe\">\n",
       "<caption>A matrix: 3 × 2 of type dbl</caption>\n",
       "<thead>\n",
       "\t<tr><th></th><th scope=col>GSM5742874_202702240141_R05C01</th><th scope=col>GSM5742875_202702240141_R06C01</th></tr>\n",
       "</thead>\n",
       "<tbody>\n",
       "\t<tr><th scope=row>cg18478105</th><td>0</td><td>0</td></tr>\n",
       "\t<tr><th scope=row>cg09835024</th><td>0</td><td>0</td></tr>\n",
       "\t<tr><th scope=row>cg14361672</th><td>0</td><td>0</td></tr>\n",
       "</tbody>\n",
       "</table>\n"
      ],
      "text/latex": [
       "A matrix: 3 × 2 of type dbl\n",
       "\\begin{tabular}{r|ll}\n",
       "  & GSM5742874\\_202702240141\\_R05C01 & GSM5742875\\_202702240141\\_R06C01\\\\\n",
       "\\hline\n",
       "\tcg18478105 & 0 & 0\\\\\n",
       "\tcg09835024 & 0 & 0\\\\\n",
       "\tcg14361672 & 0 & 0\\\\\n",
       "\\end{tabular}\n"
      ],
      "text/markdown": [
       "\n",
       "A matrix: 3 × 2 of type dbl\n",
       "\n",
       "| <!--/--> | GSM5742874_202702240141_R05C01 | GSM5742875_202702240141_R06C01 |\n",
       "|---|---|---|\n",
       "| cg18478105 | 0 | 0 |\n",
       "| cg09835024 | 0 | 0 |\n",
       "| cg14361672 | 0 | 0 |\n",
       "\n"
      ],
      "text/plain": [
       "           GSM5742874_202702240141_R05C01 GSM5742875_202702240141_R06C01\n",
       "cg18478105 0                              0                             \n",
       "cg09835024 0                              0                             \n",
       "cg14361672 0                              0                             "
      ]
     },
     "metadata": {},
     "output_type": "display_data"
    }
   ],
   "source": [
    "detP[1:3,1:2]"
   ]
  },
  {
   "cell_type": "code",
   "execution_count": 301,
   "id": "bda5beb3-5de1-4992-92c7-235732f0cb86",
   "metadata": {},
   "outputs": [
    {
     "data": {
      "image/png": "[encoded data removed]",
      "text/plain": [
       "plot without title"
      ]
     },
     "metadata": {
      "image/png": {
       "height": 420,
       "width": 420
      }
     },
     "output_type": "display_data"
    }
   ],
   "source": [
    "barplot(colMeans(detP), las=2, cex.names=0.8, ylab=\"Mean detection p-values\")\n",
    "abline(h=0.05,col=\"red\")"
   ]
  },
  {
   "cell_type": "markdown",
   "id": "06047bcd-9b46-42c2-b064-e80288b868a0",
   "metadata": {},
   "source": [
    "***\n",
    "Agora, iremos aplicar o conteole de qualidade sobre as intensidades medianas de Metilação/não-metilação"
   ]
  },
  {
   "cell_type": "code",
   "execution_count": 302,
   "id": "785f509f-43b6-40f9-9c42-0011bfe4747b",
   "metadata": {},
   "outputs": [],
   "source": [
    "qc <- getQC(MSet)\n",
    "QCmetrics <- cbind(sheet,qc)\n",
    "\n"
   ]
  },
  {
   "cell_type": "code",
   "execution_count": 303,
   "id": "de2e8358-7c55-4245-863f-8fdb79f05a64",
   "metadata": {},
   "outputs": [
    {
     "data": {
      "image/png": "[encoded data removed]",
      "text/plain": [
       "plot without title"
      ]
     },
     "metadata": {
      "image/png": {
       "height": 420,
       "width": 420
      }
     },
     "output_type": "display_data"
    }
   ],
   "source": [
    "plotQC(qc)"
   ]
  },
  {
   "cell_type": "code",
   "execution_count": 304,
   "id": "2717dc89-b5cf-489c-94f5-f64e24015dd2",
   "metadata": {},
   "outputs": [
    {
     "name": "stdout",
     "output_type": "stream",
     "text": [
      " [1] GeoID            SampleID         Basename         Sentrix_ID      \n",
      " [5] Sentrix_Position Age              Sex              case.control    \n",
      " [9] ancestry         predictedSex     minfiMismatch    mMed            \n",
      "[13] uMed            \n",
      "<0 rows> (or 0-length row.names)\n"
     ]
    },
    {
     "data": {
      "image/png": "[encoded data removed]",
      "text/plain": [
       "plot without title"
      ]
     },
     "metadata": {
      "image/png": {
       "height": 420,
       "width": 420
      }
     },
     "output_type": "display_data"
    }
   ],
   "source": [
    "minfi_failed <- QCmetrics[ which(( (QCmetrics$mMed + QCmetrics$uMed)/2 < 10.5)), ]\n",
    "print(minfi_failed)\n",
    "QCmetrics$minfi_failed <- ifelse((QCmetrics$mMed + QCmetrics$uMed)/2 < 10.5, TRUE, FALSE)\n",
    "plotQC(minfi_failed)"
   ]
  },
  {
   "cell_type": "code",
   "execution_count": 283,
   "id": "c7107ebc-e9b4-4e33-8a56-ec3d2197c60b",
   "metadata": {},
   "outputs": [
    {
     "data": {
      "text/html": [
       "<table class=\"dataframe\">\n",
       "<caption>A data.frame: 7 × 14</caption>\n",
       "<thead>\n",
       "\t<tr><th></th><th scope=col>GeoID</th><th scope=col>SampleID</th><th scope=col>Basename</th><th scope=col>Sentrix_ID</th><th scope=col>Sentrix_Position</th><th scope=col>Age</th><th scope=col>Sex</th><th scope=col>case.control</th><th scope=col>ancestry</th><th scope=col>predictedSex</th><th scope=col>minfiMismatch</th><th scope=col>mMed</th><th scope=col>uMed</th><th scope=col>minfi_failed</th></tr>\n",
       "\t<tr><th></th><th scope=col>&lt;chr&gt;</th><th scope=col>&lt;chr&gt;</th><th scope=col>&lt;chr&gt;</th><th scope=col>&lt;dbl&gt;</th><th scope=col>&lt;chr&gt;</th><th scope=col>&lt;dbl&gt;</th><th scope=col>&lt;chr&gt;</th><th scope=col>&lt;chr&gt;</th><th scope=col>&lt;chr&gt;</th><th scope=col>&lt;chr&gt;</th><th scope=col>&lt;lgl&gt;</th><th scope=col>&lt;dbl&gt;</th><th scope=col>&lt;dbl&gt;</th><th scope=col>&lt;lgl&gt;</th></tr>\n",
       "</thead>\n",
       "<tbody>\n",
       "\t<tr><th scope=row>GSM5742874_202702240141_R05C01</th><td>GSM5742874</td><td>202702240141_R05C01</td><td>GSM5742874_202702240141_R05C01</td><td>202702240141</td><td>R05C01</td><td>  NA</td><td>UNDEF</td><td>Pooled controls</td><td>NA                             </td><td>M</td><td> TRUE</td><td>12.51175</td><td>12.13699</td><td>FALSE</td></tr>\n",
       "\t<tr><th scope=row>GSM5742875_202702240141_R06C01</th><td>GSM5742875</td><td>202702240141_R06C01</td><td>GSM5742875_202702240141_R06C01</td><td>202702240141</td><td>R06C01</td><td>17.8</td><td>F    </td><td>Case           </td><td>Asian                          </td><td>F</td><td>FALSE</td><td>12.65620</td><td>12.17742</td><td>FALSE</td></tr>\n",
       "\t<tr><th scope=row>GSM5742876_202702240141_R08C01</th><td>GSM5742876</td><td>202702240141_R08C01</td><td>GSM5742876_202702240141_R08C01</td><td>202702240141</td><td>R08C01</td><td>27.0</td><td>M    </td><td>Case           </td><td>White                          </td><td>M</td><td>FALSE</td><td>12.28222</td><td>11.41098</td><td>FALSE</td></tr>\n",
       "\t<tr><th scope=row>GSM5742877_204088150175_R01C01</th><td>GSM5742877</td><td>204088150175_R01C01</td><td>GSM5742877_204088150175_R01C01</td><td>204088150175</td><td>R01C01</td><td>20.9</td><td>M    </td><td>Case           </td><td>Asian                          </td><td>M</td><td>FALSE</td><td>11.66445</td><td>11.44708</td><td>FALSE</td></tr>\n",
       "\t<tr><th scope=row>GSM5742878_204088150175_R02C01</th><td>GSM5742878</td><td>204088150175_R02C01</td><td>GSM5742878_204088150175_R02C01</td><td>204088150175</td><td>R02C01</td><td>18.5</td><td>F    </td><td>Control        </td><td>Unknown (Anonymous blood donor)</td><td>F</td><td>FALSE</td><td>12.14402</td><td>11.83012</td><td>FALSE</td></tr>\n",
       "\t<tr><th scope=row>GSM5742879_204088150175_R03C01</th><td>GSM5742879</td><td>204088150175_R03C01</td><td>GSM5742879_204088150175_R03C01</td><td>204088150175</td><td>R03C01</td><td>21.0</td><td>M    </td><td>Control        </td><td>Unknown (Anonymous blood donor)</td><td>M</td><td>FALSE</td><td>12.26209</td><td>12.07648</td><td>FALSE</td></tr>\n",
       "\t<tr><th scope=row>GSM5742880_204088150175_R04C01</th><td>GSM5742880</td><td>204088150175_R04C01</td><td>GSM5742880_204088150175_R04C01</td><td>204088150175</td><td>R04C01</td><td>25.0</td><td>M    </td><td>Control        </td><td>Unknown (Anonymous blood donor)</td><td>M</td><td>FALSE</td><td>12.33929</td><td>11.95928</td><td>FALSE</td></tr>\n",
       "</tbody>\n",
       "</table>\n"
      ],
      "text/latex": [
       "A data.frame: 7 × 14\n",
       "\\begin{tabular}{r|llllllllllllll}\n",
       "  & GeoID & SampleID & Basename & Sentrix\\_ID & Sentrix\\_Position & Age & Sex & case.control & ancestry & predictedSex & minfiMismatch & mMed & uMed & minfi\\_failed\\\\\n",
       "  & <chr> & <chr> & <chr> & <dbl> & <chr> & <dbl> & <chr> & <chr> & <chr> & <chr> & <lgl> & <dbl> & <dbl> & <lgl>\\\\\n",
       "\\hline\n",
       "\tGSM5742874\\_202702240141\\_R05C01 & GSM5742874 & 202702240141\\_R05C01 & GSM5742874\\_202702240141\\_R05C01 & 202702240141 & R05C01 &   NA & UNDEF & Pooled controls & NA                              & M &  TRUE & 12.51175 & 12.13699 & FALSE\\\\\n",
       "\tGSM5742875\\_202702240141\\_R06C01 & GSM5742875 & 202702240141\\_R06C01 & GSM5742875\\_202702240141\\_R06C01 & 202702240141 & R06C01 & 17.8 & F     & Case            & Asian                           & F & FALSE & 12.65620 & 12.17742 & FALSE\\\\\n",
       "\tGSM5742876\\_202702240141\\_R08C01 & GSM5742876 & 202702240141\\_R08C01 & GSM5742876\\_202702240141\\_R08C01 & 202702240141 & R08C01 & 27.0 & M     & Case            & White                           & M & FALSE & 12.28222 & 11.41098 & FALSE\\\\\n",
       "\tGSM5742877\\_204088150175\\_R01C01 & GSM5742877 & 204088150175\\_R01C01 & GSM5742877\\_204088150175\\_R01C01 & 204088150175 & R01C01 & 20.9 & M     & Case            & Asian                           & M & FALSE & 11.66445 & 11.44708 & FALSE\\\\\n",
       "\tGSM5742878\\_204088150175\\_R02C01 & GSM5742878 & 204088150175\\_R02C01 & GSM5742878\\_204088150175\\_R02C01 & 204088150175 & R02C01 & 18.5 & F     & Control         & Unknown (Anonymous blood donor) & F & FALSE & 12.14402 & 11.83012 & FALSE\\\\\n",
       "\tGSM5742879\\_204088150175\\_R03C01 & GSM5742879 & 204088150175\\_R03C01 & GSM5742879\\_204088150175\\_R03C01 & 204088150175 & R03C01 & 21.0 & M     & Control         & Unknown (Anonymous blood donor) & M & FALSE & 12.26209 & 12.07648 & FALSE\\\\\n",
       "\tGSM5742880\\_204088150175\\_R04C01 & GSM5742880 & 204088150175\\_R04C01 & GSM5742880\\_204088150175\\_R04C01 & 204088150175 & R04C01 & 25.0 & M     & Control         & Unknown (Anonymous blood donor) & M & FALSE & 12.33929 & 11.95928 & FALSE\\\\\n",
       "\\end{tabular}\n"
      ],
      "text/markdown": [
       "\n",
       "A data.frame: 7 × 14\n",
       "\n",
       "| <!--/--> | GeoID &lt;chr&gt; | SampleID &lt;chr&gt; | Basename &lt;chr&gt; | Sentrix_ID &lt;dbl&gt; | Sentrix_Position &lt;chr&gt; | Age &lt;dbl&gt; | Sex &lt;chr&gt; | case.control &lt;chr&gt; | ancestry &lt;chr&gt; | predictedSex &lt;chr&gt; | minfiMismatch &lt;lgl&gt; | mMed &lt;dbl&gt; | uMed &lt;dbl&gt; | minfi_failed &lt;lgl&gt; |\n",
       "|---|---|---|---|---|---|---|---|---|---|---|---|---|---|---|\n",
       "| GSM5742874_202702240141_R05C01 | GSM5742874 | 202702240141_R05C01 | GSM5742874_202702240141_R05C01 | 202702240141 | R05C01 |   NA | UNDEF | Pooled controls | NA                              | M |  TRUE | 12.51175 | 12.13699 | FALSE |\n",
       "| GSM5742875_202702240141_R06C01 | GSM5742875 | 202702240141_R06C01 | GSM5742875_202702240141_R06C01 | 202702240141 | R06C01 | 17.8 | F     | Case            | Asian                           | F | FALSE | 12.65620 | 12.17742 | FALSE |\n",
       "| GSM5742876_202702240141_R08C01 | GSM5742876 | 202702240141_R08C01 | GSM5742876_202702240141_R08C01 | 202702240141 | R08C01 | 27.0 | M     | Case            | White                           | M | FALSE | 12.28222 | 11.41098 | FALSE |\n",
       "| GSM5742877_204088150175_R01C01 | GSM5742877 | 204088150175_R01C01 | GSM5742877_204088150175_R01C01 | 204088150175 | R01C01 | 20.9 | M     | Case            | Asian                           | M | FALSE | 11.66445 | 11.44708 | FALSE |\n",
       "| GSM5742878_204088150175_R02C01 | GSM5742878 | 204088150175_R02C01 | GSM5742878_204088150175_R02C01 | 204088150175 | R02C01 | 18.5 | F     | Control         | Unknown (Anonymous blood donor) | F | FALSE | 12.14402 | 11.83012 | FALSE |\n",
       "| GSM5742879_204088150175_R03C01 | GSM5742879 | 204088150175_R03C01 | GSM5742879_204088150175_R03C01 | 204088150175 | R03C01 | 21.0 | M     | Control         | Unknown (Anonymous blood donor) | M | FALSE | 12.26209 | 12.07648 | FALSE |\n",
       "| GSM5742880_204088150175_R04C01 | GSM5742880 | 204088150175_R04C01 | GSM5742880_204088150175_R04C01 | 204088150175 | R04C01 | 25.0 | M     | Control         | Unknown (Anonymous blood donor) | M | FALSE | 12.33929 | 11.95928 | FALSE |\n",
       "\n"
      ],
      "text/plain": [
       "                               GeoID      SampleID           \n",
       "GSM5742874_202702240141_R05C01 GSM5742874 202702240141_R05C01\n",
       "GSM5742875_202702240141_R06C01 GSM5742875 202702240141_R06C01\n",
       "GSM5742876_202702240141_R08C01 GSM5742876 202702240141_R08C01\n",
       "GSM5742877_204088150175_R01C01 GSM5742877 204088150175_R01C01\n",
       "GSM5742878_204088150175_R02C01 GSM5742878 204088150175_R02C01\n",
       "GSM5742879_204088150175_R03C01 GSM5742879 204088150175_R03C01\n",
       "GSM5742880_204088150175_R04C01 GSM5742880 204088150175_R04C01\n",
       "                               Basename                       Sentrix_ID  \n",
       "GSM5742874_202702240141_R05C01 GSM5742874_202702240141_R05C01 202702240141\n",
       "GSM5742875_202702240141_R06C01 GSM5742875_202702240141_R06C01 202702240141\n",
       "GSM5742876_202702240141_R08C01 GSM5742876_202702240141_R08C01 202702240141\n",
       "GSM5742877_204088150175_R01C01 GSM5742877_204088150175_R01C01 204088150175\n",
       "GSM5742878_204088150175_R02C01 GSM5742878_204088150175_R02C01 204088150175\n",
       "GSM5742879_204088150175_R03C01 GSM5742879_204088150175_R03C01 204088150175\n",
       "GSM5742880_204088150175_R04C01 GSM5742880_204088150175_R04C01 204088150175\n",
       "                               Sentrix_Position Age  Sex   case.control   \n",
       "GSM5742874_202702240141_R05C01 R05C01             NA UNDEF Pooled controls\n",
       "GSM5742875_202702240141_R06C01 R06C01           17.8 F     Case           \n",
       "GSM5742876_202702240141_R08C01 R08C01           27.0 M     Case           \n",
       "GSM5742877_204088150175_R01C01 R01C01           20.9 M     Case           \n",
       "GSM5742878_204088150175_R02C01 R02C01           18.5 F     Control        \n",
       "GSM5742879_204088150175_R03C01 R03C01           21.0 M     Control        \n",
       "GSM5742880_204088150175_R04C01 R04C01           25.0 M     Control        \n",
       "                               ancestry                        predictedSex\n",
       "GSM5742874_202702240141_R05C01 NA                              M           \n",
       "GSM5742875_202702240141_R06C01 Asian                           F           \n",
       "GSM5742876_202702240141_R08C01 White                           M           \n",
       "GSM5742877_204088150175_R01C01 Asian                           M           \n",
       "GSM5742878_204088150175_R02C01 Unknown (Anonymous blood donor) F           \n",
       "GSM5742879_204088150175_R03C01 Unknown (Anonymous blood donor) M           \n",
       "GSM5742880_204088150175_R04C01 Unknown (Anonymous blood donor) M           \n",
       "                               minfiMismatch mMed     uMed     minfi_failed\n",
       "GSM5742874_202702240141_R05C01  TRUE         12.51175 12.13699 FALSE       \n",
       "GSM5742875_202702240141_R06C01 FALSE         12.65620 12.17742 FALSE       \n",
       "GSM5742876_202702240141_R08C01 FALSE         12.28222 11.41098 FALSE       \n",
       "GSM5742877_204088150175_R01C01 FALSE         11.66445 11.44708 FALSE       \n",
       "GSM5742878_204088150175_R02C01 FALSE         12.14402 11.83012 FALSE       \n",
       "GSM5742879_204088150175_R03C01 FALSE         12.26209 12.07648 FALSE       \n",
       "GSM5742880_204088150175_R04C01 FALSE         12.33929 11.95928 FALSE       "
      ]
     },
     "metadata": {},
     "output_type": "display_data"
    }
   ],
   "source": [
    "QCmetrics"
   ]
  },
  {
   "cell_type": "code",
   "execution_count": 305,
   "id": "49da1b9f-aa7e-4539-b164-fbebcb81b3b0",
   "metadata": {},
   "outputs": [],
   "source": [
    "write.csv(QCmetrics, file=\"phenotype_file_GSE191276_minfi.csv\", row.names=F, quote=F)\n"
   ]
  },
  {
   "cell_type": "code",
   "execution_count": 306,
   "id": "e25ca362-1719-4cf7-8bcc-05f3ddd5e948",
   "metadata": {},
   "outputs": [
    {
     "data": {
      "image/png": "[encoded data removed]",
      "text/plain": [
       "Plot with title “”"
      ]
     },
     "metadata": {
      "image/png": {
       "height": 420,
       "width": 420
      }
     },
     "output_type": "display_data"
    }
   ],
   "source": [
    "densityPlot(beta, sampGroups = sheet$Sentrix_ID)"
   ]
  },
  {
   "cell_type": "code",
   "execution_count": 340,
   "id": "ddff6422-1e6b-488d-b34a-162d50b6e1da",
   "metadata": {},
   "outputs": [],
   "source": [
    "rm(list=ls())"
   ]
  },
  {
   "cell_type": "markdown",
   "id": "21a366f5-9579-48ce-8772-0c269fa3dfc4",
   "metadata": {},
   "source": [
    "***\n",
    "# ENmix "
   ]
  },
  {
   "cell_type": "code",
   "execution_count": 1,
   "id": "3ea77783-e404-4c7c-aa12-efd08a1aafe4",
   "metadata": {},
   "outputs": [
    {
     "name": "stderr",
     "output_type": "stream",
     "text": [
      "Loading required package: parallel\n",
      "\n",
      "Loading required package: doParallel\n",
      "\n",
      "Loading required package: foreach\n",
      "\n",
      "Loading required package: iterators\n",
      "\n",
      "Loading required package: SummarizedExperiment\n",
      "\n",
      "Loading required package: MatrixGenerics\n",
      "\n",
      "Loading required package: matrixStats\n",
      "\n",
      "\n",
      "Attaching package: ‘MatrixGenerics’\n",
      "\n",
      "\n",
      "The following objects are masked from ‘package:matrixStats’:\n",
      "\n",
      "    colAlls, colAnyNAs, colAnys, colAvgsPerRowSet, colCollapse,\n",
      "    colCounts, colCummaxs, colCummins, colCumprods, colCumsums,\n",
      "    colDiffs, colIQRDiffs, colIQRs, colLogSumExps, colMadDiffs,\n",
      "    colMads, colMaxs, colMeans2, colMedians, colMins, colOrderStats,\n",
      "    colProds, colQuantiles, colRanges, colRanks, colSdDiffs, colSds,\n",
      "    colSums2, colTabulates, colVarDiffs, colVars, colWeightedMads,\n",
      "    colWeightedMeans, colWeightedMedians, colWeightedSds,\n",
      "    colWeightedVars, rowAlls, rowAnyNAs, rowAnys, rowAvgsPerColSet,\n",
      "    rowCollapse, rowCounts, rowCummaxs, rowCummins, rowCumprods,\n",
      "    rowCumsums, rowDiffs, rowIQRDiffs, rowIQRs, rowLogSumExps,\n",
      "    rowMadDiffs, rowMads, rowMaxs, rowMeans2, rowMedians, rowMins,\n",
      "    rowOrderStats, rowProds, rowQuantiles, rowRanges, rowRanks,\n",
      "    rowSdDiffs, rowSds, rowSums2, rowTabulates, rowVarDiffs, rowVars,\n",
      "    rowWeightedMads, rowWeightedMeans, rowWeightedMedians,\n",
      "    rowWeightedSds, rowWeightedVars\n",
      "\n",
      "\n",
      "Loading required package: GenomicRanges\n",
      "\n",
      "Loading required package: stats4\n",
      "\n",
      "Loading required package: BiocGenerics\n",
      "\n",
      "\n",
      "Attaching package: ‘BiocGenerics’\n",
      "\n",
      "\n",
      "The following objects are masked from ‘package:parallel’:\n",
      "\n",
      "    clusterApply, clusterApplyLB, clusterCall, clusterEvalQ,\n",
      "    clusterExport, clusterMap, parApply, parCapply, parLapply,\n",
      "    parLapplyLB, parRapply, parSapply, parSapplyLB\n",
      "\n",
      "\n",
      "The following objects are masked from ‘package:stats’:\n",
      "\n",
      "    IQR, mad, sd, var, xtabs\n",
      "\n",
      "\n",
      "The following objects are masked from ‘package:base’:\n",
      "\n",
      "    anyDuplicated, append, as.data.frame, basename, cbind, colnames,\n",
      "    dirname, do.call, duplicated, eval, evalq, Filter, Find, get, grep,\n",
      "    grepl, intersect, is.unsorted, lapply, Map, mapply, match, mget,\n",
      "    order, paste, pmax, pmax.int, pmin, pmin.int, Position, rank,\n",
      "    rbind, Reduce, rownames, sapply, setdiff, sort, table, tapply,\n",
      "    union, unique, unsplit, which.max, which.min\n",
      "\n",
      "\n",
      "Loading required package: S4Vectors\n",
      "\n",
      "\n",
      "Attaching package: ‘S4Vectors’\n",
      "\n",
      "\n",
      "The following objects are masked from ‘package:base’:\n",
      "\n",
      "    expand.grid, I, unname\n",
      "\n",
      "\n",
      "Loading required package: IRanges\n",
      "\n",
      "Loading required package: GenomeInfoDb\n",
      "\n",
      "Loading required package: Biobase\n",
      "\n",
      "Welcome to Bioconductor\n",
      "\n",
      "    Vignettes contain introductory material; view with\n",
      "    'browseVignettes()'. To cite Bioconductor, see\n",
      "    'citation(\"Biobase\")', and for packages 'citation(\"pkgname\")'.\n",
      "\n",
      "\n",
      "\n",
      "Attaching package: ‘Biobase’\n",
      "\n",
      "\n",
      "The following object is masked from ‘package:MatrixGenerics’:\n",
      "\n",
      "    rowMedians\n",
      "\n",
      "\n",
      "The following objects are masked from ‘package:matrixStats’:\n",
      "\n",
      "    anyMissing, rowMedians\n",
      "\n",
      "\n",
      "Setting options('download.file.method.GEOquery'='auto')\n",
      "\n",
      "Setting options('GEOquery.inmemory.gpl'=FALSE)\n",
      "\n",
      "\n",
      "Attaching package: ‘data.table’\n",
      "\n",
      "\n",
      "The following object is masked from ‘package:SummarizedExperiment’:\n",
      "\n",
      "    shift\n",
      "\n",
      "\n",
      "The following object is masked from ‘package:GenomicRanges’:\n",
      "\n",
      "    shift\n",
      "\n",
      "\n",
      "The following object is masked from ‘package:IRanges’:\n",
      "\n",
      "    shift\n",
      "\n",
      "\n",
      "The following objects are masked from ‘package:S4Vectors’:\n",
      "\n",
      "    first, second\n",
      "\n",
      "\n",
      "\n",
      "Attaching package: ‘purrr’\n",
      "\n",
      "\n",
      "The following object is masked from ‘package:data.table’:\n",
      "\n",
      "    transpose\n",
      "\n",
      "\n",
      "The following object is masked from ‘package:magrittr’:\n",
      "\n",
      "    set_names\n",
      "\n",
      "\n",
      "The following object is masked from ‘package:GenomicRanges’:\n",
      "\n",
      "    reduce\n",
      "\n",
      "\n",
      "The following object is masked from ‘package:IRanges’:\n",
      "\n",
      "    reduce\n",
      "\n",
      "\n",
      "The following objects are masked from ‘package:foreach’:\n",
      "\n",
      "    accumulate, when\n",
      "\n",
      "\n"
     ]
    }
   ],
   "source": [
    "library(ENmix)\n",
    "\n",
    "library(stringi)\n",
    "library(magrittr)\n",
    "library(data.table)\n",
    "library(svd)\n",
    "library(purrr)"
   ]
  },
  {
   "cell_type": "code",
   "execution_count": 2,
   "id": "1932ee89-0d22-47dc-8b9f-649b743fee01",
   "metadata": {},
   "outputs": [],
   "source": [
    "setwd(\"/home/iago/Documents/Epigenetica_curso_pipeline/Exercicios/EX3/GSE191276/\")\n",
    "\n",
    "dataDirectory <- (\"/home/iago/Documents/Epigenetica_curso_pipeline/Exercicios/EX3/GSE191276/\")"
   ]
  },
  {
   "cell_type": "code",
   "execution_count": 3,
   "id": "1957a3fd-ebed-413a-91c6-db4ad155d124",
   "metadata": {},
   "outputs": [
    {
     "data": {
      "text/html": [
       "<table class=\"dataframe\">\n",
       "<caption>A data.frame: 7 × 9</caption>\n",
       "<thead>\n",
       "\t<tr><th scope=col>GeoID</th><th scope=col>SampleID</th><th scope=col>Basename</th><th scope=col>Sentrix_ID</th><th scope=col>Sentrix_Position</th><th scope=col>Age</th><th scope=col>Sex</th><th scope=col>case.control</th><th scope=col>ancestry</th></tr>\n",
       "\t<tr><th scope=col>&lt;chr&gt;</th><th scope=col>&lt;chr&gt;</th><th scope=col>&lt;chr&gt;</th><th scope=col>&lt;dbl&gt;</th><th scope=col>&lt;chr&gt;</th><th scope=col>&lt;dbl&gt;</th><th scope=col>&lt;chr&gt;</th><th scope=col>&lt;chr&gt;</th><th scope=col>&lt;chr&gt;</th></tr>\n",
       "</thead>\n",
       "<tbody>\n",
       "\t<tr><td>GSM5742874</td><td>202702240141_R05C01</td><td>GSM5742874_202702240141_R05C01</td><td>202702240141</td><td>R05C01</td><td>  NA</td><td>undef</td><td>Pooled controls</td><td>NA                             </td></tr>\n",
       "\t<tr><td>GSM5742875</td><td>202702240141_R06C01</td><td>GSM5742875_202702240141_R06C01</td><td>202702240141</td><td>R06C01</td><td>17.8</td><td>F    </td><td>Case           </td><td>Asian                          </td></tr>\n",
       "\t<tr><td>GSM5742876</td><td>202702240141_R08C01</td><td>GSM5742876_202702240141_R08C01</td><td>202702240141</td><td>R08C01</td><td>27.0</td><td>M    </td><td>Case           </td><td>White                          </td></tr>\n",
       "\t<tr><td>GSM5742877</td><td>204088150175_R01C01</td><td>GSM5742877_204088150175_R01C01</td><td>204088150175</td><td>R01C01</td><td>20.9</td><td>M    </td><td>Case           </td><td>Asian                          </td></tr>\n",
       "\t<tr><td>GSM5742878</td><td>204088150175_R02C01</td><td>GSM5742878_204088150175_R02C01</td><td>204088150175</td><td>R02C01</td><td>18.5</td><td>F    </td><td>Control        </td><td>Unknown (Anonymous blood donor)</td></tr>\n",
       "\t<tr><td>GSM5742879</td><td>204088150175_R03C01</td><td>GSM5742879_204088150175_R03C01</td><td>204088150175</td><td>R03C01</td><td>21.0</td><td>M    </td><td>Control        </td><td>Unknown (Anonymous blood donor)</td></tr>\n",
       "\t<tr><td>GSM5742880</td><td>204088150175_R04C01</td><td>GSM5742880_204088150175_R04C01</td><td>204088150175</td><td>R04C01</td><td>25.0</td><td>M    </td><td>Control        </td><td>Unknown (Anonymous blood donor)</td></tr>\n",
       "</tbody>\n",
       "</table>\n"
      ],
      "text/latex": [
       "A data.frame: 7 × 9\n",
       "\\begin{tabular}{lllllllll}\n",
       " GeoID & SampleID & Basename & Sentrix\\_ID & Sentrix\\_Position & Age & Sex & case.control & ancestry\\\\\n",
       " <chr> & <chr> & <chr> & <dbl> & <chr> & <dbl> & <chr> & <chr> & <chr>\\\\\n",
       "\\hline\n",
       "\t GSM5742874 & 202702240141\\_R05C01 & GSM5742874\\_202702240141\\_R05C01 & 202702240141 & R05C01 &   NA & undef & Pooled controls & NA                             \\\\\n",
       "\t GSM5742875 & 202702240141\\_R06C01 & GSM5742875\\_202702240141\\_R06C01 & 202702240141 & R06C01 & 17.8 & F     & Case            & Asian                          \\\\\n",
       "\t GSM5742876 & 202702240141\\_R08C01 & GSM5742876\\_202702240141\\_R08C01 & 202702240141 & R08C01 & 27.0 & M     & Case            & White                          \\\\\n",
       "\t GSM5742877 & 204088150175\\_R01C01 & GSM5742877\\_204088150175\\_R01C01 & 204088150175 & R01C01 & 20.9 & M     & Case            & Asian                          \\\\\n",
       "\t GSM5742878 & 204088150175\\_R02C01 & GSM5742878\\_204088150175\\_R02C01 & 204088150175 & R02C01 & 18.5 & F     & Control         & Unknown (Anonymous blood donor)\\\\\n",
       "\t GSM5742879 & 204088150175\\_R03C01 & GSM5742879\\_204088150175\\_R03C01 & 204088150175 & R03C01 & 21.0 & M     & Control         & Unknown (Anonymous blood donor)\\\\\n",
       "\t GSM5742880 & 204088150175\\_R04C01 & GSM5742880\\_204088150175\\_R04C01 & 204088150175 & R04C01 & 25.0 & M     & Control         & Unknown (Anonymous blood donor)\\\\\n",
       "\\end{tabular}\n"
      ],
      "text/markdown": [
       "\n",
       "A data.frame: 7 × 9\n",
       "\n",
       "| GeoID &lt;chr&gt; | SampleID &lt;chr&gt; | Basename &lt;chr&gt; | Sentrix_ID &lt;dbl&gt; | Sentrix_Position &lt;chr&gt; | Age &lt;dbl&gt; | Sex &lt;chr&gt; | case.control &lt;chr&gt; | ancestry &lt;chr&gt; |\n",
       "|---|---|---|---|---|---|---|---|---|\n",
       "| GSM5742874 | 202702240141_R05C01 | GSM5742874_202702240141_R05C01 | 202702240141 | R05C01 |   NA | undef | Pooled controls | NA                              |\n",
       "| GSM5742875 | 202702240141_R06C01 | GSM5742875_202702240141_R06C01 | 202702240141 | R06C01 | 17.8 | F     | Case            | Asian                           |\n",
       "| GSM5742876 | 202702240141_R08C01 | GSM5742876_202702240141_R08C01 | 202702240141 | R08C01 | 27.0 | M     | Case            | White                           |\n",
       "| GSM5742877 | 204088150175_R01C01 | GSM5742877_204088150175_R01C01 | 204088150175 | R01C01 | 20.9 | M     | Case            | Asian                           |\n",
       "| GSM5742878 | 204088150175_R02C01 | GSM5742878_204088150175_R02C01 | 204088150175 | R02C01 | 18.5 | F     | Control         | Unknown (Anonymous blood donor) |\n",
       "| GSM5742879 | 204088150175_R03C01 | GSM5742879_204088150175_R03C01 | 204088150175 | R03C01 | 21.0 | M     | Control         | Unknown (Anonymous blood donor) |\n",
       "| GSM5742880 | 204088150175_R04C01 | GSM5742880_204088150175_R04C01 | 204088150175 | R04C01 | 25.0 | M     | Control         | Unknown (Anonymous blood donor) |\n",
       "\n"
      ],
      "text/plain": [
       "  GeoID      SampleID            Basename                       Sentrix_ID  \n",
       "1 GSM5742874 202702240141_R05C01 GSM5742874_202702240141_R05C01 202702240141\n",
       "2 GSM5742875 202702240141_R06C01 GSM5742875_202702240141_R06C01 202702240141\n",
       "3 GSM5742876 202702240141_R08C01 GSM5742876_202702240141_R08C01 202702240141\n",
       "4 GSM5742877 204088150175_R01C01 GSM5742877_204088150175_R01C01 204088150175\n",
       "5 GSM5742878 204088150175_R02C01 GSM5742878_204088150175_R02C01 204088150175\n",
       "6 GSM5742879 204088150175_R03C01 GSM5742879_204088150175_R03C01 204088150175\n",
       "7 GSM5742880 204088150175_R04C01 GSM5742880_204088150175_R04C01 204088150175\n",
       "  Sentrix_Position Age  Sex   case.control    ancestry                       \n",
       "1 R05C01             NA undef Pooled controls NA                             \n",
       "2 R06C01           17.8 F     Case            Asian                          \n",
       "3 R08C01           27.0 M     Case            White                          \n",
       "4 R01C01           20.9 M     Case            Asian                          \n",
       "5 R02C01           18.5 F     Control         Unknown (Anonymous blood donor)\n",
       "6 R03C01           21.0 M     Control         Unknown (Anonymous blood donor)\n",
       "7 R04C01           25.0 M     Control         Unknown (Anonymous blood donor)"
      ]
     },
     "metadata": {},
     "output_type": "display_data"
    }
   ],
   "source": [
    "sheet <- read.csv(\"./phenotype_file_GSE191276.csv\")\n",
    "sheet"
   ]
  },
  {
   "cell_type": "code",
   "execution_count": 4,
   "id": "ca19ef8d-1fb2-4f2a-ba98-a0d6ae32be03",
   "metadata": {
    "scrolled": true
   },
   "outputs": [
    {
     "data": {
      "text/html": [
       "'/home/iago/Documents/Epigenetica_curso_pipeline/Exercicios/EX3/GSE191276/'"
      ],
      "text/latex": [
       "'/home/iago/Documents/Epigenetica\\_curso\\_pipeline/Exercicios/EX3/GSE191276/'"
      ],
      "text/markdown": [
       "'/home/iago/Documents/Epigenetica_curso_pipeline/Exercicios/EX3/GSE191276/'"
      ],
      "text/plain": [
       "[1] \"/home/iago/Documents/Epigenetica_curso_pipeline/Exercicios/EX3/GSE191276/\""
      ]
     },
     "metadata": {},
     "output_type": "display_data"
    },
    {
     "name": "stderr",
     "output_type": "stream",
     "text": [
      "Loading required package: minfi\n",
      "\n",
      "Loading required package: Biostrings\n",
      "\n",
      "Loading required package: XVector\n",
      "\n",
      "\n",
      "Attaching package: ‘XVector’\n",
      "\n",
      "\n",
      "The following object is masked from ‘package:purrr’:\n",
      "\n",
      "    compact\n",
      "\n",
      "\n",
      "\n",
      "Attaching package: ‘Biostrings’\n",
      "\n",
      "\n",
      "The following object is masked from ‘package:base’:\n",
      "\n",
      "    strsplit\n",
      "\n",
      "\n",
      "Loading required package: bumphunter\n",
      "\n",
      "Loading required package: locfit\n",
      "\n",
      "locfit 1.5-9.7 \t 2023-01-02\n",
      "\n",
      "\n",
      "Attaching package: ‘locfit’\n",
      "\n",
      "\n",
      "The following object is masked from ‘package:purrr’:\n",
      "\n",
      "    none\n",
      "\n",
      "\n"
     ]
    },
    {
     "data": {
      "text/plain": [
       "class: rgDataSet \n",
       "dim: 1008987 7 \n",
       "metadata(3): ictrl Array annotation\n",
       "assays(3): Red Green NBeads\n",
       "rownames(1008987): 1600101 1600111 ... 99810978 99810992\n",
       "rowData names(45): Name Address ... Methyl450_Loci Random_Loci\n",
       "colnames(7): GSM5742874_202702240141_R05C01\n",
       "  GSM5742875_202702240141_R06C01 ... GSM5742879_204088150175_R03C01\n",
       "  GSM5742880_204088150175_R04C01\n",
       "colData names(0):\n",
       "Array:  IlluminaHumanMethylationEPIC \n",
       "Annotation:  ilm10b2.hg19 "
      ]
     },
     "metadata": {},
     "output_type": "display_data"
    }
   ],
   "source": [
    "dataDirectory\n",
    "library(IlluminaHumanMethylationEPICanno.ilm10b2.hg19)\n",
    "#rgSet <- read.metharray.exp(targets = sheet, extended = TRUE, force =TRUE)\n",
    "\n",
    "if (file.exists(\"./enmix-rgSet.RData\")){\n",
    "    load(\"./enmix-rgSet.RData\")\n",
    "} else{\n",
    "    setwd(dataDirectory)\n",
    "    rgSet <- readidat(path = dataDirectory, verbose = TRUE)\n",
    "    save(rgSet, file = \"./enmix-rgSet.RData\")\n",
    "}\n",
    "rgSet\n"
   ]
  },
  {
   "cell_type": "code",
   "execution_count": 5,
   "id": "0384b195-0d19-43e1-9d56-bae08fb34c9a",
   "metadata": {},
   "outputs": [
    {
     "data": {
      "text/html": [
       "<style>\n",
       ".list-inline {list-style: none; margin:0; padding: 0}\n",
       ".list-inline>li {display: inline-block}\n",
       ".list-inline>li:not(:last-child)::after {content: \"\\00b7\"; padding: 0 .5ex}\n",
       "</style>\n",
       "<ol class=list-inline><li>'dataDirectory'</li><li>'rgSet'</li><li>'sheet'</li></ol>\n"
      ],
      "text/latex": [
       "\\begin{enumerate*}\n",
       "\\item 'dataDirectory'\n",
       "\\item 'rgSet'\n",
       "\\item 'sheet'\n",
       "\\end{enumerate*}\n"
      ],
      "text/markdown": [
       "1. 'dataDirectory'\n",
       "2. 'rgSet'\n",
       "3. 'sheet'\n",
       "\n",
       "\n"
      ],
      "text/plain": [
       "[1] \"dataDirectory\" \"rgSet\"         \"sheet\"        "
      ]
     },
     "metadata": {},
     "output_type": "display_data"
    }
   ],
   "source": [
    "ls()"
   ]
  },
  {
   "cell_type": "code",
   "execution_count": 6,
   "id": "3e7ed91d-70fc-4feb-af01-b5fdb45791cf",
   "metadata": {},
   "outputs": [],
   "source": [
    "mraw <- getmeth(rgSet)"
   ]
  },
  {
   "cell_type": "code",
   "execution_count": 7,
   "id": "4b8866fa-9fa6-40f5-8179-bf1f0fc166e3",
   "metadata": {},
   "outputs": [
    {
     "data": {
      "text/plain": [
       "class: methDataSet \n",
       "dim: 866150 7 \n",
       "metadata(1): preprocessMethod\n",
       "assays(2): Meth Unmeth\n",
       "rownames(866150): cg00000622 cg00001245 ... cg06284364 cg05688618\n",
       "rowData names(46): Name AddressA ... Methyl450_Loci Random_Loci\n",
       "colnames(7): GSM5742874_202702240141_R05C01\n",
       "  GSM5742875_202702240141_R06C01 ... GSM5742879_204088150175_R03C01\n",
       "  GSM5742880_204088150175_R04C01\n",
       "colData names(0):\n",
       "PreprocessMethod:   "
      ]
     },
     "metadata": {},
     "output_type": "display_data"
    }
   ],
   "source": [
    "mraw\n",
    "save(mraw, file = \"./enmix-methylSet.RData\")"
   ]
  },
  {
   "cell_type": "code",
   "execution_count": 8,
   "id": "8371056e-6fc4-49d9-aab6-36bd2b62e5f8",
   "metadata": {},
   "outputs": [],
   "source": [
    "beta_raw <- getB(mraw)\n",
    "save(beta_raw, file = \"./enmix-betaRaw.RData\")"
   ]
  },
  {
   "cell_type": "markdown",
   "id": "8a471dfc-6863-4a2e-b97a-9e5bb0aff6fe",
   "metadata": {},
   "source": [
    "### Busca por sex mismatches "
   ]
  },
  {
   "cell_type": "code",
   "execution_count": 9,
   "id": "1610d3a7-c145-4aed-9f79-5b3fceab8545",
   "metadata": {},
   "outputs": [
    {
     "data": {
      "text/html": [
       "<table class=\"dataframe\">\n",
       "<caption>A data.frame: 7 × 2</caption>\n",
       "<thead>\n",
       "\t<tr><th></th><th scope=col>id</th><th scope=col>sex</th></tr>\n",
       "\t<tr><th></th><th scope=col>&lt;chr&gt;</th><th scope=col>&lt;chr&gt;</th></tr>\n",
       "</thead>\n",
       "<tbody>\n",
       "\t<tr><th scope=row>GSM5742874_202702240141_R05C01</th><td>GSM5742874_202702240141_R05C01</td><td>M</td></tr>\n",
       "\t<tr><th scope=row>GSM5742875_202702240141_R06C01</th><td>GSM5742875_202702240141_R06C01</td><td>F</td></tr>\n",
       "\t<tr><th scope=row>GSM5742876_202702240141_R08C01</th><td>GSM5742876_202702240141_R08C01</td><td>M</td></tr>\n",
       "\t<tr><th scope=row>GSM5742877_204088150175_R01C01</th><td>GSM5742877_204088150175_R01C01</td><td>M</td></tr>\n",
       "\t<tr><th scope=row>GSM5742878_204088150175_R02C01</th><td>GSM5742878_204088150175_R02C01</td><td>F</td></tr>\n",
       "\t<tr><th scope=row>GSM5742879_204088150175_R03C01</th><td>GSM5742879_204088150175_R03C01</td><td>M</td></tr>\n",
       "\t<tr><th scope=row>GSM5742880_204088150175_R04C01</th><td>GSM5742880_204088150175_R04C01</td><td>M</td></tr>\n",
       "</tbody>\n",
       "</table>\n"
      ],
      "text/latex": [
       "A data.frame: 7 × 2\n",
       "\\begin{tabular}{r|ll}\n",
       "  & id & sex\\\\\n",
       "  & <chr> & <chr>\\\\\n",
       "\\hline\n",
       "\tGSM5742874\\_202702240141\\_R05C01 & GSM5742874\\_202702240141\\_R05C01 & M\\\\\n",
       "\tGSM5742875\\_202702240141\\_R06C01 & GSM5742875\\_202702240141\\_R06C01 & F\\\\\n",
       "\tGSM5742876\\_202702240141\\_R08C01 & GSM5742876\\_202702240141\\_R08C01 & M\\\\\n",
       "\tGSM5742877\\_204088150175\\_R01C01 & GSM5742877\\_204088150175\\_R01C01 & M\\\\\n",
       "\tGSM5742878\\_204088150175\\_R02C01 & GSM5742878\\_204088150175\\_R02C01 & F\\\\\n",
       "\tGSM5742879\\_204088150175\\_R03C01 & GSM5742879\\_204088150175\\_R03C01 & M\\\\\n",
       "\tGSM5742880\\_204088150175\\_R04C01 & GSM5742880\\_204088150175\\_R04C01 & M\\\\\n",
       "\\end{tabular}\n"
      ],
      "text/markdown": [
       "\n",
       "A data.frame: 7 × 2\n",
       "\n",
       "| <!--/--> | id &lt;chr&gt; | sex &lt;chr&gt; |\n",
       "|---|---|---|\n",
       "| GSM5742874_202702240141_R05C01 | GSM5742874_202702240141_R05C01 | M |\n",
       "| GSM5742875_202702240141_R06C01 | GSM5742875_202702240141_R06C01 | F |\n",
       "| GSM5742876_202702240141_R08C01 | GSM5742876_202702240141_R08C01 | M |\n",
       "| GSM5742877_204088150175_R01C01 | GSM5742877_204088150175_R01C01 | M |\n",
       "| GSM5742878_204088150175_R02C01 | GSM5742878_204088150175_R02C01 | F |\n",
       "| GSM5742879_204088150175_R03C01 | GSM5742879_204088150175_R03C01 | M |\n",
       "| GSM5742880_204088150175_R04C01 | GSM5742880_204088150175_R04C01 | M |\n",
       "\n"
      ],
      "text/plain": [
       "                               id                             sex\n",
       "GSM5742874_202702240141_R05C01 GSM5742874_202702240141_R05C01 M  \n",
       "GSM5742875_202702240141_R06C01 GSM5742875_202702240141_R06C01 F  \n",
       "GSM5742876_202702240141_R08C01 GSM5742876_202702240141_R08C01 M  \n",
       "GSM5742877_204088150175_R01C01 GSM5742877_204088150175_R01C01 M  \n",
       "GSM5742878_204088150175_R02C01 GSM5742878_204088150175_R02C01 F  \n",
       "GSM5742879_204088150175_R03C01 GSM5742879_204088150175_R03C01 M  \n",
       "GSM5742880_204088150175_R04C01 GSM5742880_204088150175_R04C01 M  "
      ]
     },
     "metadata": {},
     "output_type": "display_data"
    },
    {
     "name": "stdout",
     "output_type": "stream",
     "text": [
      "[1] \"Há discordância de sexos na amostra: 1 indivíduos\"\n",
      "       GeoID            SampleID                       Basename   Sentrix_ID\n",
      "1 GSM5742874 202702240141_R05C01 GSM5742874_202702240141_R05C01 202702240141\n",
      "  Sentrix_Position Age   Sex    case.control ancestry predictedSex\n",
      "1           R05C01  NA undef Pooled controls     <NA>            M\n"
     ]
    }
   ],
   "source": [
    "predSex <- ENmix::predSex(rgSet)\n",
    "predSex\n",
    "sheet$predictedSex <- predSex$sex \n",
    "\n",
    "if(!all(sheet$Sex == sheet$predictedSex)){\n",
    "    mismatch <- sheet[which(sheet$Sex != sheet$predictedSex),]\n",
    "   print(paste(\"Há discordância de sexos na amostra:\", nrow(mismatch), \"indivíduos\"))\n",
    "   print(mismatch)\n",
    "} else{\n",
    "    print(\"Não há discordância de sexos na amostra\")\n",
    "}"
   ]
  },
  {
   "cell_type": "markdown",
   "id": "26818b64-cb62-4a1b-95cd-2036c35f16a0",
   "metadata": {},
   "source": [
    "### quality checks\n",
    "\n",
    "Vamos criar uma pasta separada para armazenar os gráficos gerados pelo QC do ENmix"
   ]
  },
  {
   "cell_type": "code",
   "execution_count": 10,
   "id": "99fa0e4e-9212-4964-9e53-abe7bc855d01",
   "metadata": {},
   "outputs": [
    {
     "name": "stdout",
     "output_type": "stream",
     "text": [
      "Plotting  STAINING .jpg \n",
      "Plotting  EXTENSION .jpg \n",
      "Plotting  HYBRIDIZATION .jpg \n",
      "Plotting  TARGET_REMOVAL .jpg \n",
      "Plotting  BISULFITE_CONVERSION_I .jpg \n",
      "Plotting  BISULFITE_CONVERSION_II .jpg \n",
      "Plotting  SPECIFICITY_I .jpg \n",
      "Plotting  SPECIFICITY_II .jpg \n",
      "Plotting  NON-POLYMORPHIC .jpg \n",
      "Plotting  NEGATIVE .jpg \n",
      "Plotting  NORM_A .jpg \n",
      "Plotting  NORM_C .jpg \n",
      "Plotting  NORM_G .jpg \n",
      "Plotting  NORM_T .jpg \n",
      "Plotting  NORM_ACGT .jpg \n"
     ]
    }
   ],
   "source": [
    "system(\"mkdir ./ENmix-QCgraphs\")\n",
    "setwd(\"./ENmix-QCgraphs\")\n",
    "\n",
    "plotCtrl(rgSet)\n",
    "setwd(\"../\")"
   ]
  },
  {
   "cell_type": "markdown",
   "id": "d94bb534-cffb-4be2-bd06-4a019d437aba",
   "metadata": {},
   "source": [
    "Podemos abrir o nosso explorardor de arquivos e olhar os diversos gráficos para avaliar o compartamento das amostras e, se necessário, excluí-las.\n",
    "***\n",
    "#### QCInfo()"
   ]
  },
  {
   "cell_type": "code",
   "execution_count": 10,
   "id": "ac7dcb92-98cd-4e4d-a73e-7655697fd605",
   "metadata": {},
   "outputs": [
    {
     "name": "stdout",
     "output_type": "stream",
     "text": [
      "0  samples with percentage of low quality CpG value greater than  0.05  or bisulfite intensity less than  13526.35 \n",
      "2818  CpGs with percentage of low quality value greater than  0.05 \n",
      "Ploting qc_sample.jpg ...Done\n",
      "Ploting qc_CpG.jpg ...Done\n",
      "Identifying ourlier samples based on beta or total intensity values...\n",
      "After excluding low quality samples and CpGs\n",
      "0  samples are outliers based on averaged total intensity value \n",
      "1  samples are outliers in beta value distribution \n",
      "1  outlier samples were added into badsample list\n",
      "WARNING: Sample size may be too small to correctly identify outlier samples!\n",
      "RECOMMAND: set outlier=FALSE or double check total intensity and beta value \n",
      "     distribution plots to confirm\n",
      "Ploting freqpolygon_beta_beforeQC.jpg ...Done\n",
      "Ploting freqpolygon_beta_afterQC.jpg ...Done\n"
     ]
    }
   ],
   "source": [
    "qc<-QCinfo(rgSet,detPtype=\"negative\",detPthre=0.000001)\n",
    "save(qc, file = \"enmix-qc.RData\")"
   ]
  },
  {
   "cell_type": "markdown",
   "id": "45d0721b-d1ce-45ad-8be0-857cb5db6e29",
   "metadata": {},
   "source": [
    "O QC do ENmix entregou uma amostra marcada como \"BadSample\" na distribuição beta. Sendo assim, iremos excluí-la."
   ]
  },
  {
   "cell_type": "code",
   "execution_count": 10,
   "id": "d77006a8-3f0b-43a5-9cd3-404b43205b35",
   "metadata": {},
   "outputs": [
    {
     "data": {
      "text/html": [
       "'GSM5742876_202702240141_R08C01'"
      ],
      "text/latex": [
       "'GSM5742876\\_202702240141\\_R08C01'"
      ],
      "text/markdown": [
       "'GSM5742876_202702240141_R08C01'"
      ],
      "text/plain": [
       "[1] \"GSM5742876_202702240141_R08C01\""
      ]
     },
     "metadata": {},
     "output_type": "display_data"
    }
   ],
   "source": [
    "qc$badsample"
   ]
  },
  {
   "cell_type": "code",
   "execution_count": 11,
   "id": "58d317ef-dc0f-49fb-b40f-a7f3337e5f07",
   "metadata": {},
   "outputs": [
    {
     "data": {
      "text/html": [
       "<table class=\"dataframe\">\n",
       "<caption>A data.frame: 7 × 11</caption>\n",
       "<thead>\n",
       "\t<tr><th scope=col>GeoID</th><th scope=col>SampleID</th><th scope=col>Basename</th><th scope=col>Sentrix_ID</th><th scope=col>Sentrix_Position</th><th scope=col>Age</th><th scope=col>Sex</th><th scope=col>case.control</th><th scope=col>ancestry</th><th scope=col>predictedSex</th><th scope=col>enmixfailed</th></tr>\n",
       "\t<tr><th scope=col>&lt;chr&gt;</th><th scope=col>&lt;chr&gt;</th><th scope=col>&lt;chr&gt;</th><th scope=col>&lt;dbl&gt;</th><th scope=col>&lt;chr&gt;</th><th scope=col>&lt;dbl&gt;</th><th scope=col>&lt;chr&gt;</th><th scope=col>&lt;chr&gt;</th><th scope=col>&lt;chr&gt;</th><th scope=col>&lt;chr&gt;</th><th scope=col>&lt;lgl&gt;</th></tr>\n",
       "</thead>\n",
       "<tbody>\n",
       "\t<tr><td>GSM5742874</td><td>202702240141_R05C01</td><td>GSM5742874_202702240141_R05C01</td><td>202702240141</td><td>R05C01</td><td>  NA</td><td>undef</td><td>Pooled controls</td><td>NA                             </td><td>M</td><td>FALSE</td></tr>\n",
       "\t<tr><td>GSM5742875</td><td>202702240141_R06C01</td><td>GSM5742875_202702240141_R06C01</td><td>202702240141</td><td>R06C01</td><td>17.8</td><td>F    </td><td>Case           </td><td>Asian                          </td><td>F</td><td>FALSE</td></tr>\n",
       "\t<tr><td>GSM5742876</td><td>202702240141_R08C01</td><td>GSM5742876_202702240141_R08C01</td><td>202702240141</td><td>R08C01</td><td>27.0</td><td>M    </td><td>Case           </td><td>White                          </td><td>M</td><td> TRUE</td></tr>\n",
       "\t<tr><td>GSM5742877</td><td>204088150175_R01C01</td><td>GSM5742877_204088150175_R01C01</td><td>204088150175</td><td>R01C01</td><td>20.9</td><td>M    </td><td>Case           </td><td>Asian                          </td><td>M</td><td>FALSE</td></tr>\n",
       "\t<tr><td>GSM5742878</td><td>204088150175_R02C01</td><td>GSM5742878_204088150175_R02C01</td><td>204088150175</td><td>R02C01</td><td>18.5</td><td>F    </td><td>Control        </td><td>Unknown (Anonymous blood donor)</td><td>F</td><td>FALSE</td></tr>\n",
       "\t<tr><td>GSM5742879</td><td>204088150175_R03C01</td><td>GSM5742879_204088150175_R03C01</td><td>204088150175</td><td>R03C01</td><td>21.0</td><td>M    </td><td>Control        </td><td>Unknown (Anonymous blood donor)</td><td>M</td><td>FALSE</td></tr>\n",
       "\t<tr><td>GSM5742880</td><td>204088150175_R04C01</td><td>GSM5742880_204088150175_R04C01</td><td>204088150175</td><td>R04C01</td><td>25.0</td><td>M    </td><td>Control        </td><td>Unknown (Anonymous blood donor)</td><td>M</td><td>FALSE</td></tr>\n",
       "</tbody>\n",
       "</table>\n"
      ],
      "text/latex": [
       "A data.frame: 7 × 11\n",
       "\\begin{tabular}{lllllllllll}\n",
       " GeoID & SampleID & Basename & Sentrix\\_ID & Sentrix\\_Position & Age & Sex & case.control & ancestry & predictedSex & enmixfailed\\\\\n",
       " <chr> & <chr> & <chr> & <dbl> & <chr> & <dbl> & <chr> & <chr> & <chr> & <chr> & <lgl>\\\\\n",
       "\\hline\n",
       "\t GSM5742874 & 202702240141\\_R05C01 & GSM5742874\\_202702240141\\_R05C01 & 202702240141 & R05C01 &   NA & undef & Pooled controls & NA                              & M & FALSE\\\\\n",
       "\t GSM5742875 & 202702240141\\_R06C01 & GSM5742875\\_202702240141\\_R06C01 & 202702240141 & R06C01 & 17.8 & F     & Case            & Asian                           & F & FALSE\\\\\n",
       "\t GSM5742876 & 202702240141\\_R08C01 & GSM5742876\\_202702240141\\_R08C01 & 202702240141 & R08C01 & 27.0 & M     & Case            & White                           & M &  TRUE\\\\\n",
       "\t GSM5742877 & 204088150175\\_R01C01 & GSM5742877\\_204088150175\\_R01C01 & 204088150175 & R01C01 & 20.9 & M     & Case            & Asian                           & M & FALSE\\\\\n",
       "\t GSM5742878 & 204088150175\\_R02C01 & GSM5742878\\_204088150175\\_R02C01 & 204088150175 & R02C01 & 18.5 & F     & Control         & Unknown (Anonymous blood donor) & F & FALSE\\\\\n",
       "\t GSM5742879 & 204088150175\\_R03C01 & GSM5742879\\_204088150175\\_R03C01 & 204088150175 & R03C01 & 21.0 & M     & Control         & Unknown (Anonymous blood donor) & M & FALSE\\\\\n",
       "\t GSM5742880 & 204088150175\\_R04C01 & GSM5742880\\_204088150175\\_R04C01 & 204088150175 & R04C01 & 25.0 & M     & Control         & Unknown (Anonymous blood donor) & M & FALSE\\\\\n",
       "\\end{tabular}\n"
      ],
      "text/markdown": [
       "\n",
       "A data.frame: 7 × 11\n",
       "\n",
       "| GeoID &lt;chr&gt; | SampleID &lt;chr&gt; | Basename &lt;chr&gt; | Sentrix_ID &lt;dbl&gt; | Sentrix_Position &lt;chr&gt; | Age &lt;dbl&gt; | Sex &lt;chr&gt; | case.control &lt;chr&gt; | ancestry &lt;chr&gt; | predictedSex &lt;chr&gt; | enmixfailed &lt;lgl&gt; |\n",
       "|---|---|---|---|---|---|---|---|---|---|---|\n",
       "| GSM5742874 | 202702240141_R05C01 | GSM5742874_202702240141_R05C01 | 202702240141 | R05C01 |   NA | undef | Pooled controls | NA                              | M | FALSE |\n",
       "| GSM5742875 | 202702240141_R06C01 | GSM5742875_202702240141_R06C01 | 202702240141 | R06C01 | 17.8 | F     | Case            | Asian                           | F | FALSE |\n",
       "| GSM5742876 | 202702240141_R08C01 | GSM5742876_202702240141_R08C01 | 202702240141 | R08C01 | 27.0 | M     | Case            | White                           | M |  TRUE |\n",
       "| GSM5742877 | 204088150175_R01C01 | GSM5742877_204088150175_R01C01 | 204088150175 | R01C01 | 20.9 | M     | Case            | Asian                           | M | FALSE |\n",
       "| GSM5742878 | 204088150175_R02C01 | GSM5742878_204088150175_R02C01 | 204088150175 | R02C01 | 18.5 | F     | Control         | Unknown (Anonymous blood donor) | F | FALSE |\n",
       "| GSM5742879 | 204088150175_R03C01 | GSM5742879_204088150175_R03C01 | 204088150175 | R03C01 | 21.0 | M     | Control         | Unknown (Anonymous blood donor) | M | FALSE |\n",
       "| GSM5742880 | 204088150175_R04C01 | GSM5742880_204088150175_R04C01 | 204088150175 | R04C01 | 25.0 | M     | Control         | Unknown (Anonymous blood donor) | M | FALSE |\n",
       "\n"
      ],
      "text/plain": [
       "  GeoID      SampleID            Basename                       Sentrix_ID  \n",
       "1 GSM5742874 202702240141_R05C01 GSM5742874_202702240141_R05C01 202702240141\n",
       "2 GSM5742875 202702240141_R06C01 GSM5742875_202702240141_R06C01 202702240141\n",
       "3 GSM5742876 202702240141_R08C01 GSM5742876_202702240141_R08C01 202702240141\n",
       "4 GSM5742877 204088150175_R01C01 GSM5742877_204088150175_R01C01 204088150175\n",
       "5 GSM5742878 204088150175_R02C01 GSM5742878_204088150175_R02C01 204088150175\n",
       "6 GSM5742879 204088150175_R03C01 GSM5742879_204088150175_R03C01 204088150175\n",
       "7 GSM5742880 204088150175_R04C01 GSM5742880_204088150175_R04C01 204088150175\n",
       "  Sentrix_Position Age  Sex   case.control    ancestry                       \n",
       "1 R05C01             NA undef Pooled controls NA                             \n",
       "2 R06C01           17.8 F     Case            Asian                          \n",
       "3 R08C01           27.0 M     Case            White                          \n",
       "4 R01C01           20.9 M     Case            Asian                          \n",
       "5 R02C01           18.5 F     Control         Unknown (Anonymous blood donor)\n",
       "6 R03C01           21.0 M     Control         Unknown (Anonymous blood donor)\n",
       "7 R04C01           25.0 M     Control         Unknown (Anonymous blood donor)\n",
       "  predictedSex enmixfailed\n",
       "1 M            FALSE      \n",
       "2 F            FALSE      \n",
       "3 M             TRUE      \n",
       "4 M            FALSE      \n",
       "5 F            FALSE      \n",
       "6 M            FALSE      \n",
       "7 M            FALSE      "
      ]
     },
     "metadata": {},
     "output_type": "display_data"
    }
   ],
   "source": [
    "sheet$enmixfailed <- ifelse(sheet$Basename %in% qc$badsample, TRUE,FALSE)\n",
    "sheet"
   ]
  },
  {
   "cell_type": "code",
   "execution_count": 12,
   "id": "4f306859-17f1-40e3-8c5c-865e222a976a",
   "metadata": {},
   "outputs": [],
   "source": [
    "write.csv(sheet,\"phenotype_file_GSE191276_enmix.csv\")"
   ]
  },
  {
   "cell_type": "markdown",
   "id": "33d7ffbe-435f-4a56-b20f-cb16a19d32d6",
   "metadata": {},
   "source": [
    "***\n",
    "O processENmix já irá gerar um methylSet corrigido para dye-bias e background correction.\n",
    "\n",
    "Além disso, ele irá excluir as probes e indivíduos sinalizados como \"basamples\" ou \"badcpgs\" indicados no QC."
   ]
  },
  {
   "cell_type": "markdown",
   "id": "afd202c5-9636-4dcf-9ecf-988d247ce558",
   "metadata": {},
   "source": [
    "### Atenção!!!\n",
    "* O numero de cores em nCores deve ser escolhido com cautela em computadores pessoais, já que mais cores demandam maior poder computacionao. Isto, pode acabar deixando o seu computador lento.\n",
    "* Entretanto, em HPCs *(High Performance Computers)* como servidores externos mais poderosos, quanto mais cores disponíveis você puder utilizarmais rápido será o processamento\n",
    "    * **Recomendado**: 1 a 3 cores em computadores comumns."
   ]
  },
  {
   "cell_type": "code",
   "execution_count": 14,
   "id": "ec8a9155-8437-42b5-a71f-394479bdc3f4",
   "metadata": {},
   "outputs": [],
   "source": [
    "mdat <- preprocessENmix(rgSet, bgParaEst=\"oob\", dyeCorr=\"RELIC\",\n",
    "                      QCinfo=qc, nCores=3)"
   ]
  },
  {
   "cell_type": "code",
   "execution_count": 17,
   "id": "40892c24-f76b-4075-8b6b-a1bd54745439",
   "metadata": {},
   "outputs": [
    {
     "data": {
      "text/plain": [
       "class: methDataSet \n",
       "dim: 863332 6 \n",
       "metadata(1): preprocessMethod\n",
       "assays(2): Meth Unmeth\n",
       "rownames(863332): cg00000622 cg00001245 ... cg06284364 cg05688618\n",
       "rowData names(46): Name AddressA ... Methyl450_Loci Random_Loci\n",
       "colnames(6): GSM5742874_202702240141_R05C01\n",
       "  GSM5742875_202702240141_R06C01 ... GSM5742879_204088150175_R03C01\n",
       "  GSM5742880_204088150175_R04C01\n",
       "colData names(0):\n",
       "PreprocessMethod:  Backgroud_corr: ENmix,oob dyeBiasCorrection: RELIC "
      ]
     },
     "metadata": {},
     "output_type": "display_data"
    }
   ],
   "source": [
    "mdat"
   ]
  },
  {
   "cell_type": "markdown",
   "id": "86c879d3-3a69-489f-816f-0aecc1692e95",
   "metadata": {},
   "source": [
    "***\n",
    "Para obter um MethylSet sem nenhuma correção, vc pode usar o getMeth()"
   ]
  },
  {
   "cell_type": "code",
   "execution_count": 18,
   "id": "846bd8e3-8608-4449-8459-833ab719a75d",
   "metadata": {},
   "outputs": [],
   "source": [
    "beta <- ENmix::getB(mdat, \"illumina\")"
   ]
  },
  {
   "cell_type": "code",
   "execution_count": 19,
   "id": "50eebf26-24db-4754-9c99-064a3ee7e2af",
   "metadata": {},
   "outputs": [
    {
     "data": {
      "text/html": [
       "<table class=\"dataframe\">\n",
       "<caption>A matrix: 6 × 6 of type dbl</caption>\n",
       "<thead>\n",
       "\t<tr><th></th><th scope=col>GSM5742874_202702240141_R05C01</th><th scope=col>GSM5742875_202702240141_R06C01</th><th scope=col>GSM5742877_204088150175_R01C01</th><th scope=col>GSM5742878_204088150175_R02C01</th><th scope=col>GSM5742879_204088150175_R03C01</th><th scope=col>GSM5742880_204088150175_R04C01</th></tr>\n",
       "</thead>\n",
       "<tbody>\n",
       "\t<tr><th scope=row>cg00000622</th><td>0.007329217</td><td>0.010672027</td><td>0.006730568</td><td>0.002323093</td><td>0.009647042</td><td>0.008670895</td></tr>\n",
       "\t<tr><th scope=row>cg00001245</th><td>0.017519944</td><td>0.009027277</td><td>0.009261359</td><td>0.005474636</td><td>0.004596648</td><td>0.006741265</td></tr>\n",
       "\t<tr><th scope=row>cg00001510</th><td>0.478936680</td><td>0.453800202</td><td>0.415116189</td><td>0.524153791</td><td>0.520342476</td><td>0.475634094</td></tr>\n",
       "\t<tr><th scope=row>cg00001583</th><td>0.045661149</td><td>0.066212350</td><td>0.049407447</td><td>0.028333029</td><td>0.023465368</td><td>0.041673127</td></tr>\n",
       "\t<tr><th scope=row>cg00001594</th><td>0.012858414</td><td>0.017400333</td><td>0.022928201</td><td>0.017643005</td><td>0.013877128</td><td>0.016788938</td></tr>\n",
       "\t<tr><th scope=row>cg00001687</th><td>0.991409054</td><td>0.990337979</td><td>0.990747805</td><td>0.991541035</td><td>0.988941580</td><td>0.988807988</td></tr>\n",
       "</tbody>\n",
       "</table>\n"
      ],
      "text/latex": [
       "A matrix: 6 × 6 of type dbl\n",
       "\\begin{tabular}{r|llllll}\n",
       "  & GSM5742874\\_202702240141\\_R05C01 & GSM5742875\\_202702240141\\_R06C01 & GSM5742877\\_204088150175\\_R01C01 & GSM5742878\\_204088150175\\_R02C01 & GSM5742879\\_204088150175\\_R03C01 & GSM5742880\\_204088150175\\_R04C01\\\\\n",
       "\\hline\n",
       "\tcg00000622 & 0.007329217 & 0.010672027 & 0.006730568 & 0.002323093 & 0.009647042 & 0.008670895\\\\\n",
       "\tcg00001245 & 0.017519944 & 0.009027277 & 0.009261359 & 0.005474636 & 0.004596648 & 0.006741265\\\\\n",
       "\tcg00001510 & 0.478936680 & 0.453800202 & 0.415116189 & 0.524153791 & 0.520342476 & 0.475634094\\\\\n",
       "\tcg00001583 & 0.045661149 & 0.066212350 & 0.049407447 & 0.028333029 & 0.023465368 & 0.041673127\\\\\n",
       "\tcg00001594 & 0.012858414 & 0.017400333 & 0.022928201 & 0.017643005 & 0.013877128 & 0.016788938\\\\\n",
       "\tcg00001687 & 0.991409054 & 0.990337979 & 0.990747805 & 0.991541035 & 0.988941580 & 0.988807988\\\\\n",
       "\\end{tabular}\n"
      ],
      "text/markdown": [
       "\n",
       "A matrix: 6 × 6 of type dbl\n",
       "\n",
       "| <!--/--> | GSM5742874_202702240141_R05C01 | GSM5742875_202702240141_R06C01 | GSM5742877_204088150175_R01C01 | GSM5742878_204088150175_R02C01 | GSM5742879_204088150175_R03C01 | GSM5742880_204088150175_R04C01 |\n",
       "|---|---|---|---|---|---|---|\n",
       "| cg00000622 | 0.007329217 | 0.010672027 | 0.006730568 | 0.002323093 | 0.009647042 | 0.008670895 |\n",
       "| cg00001245 | 0.017519944 | 0.009027277 | 0.009261359 | 0.005474636 | 0.004596648 | 0.006741265 |\n",
       "| cg00001510 | 0.478936680 | 0.453800202 | 0.415116189 | 0.524153791 | 0.520342476 | 0.475634094 |\n",
       "| cg00001583 | 0.045661149 | 0.066212350 | 0.049407447 | 0.028333029 | 0.023465368 | 0.041673127 |\n",
       "| cg00001594 | 0.012858414 | 0.017400333 | 0.022928201 | 0.017643005 | 0.013877128 | 0.016788938 |\n",
       "| cg00001687 | 0.991409054 | 0.990337979 | 0.990747805 | 0.991541035 | 0.988941580 | 0.988807988 |\n",
       "\n"
      ],
      "text/plain": [
       "           GSM5742874_202702240141_R05C01 GSM5742875_202702240141_R06C01\n",
       "cg00000622 0.007329217                    0.010672027                   \n",
       "cg00001245 0.017519944                    0.009027277                   \n",
       "cg00001510 0.478936680                    0.453800202                   \n",
       "cg00001583 0.045661149                    0.066212350                   \n",
       "cg00001594 0.012858414                    0.017400333                   \n",
       "cg00001687 0.991409054                    0.990337979                   \n",
       "           GSM5742877_204088150175_R01C01 GSM5742878_204088150175_R02C01\n",
       "cg00000622 0.006730568                    0.002323093                   \n",
       "cg00001245 0.009261359                    0.005474636                   \n",
       "cg00001510 0.415116189                    0.524153791                   \n",
       "cg00001583 0.049407447                    0.028333029                   \n",
       "cg00001594 0.022928201                    0.017643005                   \n",
       "cg00001687 0.990747805                    0.991541035                   \n",
       "           GSM5742879_204088150175_R03C01 GSM5742880_204088150175_R04C01\n",
       "cg00000622 0.009647042                    0.008670895                   \n",
       "cg00001245 0.004596648                    0.006741265                   \n",
       "cg00001510 0.520342476                    0.475634094                   \n",
       "cg00001583 0.023465368                    0.041673127                   \n",
       "cg00001594 0.013877128                    0.016788938                   \n",
       "cg00001687 0.988941580                    0.988807988                   "
      ]
     },
     "metadata": {},
     "output_type": "display_data"
    }
   ],
   "source": [
    "head(beta)"
   ]
  },
  {
   "cell_type": "code",
   "execution_count": 21,
   "id": "08f74729-75aa-46f4-af37-20b11cf0bc55",
   "metadata": {},
   "outputs": [],
   "source": [
    "save(beta, file =\"./enmix-beta-processENmix.RData\")"
   ]
  },
  {
   "cell_type": "code",
   "execution_count": 339,
   "id": "ea68e1cc-849a-4270-8867-77f7ecf3d3b3",
   "metadata": {},
   "outputs": [],
   "source": [
    "rm(list=ls())"
   ]
  },
  {
   "cell_type": "code",
   "execution_count": null,
   "id": "af375a8b-bde1-4a61-9816-ebb2a0e54050",
   "metadata": {},
   "outputs": [],
   "source": []
  }
 ],
 "metadata": {
  "kernelspec": {
   "display_name": "R [conda env:EWAS_env] *",
   "language": "R",
   "name": "conda-env-EWAS_env-r"
  },
  "language_info": {
   "codemirror_mode": "r",
   "file_extension": ".r",
   "mimetype": "text/x-r-source",
   "name": "R",
   "pygments_lexer": "r",
   "version": "4.1.3"
  }
 },
 "nbformat": 4,
 "nbformat_minor": 5
}
