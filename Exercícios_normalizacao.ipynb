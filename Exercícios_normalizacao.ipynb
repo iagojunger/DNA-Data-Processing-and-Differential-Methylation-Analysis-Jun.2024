{
 "cells": [
  {
   "cell_type": "markdown",
   "id": "dcddec89-890a-4bf8-862c-cd6c5d64ef19",
   "metadata": {},
   "source": [
    "# **Exercícios de Normalização**"
   ]
  },
  {
   "cell_type": "markdown",
   "id": "1bd37dfa-9b9a-49fe-8172-f80d189d9c7a",
   "metadata": {},
   "source": [
    "### Exercício 5\n",
    "\n",
    "5. Escolham um pacote, minfi ou ENmix. Em seguida, carreguem o Beta do exercício anterior, normalizem com todos os tipos de normalização disponíveis no pacote. Depois, gerem os densityPlot e comparem com o density plot do *raw beta*."
   ]
  },
  {
   "cell_type": "markdown",
   "id": "f3abd618-d249-420a-8f48-e225cf9e4c9c",
   "metadata": {},
   "source": [
    "### Exercício 6\n",
    "\n",
    "6. Após salvar o beta normalizado, estimem as proporções celulares (epiDISH), PCA (CpG.assoc) e adicionem ao phenotypefile e, em seguida, gerem o gráfico de SVD (ENmix)."
   ]
  },
  {
   "cell_type": "code",
   "execution_count": 9,
   "id": "189f2c6e-8f78-4e14-88fc-d4551b3b531a",
   "metadata": {
    "scrolled": true
   },
   "outputs": [
    {
     "name": "stderr",
     "output_type": "stream",
     "text": [
      "'getOption(\"repos\")' replaces Bioconductor standard repositories, see\n",
      "'help(\"repositories\", package = \"BiocManager\")' for details.\n",
      "Replacement repositories:\n",
      "    CRAN: https://cran.r-project.org\n",
      "\n",
      "Bioconductor version 3.13 (BiocManager 1.30.21), R 4.1.3 (2022-03-10)\n",
      "\n",
      "Warning message:\n",
      "“package(s) not installed when version(s) same as or greater than current; use\n",
      "  `force = TRUE` to re-install: 'EpiDISH'”\n",
      "Old packages: 'AnnotationDbi', 'AnnotationHub', 'askpass', 'backports', 'BH',\n",
      "  'BiocManager', 'BiocParallel', 'biomaRt', 'Biostrings', 'boot', 'brew',\n",
      "  'brio', 'broom', 'bslib', 'cachem', 'callr', 'cli', 'cluster', 'codetools',\n",
      "  'commonmark', 'crayon', 'credentials', 'crosstalk', 'crul', 'curl', 'DBI',\n",
      "  'dbplyr', 'DelayedMatrixStats', 'desc', 'digest', 'downlit', 'dplyr', 'DT',\n",
      "  'e1071', 'ENmix', 'evaluate', 'fansi', 'farver', 'fastmap', 'filelock',\n",
      "  'fontawesome', 'foreign', 'fs', 'future', 'future.apply', 'gargle',\n",
      "  'genefilter', 'GenomeInfoDb', 'GenomicFeatures', 'gert', 'ggplot2', 'gh',\n",
      "  'glmnet', 'globals', 'googledrive', 'googlesheets4', 'gplots', 'gtable',\n",
      "  'gtools', 'hardhat', 'haven', 'highr', 'htmltools', 'htmlwidgets', 'httpuv',\n",
      "  'httr', 'httr2', 'jsonlite', 'KernSmooth', 'knitr', 'labeling', 'later',\n",
      "  'lattice', 'lava', 'limma', 'listenv', 'locfit', 'lpSolve', 'lubridate',\n",
      "  'maps', 'MatrixGenerics', 'matrixStats', 'mclust', 'mgcv', 'munsell',\n",
      "  'nleqslv', 'nlme', 'nor1mix', 'openssl', 'parallelly', 'pbdZMQ', 'pkgbuild',\n",
      "  'pkgdown', 'pkgload', 'plyr', 'prettyunits', 'pROC', 'processx', 'prodlim',\n",
      "  'progress', 'progressr', 'promises', 'ps', 'purrr', 'quantmod', 'R.oo',\n",
      "  'R.utils', 'ragg', 'Rcpp', 'RcppEigen', 'RCurl', 'readr', 'readxl',\n",
      "  'recipes', 'rematch', 'remotes', 'repr', 'reprex', 'Rhdf5lib', 'rmarkdown',\n",
      "  'ROC', 'roxygen2', 'rpart', 'rprojroot', 'RSQLite', 'rstudioapi',\n",
      "  'rtracklayer', 'rvest', 'S4Vectors', 'sass', 'scales', 'shape', 'shiny',\n",
      "  'sparseMatrixStats', 'spatial', 'stringi', 'stringr', 'survival', 'svd',\n",
      "  'systemfonts', 'testthat', 'textshaping', 'tidyr', 'tidyselect',\n",
      "  'timechange', 'timeDate', 'tinytex', 'TTR', 'usethis', 'utf8', 'uuid',\n",
      "  'viridisLite', 'vroom', 'waldo', 'withr', 'xfun', 'XML', 'xml2', 'xopen',\n",
      "  'xts', 'yaml', 'zip'\n",
      "\n",
      "Updating HTML index of packages in '.Library'\n",
      "\n",
      "Making 'packages.html' ...\n",
      " done\n",
      "\n"
     ]
    }
   ],
   "source": [
    "if (!require(\"BiocManager\", quietly = TRUE))\n",
    "    install.packages(\"BiocManager\")\n",
    "\n",
    "BiocManager::install(\"EpiDISH\")\n",
    "install.packages(\"CpGassoc\")"
   ]
  },
  {
   "cell_type": "code",
   "execution_count": 7,
   "id": "dbe27a2e-c0dd-4f5a-b6c2-cec22768c846",
   "metadata": {},
   "outputs": [
    {
     "name": "stderr",
     "output_type": "stream",
     "text": [
      "Loading required package: nlme\n",
      "\n"
     ]
    }
   ],
   "source": [
    "library(CpGassoc)\n",
    "library(EpiDISH)"
   ]
  },
  {
   "cell_type": "code",
   "execution_count": null,
   "id": "6b5f4b4e-beff-4d08-9ad7-715e5818a630",
   "metadata": {},
   "outputs": [],
   "source": []
  }
 ],
 "metadata": {
  "kernelspec": {
   "display_name": "R [conda env:EWAS_env] *",
   "language": "R",
   "name": "conda-env-EWAS_env-r"
  },
  "language_info": {
   "codemirror_mode": "r",
   "file_extension": ".r",
   "mimetype": "text/x-r-source",
   "name": "R",
   "pygments_lexer": "r",
   "version": "4.1.3"
  }
 },
 "nbformat": 4,
 "nbformat_minor": 5
}
